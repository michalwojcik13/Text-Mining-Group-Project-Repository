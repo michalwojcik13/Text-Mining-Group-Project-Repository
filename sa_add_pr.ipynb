{
 "cells": [
  {
   "cell_type": "code",
   "execution_count": 4,
   "id": "initial_id",
   "metadata": {
    "collapsed": true,
    "ExecuteTime": {
     "end_time": "2024-12-12T01:11:50.531406Z",
     "start_time": "2024-12-12T01:11:50.416639Z"
    }
   },
   "outputs": [
    {
     "name": "stdout",
     "output_type": "stream",
     "text": [
      "The autoreload extension is already loaded. To reload it, use:\n",
      "  %reload_ext autoreload\n"
     ]
    },
    {
     "ename": "ImportError",
     "evalue": "cannot import name 'pipeline_v1e' from 'utils' (C:\\Users\\karom\\miniconda3\\envs\\text-mining1\\lib\\site-packages\\utils\\__init__.py)",
     "output_type": "error",
     "traceback": [
      "\u001B[1;31m---------------------------------------------------------------------------\u001B[0m",
      "\u001B[1;31mImportError\u001B[0m                               Traceback (most recent call last)",
      "Cell \u001B[1;32mIn[4], line 10\u001B[0m\n\u001B[0;32m      7\u001B[0m \u001B[38;5;28;01mimport\u001B[39;00m \u001B[38;5;21;01mnumpy\u001B[39;00m \u001B[38;5;28;01mas\u001B[39;00m \u001B[38;5;21;01mnp\u001B[39;00m\n\u001B[0;32m      9\u001B[0m \u001B[38;5;66;03m#Preprocessing\u001B[39;00m\n\u001B[1;32m---> 10\u001B[0m \u001B[38;5;28;01mfrom\u001B[39;00m \u001B[38;5;21;01mutils\u001B[39;00m \u001B[38;5;28;01mimport\u001B[39;00m pipeline_v1e\n\u001B[0;32m     11\u001B[0m nltk\u001B[38;5;241m.\u001B[39mdownload(\u001B[38;5;124m'\u001B[39m\u001B[38;5;124mpunkt_tab\u001B[39m\u001B[38;5;124m'\u001B[39m)\n\u001B[0;32m     12\u001B[0m \u001B[38;5;28;01mfrom\u001B[39;00m \u001B[38;5;21;01mnltk\u001B[39;00m\u001B[38;5;21;01m.\u001B[39;00m\u001B[38;5;21;01mtokenize\u001B[39;00m \u001B[38;5;28;01mimport\u001B[39;00m PunktSentenceTokenizer\n",
      "\u001B[1;31mImportError\u001B[0m: cannot import name 'pipeline_v1e' from 'utils' (C:\\Users\\karom\\miniconda3\\envs\\text-mining1\\lib\\site-packages\\utils\\__init__.py)"
     ]
    }
   ],
   "source": [
    "%load_ext autoreload\n",
    "%autoreload 2\n",
    "\n",
    "import pandas as pd\n",
    "import nltk\n",
    "import pickle\n",
    "import numpy as np\n",
    "\n",
    "#Preprocessing\n",
    "from utils import pipeline_v1e\n",
    "nltk.download('punkt_tab')\n",
    "from nltk.tokenize import PunktSentenceTokenizer\n",
    "\n",
    "\n",
    "\n",
    "#Feature extraction\n",
    "from sklearn.feature_extraction.text import CountVectorizer\n",
    "\n",
    "#Sentiment Analysis with VADER\n",
    "nltk.download('vader_lexicon')\n",
    "from nltk.sentiment.vader import SentimentIntensityAnalyzer\n",
    "\n",
    "#Sentiment Analysis with TextBlob\n",
    "%pip install textblob\n",
    "from textblob import TextBlob\n",
    "\n",
    "#Regression Metrics\n",
    "from scipy.stats import pearsonr\n",
    "from sklearn import preprocessing\n",
    "from sklearn.metrics import mean_squared_error\n",
    "from sklearn.metrics import mean_absolute_percentage_error\n",
    "\n",
    "#Visualization\n",
    "import matplotlib.pyplot as plt\n",
    "import seaborn as sns\n",
    "\n",
    "# %pip install wordcloud\n",
    "from wordcloud import WordCloud"
   ]
  },
  {
   "cell_type": "code",
   "outputs": [
    {
     "ename": "FileNotFoundError",
     "evalue": "[Errno 2] No such file or directory: 'reviews_subset.csv'",
     "output_type": "error",
     "traceback": [
      "\u001B[1;31m---------------------------------------------------------------------------\u001B[0m",
      "\u001B[1;31mFileNotFoundError\u001B[0m                         Traceback (most recent call last)",
      "Cell \u001B[1;32mIn[5], line 1\u001B[0m\n\u001B[1;32m----> 1\u001B[0m df \u001B[38;5;241m=\u001B[39m \u001B[43mpd\u001B[49m\u001B[38;5;241;43m.\u001B[39;49m\u001B[43mread_csv\u001B[49m\u001B[43m(\u001B[49m\u001B[38;5;124;43m\"\u001B[39;49m\u001B[38;5;124;43mreviews_subset.csv\u001B[39;49m\u001B[38;5;124;43m\"\u001B[39;49m\u001B[43m)\u001B[49m\n",
      "File \u001B[1;32m~\\miniconda3\\envs\\text-mining1\\lib\\site-packages\\pandas\\util\\_decorators.py:211\u001B[0m, in \u001B[0;36mdeprecate_kwarg.<locals>._deprecate_kwarg.<locals>.wrapper\u001B[1;34m(*args, **kwargs)\u001B[0m\n\u001B[0;32m    209\u001B[0m     \u001B[38;5;28;01melse\u001B[39;00m:\n\u001B[0;32m    210\u001B[0m         kwargs[new_arg_name] \u001B[38;5;241m=\u001B[39m new_arg_value\n\u001B[1;32m--> 211\u001B[0m \u001B[38;5;28;01mreturn\u001B[39;00m func(\u001B[38;5;241m*\u001B[39margs, \u001B[38;5;241m*\u001B[39m\u001B[38;5;241m*\u001B[39mkwargs)\n",
      "File \u001B[1;32m~\\miniconda3\\envs\\text-mining1\\lib\\site-packages\\pandas\\util\\_decorators.py:331\u001B[0m, in \u001B[0;36mdeprecate_nonkeyword_arguments.<locals>.decorate.<locals>.wrapper\u001B[1;34m(*args, **kwargs)\u001B[0m\n\u001B[0;32m    325\u001B[0m \u001B[38;5;28;01mif\u001B[39;00m \u001B[38;5;28mlen\u001B[39m(args) \u001B[38;5;241m>\u001B[39m num_allow_args:\n\u001B[0;32m    326\u001B[0m     warnings\u001B[38;5;241m.\u001B[39mwarn(\n\u001B[0;32m    327\u001B[0m         msg\u001B[38;5;241m.\u001B[39mformat(arguments\u001B[38;5;241m=\u001B[39m_format_argument_list(allow_args)),\n\u001B[0;32m    328\u001B[0m         \u001B[38;5;167;01mFutureWarning\u001B[39;00m,\n\u001B[0;32m    329\u001B[0m         stacklevel\u001B[38;5;241m=\u001B[39mfind_stack_level(),\n\u001B[0;32m    330\u001B[0m     )\n\u001B[1;32m--> 331\u001B[0m \u001B[38;5;28;01mreturn\u001B[39;00m func(\u001B[38;5;241m*\u001B[39margs, \u001B[38;5;241m*\u001B[39m\u001B[38;5;241m*\u001B[39mkwargs)\n",
      "File \u001B[1;32m~\\miniconda3\\envs\\text-mining1\\lib\\site-packages\\pandas\\io\\parsers\\readers.py:950\u001B[0m, in \u001B[0;36mread_csv\u001B[1;34m(filepath_or_buffer, sep, delimiter, header, names, index_col, usecols, squeeze, prefix, mangle_dupe_cols, dtype, engine, converters, true_values, false_values, skipinitialspace, skiprows, skipfooter, nrows, na_values, keep_default_na, na_filter, verbose, skip_blank_lines, parse_dates, infer_datetime_format, keep_date_col, date_parser, dayfirst, cache_dates, iterator, chunksize, compression, thousands, decimal, lineterminator, quotechar, quoting, doublequote, escapechar, comment, encoding, encoding_errors, dialect, error_bad_lines, warn_bad_lines, on_bad_lines, delim_whitespace, low_memory, memory_map, float_precision, storage_options)\u001B[0m\n\u001B[0;32m    935\u001B[0m kwds_defaults \u001B[38;5;241m=\u001B[39m _refine_defaults_read(\n\u001B[0;32m    936\u001B[0m     dialect,\n\u001B[0;32m    937\u001B[0m     delimiter,\n\u001B[1;32m   (...)\u001B[0m\n\u001B[0;32m    946\u001B[0m     defaults\u001B[38;5;241m=\u001B[39m{\u001B[38;5;124m\"\u001B[39m\u001B[38;5;124mdelimiter\u001B[39m\u001B[38;5;124m\"\u001B[39m: \u001B[38;5;124m\"\u001B[39m\u001B[38;5;124m,\u001B[39m\u001B[38;5;124m\"\u001B[39m},\n\u001B[0;32m    947\u001B[0m )\n\u001B[0;32m    948\u001B[0m kwds\u001B[38;5;241m.\u001B[39mupdate(kwds_defaults)\n\u001B[1;32m--> 950\u001B[0m \u001B[38;5;28;01mreturn\u001B[39;00m \u001B[43m_read\u001B[49m\u001B[43m(\u001B[49m\u001B[43mfilepath_or_buffer\u001B[49m\u001B[43m,\u001B[49m\u001B[43m \u001B[49m\u001B[43mkwds\u001B[49m\u001B[43m)\u001B[49m\n",
      "File \u001B[1;32m~\\miniconda3\\envs\\text-mining1\\lib\\site-packages\\pandas\\io\\parsers\\readers.py:605\u001B[0m, in \u001B[0;36m_read\u001B[1;34m(filepath_or_buffer, kwds)\u001B[0m\n\u001B[0;32m    602\u001B[0m _validate_names(kwds\u001B[38;5;241m.\u001B[39mget(\u001B[38;5;124m\"\u001B[39m\u001B[38;5;124mnames\u001B[39m\u001B[38;5;124m\"\u001B[39m, \u001B[38;5;28;01mNone\u001B[39;00m))\n\u001B[0;32m    604\u001B[0m \u001B[38;5;66;03m# Create the parser.\u001B[39;00m\n\u001B[1;32m--> 605\u001B[0m parser \u001B[38;5;241m=\u001B[39m TextFileReader(filepath_or_buffer, \u001B[38;5;241m*\u001B[39m\u001B[38;5;241m*\u001B[39mkwds)\n\u001B[0;32m    607\u001B[0m \u001B[38;5;28;01mif\u001B[39;00m chunksize \u001B[38;5;129;01mor\u001B[39;00m iterator:\n\u001B[0;32m    608\u001B[0m     \u001B[38;5;28;01mreturn\u001B[39;00m parser\n",
      "File \u001B[1;32m~\\miniconda3\\envs\\text-mining1\\lib\\site-packages\\pandas\\io\\parsers\\readers.py:1442\u001B[0m, in \u001B[0;36mTextFileReader.__init__\u001B[1;34m(self, f, engine, **kwds)\u001B[0m\n\u001B[0;32m   1439\u001B[0m     \u001B[38;5;28mself\u001B[39m\u001B[38;5;241m.\u001B[39moptions[\u001B[38;5;124m\"\u001B[39m\u001B[38;5;124mhas_index_names\u001B[39m\u001B[38;5;124m\"\u001B[39m] \u001B[38;5;241m=\u001B[39m kwds[\u001B[38;5;124m\"\u001B[39m\u001B[38;5;124mhas_index_names\u001B[39m\u001B[38;5;124m\"\u001B[39m]\n\u001B[0;32m   1441\u001B[0m \u001B[38;5;28mself\u001B[39m\u001B[38;5;241m.\u001B[39mhandles: IOHandles \u001B[38;5;241m|\u001B[39m \u001B[38;5;28;01mNone\u001B[39;00m \u001B[38;5;241m=\u001B[39m \u001B[38;5;28;01mNone\u001B[39;00m\n\u001B[1;32m-> 1442\u001B[0m \u001B[38;5;28mself\u001B[39m\u001B[38;5;241m.\u001B[39m_engine \u001B[38;5;241m=\u001B[39m \u001B[38;5;28;43mself\u001B[39;49m\u001B[38;5;241;43m.\u001B[39;49m\u001B[43m_make_engine\u001B[49m\u001B[43m(\u001B[49m\u001B[43mf\u001B[49m\u001B[43m,\u001B[49m\u001B[43m \u001B[49m\u001B[38;5;28;43mself\u001B[39;49m\u001B[38;5;241;43m.\u001B[39;49m\u001B[43mengine\u001B[49m\u001B[43m)\u001B[49m\n",
      "File \u001B[1;32m~\\miniconda3\\envs\\text-mining1\\lib\\site-packages\\pandas\\io\\parsers\\readers.py:1735\u001B[0m, in \u001B[0;36mTextFileReader._make_engine\u001B[1;34m(self, f, engine)\u001B[0m\n\u001B[0;32m   1733\u001B[0m     \u001B[38;5;28;01mif\u001B[39;00m \u001B[38;5;124m\"\u001B[39m\u001B[38;5;124mb\u001B[39m\u001B[38;5;124m\"\u001B[39m \u001B[38;5;129;01mnot\u001B[39;00m \u001B[38;5;129;01min\u001B[39;00m mode:\n\u001B[0;32m   1734\u001B[0m         mode \u001B[38;5;241m+\u001B[39m\u001B[38;5;241m=\u001B[39m \u001B[38;5;124m\"\u001B[39m\u001B[38;5;124mb\u001B[39m\u001B[38;5;124m\"\u001B[39m\n\u001B[1;32m-> 1735\u001B[0m \u001B[38;5;28mself\u001B[39m\u001B[38;5;241m.\u001B[39mhandles \u001B[38;5;241m=\u001B[39m \u001B[43mget_handle\u001B[49m\u001B[43m(\u001B[49m\n\u001B[0;32m   1736\u001B[0m \u001B[43m    \u001B[49m\u001B[43mf\u001B[49m\u001B[43m,\u001B[49m\n\u001B[0;32m   1737\u001B[0m \u001B[43m    \u001B[49m\u001B[43mmode\u001B[49m\u001B[43m,\u001B[49m\n\u001B[0;32m   1738\u001B[0m \u001B[43m    \u001B[49m\u001B[43mencoding\u001B[49m\u001B[38;5;241;43m=\u001B[39;49m\u001B[38;5;28;43mself\u001B[39;49m\u001B[38;5;241;43m.\u001B[39;49m\u001B[43moptions\u001B[49m\u001B[38;5;241;43m.\u001B[39;49m\u001B[43mget\u001B[49m\u001B[43m(\u001B[49m\u001B[38;5;124;43m\"\u001B[39;49m\u001B[38;5;124;43mencoding\u001B[39;49m\u001B[38;5;124;43m\"\u001B[39;49m\u001B[43m,\u001B[49m\u001B[43m \u001B[49m\u001B[38;5;28;43;01mNone\u001B[39;49;00m\u001B[43m)\u001B[49m\u001B[43m,\u001B[49m\n\u001B[0;32m   1739\u001B[0m \u001B[43m    \u001B[49m\u001B[43mcompression\u001B[49m\u001B[38;5;241;43m=\u001B[39;49m\u001B[38;5;28;43mself\u001B[39;49m\u001B[38;5;241;43m.\u001B[39;49m\u001B[43moptions\u001B[49m\u001B[38;5;241;43m.\u001B[39;49m\u001B[43mget\u001B[49m\u001B[43m(\u001B[49m\u001B[38;5;124;43m\"\u001B[39;49m\u001B[38;5;124;43mcompression\u001B[39;49m\u001B[38;5;124;43m\"\u001B[39;49m\u001B[43m,\u001B[49m\u001B[43m \u001B[49m\u001B[38;5;28;43;01mNone\u001B[39;49;00m\u001B[43m)\u001B[49m\u001B[43m,\u001B[49m\n\u001B[0;32m   1740\u001B[0m \u001B[43m    \u001B[49m\u001B[43mmemory_map\u001B[49m\u001B[38;5;241;43m=\u001B[39;49m\u001B[38;5;28;43mself\u001B[39;49m\u001B[38;5;241;43m.\u001B[39;49m\u001B[43moptions\u001B[49m\u001B[38;5;241;43m.\u001B[39;49m\u001B[43mget\u001B[49m\u001B[43m(\u001B[49m\u001B[38;5;124;43m\"\u001B[39;49m\u001B[38;5;124;43mmemory_map\u001B[39;49m\u001B[38;5;124;43m\"\u001B[39;49m\u001B[43m,\u001B[49m\u001B[43m \u001B[49m\u001B[38;5;28;43;01mFalse\u001B[39;49;00m\u001B[43m)\u001B[49m\u001B[43m,\u001B[49m\n\u001B[0;32m   1741\u001B[0m \u001B[43m    \u001B[49m\u001B[43mis_text\u001B[49m\u001B[38;5;241;43m=\u001B[39;49m\u001B[43mis_text\u001B[49m\u001B[43m,\u001B[49m\n\u001B[0;32m   1742\u001B[0m \u001B[43m    \u001B[49m\u001B[43merrors\u001B[49m\u001B[38;5;241;43m=\u001B[39;49m\u001B[38;5;28;43mself\u001B[39;49m\u001B[38;5;241;43m.\u001B[39;49m\u001B[43moptions\u001B[49m\u001B[38;5;241;43m.\u001B[39;49m\u001B[43mget\u001B[49m\u001B[43m(\u001B[49m\u001B[38;5;124;43m\"\u001B[39;49m\u001B[38;5;124;43mencoding_errors\u001B[39;49m\u001B[38;5;124;43m\"\u001B[39;49m\u001B[43m,\u001B[49m\u001B[43m \u001B[49m\u001B[38;5;124;43m\"\u001B[39;49m\u001B[38;5;124;43mstrict\u001B[39;49m\u001B[38;5;124;43m\"\u001B[39;49m\u001B[43m)\u001B[49m\u001B[43m,\u001B[49m\n\u001B[0;32m   1743\u001B[0m \u001B[43m    \u001B[49m\u001B[43mstorage_options\u001B[49m\u001B[38;5;241;43m=\u001B[39;49m\u001B[38;5;28;43mself\u001B[39;49m\u001B[38;5;241;43m.\u001B[39;49m\u001B[43moptions\u001B[49m\u001B[38;5;241;43m.\u001B[39;49m\u001B[43mget\u001B[49m\u001B[43m(\u001B[49m\u001B[38;5;124;43m\"\u001B[39;49m\u001B[38;5;124;43mstorage_options\u001B[39;49m\u001B[38;5;124;43m\"\u001B[39;49m\u001B[43m,\u001B[49m\u001B[43m \u001B[49m\u001B[38;5;28;43;01mNone\u001B[39;49;00m\u001B[43m)\u001B[49m\u001B[43m,\u001B[49m\n\u001B[0;32m   1744\u001B[0m \u001B[43m\u001B[49m\u001B[43m)\u001B[49m\n\u001B[0;32m   1745\u001B[0m \u001B[38;5;28;01massert\u001B[39;00m \u001B[38;5;28mself\u001B[39m\u001B[38;5;241m.\u001B[39mhandles \u001B[38;5;129;01mis\u001B[39;00m \u001B[38;5;129;01mnot\u001B[39;00m \u001B[38;5;28;01mNone\u001B[39;00m\n\u001B[0;32m   1746\u001B[0m f \u001B[38;5;241m=\u001B[39m \u001B[38;5;28mself\u001B[39m\u001B[38;5;241m.\u001B[39mhandles\u001B[38;5;241m.\u001B[39mhandle\n",
      "File \u001B[1;32m~\\miniconda3\\envs\\text-mining1\\lib\\site-packages\\pandas\\io\\common.py:856\u001B[0m, in \u001B[0;36mget_handle\u001B[1;34m(path_or_buf, mode, encoding, compression, memory_map, is_text, errors, storage_options)\u001B[0m\n\u001B[0;32m    851\u001B[0m \u001B[38;5;28;01melif\u001B[39;00m \u001B[38;5;28misinstance\u001B[39m(handle, \u001B[38;5;28mstr\u001B[39m):\n\u001B[0;32m    852\u001B[0m     \u001B[38;5;66;03m# Check whether the filename is to be opened in binary mode.\u001B[39;00m\n\u001B[0;32m    853\u001B[0m     \u001B[38;5;66;03m# Binary mode does not support 'encoding' and 'newline'.\u001B[39;00m\n\u001B[0;32m    854\u001B[0m     \u001B[38;5;28;01mif\u001B[39;00m ioargs\u001B[38;5;241m.\u001B[39mencoding \u001B[38;5;129;01mand\u001B[39;00m \u001B[38;5;124m\"\u001B[39m\u001B[38;5;124mb\u001B[39m\u001B[38;5;124m\"\u001B[39m \u001B[38;5;129;01mnot\u001B[39;00m \u001B[38;5;129;01min\u001B[39;00m ioargs\u001B[38;5;241m.\u001B[39mmode:\n\u001B[0;32m    855\u001B[0m         \u001B[38;5;66;03m# Encoding\u001B[39;00m\n\u001B[1;32m--> 856\u001B[0m         handle \u001B[38;5;241m=\u001B[39m \u001B[38;5;28;43mopen\u001B[39;49m\u001B[43m(\u001B[49m\n\u001B[0;32m    857\u001B[0m \u001B[43m            \u001B[49m\u001B[43mhandle\u001B[49m\u001B[43m,\u001B[49m\n\u001B[0;32m    858\u001B[0m \u001B[43m            \u001B[49m\u001B[43mioargs\u001B[49m\u001B[38;5;241;43m.\u001B[39;49m\u001B[43mmode\u001B[49m\u001B[43m,\u001B[49m\n\u001B[0;32m    859\u001B[0m \u001B[43m            \u001B[49m\u001B[43mencoding\u001B[49m\u001B[38;5;241;43m=\u001B[39;49m\u001B[43mioargs\u001B[49m\u001B[38;5;241;43m.\u001B[39;49m\u001B[43mencoding\u001B[49m\u001B[43m,\u001B[49m\n\u001B[0;32m    860\u001B[0m \u001B[43m            \u001B[49m\u001B[43merrors\u001B[49m\u001B[38;5;241;43m=\u001B[39;49m\u001B[43merrors\u001B[49m\u001B[43m,\u001B[49m\n\u001B[0;32m    861\u001B[0m \u001B[43m            \u001B[49m\u001B[43mnewline\u001B[49m\u001B[38;5;241;43m=\u001B[39;49m\u001B[38;5;124;43m\"\u001B[39;49m\u001B[38;5;124;43m\"\u001B[39;49m\u001B[43m,\u001B[49m\n\u001B[0;32m    862\u001B[0m \u001B[43m        \u001B[49m\u001B[43m)\u001B[49m\n\u001B[0;32m    863\u001B[0m     \u001B[38;5;28;01melse\u001B[39;00m:\n\u001B[0;32m    864\u001B[0m         \u001B[38;5;66;03m# Binary mode\u001B[39;00m\n\u001B[0;32m    865\u001B[0m         handle \u001B[38;5;241m=\u001B[39m \u001B[38;5;28mopen\u001B[39m(handle, ioargs\u001B[38;5;241m.\u001B[39mmode)\n",
      "\u001B[1;31mFileNotFoundError\u001B[0m: [Errno 2] No such file or directory: 'reviews_subset.csv'"
     ]
    }
   ],
   "source": [
    "df = pd.read_csv(\"reviews_subset.csv\")"
   ],
   "metadata": {
    "collapsed": false,
    "ExecuteTime": {
     "end_time": "2024-12-12T01:11:51.545330Z",
     "start_time": "2024-12-12T01:11:51.274986Z"
    }
   },
   "id": "115ee8f86d942a5f",
   "execution_count": 5
  },
  {
   "cell_type": "code",
   "outputs": [
    {
     "ename": "NameError",
     "evalue": "name 'df' is not defined",
     "output_type": "error",
     "traceback": [
      "\u001B[1;31m---------------------------------------------------------------------------\u001B[0m",
      "\u001B[1;31mNameError\u001B[0m                                 Traceback (most recent call last)",
      "Cell \u001B[1;32mIn[6], line 1\u001B[0m\n\u001B[1;32m----> 1\u001B[0m \u001B[43mdf\u001B[49m\n",
      "\u001B[1;31mNameError\u001B[0m: name 'df' is not defined"
     ]
    }
   ],
   "source": [
    "df"
   ],
   "metadata": {
    "collapsed": false,
    "ExecuteTime": {
     "end_time": "2024-12-12T01:11:52.357405Z",
     "start_time": "2024-12-12T01:11:52.255259Z"
    }
   },
   "id": "ed89b31ad0e62522",
   "execution_count": 6
  },
  {
   "cell_type": "code",
   "outputs": [
    {
     "ename": "NameError",
     "evalue": "name 'df' is not defined",
     "output_type": "error",
     "traceback": [
      "\u001B[1;31m---------------------------------------------------------------------------\u001B[0m",
      "\u001B[1;31mNameError\u001B[0m                                 Traceback (most recent call last)",
      "Cell \u001B[1;32mIn[7], line 1\u001B[0m\n\u001B[1;32m----> 1\u001B[0m df \u001B[38;5;241m=\u001B[39m \u001B[43mdf\u001B[49m\u001B[38;5;241m.\u001B[39mdropna()\n\u001B[0;32m      2\u001B[0m \u001B[38;5;66;03m# df.info()\u001B[39;00m\n\u001B[0;32m      3\u001B[0m df\u001B[38;5;241m.\u001B[39minfo()\n",
      "\u001B[1;31mNameError\u001B[0m: name 'df' is not defined"
     ]
    }
   ],
   "source": [
    "df = df.dropna()\n",
    "# df.info()\n",
    "df.info()"
   ],
   "metadata": {
    "collapsed": false,
    "ExecuteTime": {
     "end_time": "2024-12-12T01:11:53.436046Z",
     "start_time": "2024-12-12T01:11:53.323466Z"
    }
   },
   "id": "a34334b84c404343",
   "execution_count": 7
  },
  {
   "cell_type": "code",
   "outputs": [],
   "source": [
    "\n",
    "#instance the vectoriser and the word cloud generator\n",
    "onegram_bow_vectorizer = CountVectorizer(ngram_range=(1,1), token_pattern=r\"(?u)\\b\\w+\\b\")\n",
    "wc = WordCloud(background_color=\"white\",max_words=120, width = 220,height = 220, color_func=lambda *args, **kwargs: (0,0,0))"
   ],
   "metadata": {
    "collapsed": false,
    "ExecuteTime": {
     "end_time": "2024-11-20T17:36:29.184993Z",
     "start_time": "2024-11-20T17:36:29.023719Z"
    }
   },
   "id": "9b79a143f8e6b372",
   "execution_count": 8
  },
  {
   "cell_type": "code",
   "outputs": [
    {
     "name": "stderr",
     "output_type": "stream",
     "text": [
      "C:\\Users\\karom\\AppData\\Local\\Temp\\ipykernel_6196\\2587502526.py:2: SettingWithCopyWarning: \n",
      "A value is trying to be set on a copy of a slice from a DataFrame.\n",
      "Try using .loc[row_indexer,col_indexer] = value instead\n",
      "\n",
      "See the caveats in the documentation: https://pandas.pydata.org/pandas-docs/stable/user_guide/indexing.html#returning-a-view-versus-a-copy\n",
      "  df[\"initial_bow_vector\"] = df_bow_td_matrix.tolist()\n"
     ]
    }
   ],
   "source": [
    "df_bow_td_matrix = onegram_bow_vectorizer.fit_transform(df[\"Review\"]).toarray()\n",
    "df[\"initial_bow_vector\"] = df_bow_td_matrix.tolist()\n",
    "df_bow_word_list = onegram_bow_vectorizer.get_feature_names_out()\n",
    "\n",
    "df_raw_vocabulary = pipeline_v1e.word_freq_calculator(df_bow_td_matrix,df_bow_word_list, df_output=False)\n",
    "# wc.generate_from_frequencies(df_raw_vocabulary)\n",
    "# wc.to_image()\n"
   ],
   "metadata": {
    "collapsed": false,
    "ExecuteTime": {
     "end_time": "2024-11-20T17:36:49.130685Z",
     "start_time": "2024-11-20T17:36:30.164326Z"
    }
   },
   "id": "9a229a69c730f02f",
   "execution_count": 9
  },
  {
   "cell_type": "code",
   "outputs": [
    {
     "data": {
      "text/plain": "(9955, 15104)"
     },
     "execution_count": 10,
     "metadata": {},
     "output_type": "execute_result"
    }
   ],
   "source": [
    "df_bow_td_matrix.shape \n",
    "#(9955 - liczba dokumentów, 15104 - liczba wszystkich słów) dla (1,1) gram\n",
    "# (9955, 171528) dla (1,2) gram"
   ],
   "metadata": {
    "collapsed": false,
    "ExecuteTime": {
     "end_time": "2024-11-20T17:36:50.774624Z",
     "start_time": "2024-11-20T17:36:50.623328Z"
    }
   },
   "id": "a5e21870e9e088c7",
   "execution_count": 10
  },
  {
   "cell_type": "code",
   "outputs": [
    {
     "data": {
      "text/plain": "<Figure size 1000x800 with 1 Axes>",
      "image/png": "[encoded data removed]"
     },
     "execution_count": 11,
     "metadata": {},
     "output_type": "execute_result"
    }
   ],
   "source": [
    "df_raw_vocabulary_df = pipeline_v1e.word_freq_calculator(df_bow_td_matrix,df_bow_word_list, df_output=True)\n",
    "pipeline_v1e.plot_term_frequency(df_raw_vocabulary_df, 20, \"raw_reviews\", show=False)"
   ],
   "metadata": {
    "collapsed": false,
    "ExecuteTime": {
     "end_time": "2024-11-20T17:36:55.738885Z",
     "start_time": "2024-11-20T17:36:54.681940Z"
    }
   },
   "id": "57b4f3f2e0540914",
   "execution_count": 11
  },
  {
   "cell_type": "code",
   "outputs": [
    {
     "ename": "AttributeError",
     "evalue": "module 'nltk' has no attribute 'sentiment'",
     "output_type": "error",
     "traceback": [
      "\u001B[1;31m---------------------------------------------------------------------------\u001B[0m",
      "\u001B[1;31mAttributeError\u001B[0m                            Traceback (most recent call last)",
      "Cell \u001B[1;32mIn[3], line 1\u001B[0m\n\u001B[1;32m----> 1\u001B[0m \u001B[43mnltk\u001B[49m\u001B[38;5;241;43m.\u001B[39;49m\u001B[43msentiment\u001B[49m\u001B[38;5;241m.\u001B[39mvader\u001B[38;5;241m.\u001B[39m\u001B[38;5;18m__file__\u001B[39m\n",
      "\u001B[1;31mAttributeError\u001B[0m: module 'nltk' has no attribute 'sentiment'"
     ]
    }
   ],
   "source": [
    "nltk.sentiment.vader.__file__"
   ],
   "metadata": {
    "collapsed": false,
    "ExecuteTime": {
     "end_time": "2024-12-12T01:11:45.652598Z",
     "start_time": "2024-12-12T01:11:45.546363Z"
    }
   },
   "id": "8c7f649d25cbb5eb",
   "execution_count": 3
  },
  {
   "cell_type": "code",
   "outputs": [],
   "source": [
    "lexicon_file_path = \"sentiment/vader_lexicon.zip/vader_lexicon/vader_lexicon.txt\"\n",
    "\n",
    "lexicon_file_content = nltk.data.load(lexicon_file_path)\n",
    "\n",
    "filename = \"data/vader_lexicon_dump_project_base.txt\"\n",
    "with open(filename, \"w\", encoding=\"utf-8\") as file_object:\n",
    "    file_object.write(lexicon_file_content)"
   ],
   "metadata": {
    "collapsed": false,
    "ExecuteTime": {
     "end_time": "2024-11-20T17:37:12.443413Z",
     "start_time": "2024-11-20T17:37:12.323199Z"
    }
   },
   "id": "6b67b1dbd4e13ca5",
   "execution_count": 13
  },
  {
   "cell_type": "code",
   "outputs": [
    {
     "name": "stderr",
     "output_type": "stream",
     "text": [
      "C:\\Users\\karom\\AppData\\Local\\Temp\\ipykernel_6196\\1918382548.py:1: SettingWithCopyWarning: \n",
      "A value is trying to be set on a copy of a slice from a DataFrame.\n",
      "Try using .loc[row_indexer,col_indexer] = value instead\n",
      "\n",
      "See the caveats in the documentation: https://pandas.pydata.org/pandas-docs/stable/user_guide/indexing.html#returning-a-view-versus-a-copy\n",
      "  df[\"preproc_content\"] =\\\n"
     ]
    }
   ],
   "source": [
    "df[\"preproc_content\"] =\\\n",
    "      df[\"Review\"].map(lambda content : pipeline_v1e.main_pipeline(content,\n",
    "                                                                                    print_output=False,\n",
    "                                                                                    no_stopwords=False,\n",
    "                                                                                    lowercase=False,\n",
    "                                                                                    lemmatized=False,\n",
    "                                                                                    no_punctuation=False\n",
    "                                                                                    ))\n"
   ],
   "metadata": {
    "collapsed": false,
    "ExecuteTime": {
     "end_time": "2024-11-20T17:37:33.276106Z",
     "start_time": "2024-11-20T17:37:25.413603Z"
    }
   },
   "id": "1fb896039a6107a7",
   "execution_count": 14
  },
  {
   "cell_type": "code",
   "outputs": [],
   "source": [
    "sent_tokenizer = PunktSentenceTokenizer()"
   ],
   "metadata": {
    "collapsed": false,
    "ExecuteTime": {
     "end_time": "2024-11-20T17:37:42.380374Z",
     "start_time": "2024-11-20T17:37:42.290663Z"
    }
   },
   "id": "a3b96e2531949e23",
   "execution_count": 15
  },
  {
   "cell_type": "code",
   "outputs": [
    {
     "name": "stderr",
     "output_type": "stream",
     "text": [
      "C:\\Users\\karom\\AppData\\Local\\Temp\\ipykernel_6196\\1803658944.py:1: SettingWithCopyWarning: \n",
      "A value is trying to be set on a copy of a slice from a DataFrame.\n",
      "Try using .loc[row_indexer,col_indexer] = value instead\n",
      "\n",
      "See the caveats in the documentation: https://pandas.pydata.org/pandas-docs/stable/user_guide/indexing.html#returning-a-view-versus-a-copy\n",
      "  df[\"preproc_sentences\"] =\\\n"
     ]
    }
   ],
   "source": [
    "df[\"preproc_sentences\"] =\\\n",
    "      df[\"Review\"].map(lambda content : [pipeline_v1e.main_pipeline(sentence,\n",
    "                                                                                    print_output=False,\n",
    "                                                                                    no_stopwords=False,\n",
    "                                                                                    lowercase=False,\n",
    "                                                                                    lemmatized=False,\n",
    "                                                                                    no_punctuation=False\n",
    "                                                                                    ) for sentence in sent_tokenizer.tokenize(content)])"
   ],
   "metadata": {
    "collapsed": false,
    "ExecuteTime": {
     "end_time": "2024-11-20T17:37:54.605262Z",
     "start_time": "2024-11-20T17:37:45.452531Z"
    }
   },
   "id": "23297540759f483d",
   "execution_count": 16
  },
  {
   "cell_type": "code",
   "outputs": [
    {
     "data": {
      "text/plain": "                                                 Review  \\\n0     The ambience was good, food was quite good . h...   \n1     Ambience is too good for a pleasant evening. S...   \n2     A must try.. great food great ambience. Thnx f...   \n3     Soumen das and Arun was a great guy. Only beca...   \n4     Food is good.we ordered Kodi drumsticks and ba...   \n...                                                 ...   \n9995  Madhumathi Mahajan Well to start with nice cou...   \n9996  This place has never disappointed us.. The foo...   \n9997  Bad rating is mainly because of \"Chicken Bone ...   \n9998  I personally love and prefer Chinese Food. Had...   \n9999  Checked in here to try some delicious chinese ...   \n\n                                       Processed_Review Rating  \\\n0     The ambience was good, food was quite good . h...      5   \n1     Ambience is too good for a pleasant evening. S...      5   \n2     A must try.. great food great ambience. Thnx f...      5   \n3     Soumen das and Arun was a great guy. Only beca...      5   \n4     Food is good.we ordered Kodi drumsticks and ba...      5   \n...                                                 ...    ...   \n9995  Madhumathi Mahajan Well to start with nice cou...      3   \n9996  This place has never disappointed us.. The foo...    4.5   \n9997  Bad rating is mainly because of \"Chicken Bone ...    1.5   \n9998  I personally love and prefer Chinese Food. Had...      4   \n9999  Checked in here to try some delicious chinese ...    3.5   \n\n                                     initial_bow_vector  \\\n0     [0, 0, 0, 0, 0, 0, 0, 0, 0, 0, 0, 0, 0, 0, 0, ...   \n1     [0, 0, 0, 0, 0, 0, 0, 0, 0, 0, 0, 0, 0, 0, 0, ...   \n2     [0, 0, 0, 0, 0, 0, 0, 0, 0, 0, 0, 0, 0, 0, 0, ...   \n3     [0, 0, 0, 0, 0, 0, 0, 0, 0, 0, 0, 0, 0, 0, 0, ...   \n4     [0, 0, 0, 0, 0, 0, 0, 0, 0, 0, 0, 0, 0, 0, 0, ...   \n...                                                 ...   \n9995  [0, 0, 0, 0, 0, 0, 0, 0, 0, 0, 0, 0, 0, 0, 0, ...   \n9996  [0, 0, 0, 0, 0, 0, 0, 0, 0, 0, 0, 0, 0, 0, 0, ...   \n9997  [0, 0, 0, 0, 0, 0, 0, 0, 0, 0, 0, 0, 0, 0, 0, ...   \n9998  [0, 0, 0, 0, 0, 0, 0, 0, 0, 0, 0, 0, 0, 0, 0, ...   \n9999  [0, 0, 0, 0, 0, 0, 0, 0, 0, 0, 0, 0, 0, 0, 0, ...   \n\n                                        preproc_content  \\\n0     The ambience was good, food was quite good . h...   \n1     Ambience is too good for a pleasant evening . ...   \n2     A must try .. great food great ambience . Thnx...   \n3     Soumen das and Arun was a great guy . Only bec...   \n4     Food is ordered Kodi drumsticks and basket mut...   \n...                                                 ...   \n9995  Madhumathi Mahajan Well to start with nice cou...   \n9996  This place has never disappointed us .. The fo...   \n9997  Bad rating is mainly because of \"Chicken Bone ...   \n9998  I personally love and prefer Chinese Food . Ha...   \n9999  Checked in here to try some delicious chinese ...   \n\n                                      preproc_sentences  \n0     [The ambience was good, food was quite good., ...  \n1     [Ambience is too good for a pleasant evening.,...  \n2     [A must try .. great food great ambience., Thn...  \n3     [Soumen das and Arun was a great guy., Only be...  \n4     [Food is ordered Kodi drumsticks and basket mu...  \n...                                                 ...  \n9995  [Madhumathi Mahajan Well to start with nice co...  \n9996  [This place has never disappointed us .. The f...  \n9997  [Bad rating is mainly because of \"Chicken Bone...  \n9998  [I personally love and prefer Chinese Food., H...  \n9999  [Checked in here to try some delicious chinese...  \n\n[9955 rows x 6 columns]",
      "text/html": "<div>\n<style scoped>\n    .dataframe tbody tr th:only-of-type {\n        vertical-align: middle;\n    }\n\n    .dataframe tbody tr th {\n        vertical-align: top;\n    }\n\n    .dataframe thead th {\n        text-align: right;\n    }\n</style>\n<table border=\"1\" class=\"dataframe\">\n  <thead>\n    <tr style=\"text-align: right;\">\n      <th></th>\n      <th>Review</th>\n      <th>Processed_Review</th>\n      <th>Rating</th>\n      <th>initial_bow_vector</th>\n      <th>preproc_content</th>\n      <th>preproc_sentences</th>\n    </tr>\n  </thead>\n  <tbody>\n    <tr>\n      <th>0</th>\n      <td>The ambience was good, food was quite good . h...</td>\n      <td>The ambience was good, food was quite good . h...</td>\n      <td>5</td>\n      <td>[0, 0, 0, 0, 0, 0, 0, 0, 0, 0, 0, 0, 0, 0, 0, ...</td>\n      <td>The ambience was good, food was quite good . h...</td>\n      <td>[The ambience was good, food was quite good., ...</td>\n    </tr>\n    <tr>\n      <th>1</th>\n      <td>Ambience is too good for a pleasant evening. S...</td>\n      <td>Ambience is too good for a pleasant evening. S...</td>\n      <td>5</td>\n      <td>[0, 0, 0, 0, 0, 0, 0, 0, 0, 0, 0, 0, 0, 0, 0, ...</td>\n      <td>Ambience is too good for a pleasant evening . ...</td>\n      <td>[Ambience is too good for a pleasant evening.,...</td>\n    </tr>\n    <tr>\n      <th>2</th>\n      <td>A must try.. great food great ambience. Thnx f...</td>\n      <td>A must try.. great food great ambience. Thnx f...</td>\n      <td>5</td>\n      <td>[0, 0, 0, 0, 0, 0, 0, 0, 0, 0, 0, 0, 0, 0, 0, ...</td>\n      <td>A must try .. great food great ambience . Thnx...</td>\n      <td>[A must try .. great food great ambience., Thn...</td>\n    </tr>\n    <tr>\n      <th>3</th>\n      <td>Soumen das and Arun was a great guy. Only beca...</td>\n      <td>Soumen das and Arun was a great guy. Only beca...</td>\n      <td>5</td>\n      <td>[0, 0, 0, 0, 0, 0, 0, 0, 0, 0, 0, 0, 0, 0, 0, ...</td>\n      <td>Soumen das and Arun was a great guy . Only bec...</td>\n      <td>[Soumen das and Arun was a great guy., Only be...</td>\n    </tr>\n    <tr>\n      <th>4</th>\n      <td>Food is good.we ordered Kodi drumsticks and ba...</td>\n      <td>Food is good.we ordered Kodi drumsticks and ba...</td>\n      <td>5</td>\n      <td>[0, 0, 0, 0, 0, 0, 0, 0, 0, 0, 0, 0, 0, 0, 0, ...</td>\n      <td>Food is ordered Kodi drumsticks and basket mut...</td>\n      <td>[Food is ordered Kodi drumsticks and basket mu...</td>\n    </tr>\n    <tr>\n      <th>...</th>\n      <td>...</td>\n      <td>...</td>\n      <td>...</td>\n      <td>...</td>\n      <td>...</td>\n      <td>...</td>\n    </tr>\n    <tr>\n      <th>9995</th>\n      <td>Madhumathi Mahajan Well to start with nice cou...</td>\n      <td>Madhumathi Mahajan Well to start with nice cou...</td>\n      <td>3</td>\n      <td>[0, 0, 0, 0, 0, 0, 0, 0, 0, 0, 0, 0, 0, 0, 0, ...</td>\n      <td>Madhumathi Mahajan Well to start with nice cou...</td>\n      <td>[Madhumathi Mahajan Well to start with nice co...</td>\n    </tr>\n    <tr>\n      <th>9996</th>\n      <td>This place has never disappointed us.. The foo...</td>\n      <td>This place has never disappointed us.. The foo...</td>\n      <td>4.5</td>\n      <td>[0, 0, 0, 0, 0, 0, 0, 0, 0, 0, 0, 0, 0, 0, 0, ...</td>\n      <td>This place has never disappointed us .. The fo...</td>\n      <td>[This place has never disappointed us .. The f...</td>\n    </tr>\n    <tr>\n      <th>9997</th>\n      <td>Bad rating is mainly because of \"Chicken Bone ...</td>\n      <td>Bad rating is mainly because of \"Chicken Bone ...</td>\n      <td>1.5</td>\n      <td>[0, 0, 0, 0, 0, 0, 0, 0, 0, 0, 0, 0, 0, 0, 0, ...</td>\n      <td>Bad rating is mainly because of \"Chicken Bone ...</td>\n      <td>[Bad rating is mainly because of \"Chicken Bone...</td>\n    </tr>\n    <tr>\n      <th>9998</th>\n      <td>I personally love and prefer Chinese Food. Had...</td>\n      <td>I personally love and prefer Chinese Food. Had...</td>\n      <td>4</td>\n      <td>[0, 0, 0, 0, 0, 0, 0, 0, 0, 0, 0, 0, 0, 0, 0, ...</td>\n      <td>I personally love and prefer Chinese Food . Ha...</td>\n      <td>[I personally love and prefer Chinese Food., H...</td>\n    </tr>\n    <tr>\n      <th>9999</th>\n      <td>Checked in here to try some delicious chinese ...</td>\n      <td>Checked in here to try some delicious chinese ...</td>\n      <td>3.5</td>\n      <td>[0, 0, 0, 0, 0, 0, 0, 0, 0, 0, 0, 0, 0, 0, 0, ...</td>\n      <td>Checked in here to try some delicious chinese ...</td>\n      <td>[Checked in here to try some delicious chinese...</td>\n    </tr>\n  </tbody>\n</table>\n<p>9955 rows × 6 columns</p>\n</div>"
     },
     "execution_count": 17,
     "metadata": {},
     "output_type": "execute_result"
    }
   ],
   "source": [
    "df"
   ],
   "metadata": {
    "collapsed": false,
    "ExecuteTime": {
     "end_time": "2024-11-20T17:38:00.272830Z",
     "start_time": "2024-11-20T17:38:00.163750Z"
    }
   },
   "id": "db2c83a9a072774e",
   "execution_count": 17
  },
  {
   "cell_type": "code",
   "outputs": [],
   "source": [
    "vader = SentimentIntensityAnalyzer()"
   ],
   "metadata": {
    "collapsed": false,
    "ExecuteTime": {
     "end_time": "2024-11-20T17:39:39.088042Z",
     "start_time": "2024-11-20T17:39:38.996017Z"
    }
   },
   "id": "2075671d73548567",
   "execution_count": 18
  },
  {
   "cell_type": "code",
   "outputs": [
    {
     "data": {
      "text/plain": "{'neg': 0.0, 'neu': 0.165, 'pos': 0.835, 'compound': 0.7249}"
     },
     "execution_count": 19,
     "metadata": {},
     "output_type": "execute_result"
    }
   ],
   "source": [
    "ex = \"I love winter!!!\"\n",
    "vader.polarity_scores(ex)"
   ],
   "metadata": {
    "collapsed": false,
    "ExecuteTime": {
     "end_time": "2024-11-20T17:39:58.452588Z",
     "start_time": "2024-11-20T17:39:58.359293Z"
    }
   },
   "id": "8ec5d1846aca6d8e",
   "execution_count": 19
  },
  {
   "cell_type": "code",
   "outputs": [],
   "source": [
    "sent_compound_list = []\n",
    "\n",
    "for sentence in df[\"Review\"]:\n",
    "    sent_polarity = vader.polarity_scores(sentence)\n",
    "    sent_compound_list.append(sent_polarity[\"compound\"])\n",
    "    # print(\"{} : \\n {}\".format(sentence, sent_polarity))"
   ],
   "metadata": {
    "collapsed": false,
    "ExecuteTime": {
     "end_time": "2024-11-20T17:40:04.664557Z",
     "start_time": "2024-11-20T17:39:59.652594Z"
    }
   },
   "id": "9270aa349542691a",
   "execution_count": 20
  },
  {
   "cell_type": "code",
   "outputs": [
    {
     "data": {
      "text/plain": "       Compound_Score\ncount     9955.000000\nmean         0.473325\nstd          0.583278\nmin         -0.994200\n25%          0.000000\n50%          0.764900\n75%          0.933700\nmax          0.999600",
      "text/html": "<div>\n<style scoped>\n    .dataframe tbody tr th:only-of-type {\n        vertical-align: middle;\n    }\n\n    .dataframe tbody tr th {\n        vertical-align: top;\n    }\n\n    .dataframe thead th {\n        text-align: right;\n    }\n</style>\n<table border=\"1\" class=\"dataframe\">\n  <thead>\n    <tr style=\"text-align: right;\">\n      <th></th>\n      <th>Compound_Score</th>\n    </tr>\n  </thead>\n  <tbody>\n    <tr>\n      <th>count</th>\n      <td>9955.000000</td>\n    </tr>\n    <tr>\n      <th>mean</th>\n      <td>0.473325</td>\n    </tr>\n    <tr>\n      <th>std</th>\n      <td>0.583278</td>\n    </tr>\n    <tr>\n      <th>min</th>\n      <td>-0.994200</td>\n    </tr>\n    <tr>\n      <th>25%</th>\n      <td>0.000000</td>\n    </tr>\n    <tr>\n      <th>50%</th>\n      <td>0.764900</td>\n    </tr>\n    <tr>\n      <th>75%</th>\n      <td>0.933700</td>\n    </tr>\n    <tr>\n      <th>max</th>\n      <td>0.999600</td>\n    </tr>\n  </tbody>\n</table>\n</div>"
     },
     "execution_count": 21,
     "metadata": {},
     "output_type": "execute_result"
    }
   ],
   "source": [
    "scratch_df = pd.DataFrame({\"Sentences\": [sentence for sentence in df[\"Review\"]],\n",
    "                           \"Compound_Score\": sent_compound_list})\n",
    "scratch_df.describe()"
   ],
   "metadata": {
    "collapsed": false,
    "ExecuteTime": {
     "end_time": "2024-11-20T17:40:06.327664Z",
     "start_time": "2024-11-20T17:40:06.230693Z"
    }
   },
   "id": "a907646a9979af14",
   "execution_count": 21
  },
  {
   "cell_type": "code",
   "outputs": [
    {
     "data": {
      "text/plain": "count     9955\nunique      10\ntop          5\nfreq      3826\nName: Rating, dtype: object"
     },
     "execution_count": 24,
     "metadata": {},
     "output_type": "execute_result"
    }
   ],
   "source": [
    "df[\"Rating\"].describe()"
   ],
   "metadata": {
    "collapsed": false,
    "ExecuteTime": {
     "end_time": "2024-11-20T17:42:47.101494Z",
     "start_time": "2024-11-20T17:42:47.006428Z"
    }
   },
   "id": "da1e562782db5b98",
   "execution_count": 24
  },
  {
   "cell_type": "code",
   "outputs": [
    {
     "name": "stdout",
     "output_type": "stream",
     "text": [
      "object\n",
      "float64\n"
     ]
    },
    {
     "name": "stderr",
     "output_type": "stream",
     "text": [
      "C:\\Users\\karom\\AppData\\Local\\Temp\\ipykernel_6196\\3461868677.py:2: SettingWithCopyWarning: \n",
      "A value is trying to be set on a copy of a slice from a DataFrame.\n",
      "Try using .loc[row_indexer,col_indexer] = value instead\n",
      "\n",
      "See the caveats in the documentation: https://pandas.pydata.org/pandas-docs/stable/user_guide/indexing.html#returning-a-view-versus-a-copy\n",
      "  df[\"Rating\"] = pd.to_numeric(df[\"Rating\"], errors=\"coerce\")\n"
     ]
    }
   ],
   "source": [
    "print(df[\"Rating\"].dtype)\n",
    "df[\"Rating\"] = pd.to_numeric(df[\"Rating\"], errors=\"coerce\")\n",
    "print(df[\"Rating\"].dtype)\n"
   ],
   "metadata": {
    "collapsed": false,
    "ExecuteTime": {
     "end_time": "2024-11-20T17:46:34.995122Z",
     "start_time": "2024-11-20T17:46:34.883449Z"
    }
   },
   "id": "c95d12bf38ff67d5",
   "execution_count": 26
  },
  {
   "cell_type": "code",
   "outputs": [
    {
     "data": {
      "text/plain": "count    9954.000000\nmean        3.600261\nstd         1.483573\nmin         1.000000\n25%         3.000000\n50%         4.000000\n75%         5.000000\nmax         5.000000\nName: Rating, dtype: float64"
     },
     "execution_count": 27,
     "metadata": {},
     "output_type": "execute_result"
    }
   ],
   "source": [
    "df[\"Rating\"].describe()"
   ],
   "metadata": {
    "collapsed": false,
    "ExecuteTime": {
     "end_time": "2024-11-20T17:46:46.435564Z",
     "start_time": "2024-11-20T17:46:46.322942Z"
    }
   },
   "id": "a9725246d061c8c4",
   "execution_count": 27
  },
  {
   "cell_type": "code",
   "outputs": [
    {
     "data": {
      "text/plain": "{'neg': 0.0, 'neu': 0.554, 'pos': 0.446, 'compound': 0.936}"
     },
     "execution_count": 28,
     "metadata": {},
     "output_type": "execute_result"
    }
   ],
   "source": [
    "test_review_polarity = vader.polarity_scores(df['Review'].loc[1])\n",
    "test_review_polarity"
   ],
   "metadata": {
    "collapsed": false,
    "ExecuteTime": {
     "end_time": "2024-11-20T17:47:13.953159Z",
     "start_time": "2024-11-20T17:47:13.875657Z"
    }
   },
   "id": "3a38f1a15584df57",
   "execution_count": 28
  },
  {
   "cell_type": "code",
   "outputs": [
    {
     "data": {
      "text/plain": "5.0"
     },
     "execution_count": 29,
     "metadata": {},
     "output_type": "execute_result"
    }
   ],
   "source": [
    "df['Rating'].loc[1]"
   ],
   "metadata": {
    "collapsed": false,
    "ExecuteTime": {
     "end_time": "2024-11-20T17:47:15.416184Z",
     "start_time": "2024-11-20T17:47:15.325809Z"
    }
   },
   "id": "9e71dd9132a687f0",
   "execution_count": 29
  },
  {
   "cell_type": "code",
   "outputs": [
    {
     "data": {
      "text/plain": "                                              Sentences  Compound_Score\n0     The ambience was good, food was quite good . h...          0.9664\n1     Ambience is too good for a pleasant evening. S...          0.9360\n2     A must try.. great food great ambience. Thnx f...          0.9186\n3     Soumen das and Arun was a great guy. Only beca...          0.8591\n4     Food is good.we ordered Kodi drumsticks and ba...          0.9201\n...                                                 ...             ...\n9950  Madhumathi Mahajan Well to start with nice cou...          0.9923\n9951  This place has never disappointed us.. The foo...          0.9579\n9952  Bad rating is mainly because of \"Chicken Bone ...          0.9785\n9953  I personally love and prefer Chinese Food. Had...          0.9359\n9954  Checked in here to try some delicious chinese ...          0.8516\n\n[9955 rows x 2 columns]",
      "text/html": "<div>\n<style scoped>\n    .dataframe tbody tr th:only-of-type {\n        vertical-align: middle;\n    }\n\n    .dataframe tbody tr th {\n        vertical-align: top;\n    }\n\n    .dataframe thead th {\n        text-align: right;\n    }\n</style>\n<table border=\"1\" class=\"dataframe\">\n  <thead>\n    <tr style=\"text-align: right;\">\n      <th></th>\n      <th>Sentences</th>\n      <th>Compound_Score</th>\n    </tr>\n  </thead>\n  <tbody>\n    <tr>\n      <th>0</th>\n      <td>The ambience was good, food was quite good . h...</td>\n      <td>0.9664</td>\n    </tr>\n    <tr>\n      <th>1</th>\n      <td>Ambience is too good for a pleasant evening. S...</td>\n      <td>0.9360</td>\n    </tr>\n    <tr>\n      <th>2</th>\n      <td>A must try.. great food great ambience. Thnx f...</td>\n      <td>0.9186</td>\n    </tr>\n    <tr>\n      <th>3</th>\n      <td>Soumen das and Arun was a great guy. Only beca...</td>\n      <td>0.8591</td>\n    </tr>\n    <tr>\n      <th>4</th>\n      <td>Food is good.we ordered Kodi drumsticks and ba...</td>\n      <td>0.9201</td>\n    </tr>\n    <tr>\n      <th>...</th>\n      <td>...</td>\n      <td>...</td>\n    </tr>\n    <tr>\n      <th>9950</th>\n      <td>Madhumathi Mahajan Well to start with nice cou...</td>\n      <td>0.9923</td>\n    </tr>\n    <tr>\n      <th>9951</th>\n      <td>This place has never disappointed us.. The foo...</td>\n      <td>0.9579</td>\n    </tr>\n    <tr>\n      <th>9952</th>\n      <td>Bad rating is mainly because of \"Chicken Bone ...</td>\n      <td>0.9785</td>\n    </tr>\n    <tr>\n      <th>9953</th>\n      <td>I personally love and prefer Chinese Food. Had...</td>\n      <td>0.9359</td>\n    </tr>\n    <tr>\n      <th>9954</th>\n      <td>Checked in here to try some delicious chinese ...</td>\n      <td>0.8516</td>\n    </tr>\n  </tbody>\n</table>\n<p>9955 rows × 2 columns</p>\n</div>"
     },
     "execution_count": 30,
     "metadata": {},
     "output_type": "execute_result"
    }
   ],
   "source": [
    "scratch_df"
   ],
   "metadata": {
    "collapsed": false,
    "ExecuteTime": {
     "end_time": "2024-11-20T17:47:16.345329Z",
     "start_time": "2024-11-20T17:47:16.259616Z"
    }
   },
   "id": "4e961c1705e57239",
   "execution_count": 30
  },
  {
   "cell_type": "code",
   "outputs": [
    {
     "data": {
      "text/plain": "[0.9664,\n 0.936,\n 0.9186,\n 0.8591,\n 0.9201,\n 0.9565,\n 0.7264,\n 0.2329,\n 0.9638,\n 0.9831,\n 0.9359,\n 0.9737,\n 0.8976,\n 0.7964,\n -0.4882,\n 0.5256,\n 0.8442,\n 0.9485,\n 0.9423,\n 0.7496,\n 0.9901,\n -0.1303,\n 0.8768,\n 0.9734,\n 0.9493,\n 0.9403,\n 0.8885,\n 0.9524,\n 0.9817,\n -0.1531,\n -0.3471,\n 0.9431,\n 0.8122,\n 0.9738,\n 0.9677,\n 0.9446,\n 0.6801,\n 0.8885,\n 0.9766,\n 0.6478,\n 0.9622,\n 0.9694,\n 0.7717,\n 0.9917,\n 0.9331,\n 0.0258,\n 0.9439,\n 0.9837,\n 0.9846,\n 0.928,\n 0.9022,\n 0.659,\n 0.8658,\n 0.92,\n 0.9604,\n 0.7003,\n 0.9562,\n 0.9409,\n 0.9673,\n 0.8189,\n 0.9379,\n 0.9689,\n 0.8714,\n 0.6997,\n 0.9246,\n 0.9148,\n -0.431,\n 0.9505,\n 0.9863,\n 0.8932,\n 0.7964,\n 0.9726,\n 0.8883,\n 0.992,\n 0.9833,\n -0.9194,\n 0.5574,\n 0.9651,\n 0.9794,\n 0.3471,\n -0.8625,\n 0.9648,\n 0.854,\n -0.7554,\n 0.4096,\n 0.9427,\n 0.9421,\n 0.9477,\n 0.9183,\n -0.6961,\n 0.7351,\n -0.3919,\n -0.2885,\n 0.1139,\n 0.959,\n -0.8683,\n 0.8832,\n 0.6369,\n -0.9137,\n 0.0,\n 0.9693,\n 0.9182,\n 0.9148,\n 0.926,\n 0.9274,\n 0.0,\n 0.9451,\n 0.9429,\n 0.9337,\n 0.9201,\n 0.9349,\n 0.5719,\n 0.9076,\n 0.9403,\n 0.7902,\n 0.9611,\n 0.9524,\n 0.9709,\n 0.9753,\n 0.9402,\n 0.8387,\n 0.9166,\n 0.9671,\n -0.8221,\n 0.92,\n 0.9346,\n 0.9417,\n 0.8934,\n 0.9671,\n 0.1531,\n 0.9624,\n 0.9738,\n 0.9531,\n 0.9136,\n 0.9616,\n 0.8519,\n -0.3016,\n -0.8218,\n 0.9722,\n 0.9787,\n -0.6106,\n 0.9497,\n 0.9743,\n 0.9785,\n 0.967,\n 0.9771,\n 0.8176,\n 0.8834,\n 0.8511,\n 0.4404,\n 0.9644,\n 0.3384,\n 0.8885,\n 0.9196,\n 0.9428,\n 0.9258,\n 0.9675,\n 0.9746,\n 0.9451,\n 0.949,\n 0.923,\n 0.714,\n 0.7269,\n 0.8686,\n 0.7959,\n 0.9377,\n 0.9118,\n 0.9192,\n 0.872,\n 0.8879,\n 0.9792,\n 0.8591,\n 0.8479,\n 0.9866,\n 0.9483,\n 0.9615,\n 0.9729,\n 0.7717,\n 0.9412,\n 0.9674,\n 0.802,\n 0.9183,\n 0.9273,\n 0.926,\n 0.9403,\n 0.9726,\n 0.9246,\n 0.8932,\n 0.974,\n 0.8775,\n 0.9144,\n 0.9118,\n 0.9637,\n 0.9691,\n 0.926,\n 0.8685,\n 0.9705,\n 0.8271,\n 0.9255,\n 0.9467,\n 0.5267,\n 0.9935,\n 0.942,\n 0.9042,\n 0.7982,\n 0.9726,\n 0.923,\n 0.9768,\n 0.8775,\n 0.9796,\n 0.9627,\n 0.9186,\n 0.8555,\n 0.9601,\n 0.8746,\n 0.9586,\n -0.7601,\n 0.938,\n -0.1779,\n 0.9403,\n 0.9595,\n 0.9896,\n 0.5859,\n 0.9519,\n 0.8591,\n 0.5256,\n 0.9631,\n 0.8655,\n -0.8237,\n 0.7184,\n 0.726,\n 0.8572,\n 0.8957,\n 0.9451,\n 0.7141,\n 0.9943,\n 0.9799,\n 0.9382,\n 0.7609,\n 0.9877,\n 0.8168,\n -0.7742,\n 0.9136,\n 0.7841,\n 0.9217,\n 0.4404,\n 0.8218,\n 0.9694,\n -0.9304,\n 0.9771,\n 0.9382,\n 0.5106,\n -0.6914,\n 0.8519,\n 0.9387,\n 0.9245,\n 0.9642,\n 0.9552,\n 0.7981,\n 0.9673,\n 0.9577,\n 0.9474,\n 0.9571,\n 0.8625,\n 0.8775,\n 0.8834,\n 0.7506,\n 0.802,\n 0.9393,\n 0.9568,\n 0.9423,\n 0.9772,\n 0.967,\n 0.9761,\n 0.9042,\n 0.9723,\n 0.7076,\n 0.7574,\n 0.9856,\n 0.8012,\n 0.905,\n 0.9542,\n 0.9282,\n 0.8988,\n 0.8834,\n 0.9423,\n 0.9324,\n 0.8942,\n 0.959,\n 0.9665,\n 0.9527,\n 0.9186,\n 0.9434,\n 0.8718,\n 0.9492,\n 0.4545,\n 0.985,\n 0.9537,\n 0.9953,\n 0.9868,\n 0.6369,\n 0.5948,\n 0.9231,\n 0.9184,\n 0.9136,\n 0.3182,\n -0.9062,\n -0.7501,\n 0.6369,\n 0.5423,\n -0.7783,\n 0.2601,\n 0.0,\n -0.4034,\n 0.8883,\n 0.7906,\n -0.5256,\n 0.6908,\n 0.7876,\n -0.6124,\n 0.775,\n 0.9468,\n 0.7377,\n 0.7906,\n 0.0,\n 0.926,\n 0.807,\n -0.7772,\n 0.4404,\n 0.5994,\n -0.6801,\n 0.9496,\n 0.9381,\n 0.0749,\n 0.9159,\n 0.4588,\n 0.624,\n 0.0221,\n 0.7906,\n -0.5707,\n -0.2411,\n 0.936,\n -0.4857,\n 0.9321,\n -0.0754,\n -0.886,\n 0.1265,\n 0.95,\n 0.0,\n -0.7269,\n 0.2382,\n 0.3818,\n -0.1027,\n 0.5486,\n 0.7845,\n -0.4486,\n 0.6112,\n -0.9593,\n 0.9423,\n 0.9555,\n 0.9455,\n 0.7906,\n -0.802,\n 0.8592,\n 0.8779,\n -0.3412,\n -0.6616,\n -0.3412,\n -0.9083,\n 0.4877,\n -0.5797,\n 0.8462,\n 0.4404,\n 0.886,\n 0.9285,\n 0.9903,\n -0.4939,\n -0.8264,\n 0.9531,\n 0.81,\n 0.3818,\n 0.7943,\n 0.8619,\n 0.8118,\n 0.0,\n -0.4945,\n -0.1779,\n 0.9031,\n -0.937,\n 0.8717,\n -0.6107,\n 0.9116,\n -0.5111,\n 0.4404,\n 0.9268,\n 0.0,\n 0.872,\n 0.9442,\n -0.128,\n 0.9804,\n 0.9712,\n 0.9628,\n 0.9858,\n 0.7783,\n 0.9432,\n 0.8902,\n 0.9432,\n 0.9114,\n 0.6794,\n 0.9781,\n 0.9746,\n 0.9648,\n 0.9408,\n 0.9389,\n 0.9509,\n 0.9767,\n 0.9468,\n 0.926,\n 0.9636,\n 0.9419,\n -0.7861,\n -0.8829,\n 0.9898,\n 0.8271,\n 0.9617,\n 0.9587,\n 0.9621,\n 0.9648,\n 0.9682,\n 0.9798,\n 0.9601,\n 0.98,\n 0.9837,\n 0.7753,\n -0.567,\n 0.9923,\n 0.9669,\n 0.9739,\n 0.91,\n 0.9423,\n 0.8957,\n 0.8225,\n -0.3818,\n -0.1695,\n 0.8481,\n 0.8555,\n 0.9168,\n -0.8779,\n 0.9237,\n 0.7983,\n 0.9721,\n 0.9129,\n 0.975,\n 0.9299,\n 0.9401,\n 0.9162,\n 0.6808,\n 0.936,\n 0.9652,\n 0.951,\n -0.7674,\n 0.6696,\n 0.9259,\n 0.8379,\n 0.8765,\n 0.9393,\n 0.9709,\n 0.929,\n 0.765,\n 0.9761,\n 0.977,\n 0.9308,\n 0.9371,\n 0.9796,\n 0.9079,\n 0.8914,\n 0.9458,\n 0.9444,\n -0.5494,\n 0.9593,\n 0.9705,\n 0.9231,\n 0.8567,\n 0.9403,\n 0.9442,\n 0.994,\n 0.7184,\n 0.9461,\n 0.9441,\n 0.91,\n 0.9643,\n 0.959,\n 0.9336,\n -0.4404,\n 0.4463,\n 0.8807,\n 0.9694,\n 0.7877,\n 0.9623,\n 0.8828,\n 0.984,\n 0.9328,\n 0.9403,\n 0.946,\n 0.9468,\n 0.9973,\n -0.7845,\n 0.9909,\n 0.9657,\n 0.9868,\n 0.9842,\n 0.743,\n 0.9422,\n 0.9794,\n 0.9738,\n 0.9754,\n 0.9217,\n 0.9712,\n 0.9217,\n -0.6358,\n 0.9829,\n 0.8979,\n 0.9656,\n 0.9556,\n 0.946,\n 0.946,\n 0.9748,\n 0.5574,\n 0.6908,\n 0.8176,\n 0.984,\n 0.9309,\n 0.9817,\n 0.9735,\n -0.5849,\n 0.802,\n 0.9888,\n 0.9296,\n -0.4767,\n 0.681,\n 0.992,\n 0.0,\n -0.9001,\n 0.9739,\n 0.7984,\n 0.9729,\n 0.9852,\n 0.4404,\n 0.9933,\n 0.976,\n 0.8481,\n 0.9538,\n 0.9765,\n 0.3252,\n 0.7717,\n 0.8439,\n 0.9433,\n 0.9571,\n 0.9892,\n 0.6557,\n 0.9828,\n 0.8294,\n -0.5234,\n 0.8519,\n 0.9698,\n 0.4861,\n 0.899,\n 0.9201,\n -0.6852,\n 0.7096,\n 0.6908,\n 0.9744,\n 0.717,\n 0.8999,\n 0.9958,\n 0.9402,\n -0.0076,\n 0.923,\n 0.9601,\n 0.8056,\n 0.9865,\n 0.979,\n 0.7946,\n 0.9918,\n 0.9905,\n 0.9863,\n 0.9831,\n 0.875,\n 0.937,\n 0.9595,\n 0.926,\n 0.983,\n 0.886,\n 0.9606,\n 0.9788,\n 0.9695,\n 0.9704,\n 0.7304,\n 0.7696,\n 0.9423,\n 0.0854,\n 0.2023,\n 0.7935,\n -0.9377,\n 0.9079,\n 0.9673,\n -0.8939,\n -0.7684,\n 0.3182,\n 0.8585,\n 0.0,\n -0.8129,\n 0.0,\n 0.7003,\n 0.9779,\n 0.9612,\n 0.8469,\n 0.9545,\n 0.0,\n 0.9837,\n 0.7003,\n -0.4517,\n -0.6124,\n 0.1901,\n -0.3384,\n -0.9639,\n 0.8299,\n 0.5534,\n -0.5574,\n 0.0,\n -0.3818,\n 0.9229,\n 0.3818,\n 0.8371,\n -0.1531,\n 0.6249,\n 0.8718,\n 0.7964,\n 0.1531,\n 0.9571,\n 0.9299,\n -0.7946,\n 0.5033,\n 0.9493,\n -0.7964,\n 0.8777,\n -0.5637,\n -0.5043,\n 0.9413,\n 0.9313,\n 0.0,\n 0.9079,\n 0.0,\n 0.9153,\n -0.3412,\n 0.8834,\n -0.8467,\n 0.9209,\n 0.8399,\n 0.5719,\n 0.9273,\n 0.9299,\n 0.5587,\n 0.0,\n 0.9727,\n 0.8908,\n 0.9913,\n -0.6801,\n 0.8017,\n 0.8807,\n -0.6462,\n 0.7126,\n 0.9741,\n 0.9169,\n 0.6094,\n 0.4215,\n 0.9039,\n 0.9701,\n 0.1531,\n 0.8914,\n 0.9728,\n 0.6478,\n -0.4717,\n 0.9704,\n 0.0243,\n 0.0,\n 0.9612,\n -0.2755,\n -0.2498,\n 0.9247,\n 0.9815,\n -0.4194,\n -0.9335,\n 0.3182,\n 0.9532,\n -0.913,\n 0.742,\n 0.2975,\n 0.9768,\n 0.9322,\n 0.832,\n 0.6486,\n 0.9698,\n 0.8845,\n 0.9432,\n 0.989,\n 0.8458,\n 0.8591,\n -0.7351,\n 0.6935,\n 0.6369,\n 0.9478,\n -0.5267,\n -0.342,\n 0.5574,\n 0.9423,\n -0.5093,\n 0.886,\n 0.926,\n 0.9212,\n 0.9288,\n 0.57,\n 0.5719,\n 0.0,\n -0.3839,\n 0.4404,\n 0.8843,\n 0.4943,\n -0.6066,\n 0.6111,\n -0.8971,\n -0.9228,\n -0.7363,\n 0.9403,\n -0.2755,\n 0.9217,\n -0.3412,\n 0.9186,\n -0.8481,\n -0.1702,\n 0.9741,\n -0.5749,\n 0.2523,\n 0.0,\n 0.9049,\n 0.8143,\n 0.6369,\n -0.5256,\n -0.623,\n 0.8074,\n 0.0,\n 0.0,\n -0.4215,\n -0.4973,\n 0.9601,\n 0.7579,\n 0.4404,\n 0.0,\n 0.5267,\n 0.5927,\n 0.4404,\n 0.6682,\n 0.9558,\n -0.1283,\n 0.8807,\n 0.8744,\n 0.9062,\n 0.8519,\n 0.4404,\n -0.6249,\n 0.9691,\n 0.0,\n 0.9052,\n 0.8126,\n 0.4404,\n -0.4767,\n 0.6538,\n 0.4404,\n -0.0567,\n 0.0,\n 0.0,\n 0.4215,\n 0.0,\n 0.7644,\n 0.4404,\n 0.6249,\n 0.4404,\n 0.5719,\n 0.4215,\n -0.5719,\n 0.296,\n -0.3595,\n 0.5719,\n 0.9219,\n 0.5719,\n 0.4404,\n 0.0,\n 0.4404,\n 0.4404,\n -0.2289,\n 0.9399,\n 0.946,\n 0.8937,\n -0.3615,\n -0.0864,\n 0.3513,\n 0.9343,\n 0.9959,\n 0.8402,\n 0.9347,\n -0.928,\n 0.9584,\n 0.8726,\n 0.9509,\n 0.6605,\n 0.963,\n 0.9391,\n 0.9534,\n 0.9437,\n 0.9337,\n 0.5286,\n -0.3818,\n -0.3824,\n 0.9595,\n 0.9544,\n -0.7782,\n -0.9442,\n -0.5489,\n 0.2031,\n 0.9593,\n 0.9627,\n -0.9555,\n 0.997,\n 0.4215,\n 0.9983,\n 0.9795,\n 0.9988,\n 0.9153,\n 0.9909,\n 0.9501,\n 0.9643,\n 0.8503,\n 0.8658,\n 0.875,\n 0.9001,\n 0.959,\n -0.611,\n 0.95,\n 0.891,\n 0.0772,\n -0.7189,\n -0.2023,\n 0.8919,\n 0.9246,\n 0.9449,\n 0.9849,\n 0.9741,\n -0.8271,\n 0.9001,\n 0.9736,\n 0.8883,\n -0.9833,\n 0.9343,\n 0.93,\n 0.9511,\n 0.9795,\n 0.9758,\n 0.9417,\n 0.9386,\n 0.8807,\n 0.7177,\n 0.9707,\n 0.945,\n 0.9251,\n -0.5569,\n 0.7776,\n 0.9853,\n 0.9336,\n 0.6249,\n 0.5859,\n 0.93,\n 0.936,\n -0.7848,\n 0.8207,\n -0.8199,\n 0.9902,\n 0.9835,\n -0.5089,\n 0.7391,\n 0.3451,\n 0.8658,\n 0.926,\n 0.7579,\n 0.8481,\n 0.9686,\n 0.8779,\n 0.8885,\n 0.7152,\n 0.7717,\n 0.9729,\n 0.8126,\n 0.9403,\n 0.705,\n 0.8225,\n 0.1366,\n 0.1548,\n 0.9438,\n 0.9273,\n 0.0,\n 0.9476,\n 0.8176,\n 0.9457,\n -0.4404,\n 0.8983,\n 0.9287,\n 0.923,\n 0.9231,\n 0.8741,\n 0.8879,\n 0.9272,\n 0.9591,\n 0.9371,\n 0.802,\n -0.8693,\n 0.8001,\n 0.8927,\n 0.9183,\n 0.4404,\n 0.0356,\n -0.9352,\n 0.8709,\n 0.8402,\n -0.2745,\n 0.9639,\n 0.2382,\n 0.9182,\n 0.9735,\n 0.9299,\n 0.1511,\n 0.9943,\n 0.2086,\n 0.8388,\n 0.7841,\n 0.8429,\n 0.7374,\n 0.8008,\n 0.9378,\n -0.7948,\n 0.8519,\n -0.204,\n 0.0516,\n 0.3071,\n 0.1027,\n 0.9198,\n -0.7694,\n 0.8459,\n 0.4215,\n 0.2263,\n 0.4912,\n 0.7845,\n 0.1999,\n 0.0,\n 0.8061,\n 0.81,\n 0.9432,\n 0.9001,\n 0.9741,\n 0.0,\n 0.2023,\n 0.9423,\n -0.3182,\n 0.0,\n 0.6369,\n 0.6652,\n 0.7717,\n 0.4404,\n 0.6691,\n 0.9563,\n -0.7847,\n -0.5329,\n -0.9514,\n 0.9199,\n -0.584,\n 0.8435,\n 0.4404,\n 0.9586,\n 0.9393,\n 0.7615,\n 0.3878,\n 0.4404,\n 0.5719,\n 0.5994,\n 0.4404,\n 0.7184,\n 0.0258,\n 0.0,\n 0.4019,\n -0.4767,\n 0.2732,\n 0.3612,\n ...]"
     },
     "execution_count": 34,
     "metadata": {},
     "output_type": "execute_result"
    }
   ],
   "source": [
    "sent_compound_list"
   ],
   "metadata": {
    "collapsed": false,
    "ExecuteTime": {
     "end_time": "2024-11-20T17:47:49.034174Z",
     "start_time": "2024-11-20T17:47:48.945956Z"
    }
   },
   "id": "55b04fb39308b62d",
   "execution_count": 34
  },
  {
   "cell_type": "code",
   "outputs": [
    {
     "name": "stderr",
     "output_type": "stream",
     "text": [
      "C:\\Users\\karom\\AppData\\Local\\Temp\\ipykernel_6196\\3050469612.py:1: SettingWithCopyWarning: \n",
      "A value is trying to be set on a copy of a slice from a DataFrame.\n",
      "Try using .loc[row_indexer,col_indexer] = value instead\n",
      "\n",
      "See the caveats in the documentation: https://pandas.pydata.org/pandas-docs/stable/user_guide/indexing.html#returning-a-view-versus-a-copy\n",
      "  df[\"Compound_Score\"] = sent_compound_list\n"
     ]
    },
    {
     "data": {
      "text/plain": "                                                 Review  Rating  \\\n0     The ambience was good, food was quite good . h...     5.0   \n1     Ambience is too good for a pleasant evening. S...     5.0   \n2     A must try.. great food great ambience. Thnx f...     5.0   \n3     Soumen das and Arun was a great guy. Only beca...     5.0   \n4     Food is good.we ordered Kodi drumsticks and ba...     5.0   \n...                                                 ...     ...   \n9995  Madhumathi Mahajan Well to start with nice cou...     3.0   \n9996  This place has never disappointed us.. The foo...     4.5   \n9997  Bad rating is mainly because of \"Chicken Bone ...     1.5   \n9998  I personally love and prefer Chinese Food. Had...     4.0   \n9999  Checked in here to try some delicious chinese ...     3.5   \n\n      Compound_Score  \n0             0.9664  \n1             0.9360  \n2             0.9186  \n3             0.8591  \n4             0.9201  \n...              ...  \n9995          0.9923  \n9996          0.9579  \n9997          0.9785  \n9998          0.9359  \n9999          0.8516  \n\n[9955 rows x 3 columns]",
      "text/html": "<div>\n<style scoped>\n    .dataframe tbody tr th:only-of-type {\n        vertical-align: middle;\n    }\n\n    .dataframe tbody tr th {\n        vertical-align: top;\n    }\n\n    .dataframe thead th {\n        text-align: right;\n    }\n</style>\n<table border=\"1\" class=\"dataframe\">\n  <thead>\n    <tr style=\"text-align: right;\">\n      <th></th>\n      <th>Review</th>\n      <th>Rating</th>\n      <th>Compound_Score</th>\n    </tr>\n  </thead>\n  <tbody>\n    <tr>\n      <th>0</th>\n      <td>The ambience was good, food was quite good . h...</td>\n      <td>5.0</td>\n      <td>0.9664</td>\n    </tr>\n    <tr>\n      <th>1</th>\n      <td>Ambience is too good for a pleasant evening. S...</td>\n      <td>5.0</td>\n      <td>0.9360</td>\n    </tr>\n    <tr>\n      <th>2</th>\n      <td>A must try.. great food great ambience. Thnx f...</td>\n      <td>5.0</td>\n      <td>0.9186</td>\n    </tr>\n    <tr>\n      <th>3</th>\n      <td>Soumen das and Arun was a great guy. Only beca...</td>\n      <td>5.0</td>\n      <td>0.8591</td>\n    </tr>\n    <tr>\n      <th>4</th>\n      <td>Food is good.we ordered Kodi drumsticks and ba...</td>\n      <td>5.0</td>\n      <td>0.9201</td>\n    </tr>\n    <tr>\n      <th>...</th>\n      <td>...</td>\n      <td>...</td>\n      <td>...</td>\n    </tr>\n    <tr>\n      <th>9995</th>\n      <td>Madhumathi Mahajan Well to start with nice cou...</td>\n      <td>3.0</td>\n      <td>0.9923</td>\n    </tr>\n    <tr>\n      <th>9996</th>\n      <td>This place has never disappointed us.. The foo...</td>\n      <td>4.5</td>\n      <td>0.9579</td>\n    </tr>\n    <tr>\n      <th>9997</th>\n      <td>Bad rating is mainly because of \"Chicken Bone ...</td>\n      <td>1.5</td>\n      <td>0.9785</td>\n    </tr>\n    <tr>\n      <th>9998</th>\n      <td>I personally love and prefer Chinese Food. Had...</td>\n      <td>4.0</td>\n      <td>0.9359</td>\n    </tr>\n    <tr>\n      <th>9999</th>\n      <td>Checked in here to try some delicious chinese ...</td>\n      <td>3.5</td>\n      <td>0.8516</td>\n    </tr>\n  </tbody>\n</table>\n<p>9955 rows × 3 columns</p>\n</div>"
     },
     "execution_count": 35,
     "metadata": {},
     "output_type": "execute_result"
    }
   ],
   "source": [
    "df[\"Compound_Score\"] = sent_compound_list\n",
    "df[[\"Review\", \"Rating\", \"Compound_Score\"]]"
   ],
   "metadata": {
    "collapsed": false,
    "ExecuteTime": {
     "end_time": "2024-11-20T17:47:52.253110Z",
     "start_time": "2024-11-20T17:47:52.166617Z"
    }
   },
   "id": "fa9fad7dbe163d43",
   "execution_count": 35
  },
  {
   "cell_type": "code",
   "outputs": [
    {
     "data": {
      "text/plain": "                                                 Review  \\\n0     The ambience was good, food was quite good . h...   \n1     Ambience is too good for a pleasant evening. S...   \n2     A must try.. great food great ambience. Thnx f...   \n3     Soumen das and Arun was a great guy. Only beca...   \n4     Food is good.we ordered Kodi drumsticks and ba...   \n...                                                 ...   \n9995  Madhumathi Mahajan Well to start with nice cou...   \n9996  This place has never disappointed us.. The foo...   \n9997  Bad rating is mainly because of \"Chicken Bone ...   \n9998  I personally love and prefer Chinese Food. Had...   \n9999  Checked in here to try some delicious chinese ...   \n\n                                       Processed_Review  Rating  \\\n0     The ambience was good, food was quite good . h...     5.0   \n1     Ambience is too good for a pleasant evening. S...     5.0   \n2     A must try.. great food great ambience. Thnx f...     5.0   \n3     Soumen das and Arun was a great guy. Only beca...     5.0   \n4     Food is good.we ordered Kodi drumsticks and ba...     5.0   \n...                                                 ...     ...   \n9995  Madhumathi Mahajan Well to start with nice cou...     3.0   \n9996  This place has never disappointed us.. The foo...     4.5   \n9997  Bad rating is mainly because of \"Chicken Bone ...     1.5   \n9998  I personally love and prefer Chinese Food. Had...     4.0   \n9999  Checked in here to try some delicious chinese ...     3.5   \n\n                                     initial_bow_vector  \\\n0     [0, 0, 0, 0, 0, 0, 0, 0, 0, 0, 0, 0, 0, 0, 0, ...   \n1     [0, 0, 0, 0, 0, 0, 0, 0, 0, 0, 0, 0, 0, 0, 0, ...   \n2     [0, 0, 0, 0, 0, 0, 0, 0, 0, 0, 0, 0, 0, 0, 0, ...   \n3     [0, 0, 0, 0, 0, 0, 0, 0, 0, 0, 0, 0, 0, 0, 0, ...   \n4     [0, 0, 0, 0, 0, 0, 0, 0, 0, 0, 0, 0, 0, 0, 0, ...   \n...                                                 ...   \n9995  [0, 0, 0, 0, 0, 0, 0, 0, 0, 0, 0, 0, 0, 0, 0, ...   \n9996  [0, 0, 0, 0, 0, 0, 0, 0, 0, 0, 0, 0, 0, 0, 0, ...   \n9997  [0, 0, 0, 0, 0, 0, 0, 0, 0, 0, 0, 0, 0, 0, 0, ...   \n9998  [0, 0, 0, 0, 0, 0, 0, 0, 0, 0, 0, 0, 0, 0, 0, ...   \n9999  [0, 0, 0, 0, 0, 0, 0, 0, 0, 0, 0, 0, 0, 0, 0, ...   \n\n                                        preproc_content  \\\n0     The ambience was good, food was quite good . h...   \n1     Ambience is too good for a pleasant evening . ...   \n2     A must try .. great food great ambience . Thnx...   \n3     Soumen das and Arun was a great guy . Only bec...   \n4     Food is ordered Kodi drumsticks and basket mut...   \n...                                                 ...   \n9995  Madhumathi Mahajan Well to start with nice cou...   \n9996  This place has never disappointed us .. The fo...   \n9997  Bad rating is mainly because of \"Chicken Bone ...   \n9998  I personally love and prefer Chinese Food . Ha...   \n9999  Checked in here to try some delicious chinese ...   \n\n                                      preproc_sentences  Compound_Score  \\\n0     [The ambience was good, food was quite good., ...          0.9664   \n1     [Ambience is too good for a pleasant evening.,...          0.9360   \n2     [A must try .. great food great ambience., Thn...          0.9186   \n3     [Soumen das and Arun was a great guy., Only be...          0.8591   \n4     [Food is ordered Kodi drumsticks and basket mu...          0.9201   \n...                                                 ...             ...   \n9995  [Madhumathi Mahajan Well to start with nice co...          0.9923   \n9996  [This place has never disappointed us .. The f...          0.9579   \n9997  [Bad rating is mainly because of \"Chicken Bone...          0.9785   \n9998  [I personally love and prefer Chinese Food., H...          0.9359   \n9999  [Checked in here to try some delicious chinese...          0.8516   \n\n      Normalized_rating  \n0                  1.00  \n1                  1.00  \n2                  1.00  \n3                  1.00  \n4                  1.00  \n...                 ...  \n9995               0.00  \n9996               0.75  \n9997              -0.75  \n9998               0.50  \n9999               0.25  \n\n[9955 rows x 8 columns]",
      "text/html": "<div>\n<style scoped>\n    .dataframe tbody tr th:only-of-type {\n        vertical-align: middle;\n    }\n\n    .dataframe tbody tr th {\n        vertical-align: top;\n    }\n\n    .dataframe thead th {\n        text-align: right;\n    }\n</style>\n<table border=\"1\" class=\"dataframe\">\n  <thead>\n    <tr style=\"text-align: right;\">\n      <th></th>\n      <th>Review</th>\n      <th>Processed_Review</th>\n      <th>Rating</th>\n      <th>initial_bow_vector</th>\n      <th>preproc_content</th>\n      <th>preproc_sentences</th>\n      <th>Compound_Score</th>\n      <th>Normalized_rating</th>\n    </tr>\n  </thead>\n  <tbody>\n    <tr>\n      <th>0</th>\n      <td>The ambience was good, food was quite good . h...</td>\n      <td>The ambience was good, food was quite good . h...</td>\n      <td>5.0</td>\n      <td>[0, 0, 0, 0, 0, 0, 0, 0, 0, 0, 0, 0, 0, 0, 0, ...</td>\n      <td>The ambience was good, food was quite good . h...</td>\n      <td>[The ambience was good, food was quite good., ...</td>\n      <td>0.9664</td>\n      <td>1.00</td>\n    </tr>\n    <tr>\n      <th>1</th>\n      <td>Ambience is too good for a pleasant evening. S...</td>\n      <td>Ambience is too good for a pleasant evening. S...</td>\n      <td>5.0</td>\n      <td>[0, 0, 0, 0, 0, 0, 0, 0, 0, 0, 0, 0, 0, 0, 0, ...</td>\n      <td>Ambience is too good for a pleasant evening . ...</td>\n      <td>[Ambience is too good for a pleasant evening.,...</td>\n      <td>0.9360</td>\n      <td>1.00</td>\n    </tr>\n    <tr>\n      <th>2</th>\n      <td>A must try.. great food great ambience. Thnx f...</td>\n      <td>A must try.. great food great ambience. Thnx f...</td>\n      <td>5.0</td>\n      <td>[0, 0, 0, 0, 0, 0, 0, 0, 0, 0, 0, 0, 0, 0, 0, ...</td>\n      <td>A must try .. great food great ambience . Thnx...</td>\n      <td>[A must try .. great food great ambience., Thn...</td>\n      <td>0.9186</td>\n      <td>1.00</td>\n    </tr>\n    <tr>\n      <th>3</th>\n      <td>Soumen das and Arun was a great guy. Only beca...</td>\n      <td>Soumen das and Arun was a great guy. Only beca...</td>\n      <td>5.0</td>\n      <td>[0, 0, 0, 0, 0, 0, 0, 0, 0, 0, 0, 0, 0, 0, 0, ...</td>\n      <td>Soumen das and Arun was a great guy . Only bec...</td>\n      <td>[Soumen das and Arun was a great guy., Only be...</td>\n      <td>0.8591</td>\n      <td>1.00</td>\n    </tr>\n    <tr>\n      <th>4</th>\n      <td>Food is good.we ordered Kodi drumsticks and ba...</td>\n      <td>Food is good.we ordered Kodi drumsticks and ba...</td>\n      <td>5.0</td>\n      <td>[0, 0, 0, 0, 0, 0, 0, 0, 0, 0, 0, 0, 0, 0, 0, ...</td>\n      <td>Food is ordered Kodi drumsticks and basket mut...</td>\n      <td>[Food is ordered Kodi drumsticks and basket mu...</td>\n      <td>0.9201</td>\n      <td>1.00</td>\n    </tr>\n    <tr>\n      <th>...</th>\n      <td>...</td>\n      <td>...</td>\n      <td>...</td>\n      <td>...</td>\n      <td>...</td>\n      <td>...</td>\n      <td>...</td>\n      <td>...</td>\n    </tr>\n    <tr>\n      <th>9995</th>\n      <td>Madhumathi Mahajan Well to start with nice cou...</td>\n      <td>Madhumathi Mahajan Well to start with nice cou...</td>\n      <td>3.0</td>\n      <td>[0, 0, 0, 0, 0, 0, 0, 0, 0, 0, 0, 0, 0, 0, 0, ...</td>\n      <td>Madhumathi Mahajan Well to start with nice cou...</td>\n      <td>[Madhumathi Mahajan Well to start with nice co...</td>\n      <td>0.9923</td>\n      <td>0.00</td>\n    </tr>\n    <tr>\n      <th>9996</th>\n      <td>This place has never disappointed us.. The foo...</td>\n      <td>This place has never disappointed us.. The foo...</td>\n      <td>4.5</td>\n      <td>[0, 0, 0, 0, 0, 0, 0, 0, 0, 0, 0, 0, 0, 0, 0, ...</td>\n      <td>This place has never disappointed us .. The fo...</td>\n      <td>[This place has never disappointed us .. The f...</td>\n      <td>0.9579</td>\n      <td>0.75</td>\n    </tr>\n    <tr>\n      <th>9997</th>\n      <td>Bad rating is mainly because of \"Chicken Bone ...</td>\n      <td>Bad rating is mainly because of \"Chicken Bone ...</td>\n      <td>1.5</td>\n      <td>[0, 0, 0, 0, 0, 0, 0, 0, 0, 0, 0, 0, 0, 0, 0, ...</td>\n      <td>Bad rating is mainly because of \"Chicken Bone ...</td>\n      <td>[Bad rating is mainly because of \"Chicken Bone...</td>\n      <td>0.9785</td>\n      <td>-0.75</td>\n    </tr>\n    <tr>\n      <th>9998</th>\n      <td>I personally love and prefer Chinese Food. Had...</td>\n      <td>I personally love and prefer Chinese Food. Had...</td>\n      <td>4.0</td>\n      <td>[0, 0, 0, 0, 0, 0, 0, 0, 0, 0, 0, 0, 0, 0, 0, ...</td>\n      <td>I personally love and prefer Chinese Food . Ha...</td>\n      <td>[I personally love and prefer Chinese Food., H...</td>\n      <td>0.9359</td>\n      <td>0.50</td>\n    </tr>\n    <tr>\n      <th>9999</th>\n      <td>Checked in here to try some delicious chinese ...</td>\n      <td>Checked in here to try some delicious chinese ...</td>\n      <td>3.5</td>\n      <td>[0, 0, 0, 0, 0, 0, 0, 0, 0, 0, 0, 0, 0, 0, 0, ...</td>\n      <td>Checked in here to try some delicious chinese ...</td>\n      <td>[Checked in here to try some delicious chinese...</td>\n      <td>0.8516</td>\n      <td>0.25</td>\n    </tr>\n  </tbody>\n</table>\n<p>9955 rows × 8 columns</p>\n</div>"
     },
     "execution_count": 36,
     "metadata": {},
     "output_type": "execute_result"
    }
   ],
   "source": [
    "# normalized_rating = (rating - 3)/2\n",
    "df = df[df['Rating'] != 'Like']\n",
    "df['Normalized_rating'] = (df['Rating'].astype(float) - 3) / 2\n",
    "# df[[\"Review\", \"Normalized_rating\", \"Compound_Score\"]]\n",
    "df"
   ],
   "metadata": {
    "collapsed": false,
    "ExecuteTime": {
     "end_time": "2024-11-20T17:48:01.092964Z",
     "start_time": "2024-11-20T17:48:00.991047Z"
    }
   },
   "id": "1cddeae1312430f2",
   "execution_count": 36
  },
  {
   "cell_type": "code",
   "outputs": [
    {
     "data": {
      "text/plain": "0.7034259726006592"
     },
     "execution_count": 37,
     "metadata": {},
     "output_type": "execute_result"
    }
   ],
   "source": [
    "df = df.dropna()\n",
    "df_corr = df[[\"Normalized_rating\", \"Compound_Score\"]]\n",
    "\n",
    "correlation = df_corr.corr().iloc[0, 1]  # Korelacja między compound a rating\n",
    "correlation"
   ],
   "metadata": {
    "collapsed": false,
    "ExecuteTime": {
     "end_time": "2024-11-20T17:49:33.530644Z",
     "start_time": "2024-11-20T17:49:33.438416Z"
    }
   },
   "id": "4e6ea4970f939d06",
   "execution_count": 37
  },
  {
   "cell_type": "code",
   "outputs": [
    {
     "data": {
      "text/plain": "0.5714519557901118"
     },
     "execution_count": 51,
     "metadata": {},
     "output_type": "execute_result"
    }
   ],
   "source": [
    "correlation = df_corr.corr(method=\"spearman\").iloc[0, 1]  # Korelacja między compound a rating\n",
    "correlation"
   ],
   "metadata": {
    "collapsed": false,
    "ExecuteTime": {
     "end_time": "2024-11-20T18:56:47.824580Z",
     "start_time": "2024-11-20T18:56:47.695982Z"
    }
   },
   "id": "3b67269a7fc8acf8",
   "execution_count": 51
  },
  {
   "cell_type": "code",
   "outputs": [
    {
     "data": {
      "text/plain": "<Figure size 640x480 with 1 Axes>",
      "image/png": "[encoded data removed]"
     },
     "metadata": {},
     "output_type": "display_data"
    }
   ],
   "source": [
    "import matplotlib.pyplot as plt\n",
    "import seaborn as sns\n",
    "\n",
    "df_plot10 = df_corr.head(10)\n",
    "sns.scatterplot(data=df_plot10)\n",
    "# sns.scatterplot(data=df_corr, x='Normalized_rating', y='Compound_Score')\n",
    "# plt.xlabel('Normalized Rating')\n",
    "# plt.ylabel('Compound Score')\n",
    "plt.title('Comparison of Ratings and Compound Scores')\n",
    "plt.show()\n",
    "\n"
   ],
   "metadata": {
    "collapsed": false,
    "ExecuteTime": {
     "end_time": "2024-11-20T17:49:39.334490Z",
     "start_time": "2024-11-20T17:49:39.059427Z"
    }
   },
   "id": "cb65d8ef1d97a3d4",
   "execution_count": 38
  },
  {
   "cell_type": "code",
   "outputs": [
    {
     "name": "stderr",
     "output_type": "stream",
     "text": [
      "C:\\Users\\karom\\AppData\\Local\\Temp\\ipykernel_6196\\1728562768.py:1: SettingWithCopyWarning: \n",
      "A value is trying to be set on a copy of a slice from a DataFrame.\n",
      "Try using .loc[row_indexer,col_indexer] = value instead\n",
      "\n",
      "See the caveats in the documentation: https://pandas.pydata.org/pandas-docs/stable/user_guide/indexing.html#returning-a-view-versus-a-copy\n",
      "  df[\"Normalized_rating\"] = pd.to_numeric(df[\"Normalized_rating\"], errors=\"coerce\")\n",
      "C:\\Users\\karom\\AppData\\Local\\Temp\\ipykernel_6196\\1728562768.py:2: SettingWithCopyWarning: \n",
      "A value is trying to be set on a copy of a slice from a DataFrame.\n",
      "Try using .loc[row_indexer,col_indexer] = value instead\n",
      "\n",
      "See the caveats in the documentation: https://pandas.pydata.org/pandas-docs/stable/user_guide/indexing.html#returning-a-view-versus-a-copy\n",
      "  df[\"Compound_Score\"] = pd.to_numeric(df[\"Compound_Score\"], errors=\"coerce\")\n",
      "C:\\Users\\karom\\AppData\\Local\\Temp\\ipykernel_6196\\1728562768.py:5: SettingWithCopyWarning: \n",
      "A value is trying to be set on a copy of a slice from a DataFrame.\n",
      "Try using .loc[row_indexer,col_indexer] = value instead\n",
      "\n",
      "See the caveats in the documentation: https://pandas.pydata.org/pandas-docs/stable/user_guide/indexing.html#returning-a-view-versus-a-copy\n",
      "  df[\"MSE\"] = (df[\"Normalized_rating\"] - df[\"Compound_Score\"])**2\n"
     ]
    }
   ],
   "source": [
    "df[\"Normalized_rating\"] = pd.to_numeric(df[\"Normalized_rating\"], errors=\"coerce\")\n",
    "df[\"Compound_Score\"] = pd.to_numeric(df[\"Compound_Score\"], errors=\"coerce\")\n",
    "\n",
    "#policz błąd MSE pomiędzy kazdym i zwroc które sa najbardziej oddalone\n",
    "df[\"MSE\"] = (df[\"Normalized_rating\"] - df[\"Compound_Score\"])**2"
   ],
   "metadata": {
    "collapsed": false,
    "ExecuteTime": {
     "end_time": "2024-11-20T17:55:59.340140Z",
     "start_time": "2024-11-20T17:55:59.247383Z"
    }
   },
   "id": "548fabba7b54dac",
   "execution_count": 43
  },
  {
   "cell_type": "code",
   "outputs": [
    {
     "name": "stdout",
     "output_type": "stream",
     "text": [
      "                                                 Review  \\\n",
      "585   Fisherman's wharf used to be our fav joint whe...   \n",
      "7429  Zomato has asked me to be polite.. ok.. Faasos...   \n",
      "6142  It really been long time I have visited this p...   \n",
      "4515  Place located just opposite of DLF gate no 3, ...   \n",
      "3702  A complete and absolute disaster. The place wh...   \n",
      "...                                                 ...   \n",
      "6384                                         very spicy   \n",
      "7583  food was not cooked....half fried chicken lolipop   \n",
      "6427  Decent place near DLF! Their fry piece chicken...   \n",
      "7544                                            average   \n",
      "4010  Food is okay..but the behaviour of staff is un...   \n",
      "\n",
      "                                       Processed_Review  Rating  \\\n",
      "585   Fisherman's wharf used to be our fav joint whe...     1.0   \n",
      "7429  Zomato has asked me to be polite.. ok.. Faasos...     1.0   \n",
      "6142  It really been long time I have visited this p...     1.0   \n",
      "4515  Place located just opposite of DLF gate no 3, ...     1.0   \n",
      "3702  A complete and absolute disaster. The place wh...     1.0   \n",
      "...                                                 ...     ...   \n",
      "6384                                         very spicy     3.0   \n",
      "7583  food was not cooked....half fried chicken lolipop     3.0   \n",
      "6427  Decent place near DLF! Their fry piece chicken...     3.0   \n",
      "7544                                            average     3.0   \n",
      "4010  Food is okay..but the behaviour of staff is un...     3.0   \n",
      "\n",
      "                                     initial_bow_vector  \\\n",
      "585   [0, 0, 0, 0, 0, 0, 0, 0, 0, 0, 0, 0, 0, 0, 0, ...   \n",
      "7429  [0, 0, 0, 0, 0, 0, 0, 0, 0, 0, 0, 0, 0, 1, 0, ...   \n",
      "6142  [0, 0, 0, 0, 0, 0, 0, 0, 0, 0, 0, 0, 0, 0, 0, ...   \n",
      "4515  [0, 0, 0, 0, 0, 0, 0, 0, 0, 0, 0, 0, 0, 0, 0, ...   \n",
      "3702  [0, 0, 0, 0, 0, 0, 0, 0, 0, 0, 0, 0, 0, 0, 0, ...   \n",
      "...                                                 ...   \n",
      "6384  [0, 0, 0, 0, 0, 0, 0, 0, 0, 0, 0, 0, 0, 0, 0, ...   \n",
      "7583  [0, 0, 0, 0, 0, 0, 0, 0, 0, 0, 0, 0, 0, 0, 0, ...   \n",
      "6427  [0, 0, 0, 0, 0, 0, 0, 0, 0, 0, 0, 0, 0, 0, 0, ...   \n",
      "7544  [0, 0, 0, 0, 0, 0, 0, 0, 0, 0, 0, 0, 0, 0, 0, ...   \n",
      "4010  [0, 0, 0, 0, 0, 0, 0, 0, 0, 0, 0, 0, 0, 0, 0, ...   \n",
      "\n",
      "                                        preproc_content  \\\n",
      "585   Fisherman is wharf used to be our fav joint wh...   \n",
      "7429  Zomato has asked me to be polite .. ok .. Faas...   \n",
      "6142  It really been long time I have visited this p...   \n",
      "4515  Place located just opposite of DLF gate no 3, ...   \n",
      "3702  A complete and absolute disaster . The place w...   \n",
      "...                                                 ...   \n",
      "6384                                         very spicy   \n",
      "7583                 food was not fried chicken lolipop   \n",
      "6427  Decent place near DLF! Their fry piece chicken...   \n",
      "7544                                            average   \n",
      "4010  Food is the behaviour of staff is unwelcoming ...   \n",
      "\n",
      "                                      preproc_sentences  Compound_Score  \\\n",
      "585   [Fisherman is wharf used to be our fav joint w...          0.9863   \n",
      "7429  [Zomato has asked me to be polite .. ok .. Faa...          0.9816   \n",
      "6142  [It really been long time I have visited this ...          0.9737   \n",
      "4515  [Place located just opposite of DLF gate no 3,...          0.9671   \n",
      "3702  [A complete and absolute disaster., The place ...          0.9598   \n",
      "...                                                 ...             ...   \n",
      "6384                                       [very spicy]          0.0000   \n",
      "7583               [food was not fried chicken lolipop]          0.0000   \n",
      "6427  [Decent place near DLF!, Their fry piece chick...          0.0000   \n",
      "7544                                          [average]          0.0000   \n",
      "4010  [Food is the behaviour of staff is unwelcoming...          0.0000   \n",
      "\n",
      "      Normalized_rating       MSE  \n",
      "585                -1.0  3.945388  \n",
      "7429               -1.0  3.926739  \n",
      "6142               -1.0  3.895492  \n",
      "4515               -1.0  3.869482  \n",
      "3702               -1.0  3.840816  \n",
      "...                 ...       ...  \n",
      "6384                0.0  0.000000  \n",
      "7583                0.0  0.000000  \n",
      "6427                0.0  0.000000  \n",
      "7544                0.0  0.000000  \n",
      "4010                0.0  0.000000  \n",
      "\n",
      "[9954 rows x 9 columns]\n"
     ]
    }
   ],
   "source": [
    "df_sorted = df.sort_values(by=\"MSE\", ascending=False)"
   ],
   "metadata": {
    "collapsed": false,
    "ExecuteTime": {
     "end_time": "2024-11-20T17:58:04.911801Z",
     "start_time": "2024-11-20T17:58:04.821201Z"
    }
   },
   "id": "aa8a522e64978368",
   "execution_count": 45
  },
  {
   "cell_type": "code",
   "outputs": [
    {
     "name": "stdout",
     "output_type": "stream",
     "text": [
      "Review: Fisherman's wharf used to be our fav joint when we lived in Goa. Excellent food and bevs.\n",
      "Then we moved to Hyderabad, FMW followed.\n",
      "We were so happy, to have a Goan restaurant just 5 min drive from home.\n",
      "In the beginning it was great place to dine. Then it started getting local. Fishes started getting stale, fewer varieties ..Not so great.\n",
      "Now , after about 3 years, it's more a typical curry point.\n",
      "We ordered Mutton Xacuti and Kingfish Richado.\n",
      "Fish was so firm and overcooked, richado overloaded with sweetness.\n",
      "Mutton was out of the world, with heaps of Curry leaves(Kadi patta/Karia paku) , super high on heat....Reminded me of a Rayala curry in Dindi (Godavari distt ). Meat was cooked with extra affection that it took me 5 min to chew it like a bubblegum. I really thank myself for not ordering more.\n",
      "Fisherman's wharf- such a disappointment.\n",
      "Rating: 1.0\n",
      "Compound Score: 0.9863\n",
      "MSE: 3.94538769\n",
      "--------------------------------------------------\n",
      "Review: Zomato has asked me to be polite.. ok.. Faasos is delightfully bad in its food quality... When you order a pizza roll.. they not only bake it like a pizza but they take it to the next level of master culinary skills... They roast it till the end.. just like how your mumma used to make it.. and best part comes next.. Faasos excels in giving surprises and since they handle their own delivery you can never know when your food is going to arrive... It's too much fun to see that status - \"Food is being prepared\" , \"Your food is in the kitchen\".. and they won't update it because the delivery person can come any moment to your doorstep and say Surprise.. In my case they were quick enough to deliver it in only 1 hour 30 minutes... So fast da.. then I remembered food should have been delivered only in 40 minutes... I asked delivery person why so much late da.. He said sir we were cooking your roll property that's why it took time.. open it and try it sir.. you would have never seen such roll.. And he was right.. I never saw the roll only charcoal.. ( attached picture for reference )\n",
      "Rating: 1.0\n",
      "Compound Score: 0.9816\n",
      "MSE: 3.92673856\n",
      "--------------------------------------------------\n",
      "Review: It really been long time I have visited this place late review was busy with work\n",
      "The place has got good dance floor... it has got many areas in it indoor... pool area ... garden area....\n",
      "Visited this place for event hilight tribe booked a VIP pass entry ... from book my show app near the entry they taped a band our wrist after entering into the prism the managers over there and bouncers over there didn’t allow us to enter the area which was up , saying it’s full than okay den make us seat some where they where like stand near the bar counter it was so annoying we paid some 3000 rupees for vip entry per ticket and they don’t allow to vip area and say to stand near bar ... dan we asked the manager two give table he said u have to pay 10000 per table ..... I said it’s not mentioned in book my show app tat we have to pay for table and ur not allowing us to go up to vip area ...what is this he was like ur wish madam dan I said see we r all gals u should at least allow us to enter VIP area he was again like full dan we got really paronoid .... seee gals need safety we just can’t be in common crowd he didn’t understood tat also dan we had to make a call.... hope u understand DAN we got a table after a calll so cheap f these managers there....\n",
      "than we got our personal waiter too after d call\n",
      "My question is what about a common people who can’t make calls and get the work done so better develop ur managers if u have taken money for vip let d crowd enter into tat area if u don’t have place don’t issue tickets mention in book my show about booking a table separately for the amount make sure u serve the people for what u have told\n",
      "\n",
      "The drinks and food was not that great it’s over priced compared to other top places in Hyderabad\n",
      "\n",
      "Every one earns there money with hard work so the owner of the place plz do think f the common crowd u charge but provide dem for what u have charged hope u understand and make the changes\n",
      "Place is good....\n",
      "Rating: 1.0\n",
      "Compound Score: 0.9737\n",
      "MSE: 3.89549169\n",
      "--------------------------------------------------\n",
      "Review: Place located just opposite of DLF gate no 3, which is very much easy to reach. Just reached this place to explore some of their expertise dishes and found lost !\n",
      "Food quality and staff slowness made me horrible.\n",
      "Seems they have done some renovation recently, which give something new and good feeling. But to be honest, in a restaurant people visit for good food followed by service. And if this is not maintained then there is no meaning ..!\n",
      "All the best guys and please do some deep thinking and improve the food quality and service part.\n",
      "Rating: 1.0\n",
      "Compound Score: 0.9671\n",
      "MSE: 3.8694824099999994\n",
      "--------------------------------------------------\n",
      "Review: A complete and absolute disaster. The place where we sat was dirty. There were cracks on the walls. We ordered the food to be less spicy but I guess they cook how they want to cook. The AC was non-existent. It felt like we were sitting in a tandoor. The service was pretty slow.  If you bring food you bring the starters together and then you don't put a gap in between the starters and the main course. The taste was appalling, sub-par service, being in one of the prime locations. I have ordered a lot of times from Kritunga Madhapur and that one is very good. I think Kritunga Gachibowli has a long way to go before it becomes worth the money. Wish them the best\n",
      "Rating: 1.0\n",
      "Compound Score: 0.9598\n",
      "MSE: 3.84081604\n",
      "--------------------------------------------------\n",
      "Review: All services delayed, menu changes, very limited options in snack and food when asked they say it’s menu from Delhi and can’t help. Inspite of bill crossing 10k extremely reluctant to leave ice bucket on table. Asked for French fries without chillies twice but no help still after so much time fresh fries are not in. Ok last one came finally when THE MANAGER arrived after being aggressive. They want to offer free drinks but it’s not about money but experience, will share great review next time if we get one as we promised the manager to come back.\n",
      "Rating: 1.0\n",
      "Compound Score: 0.9544\n",
      "MSE: 3.8196793600000007\n",
      "--------------------------------------------------\n",
      "Review: Update: Just wanted to make sure the cafe would know... I am reverting my rating to a 1 coz your staff's issue with the payment caused me a ton of pain now. To make a long story short.. you guys charged me twice on the same day and then charged me the same amount after almost 3days of visiting your cafe. Now thanks to that my bank decided my card has been compromised and blocked my card. My account went into negative balance you guys decided to charge me thrice overall and refund me once, my card is blocked and i am pissed. Truly a nightmare experience, all because i choose your establisment by mistake.\n",
      "\n",
      "Old review:\n",
      "                         This place was on my bookmark list for a while and I was excited to visit it on Saturday. We ordered a mushroom quiche, a primavera pizza and a grilled vegetable panini.The mushroom quiche was alright but what knocked me out was the price. It was a relatively small piece with a spoon of caramalized onions and a small amount of onions and salad and they charge 150 rupees for that. The pizza was about 9 inches and tasted alright. But its a whopping 500 rupees. The grilled panini is pretty much the same.I know the restaurant is all about european cuisine but they dont have to make their prices european as well. I had pizzas or quiche that tasted a lot better at a cheaper price. Dont get me wrong the food isnt horrible but its alright. But it does feel bitter after you pay the bill lol\n",
      "Rating: 1.0\n",
      "Compound Score: 0.9542\n",
      "MSE: 3.8188976400000008\n",
      "--------------------------------------------------\n",
      "Review: This place should realise that a dine-in restaurant has to provide some basic service and just having decent food is only the starting. The place offers good for nothing snobbish service by staff that cannot communicate and who don't give a damn about you. You can die asking for something and you won't get it. They don't even bother to keep cutlery at the table, not even tissue papers. The AC does not work and on a summer afternoon the place is like an oven.\n",
      "\n",
      "Coming to food. If you manage to get what you like on the menu, it is a miracle. They open at 11.30. We asked for their weekend only dishes on a weekend at 1.30 and were told very unapologetic, rather rudely that they don't have it. Finally after we managed to find something that we liked and they had, we were told it would take 35 mins because a party of six had placed a big order. Now the taste. The ingredients are very good and fresh. The quality of pork is great. The taste doesn't have much variation. Everything is super spicy with just the proportion of sauces being different. After a while the taste buds just go numb with the spice. If this is how the food of North eastern India is, well, I'll avoid that geography. And I'll surely avoid this eatery. There is no excuse for bad and rude service!\n",
      "Rating: 1.0\n",
      "Compound Score: 0.9542\n",
      "MSE: 3.8188976400000008\n",
      "--------------------------------------------------\n",
      "Review: *Writing this review as soon as I got out of the restaurant*\n",
      "From the beginning itself the restaurant caught my bad impression and bad experience. Left right after starters. I wouldn't even care to rate it one star. One of worst restaurants to dine-in. I think it'll be good experience for corporate lunches or dinners because the more the people the more the💰💰💰\n",
      "After reaching at 2 PM there was no receptionist. After the receptionist finally came they made us wait for more than 20 minutes to find and set up the table for just 2 people. It was very clear that the tables just needed plates to be arranged. That's it. A piece of advise to y'all: if you see any restaurant taking this long without any valid reason then please get outta there. Neither proper AC chambers nor proper cooling. It was HOT. Thanks POT POURRI for understanding and making our dining uncomfortable😒. After we sat they took extremely long time and then cared to ask if we're opting for veg or non-veg. By this time I was already wondering if they thought we're idiots and they can just make us wait and treat however they want, I just realised that it was true.\n",
      "After soup and buttermilk starters were served PAINFULLY SLOW. It took MORE THAN AN HOUR FOR THEM TO FINISH SERVING JUST 6 STARTERS. Were they kidding me?? They wasted my precious time and this isn't what a customer wants. If you can't give importance to our time then we better eat elsewhere. We had to school the waiters regarding their service, then we spoke to their leader(I guess) and he also gave the same old typical answer \"sorry. I'll just get that served for you\". We don't want no sorry. You can't placate us with sorry for our time, hard work and money spent. After seeing no improvement we finally had to speak to the manager as listen to \"sorrys\". I decided to leave the restaurant. After all this HE HAD THE AUDACITY TO CHARGE US THE COMPLETE BILL. It was 1100. It wasn't even worth it even if we had the whole menu. After arguing he decided to give 10% discount which in his case made a hole in his pocket as as if it would make it up for the experience we had😒. Wouldn't suggest nor would even like to think about this restaurant.\n",
      "Starters: I found the starters to be normal good in quality. Not very impressive nor was menu standing out. If you pay 100-200 more you'll be getting much better restaurant in many aspects especially in terms of food.\n",
      "1. Soup: we were served chicken soup. It wasn't impressive. It was fine.\n",
      "2. Buttermilk under drinks: it was tasty.\n",
      "3. Chicken tikka: it was ok. It was hard, sometimes soft.\n",
      "4. Ajwani paneer tikka: it was very good in taste.\n",
      "5. Kodi vepudu: it was chicken with common known marination. I mean it felt like typical Indian curry. It was just good.\n",
      "6. Fried veg green chilli: it was just ok in taste. Couldn't make out if it's actually chilly.\n",
      "7. Corn fried fish: it was fish coated with corn flakes which was giving nice honey taste. Probably this is the only best thing there.\n",
      "8. Crispy corn: corn was crispy as expected and tasted good.\n",
      "Main course: I found it to be typically common. Nothing new if you've been to buffets before.\n",
      "Accompaniments were regular papad, curd, naan, roti.\n",
      "Desserts: not much varieties. What's there is menu is served.\n",
      "Ambience: I don't care about ambience as long as food is good and my patience isn't tested.\n",
      "Rating: 1.0\n",
      "Compound Score: 0.9527\n",
      "MSE: 3.8130372900000005\n",
      "--------------------------------------------------\n",
      "Review: One of the few times when the reviews and the hypes are absolutely off the mark!\n",
      "\n",
      "Went for Grill and Chill on Saturday night... Not a fun experience by any stretch of the imagination....\n",
      "\n",
      "Ambience - it's ok... Nothing spectacular... Chairs weren't very comfortable and unsuitable for a relaxed dining experience...\n",
      "\n",
      "Service - this is the truly sad part. Really slow service and servers are uninterested. This really hurt the experience and is unacceptable from a star property.\n",
      "\n",
      "Food - starters were 4 varieties of chicken, 2 varieties of fish and 1 prawns.... The tandoori chicken and chicken tikka was nice... But unfortunately everything was served cold.... You ask for hot starters and you get cold starter's again...\n",
      "\n",
      "Main course had lamb korma which was the best thing for the evening... Chicken curry was decent... Desserts were ok as well...\n",
      "\n",
      "Overall, the buffet was extremely unimaginative and below average. Barbecue nation does a much better job!\n",
      "\n",
      "The best part - they gave tissues instead of regular napkin ... And plastic spoons for dessert!! Pathetic!!!\n",
      "\n",
      "VFM - Rs. 3000 for 3 people... And you get paper napkins and plastic spoons for dessert... I'm glad they didn't give us paper plates lol\n",
      "\n",
      "Not going again!\n",
      "Rating: 1.0\n",
      "Compound Score: 0.9502\n",
      "MSE: 3.8032800400000006\n",
      "--------------------------------------------------\n",
      "Review: The contact number in the true caller shows best cheaters in the world... Good\n",
      "I had ordered for mutton biryani nd I got noodles which are ugly... Wow I am so happy for that\n",
      "Good keep it up(bullshit)\n",
      "How careless they are for delivering this type of service to customer who orders for food\n",
      "This is really disgusting and bullshit\n",
      "I suggest everyone not to order any food from this restaurant(Shah ghouse gachibowli)\n",
      "Better remove service from zomato\n",
      "Many of our friends had many issues from this restaurant, like delivering different food from ordered food, and delivering one shawarma instead of two and others\n",
      "Zomato authority should take of all these problems which are spoiling the name and fame\n",
      "Rating: 1.0\n",
      "Compound Score: 0.9496\n",
      "MSE: 3.80094016\n",
      "--------------------------------------------------\n",
      "Review: It's a pocket friendly but not a customer friendly club. Have been here with my friend and I see the staff was busy with own works rather than offering a menu card. When the same was raised with the manager, he was very arrogant asking us it can't be changed.\n",
      "The place is a definitely a crowd puller but they should remember that even the best clubs go down the pecking order as the time goes.\n",
      "Never going to visit this place again.\n",
      "Rating: 1.0\n",
      "Compound Score: 0.9461\n",
      "MSE: 3.78730521\n",
      "--------------------------------------------------\n",
      "Review: Worst ever KFC lunch. I was a great fan of KFC and always liked to have it. But now I have decided to not to eat KFC anymore. Chicken is more like RUBBER. I was not able to eat it and thrown everything. Definitely they are using some medicines for fast growth of chicken.\n",
      "Please don't order from KFC anymore\n",
      "Rating: 1.0\n",
      "Compound Score: 0.9445\n",
      "MSE: 3.7810802500000005\n",
      "--------------------------------------------------\n",
      "Review: Been exploring about restaurants in Gachibowli and found this place. Been to this restaurant ordered chicken drumsticks and spl chicken biryani which tasted really good, finally ended with a good dinner. As the taste was good ordered a non veg combo next day and surprised to see a cockroach in the meal. It was really a bad experience to see a cockroach where the restaurant has taken away all the positive views that I had towards it. Please don’t play with health of customers, it takes time for anybody to order food again if we come across these situations. Please note that Restaurants shouldn’t be the place to hospitalise customers by making them unhealthy. Apologies will not do anything, maintain healthy and hygiene environment. Thank you olive, you lost a customer and I will not visit this place anymore.\n",
      "Rating: 1.0\n",
      "Compound Score: 0.9412\n",
      "MSE: 3.76825744\n",
      "--------------------------------------------------\n",
      "Review: So, it's our first time in Hyderabad and we thought of having a great meal at Radisson! We visited Cascade and much to our disappointment we found the food not even close to being great! The vegetarian spread was very less with just 4 starters and that too of similar type! Non vegetarian variety was better than vegetarian but was also not up to the mark. Thought of making peace with the situation by hoping that the desserts would at least be nice, but they too weren't nice.\n",
      "One of the worst experiences of all times!\n",
      "To top it all, the air conditioner was not working ! Definitely not going to visit again.\n",
      "Rating: 1.0\n",
      "Compound Score: 0.9391\n",
      "MSE: 3.76010881\n",
      "--------------------------------------------------\n",
      "Review: Went here for a team lunch party a while back and I swear to God the food was pathetic. The starters they server were cold and even after calling out the waiter multiple times there wasn't a positive response.\n",
      "When we called the manager, there was a redo of the starter which was hot now but not tasty.\n",
      "The ambience is good though. If only the food and service were upped then the place could deserve better rating.\n",
      "All we ate that day was curd rice 😑 the entire team.\n",
      "I wish you guys could improve and we would try here again.\n",
      "Rating: 1.0\n",
      "Compound Score: 0.9336\n",
      "MSE: 3.73880896\n",
      "--------------------------------------------------\n",
      "Review: Yesterday we visited this place at 8:30pm. We are 10 people. There was not that much rush in restaurant. If you are going with Zomato gold offer, they will treat as beggar who came to eat without paying any money. Overall very worst experience. Tomato soup with weird smell. We ordered Kung Pao Mahroom as a starter but I can't feel Kunng pao taste in mashroom starter at all. it feels like mashroom chilli. We ordered Baby Corn Masala*2 and Paneer lababadar*2 as Main course and we observed that they served very less quantity compare to other tables as we have zomato gold. They added Baby corn and Paneer pieces which we can easily count. There is more gravy then vegetables, paneer and baby corns as like roadside restaurant usually serve. Even Service is really slow on regular days. I don't know how they manage on weekend. Waiters are very lazy and behaving like they are customers. Best thing is only ambiance.\n",
      "\n",
      "Ambiance - 4/5\n",
      "Food - 1/5\n",
      "Service - 1/5\n",
      "Rating: 1.0\n",
      "Compound Score: 0.9295\n",
      "MSE: 3.72297025\n",
      "--------------------------------------------------\n",
      "Review: I will not recommend this place at all....I visited this place today with 7 friends\n",
      "We were escorted by one of the tiki shack staff and asked to sit on a 8 seater table\n",
      "After 15 mins another staff member came and asked us to move to another smaller table (meant for 5 pol max) when we asked for reason he was super rude and said this is Friday night and we will accommodate 20 ppl like you on this 8 seater table\n",
      "\n",
      "I was shocked by this behaviour because we booked in advance before going there and i was ashamed in front of my friends that I recommended this place\n",
      "\n",
      "After 10 mins of requesting him to give proper table We started to leave and no one cared as if they don't even bother ..When I complained to receptionist he finally responded positively and managed to get us a decent seat where I can accommodate my 7 friends\n",
      "\n",
      "Now after all this drama no one was in mood of party so we left within 1 hr\n",
      "\n",
      "Many thanks for spoiling our Friday night\n",
      "Rating: 1.0\n",
      "Compound Score: 0.9264\n",
      "MSE: 3.7110169600000003\n",
      "--------------------------------------------------\n",
      "Review: Tried two places in same venue on Saturday evening. In Hyper Local first, Seated outdoor as inside is little loud to my taste at 6:30pm.Ordered drinks and snacks, spicy chicken wings very hot, average taste (3/5), chilly cheese toast-drab dry (3/5). Drinks front my friend ordered small rum since its happy hour got one plus one, I got my beer then as last order for happy hour ordered large vodka, after getting one when asked for plus one - reply is oh we assumed you asked us to make one large out of two small!!!!!!. Now OK I can forgive that its misunderstanding suddenly we get the check asking to pay up while still having our drinks. When told we have not asked for same and may be want to eat and drink more reply received is oh but we have policy after happy hour everyone has to pay and if required restart new billing.\n",
      "\n",
      "People who made this place have spent money sadly should have visited good places around world to see its not only ambiance to nonsense music but food quality and service quality which makes reputation. Good bye for ever.\n",
      "Rating: 1.0\n",
      "Compound Score: 0.9251\n",
      "MSE: 3.70601001\n",
      "--------------------------------------------------\n",
      "Review: Visited the place on a weekday but it was jam packed with people. The music was too loud to the point that we would not able to discuss on what to order across the table. I have been to many places but never had such loud music. My ears were ringing after coming out.\n",
      "\n",
      "The service was the worst.. All of my friends went to the dance floor and I was stopped by the staff who asked not to leave the table and asked me to deposit my id card. This was pretty humiliating. This place probably sees too many dine & dash incidents given the kind of crowd it caters to.\n",
      "The food was average at best.\n",
      "They entered ₹200 as tip on the pos machine trying us to pay that for this s***ty service.\n",
      "The valet meddled with my car's infotainment system.\n",
      "I will avoid this place from now on and stick to more classy places.\n",
      "Rating: 1.0\n",
      "Compound Score: 0.9218\n",
      "MSE: 3.69331524\n",
      "--------------------------------------------------\n"
     ]
    }
   ],
   "source": [
    "df_sorted[[\"Review\", \"Rating\", \"Compound_Score\", \"MSE\"]]\n",
    "\n",
    "for _, row in df_sorted.head(20).iterrows():  # `iterrows` zwraca indeks i dane wiersza\n",
    "    print(f\"Review: {row['Review']}\")\n",
    "    print(f\"Rating: {row['Rating']}\")\n",
    "    print(f\"Compound Score: {row['Compound_Score']}\")\n",
    "    print(f\"MSE: {row['MSE']}\")\n",
    "    print(\"-\" * 50)  # Separator między wierszami\n"
   ],
   "metadata": {
    "collapsed": false,
    "ExecuteTime": {
     "end_time": "2024-11-20T18:43:20.190940Z",
     "start_time": "2024-11-20T18:43:20.032109Z"
    }
   },
   "id": "f6ddf882515ff32c",
   "execution_count": 49
  },
  {
   "cell_type": "code",
   "outputs": [
    {
     "data": {
      "text/plain": "Review            Its a very nice place, ambience is different, ...\nRating                                                          5.0\nCompound_Score                                               0.7264\nName: 6, dtype: object"
     },
     "execution_count": 40,
     "metadata": {},
     "output_type": "execute_result"
    }
   ],
   "source": [
    "df[[\"Review\", \"Rating\", \"Compound_Score\"]].loc[6]"
   ],
   "metadata": {
    "collapsed": false,
    "ExecuteTime": {
     "end_time": "2024-11-20T17:52:37.837588Z",
     "start_time": "2024-11-20T17:52:37.735928Z"
    }
   },
   "id": "76f1f1381625d4fb",
   "execution_count": 40
  },
  {
   "cell_type": "code",
   "outputs": [
    {
     "data": {
      "text/plain": "Review            Well after reading so many reviews finally vis...\nRating                                                          4.0\nCompound_Score                                               0.2329\nName: 7, dtype: object"
     },
     "execution_count": 39,
     "metadata": {},
     "output_type": "execute_result"
    }
   ],
   "source": [
    "df[[\"Review\", \"Rating\", \"Compound_Score\"]].loc[7]"
   ],
   "metadata": {
    "collapsed": false,
    "ExecuteTime": {
     "end_time": "2024-11-20T17:52:32.533482Z",
     "start_time": "2024-11-20T17:52:32.435425Z"
    }
   },
   "id": "bd4691dbba0cb29a",
   "execution_count": 39
  }
 ],
 "metadata": {
  "kernelspec": {
   "name": "text-mining1",
   "language": "python",
   "display_name": "text-mining1"
  },
  "language_info": {
   "codemirror_mode": {
    "name": "ipython",
    "version": 2
   },
   "file_extension": ".py",
   "mimetype": "text/x-python",
   "name": "python",
   "nbconvert_exporter": "python",
   "pygments_lexer": "ipython2",
   "version": "2.7.6"
  }
 },
 "nbformat": 4,
 "nbformat_minor": 5
}
