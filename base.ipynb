{
 "cells": [
  {
   "cell_type": "code",
   "execution_count": 3,
   "id": "initial_id",
   "metadata": {
    "collapsed": true,
    "ExecuteTime": {
     "end_time": "2024-10-30T16:51:15.866999Z",
     "start_time": "2024-10-30T16:51:15.850381Z"
    }
   },
   "outputs": [],
   "source": [
    "import pandas as pd\n",
    "import re "
   ]
  },
  {
   "cell_type": "code",
   "outputs": [],
   "source": [
    "df_reviews = pd.read_csv(\"C:\\\\Users\\\\karom\\\\OneDrive\\\\Pulpit\\\\NOVA_lisboa\\\\Text_Mining\\\\TM_Project\\\\data_hyderabad\\\\10k_reviews.csv\")\n",
    "df_restaurants = pd.read_csv(\"C:\\\\Users\\\\karom\\\\OneDrive\\\\Pulpit\\\\NOVA_lisboa\\\\Text_Mining\\\\TM_Project\\\\data_hyderabad\\\\105_restaurants.csv\")"
   ],
   "metadata": {
    "collapsed": false,
    "ExecuteTime": {
     "end_time": "2024-10-30T16:51:16.574060Z",
     "start_time": "2024-10-30T16:51:16.459970Z"
    }
   },
   "id": "2650b618ec7b4703",
   "execution_count": 4
  },
  {
   "cell_type": "code",
   "outputs": [
    {
     "data": {
      "text/plain": "                                 Restaurant             Reviewer  \\\n6392                           Dine O China  Kartik Balachandran   \n2765         3B's - Buddies, Bar & Barbecue         Sunil Pathak   \n5020                          Gal Punjab Di        Mayank Murali   \n3761                    Kritunga Restaurant               Harish   \n6749  Yum Yum Tree - The Arabian Food Court      Visveswara Balu   \n\n                                                 Review Rating  \\\n6392  Food very tasty..mongolian chicken quantity ve...      5   \n2765  Awesome place to enjoy with friends.... Especi...      5   \n5020  I guess one of the decent Punjabi restaurants ...      4   \n3761                   food is super,but so spicy.__|__      4   \n6749  The outlet looks good. The service is excellen...      2   \n\n                  Time  Pictures Reviews Followers  \n6392   6/20/2018 21:18         0       2         0  \n2765    5/4/2019 23:07         0       1         3  \n5020   3/30/2019 22:52         0      15         5  \n3761   7/30/2018 14:15         0       1         0  \n6749  10/11/2018 14:05         0       1        12  ",
      "text/html": "<div>\n<style scoped>\n    .dataframe tbody tr th:only-of-type {\n        vertical-align: middle;\n    }\n\n    .dataframe tbody tr th {\n        vertical-align: top;\n    }\n\n    .dataframe thead th {\n        text-align: right;\n    }\n</style>\n<table border=\"1\" class=\"dataframe\">\n  <thead>\n    <tr style=\"text-align: right;\">\n      <th></th>\n      <th>Restaurant</th>\n      <th>Reviewer</th>\n      <th>Review</th>\n      <th>Rating</th>\n      <th>Time</th>\n      <th>Pictures</th>\n      <th>Reviews</th>\n      <th>Followers</th>\n    </tr>\n  </thead>\n  <tbody>\n    <tr>\n      <th>6392</th>\n      <td>Dine O China</td>\n      <td>Kartik Balachandran</td>\n      <td>Food very tasty..mongolian chicken quantity ve...</td>\n      <td>5</td>\n      <td>6/20/2018 21:18</td>\n      <td>0</td>\n      <td>2</td>\n      <td>0</td>\n    </tr>\n    <tr>\n      <th>2765</th>\n      <td>3B's - Buddies, Bar &amp; Barbecue</td>\n      <td>Sunil Pathak</td>\n      <td>Awesome place to enjoy with friends.... Especi...</td>\n      <td>5</td>\n      <td>5/4/2019 23:07</td>\n      <td>0</td>\n      <td>1</td>\n      <td>3</td>\n    </tr>\n    <tr>\n      <th>5020</th>\n      <td>Gal Punjab Di</td>\n      <td>Mayank Murali</td>\n      <td>I guess one of the decent Punjabi restaurants ...</td>\n      <td>4</td>\n      <td>3/30/2019 22:52</td>\n      <td>0</td>\n      <td>15</td>\n      <td>5</td>\n    </tr>\n    <tr>\n      <th>3761</th>\n      <td>Kritunga Restaurant</td>\n      <td>Harish</td>\n      <td>food is super,but so spicy.__|__</td>\n      <td>4</td>\n      <td>7/30/2018 14:15</td>\n      <td>0</td>\n      <td>1</td>\n      <td>0</td>\n    </tr>\n    <tr>\n      <th>6749</th>\n      <td>Yum Yum Tree - The Arabian Food Court</td>\n      <td>Visveswara Balu</td>\n      <td>The outlet looks good. The service is excellen...</td>\n      <td>2</td>\n      <td>10/11/2018 14:05</td>\n      <td>0</td>\n      <td>1</td>\n      <td>12</td>\n    </tr>\n  </tbody>\n</table>\n</div>"
     },
     "execution_count": 5,
     "metadata": {},
     "output_type": "execute_result"
    }
   ],
   "source": [
    "df_reviews[[\"Reviews\", \"Followers\"]] = df_reviews[\"Metadata\"].str.split(\",\", expand=True)\n",
    "\n",
    "df_reviews[\"Reviews\"] = df_reviews[\"Reviews\"].str.extract('(\\d+)').fillna(0)\n",
    "df_reviews[\"Followers\"] = df_reviews[\"Followers\"].str.extract('(\\d+)').fillna(0)\n",
    "df_reviews = df_reviews.drop(\"Metadata\", axis=1)\n",
    "\n",
    "df_reviews.sample(5)"
   ],
   "metadata": {
    "collapsed": false,
    "ExecuteTime": {
     "end_time": "2024-10-30T16:51:17.370250Z",
     "start_time": "2024-10-30T16:51:17.289666Z"
    }
   },
   "id": "c25a32013828c19e",
   "execution_count": 5
  },
  {
   "cell_type": "code",
   "outputs": [
    {
     "name": "stdout",
     "output_type": "stream",
     "text": [
      "['EATCHICKEN', 'Eat Chicken', 'Food', 'Cool Man']\n"
     ]
    }
   ],
   "source": [
    "def splitting_words_process(word):\n",
    "    # only upper case letters \n",
    "    if word.isupper(): \n",
    "        return word\n",
    "    \n",
    "    # more than one upper case letter inside\n",
    "    elif re.search(r'[A-Z].*[A-Z]', word): \n",
    "        split_word = re.findall(r'[A-Z][a-z]*', word)\n",
    "        return ' '.join(split_word)\n",
    "    \n",
    "    # <2 upper case letters\n",
    "    else:\n",
    "        return word\n",
    "    \n",
    "# e.g.\n",
    "words = [\"EATCHICKEN\", \"EatChicken\", \"Food\", \"CoolMan\"]\n",
    "processed_words = [splitting_words_process(word) for word in words]\n",
    "\n",
    "print(processed_words)"
   ],
   "metadata": {
    "collapsed": false,
    "ExecuteTime": {
     "end_time": "2024-10-30T16:51:23.274150Z",
     "start_time": "2024-10-30T16:51:23.247931Z"
    }
   },
   "id": "ff43817dcb919112",
   "execution_count": 6
  },
  {
   "cell_type": "code",
   "outputs": [
    {
     "data": {
      "text/plain": "            Restaurant              Reviewer  \\\n0      Beyond Flavours     Rusha Chakraborty   \n1      Beyond Flavours  Anusha Tirumalaneedi   \n2      Beyond Flavours       Ashok Shekhawat   \n3      Beyond Flavours        Swapnil Sarkar   \n4      Beyond Flavours                Dileep   \n...                ...                   ...   \n9995  Chinese Pavilion      Abhishek Mahajan   \n9996  Chinese Pavilion        Sharad Agrawal   \n9997  Chinese Pavilion             Ramandeep   \n9998  Chinese Pavilion       Nayana Shanbhag   \n9999  Chinese Pavilion      Bhargava Krishna   \n\n                                                 Review Rating  \\\n0     The ambience was good, food was quite good . h...      5   \n1     Ambience is too good for a pleasant evening. S...      5   \n2     A must try.. great food great ambience. Thnx f...      5   \n3     Soumen das and Arun was a great guy. Only beca...      5   \n4     Food is good.we ordered Kodi drumsticks and ba...      5   \n...                                                 ...    ...   \n9995  Madhumathi Mahajan Well to start with nice cou...      3   \n9996  This place has never disappointed us.. The foo...    4.5   \n9997  Bad rating is mainly because of \"Chicken Bone ...    1.5   \n9998  I personally love and prefer Chinese Food. Had...      4   \n9999  Checked in here to try some delicious chinese ...    3.5   \n\n                 Time  Pictures Reviews Followers  \n0     5/25/2019 15:54         0       1         2  \n1     5/25/2019 14:20         0       3         2  \n2     5/24/2019 22:54         0       2         3  \n3     5/24/2019 22:11         0       1         1  \n4     5/24/2019 21:37         0       3         2  \n...               ...       ...     ...       ...  \n9995    6/5/2016 0:08         0      53        54  \n9996   6/4/2016 22:01         0       2        53  \n9997   6/3/2016 10:37         3      65       423  \n9998  5/31/2016 17:22         0      13       144  \n9999  5/31/2016 16:41         6     472      1302  \n\n[10000 rows x 8 columns]",
      "text/html": "<div>\n<style scoped>\n    .dataframe tbody tr th:only-of-type {\n        vertical-align: middle;\n    }\n\n    .dataframe tbody tr th {\n        vertical-align: top;\n    }\n\n    .dataframe thead th {\n        text-align: right;\n    }\n</style>\n<table border=\"1\" class=\"dataframe\">\n  <thead>\n    <tr style=\"text-align: right;\">\n      <th></th>\n      <th>Restaurant</th>\n      <th>Reviewer</th>\n      <th>Review</th>\n      <th>Rating</th>\n      <th>Time</th>\n      <th>Pictures</th>\n      <th>Reviews</th>\n      <th>Followers</th>\n    </tr>\n  </thead>\n  <tbody>\n    <tr>\n      <th>0</th>\n      <td>Beyond Flavours</td>\n      <td>Rusha Chakraborty</td>\n      <td>The ambience was good, food was quite good . h...</td>\n      <td>5</td>\n      <td>5/25/2019 15:54</td>\n      <td>0</td>\n      <td>1</td>\n      <td>2</td>\n    </tr>\n    <tr>\n      <th>1</th>\n      <td>Beyond Flavours</td>\n      <td>Anusha Tirumalaneedi</td>\n      <td>Ambience is too good for a pleasant evening. S...</td>\n      <td>5</td>\n      <td>5/25/2019 14:20</td>\n      <td>0</td>\n      <td>3</td>\n      <td>2</td>\n    </tr>\n    <tr>\n      <th>2</th>\n      <td>Beyond Flavours</td>\n      <td>Ashok Shekhawat</td>\n      <td>A must try.. great food great ambience. Thnx f...</td>\n      <td>5</td>\n      <td>5/24/2019 22:54</td>\n      <td>0</td>\n      <td>2</td>\n      <td>3</td>\n    </tr>\n    <tr>\n      <th>3</th>\n      <td>Beyond Flavours</td>\n      <td>Swapnil Sarkar</td>\n      <td>Soumen das and Arun was a great guy. Only beca...</td>\n      <td>5</td>\n      <td>5/24/2019 22:11</td>\n      <td>0</td>\n      <td>1</td>\n      <td>1</td>\n    </tr>\n    <tr>\n      <th>4</th>\n      <td>Beyond Flavours</td>\n      <td>Dileep</td>\n      <td>Food is good.we ordered Kodi drumsticks and ba...</td>\n      <td>5</td>\n      <td>5/24/2019 21:37</td>\n      <td>0</td>\n      <td>3</td>\n      <td>2</td>\n    </tr>\n    <tr>\n      <th>...</th>\n      <td>...</td>\n      <td>...</td>\n      <td>...</td>\n      <td>...</td>\n      <td>...</td>\n      <td>...</td>\n      <td>...</td>\n      <td>...</td>\n    </tr>\n    <tr>\n      <th>9995</th>\n      <td>Chinese Pavilion</td>\n      <td>Abhishek Mahajan</td>\n      <td>Madhumathi Mahajan Well to start with nice cou...</td>\n      <td>3</td>\n      <td>6/5/2016 0:08</td>\n      <td>0</td>\n      <td>53</td>\n      <td>54</td>\n    </tr>\n    <tr>\n      <th>9996</th>\n      <td>Chinese Pavilion</td>\n      <td>Sharad Agrawal</td>\n      <td>This place has never disappointed us.. The foo...</td>\n      <td>4.5</td>\n      <td>6/4/2016 22:01</td>\n      <td>0</td>\n      <td>2</td>\n      <td>53</td>\n    </tr>\n    <tr>\n      <th>9997</th>\n      <td>Chinese Pavilion</td>\n      <td>Ramandeep</td>\n      <td>Bad rating is mainly because of \"Chicken Bone ...</td>\n      <td>1.5</td>\n      <td>6/3/2016 10:37</td>\n      <td>3</td>\n      <td>65</td>\n      <td>423</td>\n    </tr>\n    <tr>\n      <th>9998</th>\n      <td>Chinese Pavilion</td>\n      <td>Nayana Shanbhag</td>\n      <td>I personally love and prefer Chinese Food. Had...</td>\n      <td>4</td>\n      <td>5/31/2016 17:22</td>\n      <td>0</td>\n      <td>13</td>\n      <td>144</td>\n    </tr>\n    <tr>\n      <th>9999</th>\n      <td>Chinese Pavilion</td>\n      <td>Bhargava Krishna</td>\n      <td>Checked in here to try some delicious chinese ...</td>\n      <td>3.5</td>\n      <td>5/31/2016 16:41</td>\n      <td>6</td>\n      <td>472</td>\n      <td>1302</td>\n    </tr>\n  </tbody>\n</table>\n<p>10000 rows × 8 columns</p>\n</div>"
     },
     "execution_count": 7,
     "metadata": {},
     "output_type": "execute_result"
    }
   ],
   "source": [
    "df_reviews"
   ],
   "metadata": {
    "collapsed": false,
    "ExecuteTime": {
     "end_time": "2024-10-30T16:51:24.597230Z",
     "start_time": "2024-10-30T16:51:24.579012Z"
    }
   },
   "id": "7fbc77f8ee791588",
   "execution_count": 7
  },
  {
   "cell_type": "code",
   "outputs": [
    {
     "data": {
      "text/plain": "'okay'"
     },
     "execution_count": 8,
     "metadata": {},
     "output_type": "execute_result"
    }
   ],
   "source": [
    "df_reviews[\"Review\"][2361]"
   ],
   "metadata": {
    "collapsed": false,
    "ExecuteTime": {
     "end_time": "2024-10-30T16:51:26.291927Z",
     "start_time": "2024-10-30T16:51:26.269370Z"
    }
   },
   "id": "4c27c65a0870e570",
   "execution_count": 8
  },
  {
   "cell_type": "code",
   "outputs": [
    {
     "name": "stdout",
     "output_type": "stream",
     "text": [
      "            Restaurant       Reviewer                  Review Rating  \\\n",
      "10003  Test Restaurant  Test Reviewer  ThisIsATestRRRRRReview      3   \n",
      "\n",
      "                   Time  Pictures Reviews Followers Processed_Review  \n",
      "10003  10/10/2024 12:00       NaN     NaN       NaN              NaN  \n"
     ]
    },
    {
     "name": "stderr",
     "output_type": "stream",
     "text": [
      "C:\\Users\\karom\\AppData\\Local\\Temp\\ipykernel_12912\\25707106.py:9: FutureWarning: The frame.append method is deprecated and will be removed from pandas in a future version. Use pandas.concat instead.\n",
      "  df_reviews = df_reviews.append(new_review, ignore_index=True)\n"
     ]
    }
   ],
   "source": [
    "new_review = {\n",
    "    'Restaurant': 'Test Restaurant',\n",
    "    'Reviewer': 'Test Reviewer',\n",
    "    'Review': 'ThisIsATestRRRRRReview',  \n",
    "    'Rating': 3,\n",
    "    'Time': '10/10/2024 12:00',  \n",
    "}\n",
    "\n",
    "df_reviews = df_reviews.append(new_review, ignore_index=True)\n",
    "\n",
    "print(df_reviews.tail(1)) \n",
    "\n",
    "# # Usuń ostatnie 5 wierszy\n",
    "# df_reviews = df_reviews.iloc[:-5]"
   ],
   "metadata": {
    "collapsed": false,
    "ExecuteTime": {
     "end_time": "2024-10-15T10:01:47.273327Z",
     "start_time": "2024-10-15T10:01:47.239440Z"
    }
   },
   "id": "ff9232d662c25aac",
   "execution_count": 34
  },
  {
   "cell_type": "code",
   "outputs": [
    {
     "data": {
      "text/plain": "                                                 Review  \\\n9995  Madhumathi Mahajan Well to start with nice cou...   \n9996  This place has never disappointed us.. The foo...   \n9997  Bad rating is mainly because of \"Chicken Bone ...   \n9998  I personally love and prefer Chinese Food. Had...   \n9999  Checked in here to try some delicious chinese ...   \n\n                                       Processed_Review  \n9995  Madhumathi Mahajan Well to start with nice cou...  \n9996  This place has never disappointed us.. The foo...  \n9997  Bad rating is mainly because of \"Chicken Bone ...  \n9998  I personally love and prefer Chinese Food. Had...  \n9999  Checked in here to try some delicious chinese ...  ",
      "text/html": "<div>\n<style scoped>\n    .dataframe tbody tr th:only-of-type {\n        vertical-align: middle;\n    }\n\n    .dataframe tbody tr th {\n        vertical-align: top;\n    }\n\n    .dataframe thead th {\n        text-align: right;\n    }\n</style>\n<table border=\"1\" class=\"dataframe\">\n  <thead>\n    <tr style=\"text-align: right;\">\n      <th></th>\n      <th>Review</th>\n      <th>Processed_Review</th>\n    </tr>\n  </thead>\n  <tbody>\n    <tr>\n      <th>9995</th>\n      <td>Madhumathi Mahajan Well to start with nice cou...</td>\n      <td>Madhumathi Mahajan Well to start with nice cou...</td>\n    </tr>\n    <tr>\n      <th>9996</th>\n      <td>This place has never disappointed us.. The foo...</td>\n      <td>This place has never disappointed us.. The foo...</td>\n    </tr>\n    <tr>\n      <th>9997</th>\n      <td>Bad rating is mainly because of \"Chicken Bone ...</td>\n      <td>Bad rating is mainly because of \"Chicken Bone ...</td>\n    </tr>\n    <tr>\n      <th>9998</th>\n      <td>I personally love and prefer Chinese Food. Had...</td>\n      <td>I personally love and prefer Chinese Food. Had...</td>\n    </tr>\n    <tr>\n      <th>9999</th>\n      <td>Checked in here to try some delicious chinese ...</td>\n      <td>Checked in here to try some delicious chinese ...</td>\n    </tr>\n  </tbody>\n</table>\n</div>"
     },
     "execution_count": 9,
     "metadata": {},
     "output_type": "execute_result"
    }
   ],
   "source": [
    "for i, review in enumerate(df_reviews[\"Review\"]):\n",
    "    if pd.notna(review):  # check if it is not Nan\n",
    "        words = review.split()\n",
    "        processed_words = [splitting_words_process(word) for word in words]\n",
    "        df_reviews.at[i, 'Processed_Review'] = \" \".join(processed_words)\n",
    "        \n",
    "    else:\n",
    "        df_reviews.at[i, 'Processed_Review'] = review \n",
    "    \n",
    "df_reviews[[\"Review\",'Processed_Review']].tail()\n",
    "            "
   ],
   "metadata": {
    "collapsed": false,
    "ExecuteTime": {
     "end_time": "2024-10-30T16:51:33.804208Z",
     "start_time": "2024-10-30T16:51:32.824037Z"
    }
   },
   "id": "55a1ef831bcc187d",
   "execution_count": 9
  },
  {
   "cell_type": "code",
   "outputs": [
    {
     "data": {
      "text/plain": "                                                 Review  \\\n9995  Madhumathi Mahajan Well to start with nice cou...   \n9996  This place has never disappointed us.. The foo...   \n9997  Bad rating is mainly because of \"Chicken Bone ...   \n9998  I personally love and prefer Chinese Food. Had...   \n9999  Checked in here to try some delicious chinese ...   \n\n                                       Processed_Review Rating  \n9995  Madhumathi Mahajan Well to start with nice cou...      3  \n9996  This place has never disappointed us.. The foo...    4.5  \n9997  Bad rating is mainly because of \"Chicken Bone ...    1.5  \n9998  I personally love and prefer Chinese Food. Had...      4  \n9999  Checked in here to try some delicious chinese ...    3.5  ",
      "text/html": "<div>\n<style scoped>\n    .dataframe tbody tr th:only-of-type {\n        vertical-align: middle;\n    }\n\n    .dataframe tbody tr th {\n        vertical-align: top;\n    }\n\n    .dataframe thead th {\n        text-align: right;\n    }\n</style>\n<table border=\"1\" class=\"dataframe\">\n  <thead>\n    <tr style=\"text-align: right;\">\n      <th></th>\n      <th>Review</th>\n      <th>Processed_Review</th>\n      <th>Rating</th>\n    </tr>\n  </thead>\n  <tbody>\n    <tr>\n      <th>9995</th>\n      <td>Madhumathi Mahajan Well to start with nice cou...</td>\n      <td>Madhumathi Mahajan Well to start with nice cou...</td>\n      <td>3</td>\n    </tr>\n    <tr>\n      <th>9996</th>\n      <td>This place has never disappointed us.. The foo...</td>\n      <td>This place has never disappointed us.. The foo...</td>\n      <td>4.5</td>\n    </tr>\n    <tr>\n      <th>9997</th>\n      <td>Bad rating is mainly because of \"Chicken Bone ...</td>\n      <td>Bad rating is mainly because of \"Chicken Bone ...</td>\n      <td>1.5</td>\n    </tr>\n    <tr>\n      <th>9998</th>\n      <td>I personally love and prefer Chinese Food. Had...</td>\n      <td>I personally love and prefer Chinese Food. Had...</td>\n      <td>4</td>\n    </tr>\n    <tr>\n      <th>9999</th>\n      <td>Checked in here to try some delicious chinese ...</td>\n      <td>Checked in here to try some delicious chinese ...</td>\n      <td>3.5</td>\n    </tr>\n  </tbody>\n</table>\n</div>"
     },
     "execution_count": 11,
     "metadata": {},
     "output_type": "execute_result"
    }
   ],
   "source": [
    "df_reviews[[\"Review\",'Processed_Review', 'Rating']]"
   ],
   "metadata": {
    "collapsed": false,
    "ExecuteTime": {
     "end_time": "2024-10-30T16:51:52.252394Z",
     "start_time": "2024-10-30T16:51:52.228192Z"
    }
   },
   "id": "803727161107f903",
   "execution_count": 11
  },
  {
   "cell_type": "code",
   "outputs": [],
   "source": [
    "df_reviews[[\"Review\", \"Processed_Review\", \"Rating\"]].to_csv(\"reviews_subset.csv\", index=False)"
   ],
   "metadata": {
    "collapsed": false,
    "ExecuteTime": {
     "end_time": "2024-10-30T16:53:36.730426Z",
     "start_time": "2024-10-30T16:53:36.561008Z"
    }
   },
   "id": "d174404808446d84",
   "execution_count": 12
  },
  {
   "cell_type": "code",
   "outputs": [],
   "source": [
    "df = pd.read_csv(\"reviews_subset.csv\")"
   ],
   "metadata": {
    "collapsed": false,
    "ExecuteTime": {
     "end_time": "2024-10-30T16:54:55.671014Z",
     "start_time": "2024-10-30T16:54:55.564827Z"
    }
   },
   "id": "786ed28c2751c40d",
   "execution_count": 13
  },
  {
   "cell_type": "code",
   "outputs": [
    {
     "data": {
      "text/plain": "                                                 Review  \\\n0     The ambience was good, food was quite good . h...   \n1     Ambience is too good for a pleasant evening. S...   \n2     A must try.. great food great ambience. Thnx f...   \n3     Soumen das and Arun was a great guy. Only beca...   \n4     Food is good.we ordered Kodi drumsticks and ba...   \n...                                                 ...   \n9995  Madhumathi Mahajan Well to start with nice cou...   \n9996  This place has never disappointed us.. The foo...   \n9997  Bad rating is mainly because of \"Chicken Bone ...   \n9998  I personally love and prefer Chinese Food. Had...   \n9999  Checked in here to try some delicious chinese ...   \n\n                                       Processed_Review Rating  \n0     The ambience was good, food was quite good . h...      5  \n1     Ambience is too good for a pleasant evening. S...      5  \n2     A must try.. great food great ambience. Thnx f...      5  \n3     Soumen das and Arun was a great guy. Only beca...      5  \n4     Food is good.we ordered Kodi drumsticks and ba...      5  \n...                                                 ...    ...  \n9995  Madhumathi Mahajan Well to start with nice cou...      3  \n9996  This place has never disappointed us.. The foo...    4.5  \n9997  Bad rating is mainly because of \"Chicken Bone ...    1.5  \n9998  I personally love and prefer Chinese Food. Had...      4  \n9999  Checked in here to try some delicious chinese ...    3.5  \n\n[10000 rows x 3 columns]",
      "text/html": "<div>\n<style scoped>\n    .dataframe tbody tr th:only-of-type {\n        vertical-align: middle;\n    }\n\n    .dataframe tbody tr th {\n        vertical-align: top;\n    }\n\n    .dataframe thead th {\n        text-align: right;\n    }\n</style>\n<table border=\"1\" class=\"dataframe\">\n  <thead>\n    <tr style=\"text-align: right;\">\n      <th></th>\n      <th>Review</th>\n      <th>Processed_Review</th>\n      <th>Rating</th>\n    </tr>\n  </thead>\n  <tbody>\n    <tr>\n      <th>0</th>\n      <td>The ambience was good, food was quite good . h...</td>\n      <td>The ambience was good, food was quite good . h...</td>\n      <td>5</td>\n    </tr>\n    <tr>\n      <th>1</th>\n      <td>Ambience is too good for a pleasant evening. S...</td>\n      <td>Ambience is too good for a pleasant evening. S...</td>\n      <td>5</td>\n    </tr>\n    <tr>\n      <th>2</th>\n      <td>A must try.. great food great ambience. Thnx f...</td>\n      <td>A must try.. great food great ambience. Thnx f...</td>\n      <td>5</td>\n    </tr>\n    <tr>\n      <th>3</th>\n      <td>Soumen das and Arun was a great guy. Only beca...</td>\n      <td>Soumen das and Arun was a great guy. Only beca...</td>\n      <td>5</td>\n    </tr>\n    <tr>\n      <th>4</th>\n      <td>Food is good.we ordered Kodi drumsticks and ba...</td>\n      <td>Food is good.we ordered Kodi drumsticks and ba...</td>\n      <td>5</td>\n    </tr>\n    <tr>\n      <th>...</th>\n      <td>...</td>\n      <td>...</td>\n      <td>...</td>\n    </tr>\n    <tr>\n      <th>9995</th>\n      <td>Madhumathi Mahajan Well to start with nice cou...</td>\n      <td>Madhumathi Mahajan Well to start with nice cou...</td>\n      <td>3</td>\n    </tr>\n    <tr>\n      <th>9996</th>\n      <td>This place has never disappointed us.. The foo...</td>\n      <td>This place has never disappointed us.. The foo...</td>\n      <td>4.5</td>\n    </tr>\n    <tr>\n      <th>9997</th>\n      <td>Bad rating is mainly because of \"Chicken Bone ...</td>\n      <td>Bad rating is mainly because of \"Chicken Bone ...</td>\n      <td>1.5</td>\n    </tr>\n    <tr>\n      <th>9998</th>\n      <td>I personally love and prefer Chinese Food. Had...</td>\n      <td>I personally love and prefer Chinese Food. Had...</td>\n      <td>4</td>\n    </tr>\n    <tr>\n      <th>9999</th>\n      <td>Checked in here to try some delicious chinese ...</td>\n      <td>Checked in here to try some delicious chinese ...</td>\n      <td>3.5</td>\n    </tr>\n  </tbody>\n</table>\n<p>10000 rows × 3 columns</p>\n</div>"
     },
     "execution_count": 14,
     "metadata": {},
     "output_type": "execute_result"
    }
   ],
   "source": [
    "df"
   ],
   "metadata": {
    "collapsed": false,
    "ExecuteTime": {
     "end_time": "2024-10-30T16:54:58.203986Z",
     "start_time": "2024-10-30T16:54:58.185799Z"
    }
   },
   "id": "5ef3e47c2a0a0c3d",
   "execution_count": 14
  },
  {
   "cell_type": "code",
   "outputs": [],
   "source": [],
   "metadata": {
    "collapsed": false
   },
   "id": "3806eb862320629e"
  }
 ],
 "metadata": {
  "kernelspec": {
   "name": "text-mining1",
   "language": "python",
   "display_name": "text-mining1"
  },
  "language_info": {
   "codemirror_mode": {
    "name": "ipython",
    "version": 2
   },
   "file_extension": ".py",
   "mimetype": "text/x-python",
   "name": "python",
   "nbconvert_exporter": "python",
   "pygments_lexer": "ipython2",
   "version": "2.7.6"
  }
 },
 "nbformat": 4,
 "nbformat_minor": 5
}
