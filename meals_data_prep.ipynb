{
 "cells": [
  {
   "cell_type": "code",
   "execution_count": 1,
   "metadata": {},
   "outputs": [
    {
     "name": "stderr",
     "output_type": "stream",
     "text": [
      "[nltk_data] Downloading package stopwords to\n",
      "[nltk_data]     C:\\Users\\User\\AppData\\Roaming\\nltk_data...\n",
      "[nltk_data]   Package stopwords is already up-to-date!\n",
      "[nltk_data] Downloading package punkt to\n",
      "[nltk_data]     C:\\Users\\User\\AppData\\Roaming\\nltk_data...\n",
      "[nltk_data]   Package punkt is already up-to-date!\n",
      "[nltk_data] Downloading package averaged_perceptron_tagger to\n",
      "[nltk_data]     C:\\Users\\User\\AppData\\Roaming\\nltk_data...\n",
      "[nltk_data]   Package averaged_perceptron_tagger is already up-to-\n",
      "[nltk_data]       date!\n",
      "[nltk_data] Downloading package averaged_perceptron_tagger_eng to\n",
      "[nltk_data]     C:\\Users\\User\\AppData\\Roaming\\nltk_data...\n",
      "[nltk_data]   Package averaged_perceptron_tagger_eng is already up-to-\n",
      "[nltk_data]       date!\n"
     ]
    },
    {
     "data": {
      "text/plain": [
       "True"
      ]
     },
     "execution_count": 1,
     "metadata": {},
     "output_type": "execute_result"
    }
   ],
   "source": [
    "import time\n",
    "import numpy as np\n",
    "import pandas as pd\n",
    "import re\n",
    "import matplotlib.pyplot as plt\n",
    "import emoji\n",
    "import nltk\n",
    "import warnings\n",
    "warnings.filterwarnings(\"ignore\")\n",
    "\n",
    "nltk.download('stopwords')\n",
    "nltk.download('punkt')\n",
    "nltk.download('averaged_perceptron_tagger')\n",
    "nltk.download('averaged_perceptron_tagger_eng')"
   ]
  },
  {
   "cell_type": "code",
   "execution_count": 2,
   "metadata": {},
   "outputs": [],
   "source": [
    "meals = pd.read_csv('data_hyderabad/data_preprocessed_classification.csv')"
   ]
  },
  {
   "cell_type": "code",
   "execution_count": 3,
   "metadata": {},
   "outputs": [
    {
     "data": {
      "text/html": [
       "<div>\n",
       "<style scoped>\n",
       "    .dataframe tbody tr th:only-of-type {\n",
       "        vertical-align: middle;\n",
       "    }\n",
       "\n",
       "    .dataframe tbody tr th {\n",
       "        vertical-align: top;\n",
       "    }\n",
       "\n",
       "    .dataframe thead th {\n",
       "        text-align: right;\n",
       "    }\n",
       "</style>\n",
       "<table border=\"1\" class=\"dataframe\">\n",
       "  <thead>\n",
       "    <tr style=\"text-align: right;\">\n",
       "      <th></th>\n",
       "      <th>Restaurant</th>\n",
       "      <th>Review</th>\n",
       "      <th>Review_Preprocessed</th>\n",
       "      <th>Cuisines</th>\n",
       "      <th>meals</th>\n",
       "    </tr>\n",
       "  </thead>\n",
       "  <tbody>\n",
       "    <tr>\n",
       "      <th>0</th>\n",
       "      <td>Beyond Flavours</td>\n",
       "      <td>The ambience was good, food was quite good . h...</td>\n",
       "      <td>[('ambience', 'NN'), ('good', 'JJ'), ('food', ...</td>\n",
       "      <td>Chinese, Continental, Kebab, European, South I...</td>\n",
       "      <td>[]</td>\n",
       "    </tr>\n",
       "    <tr>\n",
       "      <th>1</th>\n",
       "      <td>Beyond Flavours</td>\n",
       "      <td>Ambience is too good for a pleasant evening. S...</td>\n",
       "      <td>[('ambience', 'NN'), ('good', 'JJ'), ('pleasan...</td>\n",
       "      <td>Chinese, Continental, Kebab, European, South I...</td>\n",
       "      <td>[]</td>\n",
       "    </tr>\n",
       "    <tr>\n",
       "      <th>2</th>\n",
       "      <td>Beyond Flavours</td>\n",
       "      <td>A must try.. great food great ambience. Thnx f...</td>\n",
       "      <td>[('must', 'MD'), ('try', 'VB'), ('great', 'JJ'...</td>\n",
       "      <td>Chinese, Continental, Kebab, European, South I...</td>\n",
       "      <td>['Penne Alfredo Pasta']</td>\n",
       "    </tr>\n",
       "    <tr>\n",
       "      <th>3</th>\n",
       "      <td>Beyond Flavours</td>\n",
       "      <td>Soumen das and Arun was a great guy. Only beca...</td>\n",
       "      <td>[('soumen', 'NNP'), ('das', 'NNS'), ('arun', '...</td>\n",
       "      <td>Chinese, Continental, Kebab, European, South I...</td>\n",
       "      <td>[]</td>\n",
       "    </tr>\n",
       "    <tr>\n",
       "      <th>4</th>\n",
       "      <td>Beyond Flavours</td>\n",
       "      <td>Food is good. we ordered Kodi drumsticks and b...</td>\n",
       "      <td>[('food', 'NN'), ('good', 'JJ'), ('ordered', '...</td>\n",
       "      <td>Chinese, Continental, Kebab, European, South I...</td>\n",
       "      <td>['Kodi drumsticks', 'basket mutton biryani']</td>\n",
       "    </tr>\n",
       "  </tbody>\n",
       "</table>\n",
       "</div>"
      ],
      "text/plain": [
       "        Restaurant                                             Review  \\\n",
       "0  Beyond Flavours  The ambience was good, food was quite good . h...   \n",
       "1  Beyond Flavours  Ambience is too good for a pleasant evening. S...   \n",
       "2  Beyond Flavours  A must try.. great food great ambience. Thnx f...   \n",
       "3  Beyond Flavours  Soumen das and Arun was a great guy. Only beca...   \n",
       "4  Beyond Flavours  Food is good. we ordered Kodi drumsticks and b...   \n",
       "\n",
       "                                 Review_Preprocessed  \\\n",
       "0  [('ambience', 'NN'), ('good', 'JJ'), ('food', ...   \n",
       "1  [('ambience', 'NN'), ('good', 'JJ'), ('pleasan...   \n",
       "2  [('must', 'MD'), ('try', 'VB'), ('great', 'JJ'...   \n",
       "3  [('soumen', 'NNP'), ('das', 'NNS'), ('arun', '...   \n",
       "4  [('food', 'NN'), ('good', 'JJ'), ('ordered', '...   \n",
       "\n",
       "                                            Cuisines  \\\n",
       "0  Chinese, Continental, Kebab, European, South I...   \n",
       "1  Chinese, Continental, Kebab, European, South I...   \n",
       "2  Chinese, Continental, Kebab, European, South I...   \n",
       "3  Chinese, Continental, Kebab, European, South I...   \n",
       "4  Chinese, Continental, Kebab, European, South I...   \n",
       "\n",
       "                                          meals  \n",
       "0                                            []  \n",
       "1                                            []  \n",
       "2                       ['Penne Alfredo Pasta']  \n",
       "3                                            []  \n",
       "4  ['Kodi drumsticks', 'basket mutton biryani']  "
      ]
     },
     "execution_count": 3,
     "metadata": {},
     "output_type": "execute_result"
    }
   ],
   "source": [
    "meals.head()"
   ]
  },
  {
   "cell_type": "code",
   "execution_count": 4,
   "metadata": {},
   "outputs": [
    {
     "name": "stdout",
     "output_type": "stream",
     "text": [
      "<class 'pandas.core.frame.DataFrame'>\n",
      "RangeIndex: 9955 entries, 0 to 9954\n",
      "Data columns (total 5 columns):\n",
      " #   Column               Non-Null Count  Dtype \n",
      "---  ------               --------------  ----- \n",
      " 0   Restaurant           9955 non-null   object\n",
      " 1   Review               9943 non-null   object\n",
      " 2   Review_Preprocessed  9955 non-null   object\n",
      " 3   Cuisines             9955 non-null   object\n",
      " 4   meals                9955 non-null   object\n",
      "dtypes: object(5)\n",
      "memory usage: 389.0+ KB\n"
     ]
    }
   ],
   "source": [
    "meals.info()"
   ]
  },
  {
   "cell_type": "code",
   "execution_count": 5,
   "metadata": {},
   "outputs": [],
   "source": [
    "meals['meals'] = meals['meals'].apply(lambda x: eval(x) if isinstance(x, str) else x)\n",
    "meals_df = meals.explode('meals')"
   ]
  },
  {
   "cell_type": "code",
   "execution_count": 6,
   "metadata": {},
   "outputs": [],
   "source": [
    "meals_df = meals_df.dropna(subset=['meals'])"
   ]
  },
  {
   "cell_type": "code",
   "execution_count": 7,
   "metadata": {},
   "outputs": [],
   "source": [
    "meal_counts = meals_df['meals'].value_counts()"
   ]
  },
  {
   "cell_type": "code",
   "execution_count": 8,
   "metadata": {},
   "outputs": [
    {
     "name": "stdout",
     "output_type": "stream",
     "text": [
      "chicken                   658\n",
      "biryani                   459\n",
      "rice                      309\n",
      "pizza                     266\n",
      "veg                       223\n",
      "                         ... \n",
      "Red Rooster pizza           1\n",
      " soups                      1\n",
      "ato                         1\n",
      "fiery chicken               1\n",
      "pepper chicken starter      1\n",
      "Name: meals, Length: 8990, dtype: int64\n"
     ]
    }
   ],
   "source": [
    "print(meal_counts)"
   ]
  },
  {
   "cell_type": "code",
   "execution_count": 9,
   "metadata": {},
   "outputs": [],
   "source": [
    "meals_df['meals'] = meals_df['meals'].apply(lambda x: x.lower())"
   ]
  },
  {
   "cell_type": "code",
   "execution_count": 10,
   "metadata": {},
   "outputs": [
    {
     "name": "stdout",
     "output_type": "stream",
     "text": [
      "chicken                   750\n",
      "biryani                   627\n",
      "rice                      359\n",
      "pizza                     318\n",
      "veg                       257\n",
      "                         ... \n",
      "candies                     1\n",
      "fruits cookies              1\n",
      "keshar pista                1\n",
      "paninis                     1\n",
      "pepper chicken starter      1\n",
      "Name: meals, Length: 7244, dtype: int64\n"
     ]
    }
   ],
   "source": [
    "meal_counts_lower = meals_df['meals'].value_counts()\n",
    "print(meal_counts_lower)"
   ]
  },
  {
   "cell_type": "code",
   "execution_count": 11,
   "metadata": {},
   "outputs": [],
   "source": [
    "meals_df = meals_df[meals_df['meals'].str.len() > 2]"
   ]
  },
  {
   "cell_type": "code",
   "execution_count": 12,
   "metadata": {},
   "outputs": [
    {
     "data": {
      "text/plain": [
       "(25449, 5)"
      ]
     },
     "execution_count": 12,
     "metadata": {},
     "output_type": "execute_result"
    }
   ],
   "source": [
    "meals_df.shape"
   ]
  },
  {
   "cell_type": "code",
   "execution_count": 13,
   "metadata": {},
   "outputs": [],
   "source": [
    "meals_df = meals_df.drop_duplicates(subset=['meals'])"
   ]
  },
  {
   "cell_type": "code",
   "execution_count": 14,
   "metadata": {},
   "outputs": [
    {
     "data": {
      "text/html": [
       "<div>\n",
       "<style scoped>\n",
       "    .dataframe tbody tr th:only-of-type {\n",
       "        vertical-align: middle;\n",
       "    }\n",
       "\n",
       "    .dataframe tbody tr th {\n",
       "        vertical-align: top;\n",
       "    }\n",
       "\n",
       "    .dataframe thead th {\n",
       "        text-align: right;\n",
       "    }\n",
       "</style>\n",
       "<table border=\"1\" class=\"dataframe\">\n",
       "  <thead>\n",
       "    <tr style=\"text-align: right;\">\n",
       "      <th></th>\n",
       "      <th>Restaurant</th>\n",
       "      <th>Review</th>\n",
       "      <th>Review_Preprocessed</th>\n",
       "      <th>Cuisines</th>\n",
       "      <th>meals</th>\n",
       "    </tr>\n",
       "  </thead>\n",
       "  <tbody>\n",
       "    <tr>\n",
       "      <th>2</th>\n",
       "      <td>Beyond Flavours</td>\n",
       "      <td>A must try.. great food great ambience. Thnx f...</td>\n",
       "      <td>[('must', 'MD'), ('try', 'VB'), ('great', 'JJ'...</td>\n",
       "      <td>Chinese, Continental, Kebab, European, South I...</td>\n",
       "      <td>penne alfredo pasta</td>\n",
       "    </tr>\n",
       "    <tr>\n",
       "      <th>4</th>\n",
       "      <td>Beyond Flavours</td>\n",
       "      <td>Food is good. we ordered Kodi drumsticks and b...</td>\n",
       "      <td>[('food', 'NN'), ('good', 'JJ'), ('ordered', '...</td>\n",
       "      <td>Chinese, Continental, Kebab, European, South I...</td>\n",
       "      <td>kodi drumsticks</td>\n",
       "    </tr>\n",
       "    <tr>\n",
       "      <th>4</th>\n",
       "      <td>Beyond Flavours</td>\n",
       "      <td>Food is good. we ordered Kodi drumsticks and b...</td>\n",
       "      <td>[('food', 'NN'), ('good', 'JJ'), ('ordered', '...</td>\n",
       "      <td>Chinese, Continental, Kebab, European, South I...</td>\n",
       "      <td>basket mutton biryani</td>\n",
       "    </tr>\n",
       "    <tr>\n",
       "      <th>7</th>\n",
       "      <td>Beyond Flavours</td>\n",
       "      <td>Well after reading so many reviews finally vis...</td>\n",
       "      <td>[('well', 'RB'), ('reading', 'VBG'), ('many', ...</td>\n",
       "      <td>Chinese, Continental, Kebab, European, South I...</td>\n",
       "      <td>corn</td>\n",
       "    </tr>\n",
       "    <tr>\n",
       "      <th>7</th>\n",
       "      <td>Beyond Flavours</td>\n",
       "      <td>Well after reading so many reviews finally vis...</td>\n",
       "      <td>[('well', 'RB'), ('reading', 'VBG'), ('many', ...</td>\n",
       "      <td>Chinese, Continental, Kebab, European, South I...</td>\n",
       "      <td>tawa fish</td>\n",
       "    </tr>\n",
       "    <tr>\n",
       "      <th>...</th>\n",
       "      <td>...</td>\n",
       "      <td>...</td>\n",
       "      <td>...</td>\n",
       "      <td>...</td>\n",
       "      <td>...</td>\n",
       "    </tr>\n",
       "    <tr>\n",
       "      <th>9952</th>\n",
       "      <td>Chinese Pavilion</td>\n",
       "      <td>Bad rating is mainly because of \" Chicken Bone...</td>\n",
       "      <td>[('bad', 'NNP'), ('rating', 'NN'), ('mainly', ...</td>\n",
       "      <td>Chinese, Seafood</td>\n",
       "      <td>chicken bone</td>\n",
       "    </tr>\n",
       "    <tr>\n",
       "      <th>9952</th>\n",
       "      <td>Chinese Pavilion</td>\n",
       "      <td>Bad rating is mainly because of \" Chicken Bone...</td>\n",
       "      <td>[('bad', 'NNP'), ('rating', 'NN'), ('mainly', ...</td>\n",
       "      <td>Chinese, Seafood</td>\n",
       "      <td>plum sauce</td>\n",
       "    </tr>\n",
       "    <tr>\n",
       "      <th>9952</th>\n",
       "      <td>Chinese Pavilion</td>\n",
       "      <td>Bad rating is mainly because of \" Chicken Bone...</td>\n",
       "      <td>[('bad', 'NNP'), ('rating', 'NN'), ('mainly', ...</td>\n",
       "      <td>Chinese, Seafood</td>\n",
       "      <td>spicy sauce</td>\n",
       "    </tr>\n",
       "    <tr>\n",
       "      <th>9952</th>\n",
       "      <td>Chinese Pavilion</td>\n",
       "      <td>Bad rating is mainly because of \" Chicken Bone...</td>\n",
       "      <td>[('bad', 'NNP'), ('rating', 'NN'), ('mainly', ...</td>\n",
       "      <td>Chinese, Seafood</td>\n",
       "      <td>fried rice veg hakka noodles</td>\n",
       "    </tr>\n",
       "    <tr>\n",
       "      <th>9954</th>\n",
       "      <td>Chinese Pavilion</td>\n",
       "      <td>Checked in here to try some delicious chinese ...</td>\n",
       "      <td>[('checked', 'VBN'), ('try', 'VB'), ('deliciou...</td>\n",
       "      <td>Chinese, Seafood</td>\n",
       "      <td>pepper chicken starter</td>\n",
       "    </tr>\n",
       "  </tbody>\n",
       "</table>\n",
       "<p>7197 rows × 5 columns</p>\n",
       "</div>"
      ],
      "text/plain": [
       "            Restaurant                                             Review  \\\n",
       "2      Beyond Flavours  A must try.. great food great ambience. Thnx f...   \n",
       "4      Beyond Flavours  Food is good. we ordered Kodi drumsticks and b...   \n",
       "4      Beyond Flavours  Food is good. we ordered Kodi drumsticks and b...   \n",
       "7      Beyond Flavours  Well after reading so many reviews finally vis...   \n",
       "7      Beyond Flavours  Well after reading so many reviews finally vis...   \n",
       "...                ...                                                ...   \n",
       "9952  Chinese Pavilion  Bad rating is mainly because of \" Chicken Bone...   \n",
       "9952  Chinese Pavilion  Bad rating is mainly because of \" Chicken Bone...   \n",
       "9952  Chinese Pavilion  Bad rating is mainly because of \" Chicken Bone...   \n",
       "9952  Chinese Pavilion  Bad rating is mainly because of \" Chicken Bone...   \n",
       "9954  Chinese Pavilion  Checked in here to try some delicious chinese ...   \n",
       "\n",
       "                                    Review_Preprocessed  \\\n",
       "2     [('must', 'MD'), ('try', 'VB'), ('great', 'JJ'...   \n",
       "4     [('food', 'NN'), ('good', 'JJ'), ('ordered', '...   \n",
       "4     [('food', 'NN'), ('good', 'JJ'), ('ordered', '...   \n",
       "7     [('well', 'RB'), ('reading', 'VBG'), ('many', ...   \n",
       "7     [('well', 'RB'), ('reading', 'VBG'), ('many', ...   \n",
       "...                                                 ...   \n",
       "9952  [('bad', 'NNP'), ('rating', 'NN'), ('mainly', ...   \n",
       "9952  [('bad', 'NNP'), ('rating', 'NN'), ('mainly', ...   \n",
       "9952  [('bad', 'NNP'), ('rating', 'NN'), ('mainly', ...   \n",
       "9952  [('bad', 'NNP'), ('rating', 'NN'), ('mainly', ...   \n",
       "9954  [('checked', 'VBN'), ('try', 'VB'), ('deliciou...   \n",
       "\n",
       "                                               Cuisines  \\\n",
       "2     Chinese, Continental, Kebab, European, South I...   \n",
       "4     Chinese, Continental, Kebab, European, South I...   \n",
       "4     Chinese, Continental, Kebab, European, South I...   \n",
       "7     Chinese, Continental, Kebab, European, South I...   \n",
       "7     Chinese, Continental, Kebab, European, South I...   \n",
       "...                                                 ...   \n",
       "9952                                   Chinese, Seafood   \n",
       "9952                                   Chinese, Seafood   \n",
       "9952                                   Chinese, Seafood   \n",
       "9952                                   Chinese, Seafood   \n",
       "9954                                   Chinese, Seafood   \n",
       "\n",
       "                             meals  \n",
       "2              penne alfredo pasta  \n",
       "4                  kodi drumsticks  \n",
       "4            basket mutton biryani  \n",
       "7                             corn  \n",
       "7                        tawa fish  \n",
       "...                            ...  \n",
       "9952                  chicken bone  \n",
       "9952                    plum sauce  \n",
       "9952                   spicy sauce  \n",
       "9952  fried rice veg hakka noodles  \n",
       "9954        pepper chicken starter  \n",
       "\n",
       "[7197 rows x 5 columns]"
      ]
     },
     "execution_count": 14,
     "metadata": {},
     "output_type": "execute_result"
    }
   ],
   "source": [
    "meals_df"
   ]
  },
  {
   "cell_type": "code",
   "execution_count": 15,
   "metadata": {},
   "outputs": [],
   "source": [
    "meals_ser = meals_df['meals']"
   ]
  },
  {
   "cell_type": "code",
   "execution_count": 16,
   "metadata": {},
   "outputs": [],
   "source": [
    "meals_ser = meals_ser.str.lower()"
   ]
  },
  {
   "cell_type": "code",
   "execution_count": 17,
   "metadata": {},
   "outputs": [
    {
     "data": {
      "text/plain": [
       "2                penne alfredo pasta\n",
       "4                    kodi drumsticks\n",
       "4              basket mutton biryani\n",
       "7                               corn\n",
       "7                          tawa fish\n",
       "                    ...             \n",
       "9952                    chicken bone\n",
       "9952                      plum sauce\n",
       "9952                     spicy sauce\n",
       "9952    fried rice veg hakka noodles\n",
       "9954          pepper chicken starter\n",
       "Name: meals, Length: 7197, dtype: object"
      ]
     },
     "execution_count": 17,
     "metadata": {},
     "output_type": "execute_result"
    }
   ],
   "source": [
    "meals_ser"
   ]
  },
  {
   "cell_type": "code",
   "execution_count": 18,
   "metadata": {},
   "outputs": [],
   "source": [
    "\n",
    "from nltk.tokenize import word_tokenize\n",
    "from nltk.stem import WordNetLemmatizer"
   ]
  },
  {
   "cell_type": "code",
   "execution_count": 19,
   "metadata": {},
   "outputs": [],
   "source": [
    "lemmatizer = WordNetLemmatizer()\n",
    "\n",
    "meals_lemma = meals_ser.apply(lambda x: ' '.join([lemmatizer.lemmatize(word) for word in word_tokenize(x)]))"
   ]
  },
  {
   "cell_type": "code",
   "execution_count": 20,
   "metadata": {},
   "outputs": [
    {
     "data": {
      "text/plain": [
       "2                penne alfredo pasta\n",
       "4                    kodi drumsticks\n",
       "4              basket mutton biryani\n",
       "7                               corn\n",
       "7                          tawa fish\n",
       "                    ...             \n",
       "9952                    chicken bone\n",
       "9952                      plum sauce\n",
       "9952                     spicy sauce\n",
       "9952    fried rice veg hakka noodles\n",
       "9954          pepper chicken starter\n",
       "Name: meals, Length: 7197, dtype: object"
      ]
     },
     "execution_count": 20,
     "metadata": {},
     "output_type": "execute_result"
    }
   ],
   "source": [
    "meals_ser"
   ]
  },
  {
   "cell_type": "code",
   "execution_count": 21,
   "metadata": {},
   "outputs": [
    {
     "data": {
      "text/plain": [
       "2               penne alfredo pasta\n",
       "4                    kodi drumstick\n",
       "4             basket mutton biryani\n",
       "7                              corn\n",
       "7                         tawa fish\n",
       "                   ...             \n",
       "9952                   chicken bone\n",
       "9952                     plum sauce\n",
       "9952                    spicy sauce\n",
       "9952    fried rice veg hakka noodle\n",
       "9954         pepper chicken starter\n",
       "Name: meals, Length: 7197, dtype: object"
      ]
     },
     "execution_count": 21,
     "metadata": {},
     "output_type": "execute_result"
    }
   ],
   "source": [
    "meals_lemma"
   ]
  },
  {
   "cell_type": "code",
   "execution_count": 22,
   "metadata": {},
   "outputs": [],
   "source": [
    "diff = meals_ser.compare(meals_lemma)"
   ]
  },
  {
   "cell_type": "code",
   "execution_count": 23,
   "metadata": {},
   "outputs": [
    {
     "data": {
      "text/html": [
       "<div>\n",
       "<style scoped>\n",
       "    .dataframe tbody tr th:only-of-type {\n",
       "        vertical-align: middle;\n",
       "    }\n",
       "\n",
       "    .dataframe tbody tr th {\n",
       "        vertical-align: top;\n",
       "    }\n",
       "\n",
       "    .dataframe thead th {\n",
       "        text-align: right;\n",
       "    }\n",
       "</style>\n",
       "<table border=\"1\" class=\"dataframe\">\n",
       "  <thead>\n",
       "    <tr style=\"text-align: right;\">\n",
       "      <th></th>\n",
       "      <th>self</th>\n",
       "      <th>other</th>\n",
       "    </tr>\n",
       "  </thead>\n",
       "  <tbody>\n",
       "    <tr>\n",
       "      <th>4</th>\n",
       "      <td>kodi drumsticks</td>\n",
       "      <td>kodi drumstick</td>\n",
       "    </tr>\n",
       "    <tr>\n",
       "      <th>14</th>\n",
       "      <td>corn cheese balls</td>\n",
       "      <td>corn cheese ball</td>\n",
       "    </tr>\n",
       "    <tr>\n",
       "      <th>15</th>\n",
       "      <td>cheese balls</td>\n",
       "      <td>cheese ball</td>\n",
       "    </tr>\n",
       "    <tr>\n",
       "      <th>20</th>\n",
       "      <td>honey chilli lotus stems</td>\n",
       "      <td>honey chilli lotus stem</td>\n",
       "    </tr>\n",
       "    <tr>\n",
       "      <th>20</th>\n",
       "      <td>basket biryanis</td>\n",
       "      <td>basket biryani</td>\n",
       "    </tr>\n",
       "    <tr>\n",
       "      <th>...</th>\n",
       "      <td>...</td>\n",
       "      <td>...</td>\n",
       "    </tr>\n",
       "    <tr>\n",
       "      <th>9941</th>\n",
       "      <td>noodles brownie</td>\n",
       "      <td>noodle brownie</td>\n",
       "    </tr>\n",
       "    <tr>\n",
       "      <th>9942</th>\n",
       "      <td>black bean noodles</td>\n",
       "      <td>black bean noodle</td>\n",
       "    </tr>\n",
       "    <tr>\n",
       "      <th>9943</th>\n",
       "      <td>korean noodles</td>\n",
       "      <td>korean noodle</td>\n",
       "    </tr>\n",
       "    <tr>\n",
       "      <th>9950</th>\n",
       "      <td>fish cakes</td>\n",
       "      <td>fish cake</td>\n",
       "    </tr>\n",
       "    <tr>\n",
       "      <th>9952</th>\n",
       "      <td>fried rice veg hakka noodles</td>\n",
       "      <td>fried rice veg hakka noodle</td>\n",
       "    </tr>\n",
       "  </tbody>\n",
       "</table>\n",
       "<p>1171 rows × 2 columns</p>\n",
       "</div>"
      ],
      "text/plain": [
       "                              self                        other\n",
       "4                  kodi drumsticks               kodi drumstick\n",
       "14               corn cheese balls             corn cheese ball\n",
       "15                    cheese balls                  cheese ball\n",
       "20        honey chilli lotus stems      honey chilli lotus stem\n",
       "20                 basket biryanis               basket biryani\n",
       "...                            ...                          ...\n",
       "9941               noodles brownie               noodle brownie\n",
       "9942            black bean noodles            black bean noodle\n",
       "9943                korean noodles                korean noodle\n",
       "9950                    fish cakes                    fish cake\n",
       "9952  fried rice veg hakka noodles  fried rice veg hakka noodle\n",
       "\n",
       "[1171 rows x 2 columns]"
      ]
     },
     "execution_count": 23,
     "metadata": {},
     "output_type": "execute_result"
    }
   ],
   "source": [
    "diff"
   ]
  },
  {
   "cell_type": "code",
   "execution_count": 24,
   "metadata": {},
   "outputs": [],
   "source": [
    "meals_lemma = meals_lemma.drop_duplicates()"
   ]
  },
  {
   "cell_type": "markdown",
   "metadata": {},
   "source": [
    "IDEAS:\n",
    "\n",
    "put into clusters like e.g. drink, dessert, main dish, soup (or more detailed)"
   ]
  },
  {
   "cell_type": "code",
   "execution_count": null,
   "metadata": {},
   "outputs": [],
   "source": []
  }
 ],
 "metadata": {
  "kernelspec": {
   "display_name": "text-mining1",
   "language": "python",
   "name": "python3"
  },
  "language_info": {
   "codemirror_mode": {
    "name": "ipython",
    "version": 3
   },
   "file_extension": ".py",
   "mimetype": "text/x-python",
   "name": "python",
   "nbconvert_exporter": "python",
   "pygments_lexer": "ipython3",
   "version": "3.10.9"
  }
 },
 "nbformat": 4,
 "nbformat_minor": 2
}
