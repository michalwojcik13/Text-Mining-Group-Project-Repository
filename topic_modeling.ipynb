{
 "cells": [
  {
   "cell_type": "markdown",
   "metadata": {},
   "source": [
    "Basic tutorial - https://colab.research.google.com/drive/1FieRA9fLdkQEGDIMYl0I3MCjSUKVF8C-?usp=sharing#scrollTo=S9qDqEHddgKq\n",
    "\n",
    "Best practices - https://colab.research.google.com/drive/1BoQ_vakEVtojsd2x_U6-_x52OOuqruj2?usp=sharing"
   ]
  },
  {
   "cell_type": "code",
   "execution_count": 1,
   "metadata": {},
   "outputs": [
    {
     "name": "stderr",
     "output_type": "stream",
     "text": [
      "[nltk_data] Downloading package stopwords to\n",
      "[nltk_data]     C:\\Users\\User\\AppData\\Roaming\\nltk_data...\n",
      "[nltk_data]   Package stopwords is already up-to-date!\n",
      "[nltk_data] Downloading package punkt to\n",
      "[nltk_data]     C:\\Users\\User\\AppData\\Roaming\\nltk_data...\n",
      "[nltk_data]   Package punkt is already up-to-date!\n",
      "[nltk_data] Downloading package averaged_perceptron_tagger to\n",
      "[nltk_data]     C:\\Users\\User\\AppData\\Roaming\\nltk_data...\n",
      "[nltk_data]   Package averaged_perceptron_tagger is already up-to-\n",
      "[nltk_data]       date!\n",
      "[nltk_data] Downloading package averaged_perceptron_tagger_eng to\n",
      "[nltk_data]     C:\\Users\\User\\AppData\\Roaming\\nltk_data...\n",
      "[nltk_data]   Package averaged_perceptron_tagger_eng is already up-to-\n",
      "[nltk_data]       date!\n"
     ]
    },
    {
     "data": {
      "text/plain": [
       "True"
      ]
     },
     "execution_count": 1,
     "metadata": {},
     "output_type": "execute_result"
    }
   ],
   "source": [
    "import time\n",
    "import numpy as np\n",
    "import pandas as pd\n",
    "import re\n",
    "import matplotlib.pyplot as plt\n",
    "import emoji\n",
    "import Preprocessing as preproc\n",
    "import nltk\n",
    "import warnings\n",
    "warnings.filterwarnings(\"ignore\")\n",
    "\n",
    "nltk.download('stopwords')\n",
    "nltk.download('punkt')\n",
    "nltk.download('averaged_perceptron_tagger')\n",
    "nltk.download('averaged_perceptron_tagger_eng')"
   ]
  },
  {
   "cell_type": "code",
   "execution_count": 2,
   "metadata": {},
   "outputs": [],
   "source": [
    "reviews_raw = pd.read_csv(r\"data_hyderabad/10k_reviews.csv\")"
   ]
  },
  {
   "cell_type": "code",
   "execution_count": 3,
   "metadata": {},
   "outputs": [
    {
     "data": {
      "text/plain": [
       "Restaurant    0\n",
       "Reviewer      0\n",
       "Review        0\n",
       "Rating        0\n",
       "Metadata      0\n",
       "Time          0\n",
       "Pictures      0\n",
       "dtype: int64"
      ]
     },
     "execution_count": 3,
     "metadata": {},
     "output_type": "execute_result"
    }
   ],
   "source": [
    "reviews_data = reviews_raw[reviews_raw[\"Rating\"].notna() & reviews_raw[\"Review\"].notna()]\n",
    "reviews_data.isna().sum()"
   ]
  },
  {
   "cell_type": "code",
   "execution_count": 4,
   "metadata": {},
   "outputs": [],
   "source": [
    "# split UPPERCASE WORDS \n",
    "def splitting_words_process(word):\n",
    "    # only upper case letters\n",
    "    if word.isupper():\n",
    "        return word\n",
    "    \n",
    "    # more than one upper case letter inside\n",
    "    elif re.search(r'[A-Z][a-z]*[A-Z]', word):\n",
    "        split_word = re.findall(r'[A-Z][a-z]*', word)\n",
    "        return ' '.join(split_word)\n",
    "    \n",
    "    # <2 upper case letters\n",
    "    else:\n",
    "        return word\n",
    "\n",
    "reviews_data['Review'] = reviews_data['Review'].apply(lambda x: ' '.join([splitting_words_process(word) for word in x.split()]))"
   ]
  },
  {
   "cell_type": "code",
   "execution_count": 5,
   "metadata": {},
   "outputs": [],
   "source": [
    "# Function to replace 'gud', 'goo', 'gd' with the appropriate 'good'\n",
    "def replace_gud_with_good(text):\n",
    "    if isinstance(text, str):\n",
    "        # Define the regex pattern to match 'gud', 'goo', 'gd' in various capitalizations\n",
    "        pattern = re.compile(r'\\b([Gg][Uu][Dd]|[Gg][Oo][Oo]|[Gg][Dd])\\b')\n",
    "\n",
    "        # Replacement function to check the case of the first letter\n",
    "        def replacement(match):\n",
    "            word = match.group()\n",
    "            # Check if the first letter is uppercase, then return 'Good', else 'good'\n",
    "            if word[0].isupper():\n",
    "                return 'Good'\n",
    "            else:\n",
    "                return 'good'\n",
    "        \n",
    "        # Use re.sub to apply the replacement function\n",
    "        return pattern.sub(replacement, text)\n",
    "    \n",
    "    return text\n",
    "\n",
    "# Apply the function to the 'Review' column to replace the variants of 'good'\n",
    "reviews_data['Review'] = reviews_data['Review'].apply(replace_gud_with_good)"
   ]
  },
  {
   "cell_type": "code",
   "execution_count": 6,
   "metadata": {},
   "outputs": [],
   "source": [
    "# Function to replace 'kk', 'Oke', 'k', 'Ok' with 'ok'\n",
    "def replace_to_ok(text):\n",
    "    if isinstance(text, str):\n",
    "        # Define the regex pattern to match the variants of 'ok'\n",
    "        pattern = re.compile(r'\\b(k|kk|Ok|Oke)\\b', re.IGNORECASE)\n",
    "\n",
    "        # Replacement function to return 'ok' for all matched words\n",
    "        def replacement(match):\n",
    "            return 'ok'\n",
    "        \n",
    "        # Use re.sub to apply the replacement function\n",
    "        return pattern.sub(replacement, text)\n",
    "    \n",
    "    return text\n",
    "\n",
    "# Apply the function to the 'Review' column to replace the variants of 'ok'\n",
    "reviews_data['Review'] = reviews_data['Review'].apply(replace_to_ok)"
   ]
  },
  {
   "cell_type": "code",
   "execution_count": 7,
   "metadata": {},
   "outputs": [],
   "source": [
    "# add space after ! | \" | # | $ | % | & | ( | ) | * | + | , | . | : | ; followed immediately by a word\n",
    "def add_space_after_punctuation(df):\n",
    "\n",
    "    df['Review'] = df['Review'].apply(lambda text: re.sub(r'([\\u0021-\\u0026\\u0028-\\u002C\\u002E\\u003A-\\u003F]+(?=\\w))', r'\\1 ', text) if isinstance(text, str) else text)\n",
    "    return df\n",
    "\n",
    "# Example usage:\n",
    "reviews_data = add_space_after_punctuation(reviews_data)"
   ]
  },
  {
   "cell_type": "code",
   "execution_count": 8,
   "metadata": {},
   "outputs": [],
   "source": [
    "# remove gibberish words like \"ggggggggggd\", \"eshjdgue\"\n",
    "def remove_gibberish(text):\n",
    "    cleaned_text = re.sub(r'\\b\\w{15,}\\b', '', text)  # removes 15+ words\n",
    "    cleaned_text = re.sub(r'\\b\\w*(\\w)\\1{2,}\\w*\\b', '', cleaned_text)  # removes words that contain 3+ repeating letters\n",
    "\n",
    "    return cleaned_text\n",
    "\n",
    "reviews_data['Review'] = reviews_data['Review'].apply(remove_gibberish)"
   ]
  },
  {
   "cell_type": "code",
   "execution_count": 9,
   "metadata": {},
   "outputs": [],
   "source": [
    "def remove_space_before_punctuation(text):\n",
    "    if isinstance(text, str):\n",
    "        # Define the regex pattern to match spaces before punctuation\n",
    "        pattern = re.compile(r'\\s+([?.!,;:])')\n",
    "        \n",
    "        # Use re.sub to remove spaces before punctuation\n",
    "        return pattern.sub(r'\\1', text)\n",
    "    \n",
    "    return text\n",
    "\n",
    "# Apply the function to the 'Review' column to remove spaces before punctuation\n",
    "reviews_data['Review'] = reviews_data['Review'].apply(remove_space_before_punctuation)"
   ]
  },
  {
   "cell_type": "code",
   "execution_count": 10,
   "metadata": {},
   "outputs": [],
   "source": [
    "reviews_preproc = reviews_data['Review'].apply(lambda x: preproc.main_pipeline(\n",
    "    x, \n",
    "    print_output=False, \n",
    "    no_stopwords=False,\n",
    "    custom_stopwords=[],\n",
    "    convert_diacritics=True, \n",
    "    no_punctuation=False,\n",
    "    remove_contractions = True,\n",
    "    lowercase=False,\n",
    "    lemmatized=False,\n",
    "    stemmed=False, \n",
    "    tokenized_output=False\n",
    "))"
   ]
  },
  {
   "cell_type": "code",
   "execution_count": 11,
   "metadata": {},
   "outputs": [],
   "source": [
    "def remove_space_before_punctuation(text):\n",
    "    if isinstance(text, str):\n",
    "        # Define the regex pattern to match spaces before punctuation\n",
    "        pattern = re.compile(r'\\s+([?.!,;:])')\n",
    "        \n",
    "        # Use re.sub to remove spaces before punctuation\n",
    "        return pattern.sub(r'\\1', text)\n",
    "    \n",
    "    return text\n",
    "\n",
    "# Apply the function to the 'Review' column to remove spaces before punctuation\n",
    "reviews_preproc = reviews_preproc.apply(remove_space_before_punctuation)"
   ]
  },
  {
   "cell_type": "code",
   "execution_count": 12,
   "metadata": {},
   "outputs": [],
   "source": [
    "reviews_preproc = reviews_preproc[reviews_preproc.apply(lambda x: len(x) >= 3 if isinstance(x, str) else False)]"
   ]
  },
  {
   "cell_type": "code",
   "execution_count": 267,
   "metadata": {},
   "outputs": [
    {
     "data": {
      "text/plain": [
       "9911"
      ]
     },
     "execution_count": 267,
     "metadata": {},
     "output_type": "execute_result"
    }
   ],
   "source": [
    "len(reviews_preproc)"
   ]
  },
  {
   "cell_type": "code",
   "execution_count": 35,
   "metadata": {},
   "outputs": [
    {
     "ename": "KeyboardInterrupt",
     "evalue": "",
     "output_type": "error",
     "traceback": [
      "\u001b[1;31m---------------------------------------------------------------------------\u001b[0m",
      "\u001b[1;31mKeyboardInterrupt\u001b[0m                         Traceback (most recent call last)",
      "Cell \u001b[1;32mIn[35], line 22\u001b[0m\n\u001b[0;32m     19\u001b[0m     \u001b[38;5;28;01mreturn\u001b[39;00m text\n\u001b[0;32m     21\u001b[0m \u001b[38;5;66;03m# Apply the function to the 'Review' column to correct spelling mistakes\u001b[39;00m\n\u001b[1;32m---> 22\u001b[0m reviews_preproc_spell \u001b[38;5;241m=\u001b[39m\u001b[43mreviews_preproc\u001b[49m\u001b[38;5;241;43m.\u001b[39;49m\u001b[43mapply\u001b[49m\u001b[43m(\u001b[49m\u001b[43mcorrect_spelling\u001b[49m\u001b[43m)\u001b[49m\n",
      "File \u001b[1;32mc:\\Users\\User\\anaconda3\\envs\\text-mining1\\lib\\site-packages\\pandas\\core\\series.py:4771\u001b[0m, in \u001b[0;36mSeries.apply\u001b[1;34m(self, func, convert_dtype, args, **kwargs)\u001b[0m\n\u001b[0;32m   4661\u001b[0m \u001b[38;5;28;01mdef\u001b[39;00m \u001b[38;5;21mapply\u001b[39m(\n\u001b[0;32m   4662\u001b[0m     \u001b[38;5;28mself\u001b[39m,\n\u001b[0;32m   4663\u001b[0m     func: AggFuncType,\n\u001b[1;32m   (...)\u001b[0m\n\u001b[0;32m   4666\u001b[0m     \u001b[38;5;241m*\u001b[39m\u001b[38;5;241m*\u001b[39mkwargs,\n\u001b[0;32m   4667\u001b[0m ) \u001b[38;5;241m-\u001b[39m\u001b[38;5;241m>\u001b[39m DataFrame \u001b[38;5;241m|\u001b[39m Series:\n\u001b[0;32m   4668\u001b[0m \u001b[38;5;250m    \u001b[39m\u001b[38;5;124;03m\"\"\"\u001b[39;00m\n\u001b[0;32m   4669\u001b[0m \u001b[38;5;124;03m    Invoke function on values of Series.\u001b[39;00m\n\u001b[0;32m   4670\u001b[0m \n\u001b[1;32m   (...)\u001b[0m\n\u001b[0;32m   4769\u001b[0m \u001b[38;5;124;03m    dtype: float64\u001b[39;00m\n\u001b[0;32m   4770\u001b[0m \u001b[38;5;124;03m    \"\"\"\u001b[39;00m\n\u001b[1;32m-> 4771\u001b[0m     \u001b[38;5;28;01mreturn\u001b[39;00m \u001b[43mSeriesApply\u001b[49m\u001b[43m(\u001b[49m\u001b[38;5;28;43mself\u001b[39;49m\u001b[43m,\u001b[49m\u001b[43m \u001b[49m\u001b[43mfunc\u001b[49m\u001b[43m,\u001b[49m\u001b[43m \u001b[49m\u001b[43mconvert_dtype\u001b[49m\u001b[43m,\u001b[49m\u001b[43m \u001b[49m\u001b[43margs\u001b[49m\u001b[43m,\u001b[49m\u001b[43m \u001b[49m\u001b[43mkwargs\u001b[49m\u001b[43m)\u001b[49m\u001b[38;5;241;43m.\u001b[39;49m\u001b[43mapply\u001b[49m\u001b[43m(\u001b[49m\u001b[43m)\u001b[49m\n",
      "File \u001b[1;32mc:\\Users\\User\\anaconda3\\envs\\text-mining1\\lib\\site-packages\\pandas\\core\\apply.py:1123\u001b[0m, in \u001b[0;36mSeriesApply.apply\u001b[1;34m(self)\u001b[0m\n\u001b[0;32m   1120\u001b[0m     \u001b[38;5;28;01mreturn\u001b[39;00m \u001b[38;5;28mself\u001b[39m\u001b[38;5;241m.\u001b[39mapply_str()\n\u001b[0;32m   1122\u001b[0m \u001b[38;5;66;03m# self.f is Callable\u001b[39;00m\n\u001b[1;32m-> 1123\u001b[0m \u001b[38;5;28;01mreturn\u001b[39;00m \u001b[38;5;28;43mself\u001b[39;49m\u001b[38;5;241;43m.\u001b[39;49m\u001b[43mapply_standard\u001b[49m\u001b[43m(\u001b[49m\u001b[43m)\u001b[49m\n",
      "File \u001b[1;32mc:\\Users\\User\\anaconda3\\envs\\text-mining1\\lib\\site-packages\\pandas\\core\\apply.py:1174\u001b[0m, in \u001b[0;36mSeriesApply.apply_standard\u001b[1;34m(self)\u001b[0m\n\u001b[0;32m   1172\u001b[0m     \u001b[38;5;28;01melse\u001b[39;00m:\n\u001b[0;32m   1173\u001b[0m         values \u001b[38;5;241m=\u001b[39m obj\u001b[38;5;241m.\u001b[39mastype(\u001b[38;5;28mobject\u001b[39m)\u001b[38;5;241m.\u001b[39m_values\n\u001b[1;32m-> 1174\u001b[0m         mapped \u001b[38;5;241m=\u001b[39m \u001b[43mlib\u001b[49m\u001b[38;5;241;43m.\u001b[39;49m\u001b[43mmap_infer\u001b[49m\u001b[43m(\u001b[49m\n\u001b[0;32m   1175\u001b[0m \u001b[43m            \u001b[49m\u001b[43mvalues\u001b[49m\u001b[43m,\u001b[49m\n\u001b[0;32m   1176\u001b[0m \u001b[43m            \u001b[49m\u001b[43mf\u001b[49m\u001b[43m,\u001b[49m\n\u001b[0;32m   1177\u001b[0m \u001b[43m            \u001b[49m\u001b[43mconvert\u001b[49m\u001b[38;5;241;43m=\u001b[39;49m\u001b[38;5;28;43mself\u001b[39;49m\u001b[38;5;241;43m.\u001b[39;49m\u001b[43mconvert_dtype\u001b[49m\u001b[43m,\u001b[49m\n\u001b[0;32m   1178\u001b[0m \u001b[43m        \u001b[49m\u001b[43m)\u001b[49m\n\u001b[0;32m   1180\u001b[0m \u001b[38;5;28;01mif\u001b[39;00m \u001b[38;5;28mlen\u001b[39m(mapped) \u001b[38;5;129;01mand\u001b[39;00m \u001b[38;5;28misinstance\u001b[39m(mapped[\u001b[38;5;241m0\u001b[39m], ABCSeries):\n\u001b[0;32m   1181\u001b[0m     \u001b[38;5;66;03m# GH#43986 Need to do list(mapped) in order to get treated as nested\u001b[39;00m\n\u001b[0;32m   1182\u001b[0m     \u001b[38;5;66;03m#  See also GH#25959 regarding EA support\u001b[39;00m\n\u001b[0;32m   1183\u001b[0m     \u001b[38;5;28;01mreturn\u001b[39;00m obj\u001b[38;5;241m.\u001b[39m_constructor_expanddim(\u001b[38;5;28mlist\u001b[39m(mapped), index\u001b[38;5;241m=\u001b[39mobj\u001b[38;5;241m.\u001b[39mindex)\n",
      "File \u001b[1;32mc:\\Users\\User\\anaconda3\\envs\\text-mining1\\lib\\site-packages\\pandas\\_libs\\lib.pyx:2924\u001b[0m, in \u001b[0;36mpandas._libs.lib.map_infer\u001b[1;34m()\u001b[0m\n",
      "Cell \u001b[1;32mIn[35], line 12\u001b[0m, in \u001b[0;36mcorrect_spelling\u001b[1;34m(text)\u001b[0m\n\u001b[0;32m      9\u001b[0m words \u001b[38;5;241m=\u001b[39m text\u001b[38;5;241m.\u001b[39msplit()\n\u001b[0;32m     11\u001b[0m \u001b[38;5;66;03m# Correct the spelling of each word\u001b[39;00m\n\u001b[1;32m---> 12\u001b[0m corrected_words \u001b[38;5;241m=\u001b[39m [spell\u001b[38;5;241m.\u001b[39mcorrection(word) \u001b[38;5;28;01mif\u001b[39;00m spell\u001b[38;5;241m.\u001b[39mcorrection(word) \u001b[38;5;129;01mis\u001b[39;00m \u001b[38;5;129;01mnot\u001b[39;00m \u001b[38;5;28;01mNone\u001b[39;00m \u001b[38;5;28;01melse\u001b[39;00m word \u001b[38;5;28;01mfor\u001b[39;00m word \u001b[38;5;129;01min\u001b[39;00m words]\n\u001b[0;32m     14\u001b[0m \u001b[38;5;66;03m# Join the corrected words back into a single string\u001b[39;00m\n\u001b[0;32m     15\u001b[0m corrected_text \u001b[38;5;241m=\u001b[39m \u001b[38;5;124m'\u001b[39m\u001b[38;5;124m \u001b[39m\u001b[38;5;124m'\u001b[39m\u001b[38;5;241m.\u001b[39mjoin(corrected_words)\n",
      "Cell \u001b[1;32mIn[35], line 12\u001b[0m, in \u001b[0;36m<listcomp>\u001b[1;34m(.0)\u001b[0m\n\u001b[0;32m      9\u001b[0m words \u001b[38;5;241m=\u001b[39m text\u001b[38;5;241m.\u001b[39msplit()\n\u001b[0;32m     11\u001b[0m \u001b[38;5;66;03m# Correct the spelling of each word\u001b[39;00m\n\u001b[1;32m---> 12\u001b[0m corrected_words \u001b[38;5;241m=\u001b[39m [\u001b[43mspell\u001b[49m\u001b[38;5;241;43m.\u001b[39;49m\u001b[43mcorrection\u001b[49m\u001b[43m(\u001b[49m\u001b[43mword\u001b[49m\u001b[43m)\u001b[49m \u001b[38;5;28;01mif\u001b[39;00m spell\u001b[38;5;241m.\u001b[39mcorrection(word) \u001b[38;5;129;01mis\u001b[39;00m \u001b[38;5;129;01mnot\u001b[39;00m \u001b[38;5;28;01mNone\u001b[39;00m \u001b[38;5;28;01melse\u001b[39;00m word \u001b[38;5;28;01mfor\u001b[39;00m word \u001b[38;5;129;01min\u001b[39;00m words]\n\u001b[0;32m     14\u001b[0m \u001b[38;5;66;03m# Join the corrected words back into a single string\u001b[39;00m\n\u001b[0;32m     15\u001b[0m corrected_text \u001b[38;5;241m=\u001b[39m \u001b[38;5;124m'\u001b[39m\u001b[38;5;124m \u001b[39m\u001b[38;5;124m'\u001b[39m\u001b[38;5;241m.\u001b[39mjoin(corrected_words)\n",
      "File \u001b[1;32mc:\\Users\\User\\anaconda3\\envs\\text-mining1\\lib\\site-packages\\spellchecker\\spellchecker.py:158\u001b[0m, in \u001b[0;36mSpellChecker.correction\u001b[1;34m(self, word)\u001b[0m\n\u001b[0;32m    151\u001b[0m \u001b[38;5;250m\u001b[39m\u001b[38;5;124;03m\"\"\"The most probable correct spelling for the word\u001b[39;00m\n\u001b[0;32m    152\u001b[0m \n\u001b[0;32m    153\u001b[0m \u001b[38;5;124;03mArgs:\u001b[39;00m\n\u001b[0;32m    154\u001b[0m \u001b[38;5;124;03m    word (str): The word to correct\u001b[39;00m\n\u001b[0;32m    155\u001b[0m \u001b[38;5;124;03mReturns:\u001b[39;00m\n\u001b[0;32m    156\u001b[0m \u001b[38;5;124;03m    str: The most likely candidate or None if no correction is present\"\"\"\u001b[39;00m\n\u001b[0;32m    157\u001b[0m word \u001b[38;5;241m=\u001b[39m ensure_unicode(word)\n\u001b[1;32m--> 158\u001b[0m candidates \u001b[38;5;241m=\u001b[39m \u001b[38;5;28;43mself\u001b[39;49m\u001b[38;5;241;43m.\u001b[39;49m\u001b[43mcandidates\u001b[49m\u001b[43m(\u001b[49m\u001b[43mword\u001b[49m\u001b[43m)\u001b[49m\n\u001b[0;32m    159\u001b[0m \u001b[38;5;28;01mif\u001b[39;00m \u001b[38;5;129;01mnot\u001b[39;00m candidates:\n\u001b[0;32m    160\u001b[0m     \u001b[38;5;28;01mreturn\u001b[39;00m \u001b[38;5;28;01mNone\u001b[39;00m\n",
      "File \u001b[1;32mc:\\Users\\User\\anaconda3\\envs\\text-mining1\\lib\\site-packages\\spellchecker\\spellchecker.py:185\u001b[0m, in \u001b[0;36mSpellChecker.candidates\u001b[1;34m(self, word)\u001b[0m\n\u001b[0;32m    183\u001b[0m \u001b[38;5;66;03m# if still not found, use the edit distance 1 to calc edit distance 2\u001b[39;00m\n\u001b[0;32m    184\u001b[0m \u001b[38;5;28;01mif\u001b[39;00m \u001b[38;5;28mself\u001b[39m\u001b[38;5;241m.\u001b[39m_distance \u001b[38;5;241m==\u001b[39m \u001b[38;5;241m2\u001b[39m:\n\u001b[1;32m--> 185\u001b[0m     tmp \u001b[38;5;241m=\u001b[39m \u001b[38;5;28mself\u001b[39m\u001b[38;5;241m.\u001b[39mknown(\u001b[38;5;28mlist\u001b[39m(\u001b[38;5;28;43mself\u001b[39;49m\u001b[38;5;241;43m.\u001b[39;49m\u001b[43m__edit_distance_alt\u001b[49m\u001b[43m(\u001b[49m\u001b[43mres\u001b[49m\u001b[43m)\u001b[49m))\n\u001b[0;32m    186\u001b[0m     \u001b[38;5;28;01mif\u001b[39;00m tmp:\n\u001b[0;32m    187\u001b[0m         \u001b[38;5;28;01mreturn\u001b[39;00m tmp\n",
      "File \u001b[1;32mc:\\Users\\User\\anaconda3\\envs\\text-mining1\\lib\\site-packages\\spellchecker\\spellchecker.py:252\u001b[0m, in \u001b[0;36mSpellChecker.__edit_distance_alt\u001b[1;34m(self, words)\u001b[0m\n\u001b[0;32m    250\u001b[0m tmp_words \u001b[38;5;241m=\u001b[39m [ensure_unicode(w) \u001b[38;5;28;01mfor\u001b[39;00m w \u001b[38;5;129;01min\u001b[39;00m words]\n\u001b[0;32m    251\u001b[0m tmp \u001b[38;5;241m=\u001b[39m [w \u001b[38;5;28;01mif\u001b[39;00m \u001b[38;5;28mself\u001b[39m\u001b[38;5;241m.\u001b[39m_case_sensitive \u001b[38;5;28;01melse\u001b[39;00m w\u001b[38;5;241m.\u001b[39mlower() \u001b[38;5;28;01mfor\u001b[39;00m w \u001b[38;5;129;01min\u001b[39;00m tmp_words \u001b[38;5;28;01mif\u001b[39;00m \u001b[38;5;28mself\u001b[39m\u001b[38;5;241m.\u001b[39m_check_if_should_check(w)]\n\u001b[1;32m--> 252\u001b[0m \u001b[38;5;28;01mreturn\u001b[39;00m [e2 \u001b[38;5;28;01mfor\u001b[39;00m e1 \u001b[38;5;129;01min\u001b[39;00m tmp \u001b[38;5;28;01mfor\u001b[39;00m e2 \u001b[38;5;129;01min\u001b[39;00m \u001b[38;5;28mself\u001b[39m\u001b[38;5;241m.\u001b[39mknown(\u001b[38;5;28mself\u001b[39m\u001b[38;5;241m.\u001b[39medit_distance_1(e1))]\n",
      "File \u001b[1;32mc:\\Users\\User\\anaconda3\\envs\\text-mining1\\lib\\site-packages\\spellchecker\\spellchecker.py:252\u001b[0m, in \u001b[0;36m<listcomp>\u001b[1;34m(.0)\u001b[0m\n\u001b[0;32m    250\u001b[0m tmp_words \u001b[38;5;241m=\u001b[39m [ensure_unicode(w) \u001b[38;5;28;01mfor\u001b[39;00m w \u001b[38;5;129;01min\u001b[39;00m words]\n\u001b[0;32m    251\u001b[0m tmp \u001b[38;5;241m=\u001b[39m [w \u001b[38;5;28;01mif\u001b[39;00m \u001b[38;5;28mself\u001b[39m\u001b[38;5;241m.\u001b[39m_case_sensitive \u001b[38;5;28;01melse\u001b[39;00m w\u001b[38;5;241m.\u001b[39mlower() \u001b[38;5;28;01mfor\u001b[39;00m w \u001b[38;5;129;01min\u001b[39;00m tmp_words \u001b[38;5;28;01mif\u001b[39;00m \u001b[38;5;28mself\u001b[39m\u001b[38;5;241m.\u001b[39m_check_if_should_check(w)]\n\u001b[1;32m--> 252\u001b[0m \u001b[38;5;28;01mreturn\u001b[39;00m [e2 \u001b[38;5;28;01mfor\u001b[39;00m e1 \u001b[38;5;129;01min\u001b[39;00m tmp \u001b[38;5;28;01mfor\u001b[39;00m e2 \u001b[38;5;129;01min\u001b[39;00m \u001b[38;5;28mself\u001b[39m\u001b[38;5;241m.\u001b[39mknown(\u001b[38;5;28;43mself\u001b[39;49m\u001b[38;5;241;43m.\u001b[39;49m\u001b[43medit_distance_1\u001b[49m\u001b[43m(\u001b[49m\u001b[43me1\u001b[49m\u001b[43m)\u001b[49m)]\n",
      "File \u001b[1;32mc:\\Users\\User\\anaconda3\\envs\\text-mining1\\lib\\site-packages\\spellchecker\\spellchecker.py:227\u001b[0m, in \u001b[0;36mSpellChecker.edit_distance_1\u001b[1;34m(self, word)\u001b[0m\n\u001b[0;32m    225\u001b[0m deletes \u001b[38;5;241m=\u001b[39m [L \u001b[38;5;241m+\u001b[39m R[\u001b[38;5;241m1\u001b[39m:] \u001b[38;5;28;01mfor\u001b[39;00m L, R \u001b[38;5;129;01min\u001b[39;00m splits \u001b[38;5;28;01mif\u001b[39;00m R]\n\u001b[0;32m    226\u001b[0m transposes \u001b[38;5;241m=\u001b[39m [L \u001b[38;5;241m+\u001b[39m R[\u001b[38;5;241m1\u001b[39m] \u001b[38;5;241m+\u001b[39m R[\u001b[38;5;241m0\u001b[39m] \u001b[38;5;241m+\u001b[39m R[\u001b[38;5;241m2\u001b[39m:] \u001b[38;5;28;01mfor\u001b[39;00m L, R \u001b[38;5;129;01min\u001b[39;00m splits \u001b[38;5;28;01mif\u001b[39;00m \u001b[38;5;28mlen\u001b[39m(R) \u001b[38;5;241m>\u001b[39m \u001b[38;5;241m1\u001b[39m]\n\u001b[1;32m--> 227\u001b[0m replaces \u001b[38;5;241m=\u001b[39m [L \u001b[38;5;241m+\u001b[39m c \u001b[38;5;241m+\u001b[39m R[\u001b[38;5;241m1\u001b[39m:] \u001b[38;5;28;01mfor\u001b[39;00m L, R \u001b[38;5;129;01min\u001b[39;00m splits \u001b[38;5;28;01mif\u001b[39;00m R \u001b[38;5;28;01mfor\u001b[39;00m c \u001b[38;5;129;01min\u001b[39;00m letters]\n\u001b[0;32m    228\u001b[0m inserts \u001b[38;5;241m=\u001b[39m [L \u001b[38;5;241m+\u001b[39m c \u001b[38;5;241m+\u001b[39m R \u001b[38;5;28;01mfor\u001b[39;00m L, R \u001b[38;5;129;01min\u001b[39;00m splits \u001b[38;5;28;01mfor\u001b[39;00m c \u001b[38;5;129;01min\u001b[39;00m letters]\n\u001b[0;32m    229\u001b[0m \u001b[38;5;28;01mreturn\u001b[39;00m \u001b[38;5;28mset\u001b[39m(deletes \u001b[38;5;241m+\u001b[39m transposes \u001b[38;5;241m+\u001b[39m replaces \u001b[38;5;241m+\u001b[39m inserts)\n",
      "File \u001b[1;32mc:\\Users\\User\\anaconda3\\envs\\text-mining1\\lib\\site-packages\\spellchecker\\spellchecker.py:227\u001b[0m, in \u001b[0;36m<listcomp>\u001b[1;34m(.0)\u001b[0m\n\u001b[0;32m    225\u001b[0m deletes \u001b[38;5;241m=\u001b[39m [L \u001b[38;5;241m+\u001b[39m R[\u001b[38;5;241m1\u001b[39m:] \u001b[38;5;28;01mfor\u001b[39;00m L, R \u001b[38;5;129;01min\u001b[39;00m splits \u001b[38;5;28;01mif\u001b[39;00m R]\n\u001b[0;32m    226\u001b[0m transposes \u001b[38;5;241m=\u001b[39m [L \u001b[38;5;241m+\u001b[39m R[\u001b[38;5;241m1\u001b[39m] \u001b[38;5;241m+\u001b[39m R[\u001b[38;5;241m0\u001b[39m] \u001b[38;5;241m+\u001b[39m R[\u001b[38;5;241m2\u001b[39m:] \u001b[38;5;28;01mfor\u001b[39;00m L, R \u001b[38;5;129;01min\u001b[39;00m splits \u001b[38;5;28;01mif\u001b[39;00m \u001b[38;5;28mlen\u001b[39m(R) \u001b[38;5;241m>\u001b[39m \u001b[38;5;241m1\u001b[39m]\n\u001b[1;32m--> 227\u001b[0m replaces \u001b[38;5;241m=\u001b[39m [L \u001b[38;5;241m+\u001b[39m c \u001b[38;5;241m+\u001b[39m R[\u001b[38;5;241m1\u001b[39m:] \u001b[38;5;28;01mfor\u001b[39;00m L, R \u001b[38;5;129;01min\u001b[39;00m splits \u001b[38;5;28;01mif\u001b[39;00m R \u001b[38;5;28;01mfor\u001b[39;00m c \u001b[38;5;129;01min\u001b[39;00m letters]\n\u001b[0;32m    228\u001b[0m inserts \u001b[38;5;241m=\u001b[39m [L \u001b[38;5;241m+\u001b[39m c \u001b[38;5;241m+\u001b[39m R \u001b[38;5;28;01mfor\u001b[39;00m L, R \u001b[38;5;129;01min\u001b[39;00m splits \u001b[38;5;28;01mfor\u001b[39;00m c \u001b[38;5;129;01min\u001b[39;00m letters]\n\u001b[0;32m    229\u001b[0m \u001b[38;5;28;01mreturn\u001b[39;00m \u001b[38;5;28mset\u001b[39m(deletes \u001b[38;5;241m+\u001b[39m transposes \u001b[38;5;241m+\u001b[39m replaces \u001b[38;5;241m+\u001b[39m inserts)\n",
      "\u001b[1;31mKeyboardInterrupt\u001b[0m: "
     ]
    }
   ],
   "source": [
    "from spellchecker import SpellChecker\n",
    "\n",
    "# Initialize the spell checker\n",
    "spell = SpellChecker()\n",
    "\n",
    "def correct_spelling(text):\n",
    "    if isinstance(text, str):\n",
    "        # Split the text into words\n",
    "        words = text.split()\n",
    "        \n",
    "        # Correct the spelling of each word\n",
    "        corrected_words = [spell.correction(word) if spell.correction(word) is not None else word for word in words]\n",
    "        \n",
    "        # Join the corrected words back into a single string\n",
    "        corrected_text = ' '.join(corrected_words)\n",
    "        \n",
    "        return corrected_text\n",
    "    \n",
    "    return text\n",
    "\n",
    "# Apply the function to the 'Review' column to correct spelling mistakes\n",
    "reviews_preproc_spell =reviews_preproc.apply(correct_spelling)"
   ]
  },
  {
   "cell_type": "code",
   "execution_count": 36,
   "metadata": {},
   "outputs": [
    {
     "data": {
      "application/vnd.jupyter.widget-view+json": {
       "model_id": "a5e820e2dcec447fbdfdba57a9802f3c",
       "version_major": 2,
       "version_minor": 0
      },
      "text/plain": [
       "config.json:   0%|          | 0.00/1.74k [00:00<?, ?B/s]"
      ]
     },
     "metadata": {},
     "output_type": "display_data"
    },
    {
     "data": {
      "application/vnd.jupyter.widget-view+json": {
       "model_id": "2f8a8f392a83460998c3b79691c55c63",
       "version_major": 2,
       "version_minor": 0
      },
      "text/plain": [
       "model.safetensors:   0%|          | 0.00/558M [00:00<?, ?B/s]"
      ]
     },
     "metadata": {},
     "output_type": "display_data"
    },
    {
     "data": {
      "application/vnd.jupyter.widget-view+json": {
       "model_id": "0ca61ae428ac4646a7b71cb7eafcf277",
       "version_major": 2,
       "version_minor": 0
      },
      "text/plain": [
       "tokenizer_config.json:   0%|          | 0.00/353 [00:00<?, ?B/s]"
      ]
     },
     "metadata": {},
     "output_type": "display_data"
    },
    {
     "data": {
      "application/vnd.jupyter.widget-view+json": {
       "model_id": "fc1472dcc7de4362b44dce80c03390de",
       "version_major": 2,
       "version_minor": 0
      },
      "text/plain": [
       "vocab.json:   0%|          | 0.00/798k [00:00<?, ?B/s]"
      ]
     },
     "metadata": {},
     "output_type": "display_data"
    },
    {
     "data": {
      "application/vnd.jupyter.widget-view+json": {
       "model_id": "d545129acf0b4a6da5cd530487ffb01d",
       "version_major": 2,
       "version_minor": 0
      },
      "text/plain": [
       "merges.txt:   0%|          | 0.00/456k [00:00<?, ?B/s]"
      ]
     },
     "metadata": {},
     "output_type": "display_data"
    },
    {
     "data": {
      "application/vnd.jupyter.widget-view+json": {
       "model_id": "29fc65331d394cebb374ca3d9566cc4e",
       "version_major": 2,
       "version_minor": 0
      },
      "text/plain": [
       "tokenizer.json:   0%|          | 0.00/2.11M [00:00<?, ?B/s]"
      ]
     },
     "metadata": {},
     "output_type": "display_data"
    },
    {
     "data": {
      "application/vnd.jupyter.widget-view+json": {
       "model_id": "7d75e409c32e4812a002c32218ab425e",
       "version_major": 2,
       "version_minor": 0
      },
      "text/plain": [
       "special_tokens_map.json:   0%|          | 0.00/239 [00:00<?, ?B/s]"
      ]
     },
     "metadata": {},
     "output_type": "display_data"
    },
    {
     "name": "stderr",
     "output_type": "stream",
     "text": [
      "Device set to use cpu\n"
     ]
    },
    {
     "name": "stdout",
     "output_type": "stream",
     "text": [
      "[{'generated_text': \"Let's do a comparison.\"}]\n"
     ]
    }
   ],
   "source": [
    "from transformers import pipeline\n",
    "\n",
    "fix_spelling = pipeline(\"text2text-generation\",model=\"oliverguhr/spelling-correction-english-base\")\n",
    "\n",
    "print(fix_spelling(\"lets do a comparsion\",max_length=2048))"
   ]
  },
  {
   "cell_type": "code",
   "execution_count": 37,
   "metadata": {},
   "outputs": [
    {
     "ename": "KeyboardInterrupt",
     "evalue": "",
     "output_type": "error",
     "traceback": [
      "\u001b[1;31m---------------------------------------------------------------------------\u001b[0m",
      "\u001b[1;31mKeyboardInterrupt\u001b[0m                         Traceback (most recent call last)",
      "Cell \u001b[1;32mIn[37], line 1\u001b[0m\n\u001b[1;32m----> 1\u001b[0m reviews_preproc \u001b[38;5;241m=\u001b[39m \u001b[43mreviews_preproc\u001b[49m\u001b[38;5;241;43m.\u001b[39;49m\u001b[43mapply\u001b[49m\u001b[43m(\u001b[49m\u001b[38;5;28;43;01mlambda\u001b[39;49;00m\u001b[43m \u001b[49m\u001b[43mx\u001b[49m\u001b[43m:\u001b[49m\u001b[43m \u001b[49m\u001b[43mfix_spelling\u001b[49m\u001b[43m(\u001b[49m\u001b[43mx\u001b[49m\u001b[43m,\u001b[49m\u001b[43m \u001b[49m\u001b[43mmax_length\u001b[49m\u001b[38;5;241;43m=\u001b[39;49m\u001b[38;5;241;43m2048\u001b[39;49m\u001b[43m)\u001b[49m\u001b[43m[\u001b[49m\u001b[38;5;241;43m0\u001b[39;49m\u001b[43m]\u001b[49m\u001b[43m[\u001b[49m\u001b[38;5;124;43m'\u001b[39;49m\u001b[38;5;124;43mgenerated_text\u001b[39;49m\u001b[38;5;124;43m'\u001b[39;49m\u001b[43m]\u001b[49m\u001b[43m)\u001b[49m\n",
      "File \u001b[1;32mc:\\Users\\User\\anaconda3\\envs\\text-mining1\\lib\\site-packages\\pandas\\core\\series.py:4771\u001b[0m, in \u001b[0;36mSeries.apply\u001b[1;34m(self, func, convert_dtype, args, **kwargs)\u001b[0m\n\u001b[0;32m   4661\u001b[0m \u001b[38;5;28;01mdef\u001b[39;00m \u001b[38;5;21mapply\u001b[39m(\n\u001b[0;32m   4662\u001b[0m     \u001b[38;5;28mself\u001b[39m,\n\u001b[0;32m   4663\u001b[0m     func: AggFuncType,\n\u001b[1;32m   (...)\u001b[0m\n\u001b[0;32m   4666\u001b[0m     \u001b[38;5;241m*\u001b[39m\u001b[38;5;241m*\u001b[39mkwargs,\n\u001b[0;32m   4667\u001b[0m ) \u001b[38;5;241m-\u001b[39m\u001b[38;5;241m>\u001b[39m DataFrame \u001b[38;5;241m|\u001b[39m Series:\n\u001b[0;32m   4668\u001b[0m \u001b[38;5;250m    \u001b[39m\u001b[38;5;124;03m\"\"\"\u001b[39;00m\n\u001b[0;32m   4669\u001b[0m \u001b[38;5;124;03m    Invoke function on values of Series.\u001b[39;00m\n\u001b[0;32m   4670\u001b[0m \n\u001b[1;32m   (...)\u001b[0m\n\u001b[0;32m   4769\u001b[0m \u001b[38;5;124;03m    dtype: float64\u001b[39;00m\n\u001b[0;32m   4770\u001b[0m \u001b[38;5;124;03m    \"\"\"\u001b[39;00m\n\u001b[1;32m-> 4771\u001b[0m     \u001b[38;5;28;01mreturn\u001b[39;00m \u001b[43mSeriesApply\u001b[49m\u001b[43m(\u001b[49m\u001b[38;5;28;43mself\u001b[39;49m\u001b[43m,\u001b[49m\u001b[43m \u001b[49m\u001b[43mfunc\u001b[49m\u001b[43m,\u001b[49m\u001b[43m \u001b[49m\u001b[43mconvert_dtype\u001b[49m\u001b[43m,\u001b[49m\u001b[43m \u001b[49m\u001b[43margs\u001b[49m\u001b[43m,\u001b[49m\u001b[43m \u001b[49m\u001b[43mkwargs\u001b[49m\u001b[43m)\u001b[49m\u001b[38;5;241;43m.\u001b[39;49m\u001b[43mapply\u001b[49m\u001b[43m(\u001b[49m\u001b[43m)\u001b[49m\n",
      "File \u001b[1;32mc:\\Users\\User\\anaconda3\\envs\\text-mining1\\lib\\site-packages\\pandas\\core\\apply.py:1123\u001b[0m, in \u001b[0;36mSeriesApply.apply\u001b[1;34m(self)\u001b[0m\n\u001b[0;32m   1120\u001b[0m     \u001b[38;5;28;01mreturn\u001b[39;00m \u001b[38;5;28mself\u001b[39m\u001b[38;5;241m.\u001b[39mapply_str()\n\u001b[0;32m   1122\u001b[0m \u001b[38;5;66;03m# self.f is Callable\u001b[39;00m\n\u001b[1;32m-> 1123\u001b[0m \u001b[38;5;28;01mreturn\u001b[39;00m \u001b[38;5;28;43mself\u001b[39;49m\u001b[38;5;241;43m.\u001b[39;49m\u001b[43mapply_standard\u001b[49m\u001b[43m(\u001b[49m\u001b[43m)\u001b[49m\n",
      "File \u001b[1;32mc:\\Users\\User\\anaconda3\\envs\\text-mining1\\lib\\site-packages\\pandas\\core\\apply.py:1174\u001b[0m, in \u001b[0;36mSeriesApply.apply_standard\u001b[1;34m(self)\u001b[0m\n\u001b[0;32m   1172\u001b[0m     \u001b[38;5;28;01melse\u001b[39;00m:\n\u001b[0;32m   1173\u001b[0m         values \u001b[38;5;241m=\u001b[39m obj\u001b[38;5;241m.\u001b[39mastype(\u001b[38;5;28mobject\u001b[39m)\u001b[38;5;241m.\u001b[39m_values\n\u001b[1;32m-> 1174\u001b[0m         mapped \u001b[38;5;241m=\u001b[39m \u001b[43mlib\u001b[49m\u001b[38;5;241;43m.\u001b[39;49m\u001b[43mmap_infer\u001b[49m\u001b[43m(\u001b[49m\n\u001b[0;32m   1175\u001b[0m \u001b[43m            \u001b[49m\u001b[43mvalues\u001b[49m\u001b[43m,\u001b[49m\n\u001b[0;32m   1176\u001b[0m \u001b[43m            \u001b[49m\u001b[43mf\u001b[49m\u001b[43m,\u001b[49m\n\u001b[0;32m   1177\u001b[0m \u001b[43m            \u001b[49m\u001b[43mconvert\u001b[49m\u001b[38;5;241;43m=\u001b[39;49m\u001b[38;5;28;43mself\u001b[39;49m\u001b[38;5;241;43m.\u001b[39;49m\u001b[43mconvert_dtype\u001b[49m\u001b[43m,\u001b[49m\n\u001b[0;32m   1178\u001b[0m \u001b[43m        \u001b[49m\u001b[43m)\u001b[49m\n\u001b[0;32m   1180\u001b[0m \u001b[38;5;28;01mif\u001b[39;00m \u001b[38;5;28mlen\u001b[39m(mapped) \u001b[38;5;129;01mand\u001b[39;00m \u001b[38;5;28misinstance\u001b[39m(mapped[\u001b[38;5;241m0\u001b[39m], ABCSeries):\n\u001b[0;32m   1181\u001b[0m     \u001b[38;5;66;03m# GH#43986 Need to do list(mapped) in order to get treated as nested\u001b[39;00m\n\u001b[0;32m   1182\u001b[0m     \u001b[38;5;66;03m#  See also GH#25959 regarding EA support\u001b[39;00m\n\u001b[0;32m   1183\u001b[0m     \u001b[38;5;28;01mreturn\u001b[39;00m obj\u001b[38;5;241m.\u001b[39m_constructor_expanddim(\u001b[38;5;28mlist\u001b[39m(mapped), index\u001b[38;5;241m=\u001b[39mobj\u001b[38;5;241m.\u001b[39mindex)\n",
      "File \u001b[1;32mc:\\Users\\User\\anaconda3\\envs\\text-mining1\\lib\\site-packages\\pandas\\_libs\\lib.pyx:2924\u001b[0m, in \u001b[0;36mpandas._libs.lib.map_infer\u001b[1;34m()\u001b[0m\n",
      "Cell \u001b[1;32mIn[37], line 1\u001b[0m, in \u001b[0;36m<lambda>\u001b[1;34m(x)\u001b[0m\n\u001b[1;32m----> 1\u001b[0m reviews_preproc \u001b[38;5;241m=\u001b[39m reviews_preproc\u001b[38;5;241m.\u001b[39mapply(\u001b[38;5;28;01mlambda\u001b[39;00m x: \u001b[43mfix_spelling\u001b[49m\u001b[43m(\u001b[49m\u001b[43mx\u001b[49m\u001b[43m,\u001b[49m\u001b[43m \u001b[49m\u001b[43mmax_length\u001b[49m\u001b[38;5;241;43m=\u001b[39;49m\u001b[38;5;241;43m2048\u001b[39;49m\u001b[43m)\u001b[49m[\u001b[38;5;241m0\u001b[39m][\u001b[38;5;124m'\u001b[39m\u001b[38;5;124mgenerated_text\u001b[39m\u001b[38;5;124m'\u001b[39m])\n",
      "File \u001b[1;32mc:\\Users\\User\\anaconda3\\envs\\text-mining1\\lib\\site-packages\\transformers\\pipelines\\text2text_generation.py:167\u001b[0m, in \u001b[0;36mText2TextGenerationPipeline.__call__\u001b[1;34m(self, *args, **kwargs)\u001b[0m\n\u001b[0;32m    138\u001b[0m \u001b[38;5;28;01mdef\u001b[39;00m \u001b[38;5;21m__call__\u001b[39m(\u001b[38;5;28mself\u001b[39m, \u001b[38;5;241m*\u001b[39margs, \u001b[38;5;241m*\u001b[39m\u001b[38;5;241m*\u001b[39mkwargs):\n\u001b[0;32m    139\u001b[0m \u001b[38;5;250m    \u001b[39m\u001b[38;5;124mr\u001b[39m\u001b[38;5;124;03m\"\"\"\u001b[39;00m\n\u001b[0;32m    140\u001b[0m \u001b[38;5;124;03m    Generate the output text(s) using text(s) given as inputs.\u001b[39;00m\n\u001b[0;32m    141\u001b[0m \n\u001b[1;32m   (...)\u001b[0m\n\u001b[0;32m    164\u001b[0m \u001b[38;5;124;03m          ids of the generated text.\u001b[39;00m\n\u001b[0;32m    165\u001b[0m \u001b[38;5;124;03m    \"\"\"\u001b[39;00m\n\u001b[1;32m--> 167\u001b[0m     result \u001b[38;5;241m=\u001b[39m \u001b[38;5;28msuper\u001b[39m()\u001b[38;5;241m.\u001b[39m\u001b[38;5;21m__call__\u001b[39m(\u001b[38;5;241m*\u001b[39margs, \u001b[38;5;241m*\u001b[39m\u001b[38;5;241m*\u001b[39mkwargs)\n\u001b[0;32m    168\u001b[0m     \u001b[38;5;28;01mif\u001b[39;00m (\n\u001b[0;32m    169\u001b[0m         \u001b[38;5;28misinstance\u001b[39m(args[\u001b[38;5;241m0\u001b[39m], \u001b[38;5;28mlist\u001b[39m)\n\u001b[0;32m    170\u001b[0m         \u001b[38;5;129;01mand\u001b[39;00m \u001b[38;5;28mall\u001b[39m(\u001b[38;5;28misinstance\u001b[39m(el, \u001b[38;5;28mstr\u001b[39m) \u001b[38;5;28;01mfor\u001b[39;00m el \u001b[38;5;129;01min\u001b[39;00m args[\u001b[38;5;241m0\u001b[39m])\n\u001b[0;32m    171\u001b[0m         \u001b[38;5;129;01mand\u001b[39;00m \u001b[38;5;28mall\u001b[39m(\u001b[38;5;28mlen\u001b[39m(res) \u001b[38;5;241m==\u001b[39m \u001b[38;5;241m1\u001b[39m \u001b[38;5;28;01mfor\u001b[39;00m res \u001b[38;5;129;01min\u001b[39;00m result)\n\u001b[0;32m    172\u001b[0m     ):\n\u001b[0;32m    173\u001b[0m         \u001b[38;5;28;01mreturn\u001b[39;00m [res[\u001b[38;5;241m0\u001b[39m] \u001b[38;5;28;01mfor\u001b[39;00m res \u001b[38;5;129;01min\u001b[39;00m result]\n",
      "File \u001b[1;32mc:\\Users\\User\\anaconda3\\envs\\text-mining1\\lib\\site-packages\\transformers\\pipelines\\base.py:1301\u001b[0m, in \u001b[0;36mPipeline.__call__\u001b[1;34m(self, inputs, num_workers, batch_size, *args, **kwargs)\u001b[0m\n\u001b[0;32m   1293\u001b[0m     \u001b[38;5;28;01mreturn\u001b[39;00m \u001b[38;5;28mnext\u001b[39m(\n\u001b[0;32m   1294\u001b[0m         \u001b[38;5;28miter\u001b[39m(\n\u001b[0;32m   1295\u001b[0m             \u001b[38;5;28mself\u001b[39m\u001b[38;5;241m.\u001b[39mget_iterator(\n\u001b[1;32m   (...)\u001b[0m\n\u001b[0;32m   1298\u001b[0m         )\n\u001b[0;32m   1299\u001b[0m     )\n\u001b[0;32m   1300\u001b[0m \u001b[38;5;28;01melse\u001b[39;00m:\n\u001b[1;32m-> 1301\u001b[0m     \u001b[38;5;28;01mreturn\u001b[39;00m \u001b[38;5;28;43mself\u001b[39;49m\u001b[38;5;241;43m.\u001b[39;49m\u001b[43mrun_single\u001b[49m\u001b[43m(\u001b[49m\u001b[43minputs\u001b[49m\u001b[43m,\u001b[49m\u001b[43m \u001b[49m\u001b[43mpreprocess_params\u001b[49m\u001b[43m,\u001b[49m\u001b[43m \u001b[49m\u001b[43mforward_params\u001b[49m\u001b[43m,\u001b[49m\u001b[43m \u001b[49m\u001b[43mpostprocess_params\u001b[49m\u001b[43m)\u001b[49m\n",
      "File \u001b[1;32mc:\\Users\\User\\anaconda3\\envs\\text-mining1\\lib\\site-packages\\transformers\\pipelines\\base.py:1308\u001b[0m, in \u001b[0;36mPipeline.run_single\u001b[1;34m(self, inputs, preprocess_params, forward_params, postprocess_params)\u001b[0m\n\u001b[0;32m   1306\u001b[0m \u001b[38;5;28;01mdef\u001b[39;00m \u001b[38;5;21mrun_single\u001b[39m(\u001b[38;5;28mself\u001b[39m, inputs, preprocess_params, forward_params, postprocess_params):\n\u001b[0;32m   1307\u001b[0m     model_inputs \u001b[38;5;241m=\u001b[39m \u001b[38;5;28mself\u001b[39m\u001b[38;5;241m.\u001b[39mpreprocess(inputs, \u001b[38;5;241m*\u001b[39m\u001b[38;5;241m*\u001b[39mpreprocess_params)\n\u001b[1;32m-> 1308\u001b[0m     model_outputs \u001b[38;5;241m=\u001b[39m \u001b[38;5;28mself\u001b[39m\u001b[38;5;241m.\u001b[39mforward(model_inputs, \u001b[38;5;241m*\u001b[39m\u001b[38;5;241m*\u001b[39mforward_params)\n\u001b[0;32m   1309\u001b[0m     outputs \u001b[38;5;241m=\u001b[39m \u001b[38;5;28mself\u001b[39m\u001b[38;5;241m.\u001b[39mpostprocess(model_outputs, \u001b[38;5;241m*\u001b[39m\u001b[38;5;241m*\u001b[39mpostprocess_params)\n\u001b[0;32m   1310\u001b[0m     \u001b[38;5;28;01mreturn\u001b[39;00m outputs\n",
      "File \u001b[1;32mc:\\Users\\User\\anaconda3\\envs\\text-mining1\\lib\\site-packages\\transformers\\pipelines\\base.py:1208\u001b[0m, in \u001b[0;36mPipeline.forward\u001b[1;34m(self, model_inputs, **forward_params)\u001b[0m\n\u001b[0;32m   1206\u001b[0m     \u001b[38;5;28;01mwith\u001b[39;00m inference_context():\n\u001b[0;32m   1207\u001b[0m         model_inputs \u001b[38;5;241m=\u001b[39m \u001b[38;5;28mself\u001b[39m\u001b[38;5;241m.\u001b[39m_ensure_tensor_on_device(model_inputs, device\u001b[38;5;241m=\u001b[39m\u001b[38;5;28mself\u001b[39m\u001b[38;5;241m.\u001b[39mdevice)\n\u001b[1;32m-> 1208\u001b[0m         model_outputs \u001b[38;5;241m=\u001b[39m \u001b[38;5;28mself\u001b[39m\u001b[38;5;241m.\u001b[39m_forward(model_inputs, \u001b[38;5;241m*\u001b[39m\u001b[38;5;241m*\u001b[39mforward_params)\n\u001b[0;32m   1209\u001b[0m         model_outputs \u001b[38;5;241m=\u001b[39m \u001b[38;5;28mself\u001b[39m\u001b[38;5;241m.\u001b[39m_ensure_tensor_on_device(model_outputs, device\u001b[38;5;241m=\u001b[39mtorch\u001b[38;5;241m.\u001b[39mdevice(\u001b[38;5;124m\"\u001b[39m\u001b[38;5;124mcpu\u001b[39m\u001b[38;5;124m\"\u001b[39m))\n\u001b[0;32m   1210\u001b[0m \u001b[38;5;28;01melse\u001b[39;00m:\n",
      "File \u001b[1;32mc:\\Users\\User\\anaconda3\\envs\\text-mining1\\lib\\site-packages\\transformers\\pipelines\\text2text_generation.py:196\u001b[0m, in \u001b[0;36mText2TextGenerationPipeline._forward\u001b[1;34m(self, model_inputs, **generate_kwargs)\u001b[0m\n\u001b[0;32m    193\u001b[0m \u001b[38;5;28;01mif\u001b[39;00m \u001b[38;5;124m\"\u001b[39m\u001b[38;5;124mgeneration_config\u001b[39m\u001b[38;5;124m\"\u001b[39m \u001b[38;5;129;01mnot\u001b[39;00m \u001b[38;5;129;01min\u001b[39;00m generate_kwargs:\n\u001b[0;32m    194\u001b[0m     generate_kwargs[\u001b[38;5;124m\"\u001b[39m\u001b[38;5;124mgeneration_config\u001b[39m\u001b[38;5;124m\"\u001b[39m] \u001b[38;5;241m=\u001b[39m \u001b[38;5;28mself\u001b[39m\u001b[38;5;241m.\u001b[39mgeneration_config\n\u001b[1;32m--> 196\u001b[0m output_ids \u001b[38;5;241m=\u001b[39m \u001b[38;5;28mself\u001b[39m\u001b[38;5;241m.\u001b[39mmodel\u001b[38;5;241m.\u001b[39mgenerate(\u001b[38;5;241m*\u001b[39m\u001b[38;5;241m*\u001b[39mmodel_inputs, \u001b[38;5;241m*\u001b[39m\u001b[38;5;241m*\u001b[39mgenerate_kwargs)\n\u001b[0;32m    197\u001b[0m out_b \u001b[38;5;241m=\u001b[39m output_ids\u001b[38;5;241m.\u001b[39mshape[\u001b[38;5;241m0\u001b[39m]\n\u001b[0;32m    198\u001b[0m \u001b[38;5;28;01mif\u001b[39;00m \u001b[38;5;28mself\u001b[39m\u001b[38;5;241m.\u001b[39mframework \u001b[38;5;241m==\u001b[39m \u001b[38;5;124m\"\u001b[39m\u001b[38;5;124mpt\u001b[39m\u001b[38;5;124m\"\u001b[39m:\n",
      "File \u001b[1;32mc:\\Users\\User\\anaconda3\\envs\\text-mining1\\lib\\site-packages\\torch\\utils\\_contextlib.py:116\u001b[0m, in \u001b[0;36mcontext_decorator.<locals>.decorate_context\u001b[1;34m(*args, **kwargs)\u001b[0m\n\u001b[0;32m    113\u001b[0m \u001b[38;5;129m@functools\u001b[39m\u001b[38;5;241m.\u001b[39mwraps(func)\n\u001b[0;32m    114\u001b[0m \u001b[38;5;28;01mdef\u001b[39;00m \u001b[38;5;21mdecorate_context\u001b[39m(\u001b[38;5;241m*\u001b[39margs, \u001b[38;5;241m*\u001b[39m\u001b[38;5;241m*\u001b[39mkwargs):\n\u001b[0;32m    115\u001b[0m     \u001b[38;5;28;01mwith\u001b[39;00m ctx_factory():\n\u001b[1;32m--> 116\u001b[0m         \u001b[38;5;28;01mreturn\u001b[39;00m func(\u001b[38;5;241m*\u001b[39margs, \u001b[38;5;241m*\u001b[39m\u001b[38;5;241m*\u001b[39mkwargs)\n",
      "File \u001b[1;32mc:\\Users\\User\\anaconda3\\envs\\text-mining1\\lib\\site-packages\\transformers\\generation\\utils.py:2283\u001b[0m, in \u001b[0;36mGenerationMixin.generate\u001b[1;34m(self, inputs, generation_config, logits_processor, stopping_criteria, prefix_allowed_tokens_fn, synced_gpus, assistant_model, streamer, negative_prompt_ids, negative_prompt_attention_mask, **kwargs)\u001b[0m\n\u001b[0;32m   2275\u001b[0m     input_ids, model_kwargs \u001b[38;5;241m=\u001b[39m \u001b[38;5;28mself\u001b[39m\u001b[38;5;241m.\u001b[39m_expand_inputs_for_generation(\n\u001b[0;32m   2276\u001b[0m         input_ids\u001b[38;5;241m=\u001b[39minput_ids,\n\u001b[0;32m   2277\u001b[0m         expand_size\u001b[38;5;241m=\u001b[39mgeneration_config\u001b[38;5;241m.\u001b[39mnum_beams,\n\u001b[0;32m   2278\u001b[0m         is_encoder_decoder\u001b[38;5;241m=\u001b[39m\u001b[38;5;28mself\u001b[39m\u001b[38;5;241m.\u001b[39mconfig\u001b[38;5;241m.\u001b[39mis_encoder_decoder,\n\u001b[0;32m   2279\u001b[0m         \u001b[38;5;241m*\u001b[39m\u001b[38;5;241m*\u001b[39mmodel_kwargs,\n\u001b[0;32m   2280\u001b[0m     )\n\u001b[0;32m   2282\u001b[0m     \u001b[38;5;66;03m# 13. run beam sample\u001b[39;00m\n\u001b[1;32m-> 2283\u001b[0m     result \u001b[38;5;241m=\u001b[39m \u001b[38;5;28mself\u001b[39m\u001b[38;5;241m.\u001b[39m_beam_search(\n\u001b[0;32m   2284\u001b[0m         input_ids,\n\u001b[0;32m   2285\u001b[0m         beam_scorer,\n\u001b[0;32m   2286\u001b[0m         logits_processor\u001b[38;5;241m=\u001b[39mprepared_logits_processor,\n\u001b[0;32m   2287\u001b[0m         stopping_criteria\u001b[38;5;241m=\u001b[39mprepared_stopping_criteria,\n\u001b[0;32m   2288\u001b[0m         generation_config\u001b[38;5;241m=\u001b[39mgeneration_config,\n\u001b[0;32m   2289\u001b[0m         synced_gpus\u001b[38;5;241m=\u001b[39msynced_gpus,\n\u001b[0;32m   2290\u001b[0m         \u001b[38;5;241m*\u001b[39m\u001b[38;5;241m*\u001b[39mmodel_kwargs,\n\u001b[0;32m   2291\u001b[0m     )\n\u001b[0;32m   2293\u001b[0m \u001b[38;5;28;01melif\u001b[39;00m generation_mode \u001b[38;5;241m==\u001b[39m GenerationMode\u001b[38;5;241m.\u001b[39mGROUP_BEAM_SEARCH:\n\u001b[0;32m   2294\u001b[0m     \u001b[38;5;66;03m# 11. prepare beam search scorer\u001b[39;00m\n\u001b[0;32m   2295\u001b[0m     beam_scorer \u001b[38;5;241m=\u001b[39m BeamSearchScorer(\n\u001b[0;32m   2296\u001b[0m         batch_size\u001b[38;5;241m=\u001b[39mbatch_size,\n\u001b[0;32m   2297\u001b[0m         num_beams\u001b[38;5;241m=\u001b[39mgeneration_config\u001b[38;5;241m.\u001b[39mnum_beams,\n\u001b[1;32m   (...)\u001b[0m\n\u001b[0;32m   2303\u001b[0m         max_length\u001b[38;5;241m=\u001b[39mgeneration_config\u001b[38;5;241m.\u001b[39mmax_length,\n\u001b[0;32m   2304\u001b[0m     )\n",
      "File \u001b[1;32mc:\\Users\\User\\anaconda3\\envs\\text-mining1\\lib\\site-packages\\transformers\\generation\\utils.py:3503\u001b[0m, in \u001b[0;36mGenerationMixin._beam_search\u001b[1;34m(self, input_ids, beam_scorer, logits_processor, stopping_criteria, generation_config, synced_gpus, **model_kwargs)\u001b[0m\n\u001b[0;32m   3500\u001b[0m     outputs \u001b[38;5;241m=\u001b[39m stack_model_outputs(outputs_per_sub_batch, \u001b[38;5;28mself\u001b[39m\u001b[38;5;241m.\u001b[39mconfig\u001b[38;5;241m.\u001b[39mget_text_config())\n\u001b[0;32m   3502\u001b[0m \u001b[38;5;28;01melse\u001b[39;00m:  \u001b[38;5;66;03m# Unchanged original behavior\u001b[39;00m\n\u001b[1;32m-> 3503\u001b[0m     outputs \u001b[38;5;241m=\u001b[39m \u001b[38;5;28mself\u001b[39m(\u001b[38;5;241m*\u001b[39m\u001b[38;5;241m*\u001b[39mmodel_inputs, return_dict\u001b[38;5;241m=\u001b[39m\u001b[38;5;28;01mTrue\u001b[39;00m)\n\u001b[0;32m   3505\u001b[0m \u001b[38;5;66;03m# synced_gpus: don't waste resources running the code we don't need; kwargs must be updated before skipping\u001b[39;00m\n\u001b[0;32m   3506\u001b[0m model_kwargs \u001b[38;5;241m=\u001b[39m \u001b[38;5;28mself\u001b[39m\u001b[38;5;241m.\u001b[39m_update_model_kwargs_for_generation(\n\u001b[0;32m   3507\u001b[0m     outputs,\n\u001b[0;32m   3508\u001b[0m     model_kwargs,\n\u001b[0;32m   3509\u001b[0m     is_encoder_decoder\u001b[38;5;241m=\u001b[39m\u001b[38;5;28mself\u001b[39m\u001b[38;5;241m.\u001b[39mconfig\u001b[38;5;241m.\u001b[39mis_encoder_decoder,\n\u001b[0;32m   3510\u001b[0m )\n",
      "File \u001b[1;32mc:\\Users\\User\\anaconda3\\envs\\text-mining1\\lib\\site-packages\\torch\\nn\\modules\\module.py:1553\u001b[0m, in \u001b[0;36mModule._wrapped_call_impl\u001b[1;34m(self, *args, **kwargs)\u001b[0m\n\u001b[0;32m   1551\u001b[0m     \u001b[38;5;28;01mreturn\u001b[39;00m \u001b[38;5;28mself\u001b[39m\u001b[38;5;241m.\u001b[39m_compiled_call_impl(\u001b[38;5;241m*\u001b[39margs, \u001b[38;5;241m*\u001b[39m\u001b[38;5;241m*\u001b[39mkwargs)  \u001b[38;5;66;03m# type: ignore[misc]\u001b[39;00m\n\u001b[0;32m   1552\u001b[0m \u001b[38;5;28;01melse\u001b[39;00m:\n\u001b[1;32m-> 1553\u001b[0m     \u001b[38;5;28;01mreturn\u001b[39;00m \u001b[38;5;28mself\u001b[39m\u001b[38;5;241m.\u001b[39m_call_impl(\u001b[38;5;241m*\u001b[39margs, \u001b[38;5;241m*\u001b[39m\u001b[38;5;241m*\u001b[39mkwargs)\n",
      "File \u001b[1;32mc:\\Users\\User\\anaconda3\\envs\\text-mining1\\lib\\site-packages\\torch\\nn\\modules\\module.py:1562\u001b[0m, in \u001b[0;36mModule._call_impl\u001b[1;34m(self, *args, **kwargs)\u001b[0m\n\u001b[0;32m   1557\u001b[0m \u001b[38;5;66;03m# If we don't have any hooks, we want to skip the rest of the logic in\u001b[39;00m\n\u001b[0;32m   1558\u001b[0m \u001b[38;5;66;03m# this function, and just call forward.\u001b[39;00m\n\u001b[0;32m   1559\u001b[0m \u001b[38;5;28;01mif\u001b[39;00m \u001b[38;5;129;01mnot\u001b[39;00m (\u001b[38;5;28mself\u001b[39m\u001b[38;5;241m.\u001b[39m_backward_hooks \u001b[38;5;129;01mor\u001b[39;00m \u001b[38;5;28mself\u001b[39m\u001b[38;5;241m.\u001b[39m_backward_pre_hooks \u001b[38;5;129;01mor\u001b[39;00m \u001b[38;5;28mself\u001b[39m\u001b[38;5;241m.\u001b[39m_forward_hooks \u001b[38;5;129;01mor\u001b[39;00m \u001b[38;5;28mself\u001b[39m\u001b[38;5;241m.\u001b[39m_forward_pre_hooks\n\u001b[0;32m   1560\u001b[0m         \u001b[38;5;129;01mor\u001b[39;00m _global_backward_pre_hooks \u001b[38;5;129;01mor\u001b[39;00m _global_backward_hooks\n\u001b[0;32m   1561\u001b[0m         \u001b[38;5;129;01mor\u001b[39;00m _global_forward_hooks \u001b[38;5;129;01mor\u001b[39;00m _global_forward_pre_hooks):\n\u001b[1;32m-> 1562\u001b[0m     \u001b[38;5;28;01mreturn\u001b[39;00m forward_call(\u001b[38;5;241m*\u001b[39margs, \u001b[38;5;241m*\u001b[39m\u001b[38;5;241m*\u001b[39mkwargs)\n\u001b[0;32m   1564\u001b[0m \u001b[38;5;28;01mtry\u001b[39;00m:\n\u001b[0;32m   1565\u001b[0m     result \u001b[38;5;241m=\u001b[39m \u001b[38;5;28;01mNone\u001b[39;00m\n",
      "File \u001b[1;32mc:\\Users\\User\\anaconda3\\envs\\text-mining1\\lib\\site-packages\\transformers\\models\\bart\\modeling_bart.py:1642\u001b[0m, in \u001b[0;36mBartForConditionalGeneration.forward\u001b[1;34m(self, input_ids, attention_mask, decoder_input_ids, decoder_attention_mask, head_mask, decoder_head_mask, cross_attn_head_mask, encoder_outputs, past_key_values, inputs_embeds, decoder_inputs_embeds, labels, use_cache, output_attentions, output_hidden_states, return_dict)\u001b[0m\n\u001b[0;32m   1637\u001b[0m     \u001b[38;5;28;01mif\u001b[39;00m decoder_input_ids \u001b[38;5;129;01mis\u001b[39;00m \u001b[38;5;28;01mNone\u001b[39;00m \u001b[38;5;129;01mand\u001b[39;00m decoder_inputs_embeds \u001b[38;5;129;01mis\u001b[39;00m \u001b[38;5;28;01mNone\u001b[39;00m:\n\u001b[0;32m   1638\u001b[0m         decoder_input_ids \u001b[38;5;241m=\u001b[39m shift_tokens_right(\n\u001b[0;32m   1639\u001b[0m             labels, \u001b[38;5;28mself\u001b[39m\u001b[38;5;241m.\u001b[39mconfig\u001b[38;5;241m.\u001b[39mpad_token_id, \u001b[38;5;28mself\u001b[39m\u001b[38;5;241m.\u001b[39mconfig\u001b[38;5;241m.\u001b[39mdecoder_start_token_id\n\u001b[0;32m   1640\u001b[0m         )\n\u001b[1;32m-> 1642\u001b[0m outputs \u001b[38;5;241m=\u001b[39m \u001b[38;5;28;43mself\u001b[39;49m\u001b[38;5;241;43m.\u001b[39;49m\u001b[43mmodel\u001b[49m\u001b[43m(\u001b[49m\n\u001b[0;32m   1643\u001b[0m \u001b[43m    \u001b[49m\u001b[43minput_ids\u001b[49m\u001b[43m,\u001b[49m\n\u001b[0;32m   1644\u001b[0m \u001b[43m    \u001b[49m\u001b[43mattention_mask\u001b[49m\u001b[38;5;241;43m=\u001b[39;49m\u001b[43mattention_mask\u001b[49m\u001b[43m,\u001b[49m\n\u001b[0;32m   1645\u001b[0m \u001b[43m    \u001b[49m\u001b[43mdecoder_input_ids\u001b[49m\u001b[38;5;241;43m=\u001b[39;49m\u001b[43mdecoder_input_ids\u001b[49m\u001b[43m,\u001b[49m\n\u001b[0;32m   1646\u001b[0m \u001b[43m    \u001b[49m\u001b[43mencoder_outputs\u001b[49m\u001b[38;5;241;43m=\u001b[39;49m\u001b[43mencoder_outputs\u001b[49m\u001b[43m,\u001b[49m\n\u001b[0;32m   1647\u001b[0m \u001b[43m    \u001b[49m\u001b[43mdecoder_attention_mask\u001b[49m\u001b[38;5;241;43m=\u001b[39;49m\u001b[43mdecoder_attention_mask\u001b[49m\u001b[43m,\u001b[49m\n\u001b[0;32m   1648\u001b[0m \u001b[43m    \u001b[49m\u001b[43mhead_mask\u001b[49m\u001b[38;5;241;43m=\u001b[39;49m\u001b[43mhead_mask\u001b[49m\u001b[43m,\u001b[49m\n\u001b[0;32m   1649\u001b[0m \u001b[43m    \u001b[49m\u001b[43mdecoder_head_mask\u001b[49m\u001b[38;5;241;43m=\u001b[39;49m\u001b[43mdecoder_head_mask\u001b[49m\u001b[43m,\u001b[49m\n\u001b[0;32m   1650\u001b[0m \u001b[43m    \u001b[49m\u001b[43mcross_attn_head_mask\u001b[49m\u001b[38;5;241;43m=\u001b[39;49m\u001b[43mcross_attn_head_mask\u001b[49m\u001b[43m,\u001b[49m\n\u001b[0;32m   1651\u001b[0m \u001b[43m    \u001b[49m\u001b[43mpast_key_values\u001b[49m\u001b[38;5;241;43m=\u001b[39;49m\u001b[43mpast_key_values\u001b[49m\u001b[43m,\u001b[49m\n\u001b[0;32m   1652\u001b[0m \u001b[43m    \u001b[49m\u001b[43minputs_embeds\u001b[49m\u001b[38;5;241;43m=\u001b[39;49m\u001b[43minputs_embeds\u001b[49m\u001b[43m,\u001b[49m\n\u001b[0;32m   1653\u001b[0m \u001b[43m    \u001b[49m\u001b[43mdecoder_inputs_embeds\u001b[49m\u001b[38;5;241;43m=\u001b[39;49m\u001b[43mdecoder_inputs_embeds\u001b[49m\u001b[43m,\u001b[49m\n\u001b[0;32m   1654\u001b[0m \u001b[43m    \u001b[49m\u001b[43muse_cache\u001b[49m\u001b[38;5;241;43m=\u001b[39;49m\u001b[43muse_cache\u001b[49m\u001b[43m,\u001b[49m\n\u001b[0;32m   1655\u001b[0m \u001b[43m    \u001b[49m\u001b[43moutput_attentions\u001b[49m\u001b[38;5;241;43m=\u001b[39;49m\u001b[43moutput_attentions\u001b[49m\u001b[43m,\u001b[49m\n\u001b[0;32m   1656\u001b[0m \u001b[43m    \u001b[49m\u001b[43moutput_hidden_states\u001b[49m\u001b[38;5;241;43m=\u001b[39;49m\u001b[43moutput_hidden_states\u001b[49m\u001b[43m,\u001b[49m\n\u001b[0;32m   1657\u001b[0m \u001b[43m    \u001b[49m\u001b[43mreturn_dict\u001b[49m\u001b[38;5;241;43m=\u001b[39;49m\u001b[43mreturn_dict\u001b[49m\u001b[43m,\u001b[49m\n\u001b[0;32m   1658\u001b[0m \u001b[43m\u001b[49m\u001b[43m)\u001b[49m\n\u001b[0;32m   1660\u001b[0m lm_logits \u001b[38;5;241m=\u001b[39m \u001b[38;5;28mself\u001b[39m\u001b[38;5;241m.\u001b[39mlm_head(outputs[\u001b[38;5;241m0\u001b[39m])\n\u001b[0;32m   1661\u001b[0m lm_logits \u001b[38;5;241m=\u001b[39m lm_logits \u001b[38;5;241m+\u001b[39m \u001b[38;5;28mself\u001b[39m\u001b[38;5;241m.\u001b[39mfinal_logits_bias\u001b[38;5;241m.\u001b[39mto(lm_logits\u001b[38;5;241m.\u001b[39mdevice)\n",
      "File \u001b[1;32mc:\\Users\\User\\anaconda3\\envs\\text-mining1\\lib\\site-packages\\torch\\nn\\modules\\module.py:1553\u001b[0m, in \u001b[0;36mModule._wrapped_call_impl\u001b[1;34m(self, *args, **kwargs)\u001b[0m\n\u001b[0;32m   1551\u001b[0m     \u001b[38;5;28;01mreturn\u001b[39;00m \u001b[38;5;28mself\u001b[39m\u001b[38;5;241m.\u001b[39m_compiled_call_impl(\u001b[38;5;241m*\u001b[39margs, \u001b[38;5;241m*\u001b[39m\u001b[38;5;241m*\u001b[39mkwargs)  \u001b[38;5;66;03m# type: ignore[misc]\u001b[39;00m\n\u001b[0;32m   1552\u001b[0m \u001b[38;5;28;01melse\u001b[39;00m:\n\u001b[1;32m-> 1553\u001b[0m     \u001b[38;5;28;01mreturn\u001b[39;00m \u001b[38;5;28mself\u001b[39m\u001b[38;5;241m.\u001b[39m_call_impl(\u001b[38;5;241m*\u001b[39margs, \u001b[38;5;241m*\u001b[39m\u001b[38;5;241m*\u001b[39mkwargs)\n",
      "File \u001b[1;32mc:\\Users\\User\\anaconda3\\envs\\text-mining1\\lib\\site-packages\\torch\\nn\\modules\\module.py:1562\u001b[0m, in \u001b[0;36mModule._call_impl\u001b[1;34m(self, *args, **kwargs)\u001b[0m\n\u001b[0;32m   1557\u001b[0m \u001b[38;5;66;03m# If we don't have any hooks, we want to skip the rest of the logic in\u001b[39;00m\n\u001b[0;32m   1558\u001b[0m \u001b[38;5;66;03m# this function, and just call forward.\u001b[39;00m\n\u001b[0;32m   1559\u001b[0m \u001b[38;5;28;01mif\u001b[39;00m \u001b[38;5;129;01mnot\u001b[39;00m (\u001b[38;5;28mself\u001b[39m\u001b[38;5;241m.\u001b[39m_backward_hooks \u001b[38;5;129;01mor\u001b[39;00m \u001b[38;5;28mself\u001b[39m\u001b[38;5;241m.\u001b[39m_backward_pre_hooks \u001b[38;5;129;01mor\u001b[39;00m \u001b[38;5;28mself\u001b[39m\u001b[38;5;241m.\u001b[39m_forward_hooks \u001b[38;5;129;01mor\u001b[39;00m \u001b[38;5;28mself\u001b[39m\u001b[38;5;241m.\u001b[39m_forward_pre_hooks\n\u001b[0;32m   1560\u001b[0m         \u001b[38;5;129;01mor\u001b[39;00m _global_backward_pre_hooks \u001b[38;5;129;01mor\u001b[39;00m _global_backward_hooks\n\u001b[0;32m   1561\u001b[0m         \u001b[38;5;129;01mor\u001b[39;00m _global_forward_hooks \u001b[38;5;129;01mor\u001b[39;00m _global_forward_pre_hooks):\n\u001b[1;32m-> 1562\u001b[0m     \u001b[38;5;28;01mreturn\u001b[39;00m forward_call(\u001b[38;5;241m*\u001b[39margs, \u001b[38;5;241m*\u001b[39m\u001b[38;5;241m*\u001b[39mkwargs)\n\u001b[0;32m   1564\u001b[0m \u001b[38;5;28;01mtry\u001b[39;00m:\n\u001b[0;32m   1565\u001b[0m     result \u001b[38;5;241m=\u001b[39m \u001b[38;5;28;01mNone\u001b[39;00m\n",
      "File \u001b[1;32mc:\\Users\\User\\anaconda3\\envs\\text-mining1\\lib\\site-packages\\transformers\\models\\bart\\modeling_bart.py:1528\u001b[0m, in \u001b[0;36mBartModel.forward\u001b[1;34m(self, input_ids, attention_mask, decoder_input_ids, decoder_attention_mask, head_mask, decoder_head_mask, cross_attn_head_mask, encoder_outputs, past_key_values, inputs_embeds, decoder_inputs_embeds, use_cache, output_attentions, output_hidden_states, return_dict)\u001b[0m\n\u001b[0;32m   1521\u001b[0m     encoder_outputs \u001b[38;5;241m=\u001b[39m BaseModelOutput(\n\u001b[0;32m   1522\u001b[0m         last_hidden_state\u001b[38;5;241m=\u001b[39mencoder_outputs[\u001b[38;5;241m0\u001b[39m],\n\u001b[0;32m   1523\u001b[0m         hidden_states\u001b[38;5;241m=\u001b[39mencoder_outputs[\u001b[38;5;241m1\u001b[39m] \u001b[38;5;28;01mif\u001b[39;00m \u001b[38;5;28mlen\u001b[39m(encoder_outputs) \u001b[38;5;241m>\u001b[39m \u001b[38;5;241m1\u001b[39m \u001b[38;5;28;01melse\u001b[39;00m \u001b[38;5;28;01mNone\u001b[39;00m,\n\u001b[0;32m   1524\u001b[0m         attentions\u001b[38;5;241m=\u001b[39mencoder_outputs[\u001b[38;5;241m2\u001b[39m] \u001b[38;5;28;01mif\u001b[39;00m \u001b[38;5;28mlen\u001b[39m(encoder_outputs) \u001b[38;5;241m>\u001b[39m \u001b[38;5;241m2\u001b[39m \u001b[38;5;28;01melse\u001b[39;00m \u001b[38;5;28;01mNone\u001b[39;00m,\n\u001b[0;32m   1525\u001b[0m     )\n\u001b[0;32m   1527\u001b[0m \u001b[38;5;66;03m# decoder outputs consists of (dec_features, past_key_value, dec_hidden, dec_attn)\u001b[39;00m\n\u001b[1;32m-> 1528\u001b[0m decoder_outputs \u001b[38;5;241m=\u001b[39m \u001b[38;5;28;43mself\u001b[39;49m\u001b[38;5;241;43m.\u001b[39;49m\u001b[43mdecoder\u001b[49m\u001b[43m(\u001b[49m\n\u001b[0;32m   1529\u001b[0m \u001b[43m    \u001b[49m\u001b[43minput_ids\u001b[49m\u001b[38;5;241;43m=\u001b[39;49m\u001b[43mdecoder_input_ids\u001b[49m\u001b[43m,\u001b[49m\n\u001b[0;32m   1530\u001b[0m \u001b[43m    \u001b[49m\u001b[43mattention_mask\u001b[49m\u001b[38;5;241;43m=\u001b[39;49m\u001b[43mdecoder_attention_mask\u001b[49m\u001b[43m,\u001b[49m\n\u001b[0;32m   1531\u001b[0m \u001b[43m    \u001b[49m\u001b[43mencoder_hidden_states\u001b[49m\u001b[38;5;241;43m=\u001b[39;49m\u001b[43mencoder_outputs\u001b[49m\u001b[43m[\u001b[49m\u001b[38;5;241;43m0\u001b[39;49m\u001b[43m]\u001b[49m\u001b[43m,\u001b[49m\n\u001b[0;32m   1532\u001b[0m \u001b[43m    \u001b[49m\u001b[43mencoder_attention_mask\u001b[49m\u001b[38;5;241;43m=\u001b[39;49m\u001b[43mattention_mask\u001b[49m\u001b[43m,\u001b[49m\n\u001b[0;32m   1533\u001b[0m \u001b[43m    \u001b[49m\u001b[43mhead_mask\u001b[49m\u001b[38;5;241;43m=\u001b[39;49m\u001b[43mdecoder_head_mask\u001b[49m\u001b[43m,\u001b[49m\n\u001b[0;32m   1534\u001b[0m \u001b[43m    \u001b[49m\u001b[43mcross_attn_head_mask\u001b[49m\u001b[38;5;241;43m=\u001b[39;49m\u001b[43mcross_attn_head_mask\u001b[49m\u001b[43m,\u001b[49m\n\u001b[0;32m   1535\u001b[0m \u001b[43m    \u001b[49m\u001b[43mpast_key_values\u001b[49m\u001b[38;5;241;43m=\u001b[39;49m\u001b[43mpast_key_values\u001b[49m\u001b[43m,\u001b[49m\n\u001b[0;32m   1536\u001b[0m \u001b[43m    \u001b[49m\u001b[43minputs_embeds\u001b[49m\u001b[38;5;241;43m=\u001b[39;49m\u001b[43mdecoder_inputs_embeds\u001b[49m\u001b[43m,\u001b[49m\n\u001b[0;32m   1537\u001b[0m \u001b[43m    \u001b[49m\u001b[43muse_cache\u001b[49m\u001b[38;5;241;43m=\u001b[39;49m\u001b[43muse_cache\u001b[49m\u001b[43m,\u001b[49m\n\u001b[0;32m   1538\u001b[0m \u001b[43m    \u001b[49m\u001b[43moutput_attentions\u001b[49m\u001b[38;5;241;43m=\u001b[39;49m\u001b[43moutput_attentions\u001b[49m\u001b[43m,\u001b[49m\n\u001b[0;32m   1539\u001b[0m \u001b[43m    \u001b[49m\u001b[43moutput_hidden_states\u001b[49m\u001b[38;5;241;43m=\u001b[39;49m\u001b[43moutput_hidden_states\u001b[49m\u001b[43m,\u001b[49m\n\u001b[0;32m   1540\u001b[0m \u001b[43m    \u001b[49m\u001b[43mreturn_dict\u001b[49m\u001b[38;5;241;43m=\u001b[39;49m\u001b[43mreturn_dict\u001b[49m\u001b[43m,\u001b[49m\n\u001b[0;32m   1541\u001b[0m \u001b[43m\u001b[49m\u001b[43m)\u001b[49m\n\u001b[0;32m   1543\u001b[0m \u001b[38;5;28;01mif\u001b[39;00m \u001b[38;5;129;01mnot\u001b[39;00m return_dict:\n\u001b[0;32m   1544\u001b[0m     \u001b[38;5;28;01mreturn\u001b[39;00m decoder_outputs \u001b[38;5;241m+\u001b[39m encoder_outputs\n",
      "File \u001b[1;32mc:\\Users\\User\\anaconda3\\envs\\text-mining1\\lib\\site-packages\\torch\\nn\\modules\\module.py:1553\u001b[0m, in \u001b[0;36mModule._wrapped_call_impl\u001b[1;34m(self, *args, **kwargs)\u001b[0m\n\u001b[0;32m   1551\u001b[0m     \u001b[38;5;28;01mreturn\u001b[39;00m \u001b[38;5;28mself\u001b[39m\u001b[38;5;241m.\u001b[39m_compiled_call_impl(\u001b[38;5;241m*\u001b[39margs, \u001b[38;5;241m*\u001b[39m\u001b[38;5;241m*\u001b[39mkwargs)  \u001b[38;5;66;03m# type: ignore[misc]\u001b[39;00m\n\u001b[0;32m   1552\u001b[0m \u001b[38;5;28;01melse\u001b[39;00m:\n\u001b[1;32m-> 1553\u001b[0m     \u001b[38;5;28;01mreturn\u001b[39;00m \u001b[38;5;28mself\u001b[39m\u001b[38;5;241m.\u001b[39m_call_impl(\u001b[38;5;241m*\u001b[39margs, \u001b[38;5;241m*\u001b[39m\u001b[38;5;241m*\u001b[39mkwargs)\n",
      "File \u001b[1;32mc:\\Users\\User\\anaconda3\\envs\\text-mining1\\lib\\site-packages\\torch\\nn\\modules\\module.py:1562\u001b[0m, in \u001b[0;36mModule._call_impl\u001b[1;34m(self, *args, **kwargs)\u001b[0m\n\u001b[0;32m   1557\u001b[0m \u001b[38;5;66;03m# If we don't have any hooks, we want to skip the rest of the logic in\u001b[39;00m\n\u001b[0;32m   1558\u001b[0m \u001b[38;5;66;03m# this function, and just call forward.\u001b[39;00m\n\u001b[0;32m   1559\u001b[0m \u001b[38;5;28;01mif\u001b[39;00m \u001b[38;5;129;01mnot\u001b[39;00m (\u001b[38;5;28mself\u001b[39m\u001b[38;5;241m.\u001b[39m_backward_hooks \u001b[38;5;129;01mor\u001b[39;00m \u001b[38;5;28mself\u001b[39m\u001b[38;5;241m.\u001b[39m_backward_pre_hooks \u001b[38;5;129;01mor\u001b[39;00m \u001b[38;5;28mself\u001b[39m\u001b[38;5;241m.\u001b[39m_forward_hooks \u001b[38;5;129;01mor\u001b[39;00m \u001b[38;5;28mself\u001b[39m\u001b[38;5;241m.\u001b[39m_forward_pre_hooks\n\u001b[0;32m   1560\u001b[0m         \u001b[38;5;129;01mor\u001b[39;00m _global_backward_pre_hooks \u001b[38;5;129;01mor\u001b[39;00m _global_backward_hooks\n\u001b[0;32m   1561\u001b[0m         \u001b[38;5;129;01mor\u001b[39;00m _global_forward_hooks \u001b[38;5;129;01mor\u001b[39;00m _global_forward_pre_hooks):\n\u001b[1;32m-> 1562\u001b[0m     \u001b[38;5;28;01mreturn\u001b[39;00m forward_call(\u001b[38;5;241m*\u001b[39margs, \u001b[38;5;241m*\u001b[39m\u001b[38;5;241m*\u001b[39mkwargs)\n\u001b[0;32m   1564\u001b[0m \u001b[38;5;28;01mtry\u001b[39;00m:\n\u001b[0;32m   1565\u001b[0m     result \u001b[38;5;241m=\u001b[39m \u001b[38;5;28;01mNone\u001b[39;00m\n",
      "File \u001b[1;32mc:\\Users\\User\\anaconda3\\envs\\text-mining1\\lib\\site-packages\\transformers\\models\\bart\\modeling_bart.py:1380\u001b[0m, in \u001b[0;36mBartDecoder.forward\u001b[1;34m(self, input_ids, attention_mask, encoder_hidden_states, encoder_attention_mask, head_mask, cross_attn_head_mask, past_key_values, inputs_embeds, use_cache, output_attentions, output_hidden_states, return_dict)\u001b[0m\n\u001b[0;32m   1367\u001b[0m     layer_outputs \u001b[38;5;241m=\u001b[39m \u001b[38;5;28mself\u001b[39m\u001b[38;5;241m.\u001b[39m_gradient_checkpointing_func(\n\u001b[0;32m   1368\u001b[0m         decoder_layer\u001b[38;5;241m.\u001b[39m\u001b[38;5;21m__call__\u001b[39m,\n\u001b[0;32m   1369\u001b[0m         hidden_states,\n\u001b[1;32m   (...)\u001b[0m\n\u001b[0;32m   1377\u001b[0m         use_cache,\n\u001b[0;32m   1378\u001b[0m     )\n\u001b[0;32m   1379\u001b[0m \u001b[38;5;28;01melse\u001b[39;00m:\n\u001b[1;32m-> 1380\u001b[0m     layer_outputs \u001b[38;5;241m=\u001b[39m \u001b[43mdecoder_layer\u001b[49m\u001b[43m(\u001b[49m\n\u001b[0;32m   1381\u001b[0m \u001b[43m        \u001b[49m\u001b[43mhidden_states\u001b[49m\u001b[43m,\u001b[49m\n\u001b[0;32m   1382\u001b[0m \u001b[43m        \u001b[49m\u001b[43mattention_mask\u001b[49m\u001b[38;5;241;43m=\u001b[39;49m\u001b[43mattention_mask\u001b[49m\u001b[43m,\u001b[49m\n\u001b[0;32m   1383\u001b[0m \u001b[43m        \u001b[49m\u001b[43mencoder_hidden_states\u001b[49m\u001b[38;5;241;43m=\u001b[39;49m\u001b[43mencoder_hidden_states\u001b[49m\u001b[43m,\u001b[49m\n\u001b[0;32m   1384\u001b[0m \u001b[43m        \u001b[49m\u001b[43mencoder_attention_mask\u001b[49m\u001b[38;5;241;43m=\u001b[39;49m\u001b[43mencoder_attention_mask\u001b[49m\u001b[43m,\u001b[49m\n\u001b[0;32m   1385\u001b[0m \u001b[43m        \u001b[49m\u001b[43mlayer_head_mask\u001b[49m\u001b[38;5;241;43m=\u001b[39;49m\u001b[43m(\u001b[49m\u001b[43mhead_mask\u001b[49m\u001b[43m[\u001b[49m\u001b[43midx\u001b[49m\u001b[43m]\u001b[49m\u001b[43m \u001b[49m\u001b[38;5;28;43;01mif\u001b[39;49;00m\u001b[43m \u001b[49m\u001b[43mhead_mask\u001b[49m\u001b[43m \u001b[49m\u001b[38;5;129;43;01mis\u001b[39;49;00m\u001b[43m \u001b[49m\u001b[38;5;129;43;01mnot\u001b[39;49;00m\u001b[43m \u001b[49m\u001b[38;5;28;43;01mNone\u001b[39;49;00m\u001b[43m \u001b[49m\u001b[38;5;28;43;01melse\u001b[39;49;00m\u001b[43m \u001b[49m\u001b[38;5;28;43;01mNone\u001b[39;49;00m\u001b[43m)\u001b[49m\u001b[43m,\u001b[49m\n\u001b[0;32m   1386\u001b[0m \u001b[43m        \u001b[49m\u001b[43mcross_attn_layer_head_mask\u001b[49m\u001b[38;5;241;43m=\u001b[39;49m\u001b[43m(\u001b[49m\n\u001b[0;32m   1387\u001b[0m \u001b[43m            \u001b[49m\u001b[43mcross_attn_head_mask\u001b[49m\u001b[43m[\u001b[49m\u001b[43midx\u001b[49m\u001b[43m]\u001b[49m\u001b[43m \u001b[49m\u001b[38;5;28;43;01mif\u001b[39;49;00m\u001b[43m \u001b[49m\u001b[43mcross_attn_head_mask\u001b[49m\u001b[43m \u001b[49m\u001b[38;5;129;43;01mis\u001b[39;49;00m\u001b[43m \u001b[49m\u001b[38;5;129;43;01mnot\u001b[39;49;00m\u001b[43m \u001b[49m\u001b[38;5;28;43;01mNone\u001b[39;49;00m\u001b[43m \u001b[49m\u001b[38;5;28;43;01melse\u001b[39;49;00m\u001b[43m \u001b[49m\u001b[38;5;28;43;01mNone\u001b[39;49;00m\n\u001b[0;32m   1388\u001b[0m \u001b[43m        \u001b[49m\u001b[43m)\u001b[49m\u001b[43m,\u001b[49m\n\u001b[0;32m   1389\u001b[0m \u001b[43m        \u001b[49m\u001b[43mpast_key_value\u001b[49m\u001b[38;5;241;43m=\u001b[39;49m\u001b[43mpast_key_value\u001b[49m\u001b[43m,\u001b[49m\n\u001b[0;32m   1390\u001b[0m \u001b[43m        \u001b[49m\u001b[43moutput_attentions\u001b[49m\u001b[38;5;241;43m=\u001b[39;49m\u001b[43moutput_attentions\u001b[49m\u001b[43m,\u001b[49m\n\u001b[0;32m   1391\u001b[0m \u001b[43m        \u001b[49m\u001b[43muse_cache\u001b[49m\u001b[38;5;241;43m=\u001b[39;49m\u001b[43muse_cache\u001b[49m\u001b[43m,\u001b[49m\n\u001b[0;32m   1392\u001b[0m \u001b[43m    \u001b[49m\u001b[43m)\u001b[49m\n\u001b[0;32m   1393\u001b[0m hidden_states \u001b[38;5;241m=\u001b[39m layer_outputs[\u001b[38;5;241m0\u001b[39m]\n\u001b[0;32m   1395\u001b[0m \u001b[38;5;28;01mif\u001b[39;00m use_cache:\n",
      "File \u001b[1;32mc:\\Users\\User\\anaconda3\\envs\\text-mining1\\lib\\site-packages\\torch\\nn\\modules\\module.py:1553\u001b[0m, in \u001b[0;36mModule._wrapped_call_impl\u001b[1;34m(self, *args, **kwargs)\u001b[0m\n\u001b[0;32m   1551\u001b[0m     \u001b[38;5;28;01mreturn\u001b[39;00m \u001b[38;5;28mself\u001b[39m\u001b[38;5;241m.\u001b[39m_compiled_call_impl(\u001b[38;5;241m*\u001b[39margs, \u001b[38;5;241m*\u001b[39m\u001b[38;5;241m*\u001b[39mkwargs)  \u001b[38;5;66;03m# type: ignore[misc]\u001b[39;00m\n\u001b[0;32m   1552\u001b[0m \u001b[38;5;28;01melse\u001b[39;00m:\n\u001b[1;32m-> 1553\u001b[0m     \u001b[38;5;28;01mreturn\u001b[39;00m \u001b[38;5;28mself\u001b[39m\u001b[38;5;241m.\u001b[39m_call_impl(\u001b[38;5;241m*\u001b[39margs, \u001b[38;5;241m*\u001b[39m\u001b[38;5;241m*\u001b[39mkwargs)\n",
      "File \u001b[1;32mc:\\Users\\User\\anaconda3\\envs\\text-mining1\\lib\\site-packages\\torch\\nn\\modules\\module.py:1562\u001b[0m, in \u001b[0;36mModule._call_impl\u001b[1;34m(self, *args, **kwargs)\u001b[0m\n\u001b[0;32m   1557\u001b[0m \u001b[38;5;66;03m# If we don't have any hooks, we want to skip the rest of the logic in\u001b[39;00m\n\u001b[0;32m   1558\u001b[0m \u001b[38;5;66;03m# this function, and just call forward.\u001b[39;00m\n\u001b[0;32m   1559\u001b[0m \u001b[38;5;28;01mif\u001b[39;00m \u001b[38;5;129;01mnot\u001b[39;00m (\u001b[38;5;28mself\u001b[39m\u001b[38;5;241m.\u001b[39m_backward_hooks \u001b[38;5;129;01mor\u001b[39;00m \u001b[38;5;28mself\u001b[39m\u001b[38;5;241m.\u001b[39m_backward_pre_hooks \u001b[38;5;129;01mor\u001b[39;00m \u001b[38;5;28mself\u001b[39m\u001b[38;5;241m.\u001b[39m_forward_hooks \u001b[38;5;129;01mor\u001b[39;00m \u001b[38;5;28mself\u001b[39m\u001b[38;5;241m.\u001b[39m_forward_pre_hooks\n\u001b[0;32m   1560\u001b[0m         \u001b[38;5;129;01mor\u001b[39;00m _global_backward_pre_hooks \u001b[38;5;129;01mor\u001b[39;00m _global_backward_hooks\n\u001b[0;32m   1561\u001b[0m         \u001b[38;5;129;01mor\u001b[39;00m _global_forward_hooks \u001b[38;5;129;01mor\u001b[39;00m _global_forward_pre_hooks):\n\u001b[1;32m-> 1562\u001b[0m     \u001b[38;5;28;01mreturn\u001b[39;00m forward_call(\u001b[38;5;241m*\u001b[39margs, \u001b[38;5;241m*\u001b[39m\u001b[38;5;241m*\u001b[39mkwargs)\n\u001b[0;32m   1564\u001b[0m \u001b[38;5;28;01mtry\u001b[39;00m:\n\u001b[0;32m   1565\u001b[0m     result \u001b[38;5;241m=\u001b[39m \u001b[38;5;28;01mNone\u001b[39;00m\n",
      "File \u001b[1;32mc:\\Users\\User\\anaconda3\\envs\\text-mining1\\lib\\site-packages\\transformers\\models\\bart\\modeling_bart.py:704\u001b[0m, in \u001b[0;36mBartDecoderLayer.forward\u001b[1;34m(self, hidden_states, attention_mask, encoder_hidden_states, encoder_attention_mask, layer_head_mask, cross_attn_layer_head_mask, past_key_value, output_attentions, use_cache)\u001b[0m\n\u001b[0;32m    702\u001b[0m hidden_states \u001b[38;5;241m=\u001b[39m \u001b[38;5;28mself\u001b[39m\u001b[38;5;241m.\u001b[39mactivation_fn(\u001b[38;5;28mself\u001b[39m\u001b[38;5;241m.\u001b[39mfc1(hidden_states))\n\u001b[0;32m    703\u001b[0m hidden_states \u001b[38;5;241m=\u001b[39m nn\u001b[38;5;241m.\u001b[39mfunctional\u001b[38;5;241m.\u001b[39mdropout(hidden_states, p\u001b[38;5;241m=\u001b[39m\u001b[38;5;28mself\u001b[39m\u001b[38;5;241m.\u001b[39mactivation_dropout, training\u001b[38;5;241m=\u001b[39m\u001b[38;5;28mself\u001b[39m\u001b[38;5;241m.\u001b[39mtraining)\n\u001b[1;32m--> 704\u001b[0m hidden_states \u001b[38;5;241m=\u001b[39m \u001b[38;5;28;43mself\u001b[39;49m\u001b[38;5;241;43m.\u001b[39;49m\u001b[43mfc2\u001b[49m\u001b[43m(\u001b[49m\u001b[43mhidden_states\u001b[49m\u001b[43m)\u001b[49m\n\u001b[0;32m    705\u001b[0m hidden_states \u001b[38;5;241m=\u001b[39m nn\u001b[38;5;241m.\u001b[39mfunctional\u001b[38;5;241m.\u001b[39mdropout(hidden_states, p\u001b[38;5;241m=\u001b[39m\u001b[38;5;28mself\u001b[39m\u001b[38;5;241m.\u001b[39mdropout, training\u001b[38;5;241m=\u001b[39m\u001b[38;5;28mself\u001b[39m\u001b[38;5;241m.\u001b[39mtraining)\n\u001b[0;32m    706\u001b[0m hidden_states \u001b[38;5;241m=\u001b[39m residual \u001b[38;5;241m+\u001b[39m hidden_states\n",
      "File \u001b[1;32mc:\\Users\\User\\anaconda3\\envs\\text-mining1\\lib\\site-packages\\torch\\nn\\modules\\module.py:1553\u001b[0m, in \u001b[0;36mModule._wrapped_call_impl\u001b[1;34m(self, *args, **kwargs)\u001b[0m\n\u001b[0;32m   1551\u001b[0m     \u001b[38;5;28;01mreturn\u001b[39;00m \u001b[38;5;28mself\u001b[39m\u001b[38;5;241m.\u001b[39m_compiled_call_impl(\u001b[38;5;241m*\u001b[39margs, \u001b[38;5;241m*\u001b[39m\u001b[38;5;241m*\u001b[39mkwargs)  \u001b[38;5;66;03m# type: ignore[misc]\u001b[39;00m\n\u001b[0;32m   1552\u001b[0m \u001b[38;5;28;01melse\u001b[39;00m:\n\u001b[1;32m-> 1553\u001b[0m     \u001b[38;5;28;01mreturn\u001b[39;00m \u001b[38;5;28mself\u001b[39m\u001b[38;5;241m.\u001b[39m_call_impl(\u001b[38;5;241m*\u001b[39margs, \u001b[38;5;241m*\u001b[39m\u001b[38;5;241m*\u001b[39mkwargs)\n",
      "File \u001b[1;32mc:\\Users\\User\\anaconda3\\envs\\text-mining1\\lib\\site-packages\\torch\\nn\\modules\\module.py:1562\u001b[0m, in \u001b[0;36mModule._call_impl\u001b[1;34m(self, *args, **kwargs)\u001b[0m\n\u001b[0;32m   1557\u001b[0m \u001b[38;5;66;03m# If we don't have any hooks, we want to skip the rest of the logic in\u001b[39;00m\n\u001b[0;32m   1558\u001b[0m \u001b[38;5;66;03m# this function, and just call forward.\u001b[39;00m\n\u001b[0;32m   1559\u001b[0m \u001b[38;5;28;01mif\u001b[39;00m \u001b[38;5;129;01mnot\u001b[39;00m (\u001b[38;5;28mself\u001b[39m\u001b[38;5;241m.\u001b[39m_backward_hooks \u001b[38;5;129;01mor\u001b[39;00m \u001b[38;5;28mself\u001b[39m\u001b[38;5;241m.\u001b[39m_backward_pre_hooks \u001b[38;5;129;01mor\u001b[39;00m \u001b[38;5;28mself\u001b[39m\u001b[38;5;241m.\u001b[39m_forward_hooks \u001b[38;5;129;01mor\u001b[39;00m \u001b[38;5;28mself\u001b[39m\u001b[38;5;241m.\u001b[39m_forward_pre_hooks\n\u001b[0;32m   1560\u001b[0m         \u001b[38;5;129;01mor\u001b[39;00m _global_backward_pre_hooks \u001b[38;5;129;01mor\u001b[39;00m _global_backward_hooks\n\u001b[0;32m   1561\u001b[0m         \u001b[38;5;129;01mor\u001b[39;00m _global_forward_hooks \u001b[38;5;129;01mor\u001b[39;00m _global_forward_pre_hooks):\n\u001b[1;32m-> 1562\u001b[0m     \u001b[38;5;28;01mreturn\u001b[39;00m forward_call(\u001b[38;5;241m*\u001b[39margs, \u001b[38;5;241m*\u001b[39m\u001b[38;5;241m*\u001b[39mkwargs)\n\u001b[0;32m   1564\u001b[0m \u001b[38;5;28;01mtry\u001b[39;00m:\n\u001b[0;32m   1565\u001b[0m     result \u001b[38;5;241m=\u001b[39m \u001b[38;5;28;01mNone\u001b[39;00m\n",
      "File \u001b[1;32mc:\\Users\\User\\anaconda3\\envs\\text-mining1\\lib\\site-packages\\torch\\nn\\modules\\linear.py:117\u001b[0m, in \u001b[0;36mLinear.forward\u001b[1;34m(self, input)\u001b[0m\n\u001b[0;32m    116\u001b[0m \u001b[38;5;28;01mdef\u001b[39;00m \u001b[38;5;21mforward\u001b[39m(\u001b[38;5;28mself\u001b[39m, \u001b[38;5;28minput\u001b[39m: Tensor) \u001b[38;5;241m-\u001b[39m\u001b[38;5;241m>\u001b[39m Tensor:\n\u001b[1;32m--> 117\u001b[0m     \u001b[38;5;28;01mreturn\u001b[39;00m \u001b[43mF\u001b[49m\u001b[38;5;241;43m.\u001b[39;49m\u001b[43mlinear\u001b[49m\u001b[43m(\u001b[49m\u001b[38;5;28;43minput\u001b[39;49m\u001b[43m,\u001b[49m\u001b[43m \u001b[49m\u001b[38;5;28;43mself\u001b[39;49m\u001b[38;5;241;43m.\u001b[39;49m\u001b[43mweight\u001b[49m\u001b[43m,\u001b[49m\u001b[43m \u001b[49m\u001b[38;5;28;43mself\u001b[39;49m\u001b[38;5;241;43m.\u001b[39;49m\u001b[43mbias\u001b[49m\u001b[43m)\u001b[49m\n",
      "\u001b[1;31mKeyboardInterrupt\u001b[0m: "
     ]
    }
   ],
   "source": [
    "reviews_preproc = reviews_preproc.apply(lambda x: fix_spelling(x, max_length=2048)[0]['generated_text'])"
   ]
  },
  {
   "cell_type": "code",
   "execution_count": null,
   "metadata": {},
   "outputs": [],
   "source": [
    "reviews_preproc_spell.diff(reviews_preproc)"
   ]
  },
  {
   "cell_type": "code",
   "execution_count": null,
   "metadata": {},
   "outputs": [
    {
     "data": {
      "text/plain": [
       "0       The ambience was good, food was quite good. ha...\n",
       "1       Ambience is too good for a pleasant evening. S...\n",
       "2       A must try.. great food great ambience. Thnx f...\n",
       "3       Soumen das and Arun was a great guy. Only beca...\n",
       "4       Food is good. we ordered Kodi drumsticks and b...\n",
       "                              ...                        \n",
       "9995    Madhumathi Mahajan Well to start with nice cou...\n",
       "9996    This place has never disappointed us.. The foo...\n",
       "9997    Bad rating is mainly because of \"Chicken Bone ...\n",
       "9998    I personally love and prefer Chinese Food. Had...\n",
       "9999    Checked in here to try some delicious chinese ...\n",
       "Name: Review, Length: 9910, dtype: object"
      ]
     },
     "execution_count": 33,
     "metadata": {},
     "output_type": "execute_result"
    }
   ],
   "source": [
    "print(reviews_preproc)"
   ]
  },
  {
   "cell_type": "code",
   "execution_count": 13,
   "metadata": {},
   "outputs": [],
   "source": [
    "from bertopic import BERTopic\n",
    "from bertopic.representation import KeyBERTInspired, MaximalMarginalRelevance, PartOfSpeech\n",
    "from sklearn.feature_extraction.text import CountVectorizer\n",
    "from bertopic.vectorizers import ClassTfidfTransformer\n",
    "from umap import UMAP\n",
    "from hdbscan import HDBSCAN"
   ]
  },
  {
   "cell_type": "code",
   "execution_count": 14,
   "metadata": {},
   "outputs": [
    {
     "data": {
      "application/vnd.jupyter.widget-view+json": {
       "model_id": "39131034849e45bd9f79973776262bba",
       "version_major": 2,
       "version_minor": 0
      },
      "text/plain": [
       "Batches:   0%|          | 0/310 [00:00<?, ?it/s]"
      ]
     },
     "metadata": {},
     "output_type": "display_data"
    }
   ],
   "source": [
    "from sentence_transformers import SentenceTransformer\n",
    "\n",
    "# Pre-calculate embeddings\n",
    "embedding_model = SentenceTransformer(\"all-MiniLM-L6-v2\")\n",
    "embeddings = embedding_model.encode(reviews_preproc.tolist(), show_progress_bar=True)"
   ]
  },
  {
   "cell_type": "code",
   "execution_count": 30,
   "metadata": {},
   "outputs": [],
   "source": [
    "vectorizer_model = CountVectorizer(stop_words=\"english\", ngram_range=(1, 1))\n",
    "ctfidf_model = ClassTfidfTransformer(bm25_weighting=True)\n",
    "umap_model = UMAP(n_neighbors=15, n_components=5, min_dist=0.0, metric='cosine', random_state=42)\n",
    "hdbscan_model = HDBSCAN(min_cluster_size=30,metric='euclidean', cluster_selection_method='eom', prediction_data=True)"
   ]
  },
  {
   "cell_type": "code",
   "execution_count": 31,
   "metadata": {},
   "outputs": [
    {
     "name": "stderr",
     "output_type": "stream",
     "text": [
      "2024-12-15 17:37:37,604 - BERTopic - Dimensionality - Fitting the dimensionality reduction algorithm\n",
      "2024-12-15 17:38:00,261 - BERTopic - Dimensionality - Completed ✓\n",
      "2024-12-15 17:38:00,263 - BERTopic - Cluster - Start clustering the reduced embeddings\n",
      "2024-12-15 17:38:02,669 - BERTopic - Cluster - Completed ✓\n",
      "2024-12-15 17:38:02,676 - BERTopic - Representation - Extracting topics from clusters using representation models.\n",
      "2024-12-15 17:38:26,225 - BERTopic - Representation - Completed ✓\n"
     ]
    }
   ],
   "source": [
    "model_base = BERTopic(\n",
    "    language=\"english\", \n",
    "    calculate_probabilities=True,\n",
    "    embedding_model= embedding_model,\n",
    "    vectorizer_model=vectorizer_model,\n",
    "    ctfidf_model=ctfidf_model,\n",
    "    umap_model= umap_model,\n",
    "    hdbscan_model=hdbscan_model,\n",
    "    representation_model={\"MMR\": MaximalMarginalRelevance(diversity=0.3),\n",
    "                          \"KeyBert\": KeyBERTInspired(),\n",
    "                          \"Pos\": PartOfSpeech()},\n",
    "    verbose = True\n",
    ")\n",
    "topics_base, probs_base = model_base.fit_transform(reviews_preproc,embeddings)"
   ]
  },
  {
   "cell_type": "code",
   "execution_count": 28,
   "metadata": {},
   "outputs": [
    {
     "data": {
      "text/html": [
       "<div>\n",
       "<style scoped>\n",
       "    .dataframe tbody tr th:only-of-type {\n",
       "        vertical-align: middle;\n",
       "    }\n",
       "\n",
       "    .dataframe tbody tr th {\n",
       "        vertical-align: top;\n",
       "    }\n",
       "\n",
       "    .dataframe thead th {\n",
       "        text-align: right;\n",
       "    }\n",
       "</style>\n",
       "<table border=\"1\" class=\"dataframe\">\n",
       "  <thead>\n",
       "    <tr style=\"text-align: right;\">\n",
       "      <th></th>\n",
       "      <th>Topic</th>\n",
       "      <th>Count</th>\n",
       "      <th>Name</th>\n",
       "      <th>Representation</th>\n",
       "      <th>MMR</th>\n",
       "      <th>KeyBert</th>\n",
       "      <th>Pos</th>\n",
       "      <th>Representative_Docs</th>\n",
       "    </tr>\n",
       "  </thead>\n",
       "  <tbody>\n",
       "    <tr>\n",
       "      <th>0</th>\n",
       "      <td>-1</td>\n",
       "      <td>4202</td>\n",
       "      <td>-1_pizza_friendly_ambience_great</td>\n",
       "      <td>[pizza, friendly, ambience, great, awesome, ov...</td>\n",
       "      <td>[pizza, friendly, prawns, tikka, menu, lunch, ...</td>\n",
       "      <td>[restaurant, buffet, dishes, dish, dinner, lun...</td>\n",
       "      <td>[pizza, friendly, ambience, great, awesome, ov...</td>\n",
       "      <td>[This place has been a bookmark for me since v...</td>\n",
       "    </tr>\n",
       "    <tr>\n",
       "      <th>1</th>\n",
       "      <td>0</td>\n",
       "      <td>584</td>\n",
       "      <td>0_biryani_biriyani_biryanis_mutton</td>\n",
       "      <td>[biryani, biriyani, biryanis, mutton, dum, par...</td>\n",
       "      <td>[biryani, biriyani, mutton, hyderabadi, quanti...</td>\n",
       "      <td>[biryani, biiyani, biryanis, biriyani, birayan...</td>\n",
       "      <td>[biryani, biriyani, biryanis, mutton, paradise...</td>\n",
       "      <td>[Well this is an absolute honest review from a...</td>\n",
       "    </tr>\n",
       "    <tr>\n",
       "      <th>2</th>\n",
       "      <td>1</td>\n",
       "      <td>426</td>\n",
       "      <td>1_manager_rude_asked_waiter</td>\n",
       "      <td>[manager, rude, asked, waiter, table, pathetic...</td>\n",
       "      <td>[rude, waiter, mins, waiters, leave, tables, b...</td>\n",
       "      <td>[waiters, waiter, serve, customers, booking, r...</td>\n",
       "      <td>[manager, rude, waiter, table, pathetic, mins,...</td>\n",
       "      <td>[I went to club rouge since the day it started...</td>\n",
       "    </tr>\n",
       "    <tr>\n",
       "      <th>3</th>\n",
       "      <td>2</td>\n",
       "      <td>328</td>\n",
       "      <td>2_dj_dance_floor_music</td>\n",
       "      <td>[dj, dance, floor, music, hangout, crowd, roof...</td>\n",
       "      <td>[dj, dance, hangout, rooftop, party, pub, week...</td>\n",
       "      <td>[pubs, hangout, partying, terrace, pub, place,...</td>\n",
       "      <td>[dj, dance, floor, music, hangout, crowd, roof...</td>\n",
       "      <td>[This place has amazing setup, separated in mu...</td>\n",
       "    </tr>\n",
       "    <tr>\n",
       "      <th>4</th>\n",
       "      <td>3</td>\n",
       "      <td>308</td>\n",
       "      <td>3_good_bhehave_verry_combo</td>\n",
       "      <td>[good, bhehave, verry, combo, nice, , , , , ]</td>\n",
       "      <td>[good, bhehave, verry, combo, nice, , , , , , ...</td>\n",
       "      <td>[good, nice, , , , , , , , ]</td>\n",
       "      <td>[good, combo, nice, , , , , , , ]</td>\n",
       "      <td>[good, good, good bhehave]</td>\n",
       "    </tr>\n",
       "    <tr>\n",
       "      <th>5</th>\n",
       "      <td>4</td>\n",
       "      <td>259</td>\n",
       "      <td>4_hyderabad_hyderabadi_daawat_sikandari</td>\n",
       "      <td>[hyderabad, hyderabadi, daawat, sikandari, raa...</td>\n",
       "      <td>[hyderabadi, places, culture, dawaat, beers, c...</td>\n",
       "      <td>[hyderabadi, hyderabad, cuisine, shorba, cuisi...</td>\n",
       "      <td>[hyderabad, hyderabadi, daawat, sikandari, pla...</td>\n",
       "      <td>[Ask anyone what you like about Hyderabad the ...</td>\n",
       "    </tr>\n",
       "    <tr>\n",
       "      <th>6</th>\n",
       "      <td>5</td>\n",
       "      <td>240</td>\n",
       "      <td>5_govind_bahadur_excellent_shivam</td>\n",
       "      <td>[govind, bahadur, excellent, shivam, sarvice, ...</td>\n",
       "      <td>[govind, bahadur, shivam, sabir, krishna, mr, ...</td>\n",
       "      <td>[visit, hospitality, kusal, servicing, santhu,...</td>\n",
       "      <td>[bahadur, excellent, sarvice, abs, suraj, than...</td>\n",
       "      <td>[Excellent food and excellent service providin...</td>\n",
       "    </tr>\n",
       "    <tr>\n",
       "      <th>7</th>\n",
       "      <td>6</td>\n",
       "      <td>178</td>\n",
       "      <td>6_zomato_gold_dominos_refund</td>\n",
       "      <td>[zomato, gold, dominos, refund, support, deliv...</td>\n",
       "      <td>[zomato, dominos, refund, contact, payment, fa...</td>\n",
       "      <td>[refund, customers, orders, restaurant, domino...</td>\n",
       "      <td>[zomato, gold, dominos, refund, support, conta...</td>\n",
       "      <td>[delivery, poor customer support. Both me and ...</td>\n",
       "    </tr>\n",
       "    <tr>\n",
       "      <th>8</th>\n",
       "      <td>7</td>\n",
       "      <td>177</td>\n",
       "      <td>7_buffet_spread_hyatt_buffets</td>\n",
       "      <td>[buffet, spread, hyatt, buffets, lunch, carte,...</td>\n",
       "      <td>[buffet, hyatt, buffets, lunch, counters, dess...</td>\n",
       "      <td>[buffets, buffet, dishes, lunch, salads, barbe...</td>\n",
       "      <td>[buffet, spread, buffets, lunch, carte, counte...</td>\n",
       "      <td>[I have had the breakfast buffet here quite a ...</td>\n",
       "    </tr>\n",
       "    <tr>\n",
       "      <th>9</th>\n",
       "      <td>8</td>\n",
       "      <td>141</td>\n",
       "      <td>8_cake_brownies_cupcakes_cakes</td>\n",
       "      <td>[cake, brownies, cupcakes, cakes, velvet, labo...</td>\n",
       "      <td>[brownies, cupcakes, cakes, chocolate, cookies...</td>\n",
       "      <td>[bakery, bakeries, cakes, cupcakes, cupcake, b...</td>\n",
       "      <td>[cake, brownies, cupcakes, cakes, velvet, labo...</td>\n",
       "      <td>[Absolutely delighted with our overall experie...</td>\n",
       "    </tr>\n",
       "    <tr>\n",
       "      <th>10</th>\n",
       "      <td>9</td>\n",
       "      <td>131</td>\n",
       "      <td>9_gachibowli_located_banjara_area</td>\n",
       "      <td>[gachibowli, located, banjara, area, outlets, ...</td>\n",
       "      <td>[gachibowli, banjara, area, branch, places, ju...</td>\n",
       "      <td>[gachibowli, gachiwoli, hangout, visit, tiki, ...</td>\n",
       "      <td>[gachibowli, area, outlets, branch, spots, dan...</td>\n",
       "      <td>[Tiki Shak, Gachibowli - Hyderabad The Gachibo...</td>\n",
       "    </tr>\n",
       "    <tr>\n",
       "      <th>11</th>\n",
       "      <td>10</td>\n",
       "      <td>128</td>\n",
       "      <td>10_chinese_noodles_authentic_pavilion</td>\n",
       "      <td>[chinese, noodles, authentic, pavilion, china,...</td>\n",
       "      <td>[chinese, noodles, pavilion, chineese, cuisine...</td>\n",
       "      <td>[cuisine, chineese, noodles, oriental, sesame,...</td>\n",
       "      <td>[chinese, noodles, authentic, pavilion, chow, ...</td>\n",
       "      <td>[Ohh finally the wait is over, I have been see...</td>\n",
       "    </tr>\n",
       "    <tr>\n",
       "      <th>12</th>\n",
       "      <td>11</td>\n",
       "      <td>127</td>\n",
       "      <td>11_ambience_kafuli_goreng_average</td>\n",
       "      <td>[ambience, kafuli, goreng, average, cocktail, ...</td>\n",
       "      <td>[ambience, kafuli, goreng, cocktail, toys, dri...</td>\n",
       "      <td>[ambience, drinks, cocktail, soothing, music, ...</td>\n",
       "      <td>[ambience, goreng, average, cocktail, toys, dr...</td>\n",
       "      <td>[Ambience- Good for a family dinner. Warm Mell...</td>\n",
       "    </tr>\n",
       "    <tr>\n",
       "      <th>13</th>\n",
       "      <td>12</td>\n",
       "      <td>119</td>\n",
       "      <td>12_manchurian_noodles_gobi_rice</td>\n",
       "      <td>[manchurian, noodles, gobi, rice, manchuria, f...</td>\n",
       "      <td>[manchurian, noodles, rice, fried, chilli, chi...</td>\n",
       "      <td>[noodles, ramen, rice, chilli, meal, mealbox, ...</td>\n",
       "      <td>[manchurian, noodles, gobi, rice, manchuria, f...</td>\n",
       "      <td>[Wow!!! Just wow!! What a let down!! I ordered...</td>\n",
       "    </tr>\n",
       "    <tr>\n",
       "      <th>14</th>\n",
       "      <td>13</td>\n",
       "      <td>116</td>\n",
       "      <td>13_fish_virgin_nawabi_prawns</td>\n",
       "      <td>[fish, virgin, nawabi, prawns, mocktails, keba...</td>\n",
       "      <td>[nawabi, prawns, mocktails, kebab, soup, crisp...</td>\n",
       "      <td>[soup, soups, spices, chilli, dish, appetizers...</td>\n",
       "      <td>[fish, virgin, nawabi, prawns, mocktails, soup...</td>\n",
       "      <td>[Follow my Instagram page Pour House is a spac...</td>\n",
       "    </tr>\n",
       "    <tr>\n",
       "      <th>15</th>\n",
       "      <td>14</td>\n",
       "      <td>115</td>\n",
       "      <td>14_vegetarian_non_vegetarians_veg</td>\n",
       "      <td>[vegetarian, non, vegetarians, veg, rottened, ...</td>\n",
       "      <td>[vegetarian, starters, curries, varieties, ute...</td>\n",
       "      <td>[vegetarian, dishes, vegetarians, curries, swe...</td>\n",
       "      <td>[vegetarian, non, vegetarians, veg, starters, ...</td>\n",
       "      <td>[I aplogize for posting the review so late (af...</td>\n",
       "    </tr>\n",
       "    <tr>\n",
       "      <th>16</th>\n",
       "      <td>15</td>\n",
       "      <td>107</td>\n",
       "      <td>15_shawarma_rumali_shah_shawarmas</td>\n",
       "      <td>[shawarma, rumali, shah, shawarmas, ghouse, ma...</td>\n",
       "      <td>[rumali, shawarmas, mayonnaise, shawerma, shah...</td>\n",
       "      <td>[shawarma, shawarmas, shawarama, shawerma, sha...</td>\n",
       "      <td>[shawarma, rumali, shah, shawarmas, ghouse, ma...</td>\n",
       "      <td>[This place promises to be one of the good Sha...</td>\n",
       "    </tr>\n",
       "    <tr>\n",
       "      <th>17</th>\n",
       "      <td>16</td>\n",
       "      <td>95</td>\n",
       "      <td>16_tasty_jucey_weaste_sarvece</td>\n",
       "      <td>[tasty, jucey, weaste, sarvece, navigation, fo...</td>\n",
       "      <td>[tasty, jucey, weaste, sarvece, navigation, fo...</td>\n",
       "      <td>[tasty, delicious, yummy, food, taste, eat, co...</td>\n",
       "      <td>[tasty, navigation, thanku, yummy, delivary, w...</td>\n",
       "      <td>[So tasty yummy, Tasty and delicious, so tasty...</td>\n",
       "    </tr>\n",
       "    <tr>\n",
       "      <th>18</th>\n",
       "      <td>17</td>\n",
       "      <td>93</td>\n",
       "      <td>17_smell_raw_oil_kfc</td>\n",
       "      <td>[smell, raw, oil, kfc, skin, smelling, rotten,...</td>\n",
       "      <td>[smell, oil, kfc, rotten, cooking, worst, smel...</td>\n",
       "      <td>[chicken, sandwich, kfc, cooking, cooked, snac...</td>\n",
       "      <td>[smell, raw, oil, skin, rotten, cooking, worst...</td>\n",
       "      <td>[Food was not that not at all good.. just not ...</td>\n",
       "    </tr>\n",
       "    <tr>\n",
       "      <th>19</th>\n",
       "      <td>18</td>\n",
       "      <td>92</td>\n",
       "      <td>18_test_nic_yup_bdhd</td>\n",
       "      <td>[test, nic, yup, bdhd, thumbsup, ntg, ggod, gd...</td>\n",
       "      <td>[test, nic, thumbsup, gdgd, execelent, nil, sw...</td>\n",
       "      <td>[test, good, quality, bad, best, decent, did, ...</td>\n",
       "      <td>[test, nic, thumbsup, execelent, gdgd, bad, sw...</td>\n",
       "      <td>[not so good test, test is very good, Not plen...</td>\n",
       "    </tr>\n",
       "    <tr>\n",
       "      <th>20</th>\n",
       "      <td>19</td>\n",
       "      <td>91</td>\n",
       "      <td>19_quantity_salt_smoothie_overpriced</td>\n",
       "      <td>[quantity, salt, smoothie, overpriced, expecta...</td>\n",
       "      <td>[quantity, salt, smoothie, overpriced, quitity...</td>\n",
       "      <td>[overpriced, smoothie, pricey, edible, prices,...</td>\n",
       "      <td>[quantity, salt, smoothie, overpriced, expecta...</td>\n",
       "      <td>[It is just average coming to taste. You do no...</td>\n",
       "    </tr>\n",
       "    <tr>\n",
       "      <th>21</th>\n",
       "      <td>20</td>\n",
       "      <td>90</td>\n",
       "      <td>20_delivery_boy_tips_man</td>\n",
       "      <td>[delivery, boy, tips, man, guy, osm, umakanth,...</td>\n",
       "      <td>[delivery, tips, umakanth, mallesh, deliverey,...</td>\n",
       "      <td>[delivery, deliver, deliverd, delivered, deliv...</td>\n",
       "      <td>[delivery, boy, tips, man, guy, deliverey, shu...</td>\n",
       "      <td>[Delivery boy has not reached yet. Told me to ...</td>\n",
       "    </tr>\n",
       "    <tr>\n",
       "      <th>22</th>\n",
       "      <td>21</td>\n",
       "      <td>88</td>\n",
       "      <td>21_quantity_sucks_low_poor</td>\n",
       "      <td>[quantity, sucks, low, poor, pavillion, toomuc...</td>\n",
       "      <td>[quantity, poor, pavillion, quality, vendors, ...</td>\n",
       "      <td>[quantity, low, quality, prices, value, overpr...</td>\n",
       "      <td>[quantity, sucks, low, poor, toomuch, quality,...</td>\n",
       "      <td>[very low quantity for the price, low quality ...</td>\n",
       "    </tr>\n",
       "    <tr>\n",
       "      <th>23</th>\n",
       "      <td>22</td>\n",
       "      <td>86</td>\n",
       "      <td>22_job_superb_aavula_assum</td>\n",
       "      <td>[job, superb, aavula, assum, sarvic, rehman, m...</td>\n",
       "      <td>[superb, aavula, sarvic, rehman, provider, gau...</td>\n",
       "      <td>[thanks, superb, thank, excellent, great, awes...</td>\n",
       "      <td>[job, superb, aavula, sarvic, thank, provider,...</td>\n",
       "      <td>[superb service, excellent job, Superb fast th...</td>\n",
       "    </tr>\n",
       "    <tr>\n",
       "      <th>24</th>\n",
       "      <td>23</td>\n",
       "      <td>85</td>\n",
       "      <td>23_ice_cream_stone_creams</td>\n",
       "      <td>[ice, cream, stone, creams, nuts, amul, icecre...</td>\n",
       "      <td>[creams, nuts, icecreams, chocolate, overloade...</td>\n",
       "      <td>[icecreams, icecrem, icecream, creamery, cream...</td>\n",
       "      <td>[ice, cream, stone, creams, nuts, icecreams, f...</td>\n",
       "      <td>[I have ordered almost all the chocolate conce...</td>\n",
       "    </tr>\n",
       "    <tr>\n",
       "      <th>25</th>\n",
       "      <td>24</td>\n",
       "      <td>85</td>\n",
       "      <td>24_burger_burgers_galaxy_milky</td>\n",
       "      <td>[burger, burgers, galaxy, milky, patty, charco...</td>\n",
       "      <td>[burgers, milky, patty, buns, hotdog, bbq, san...</td>\n",
       "      <td>[burger, burgers, barbecues, bbq, grill, grill...</td>\n",
       "      <td>[burger, burgers, galaxy, milky, patty, charco...</td>\n",
       "      <td>[Now that s what we call some authentic chicke...</td>\n",
       "    </tr>\n",
       "    <tr>\n",
       "      <th>26</th>\n",
       "      <td>25</td>\n",
       "      <td>70</td>\n",
       "      <td>25_delivery_late_delivered_deliver</td>\n",
       "      <td>[delivery, late, delivered, deliver, committed...</td>\n",
       "      <td>[delivery, thanq, commitments, timely, zoomato...</td>\n",
       "      <td>[delivery, deliver, delayed, late, delivered, ...</td>\n",
       "      <td>[delivery, late, deliver, intime, commitments,...</td>\n",
       "      <td>[late delivery, Late delivery, Bad experience,...</td>\n",
       "    </tr>\n",
       "    <tr>\n",
       "      <th>27</th>\n",
       "      <td>26</td>\n",
       "      <td>69</td>\n",
       "      <td>26_chese_amezing_family_space</td>\n",
       "      <td>[chese, amezing, family, space, hospitality, h...</td>\n",
       "      <td>[chese, space, hospitality, unmatchable, conti...</td>\n",
       "      <td>[hospitality, visiting, spacious, outskirts, e...</td>\n",
       "      <td>[chese, family, space, hospitality, licker, ca...</td>\n",
       "      <td>[I was waiting since long to visit this place....</td>\n",
       "    </tr>\n",
       "    <tr>\n",
       "      <th>28</th>\n",
       "      <td>27</td>\n",
       "      <td>66</td>\n",
       "      <td>27_ravioli_frio_pasta_italian</td>\n",
       "      <td>[ravioli, frio, pasta, italian, pizza, crust, ...</td>\n",
       "      <td>[ravioli, frio, pizza, crust, spinach, bistro,...</td>\n",
       "      <td>[pizza, ravioli, pasta, alfredo, pizzas, pasta...</td>\n",
       "      <td>[ravioli, frio, pasta, italian, pizza, crust, ...</td>\n",
       "      <td>[I was at this bistro for dinner with my frien...</td>\n",
       "    </tr>\n",
       "    <tr>\n",
       "      <th>29</th>\n",
       "      <td>28</td>\n",
       "      <td>65</td>\n",
       "      <td>28_indian_north_south_indians</td>\n",
       "      <td>[indian, north, south, indians, mandhi, norfes...</td>\n",
       "      <td>[indians, mandhi, breakfast, kulcha, joints, n...</td>\n",
       "      <td>[cuisine, cuisines, indiranagar, indian, india...</td>\n",
       "      <td>[indian, north, south, mandhi, breakfast, typi...</td>\n",
       "      <td>[This place is my default option for south ind...</td>\n",
       "    </tr>\n",
       "    <tr>\n",
       "      <th>30</th>\n",
       "      <td>29</td>\n",
       "      <td>65</td>\n",
       "      <td>29_received_delivered_wrong_navigate</td>\n",
       "      <td>[received, delivered, wrong, navigate, incompl...</td>\n",
       "      <td>[delivered, incomplete, order, cooperation, re...</td>\n",
       "      <td>[delivery, deliver, delivering, delivered, ord...</td>\n",
       "      <td>[wrong, incomplete, order, address, decency, n...</td>\n",
       "      <td>[wrong items delivered. cannot call back deliv...</td>\n",
       "    </tr>\n",
       "    <tr>\n",
       "      <th>31</th>\n",
       "      <td>30</td>\n",
       "      <td>65</td>\n",
       "      <td>30_paneer_masala_butter_ganda</td>\n",
       "      <td>[paneer, masala, butter, ganda, turmeric, makh...</td>\n",
       "      <td>[paneer, masala, butter, roti, kadhai, curry, ...</td>\n",
       "      <td>[paneer, masala, panner, kadhai, lasagna, curr...</td>\n",
       "      <td>[paneer, masala, butter, turmeric, ganda, makh...</td>\n",
       "      <td>[Had the panneer of the day combo here. It was...</td>\n",
       "    </tr>\n",
       "    <tr>\n",
       "      <th>32</th>\n",
       "      <td>31</td>\n",
       "      <td>63</td>\n",
       "      <td>31_paratha_parathas_parantha_paranthas</td>\n",
       "      <td>[paratha, parathas, parantha, paranthas, aloo,...</td>\n",
       "      <td>[paratha, parantha, chutney, stuffing, corn, p...</td>\n",
       "      <td>[parathas, paratha, parantha, paneer, stuffing...</td>\n",
       "      <td>[paratha, parathas, parantha, paranthas, aloo,...</td>\n",
       "      <td>[So I happened to order Aloo Parathas and Moun...</td>\n",
       "    </tr>\n",
       "    <tr>\n",
       "      <th>33</th>\n",
       "      <td>32</td>\n",
       "      <td>61</td>\n",
       "      <td>32_punjabi_lassi_punjab_dal</td>\n",
       "      <td>[punjabi, lassi, punjab, dal, judwa, makhani, ...</td>\n",
       "      <td>[punjabi, punjab, judwa, makhani, kulcha, dhab...</td>\n",
       "      <td>[punjabi, punjab, paneer, patiyala, kutta, hyd...</td>\n",
       "      <td>[punjabi, lassi, punjab, dal, judwa, makhani, ...</td>\n",
       "      <td>[Got to know about this by watching uber eats ...</td>\n",
       "    </tr>\n",
       "    <tr>\n",
       "      <th>34</th>\n",
       "      <td>33</td>\n",
       "      <td>59</td>\n",
       "      <td>33_donuts_donut_dunkin_doughnut</td>\n",
       "      <td>[donuts, donut, dunkin, doughnut, doughnuts, m...</td>\n",
       "      <td>[donuts, donut, doughnut, doughnuts, chocolate...</td>\n",
       "      <td>[donuts, donut, doughnuts, doughnut, dounuts, ...</td>\n",
       "      <td>[donuts, donut, dunkin, doughnut, doughnuts, m...</td>\n",
       "      <td>[Landed up here on a Saturday night after shop...</td>\n",
       "    </tr>\n",
       "    <tr>\n",
       "      <th>35</th>\n",
       "      <td>34</td>\n",
       "      <td>58</td>\n",
       "      <td>34_momos_kurkure_momo_steamed</td>\n",
       "      <td>[momos, kurkure, momo, steamed, mayo, steam, m...</td>\n",
       "      <td>[momos, steamed, mayo, mayonnaise, kukure, ram...</td>\n",
       "      <td>[momos, mayo, momo, mayonnaise, steamed, eater...</td>\n",
       "      <td>[momos, kurkure, momo, steamed, mayo, mayonnai...</td>\n",
       "      <td>[Watching ipl and ordred norfest, thought of a...</td>\n",
       "    </tr>\n",
       "    <tr>\n",
       "      <th>36</th>\n",
       "      <td>35</td>\n",
       "      <td>55</td>\n",
       "      <td>35_mandi_yum_tree_arabian</td>\n",
       "      <td>[mandi, yum, tree, arabian, bbq, juicy, mandis...</td>\n",
       "      <td>[mandi, yum, tree, arabian, bbq, mutton, bakla...</td>\n",
       "      <td>[mandi, mandis, arabian, bbq, barbeque, arabic...</td>\n",
       "      <td>[mandi, yum, tree, arabian, bbq, juicy, mutton...</td>\n",
       "      <td>[Awesome Arabian food your search for Mandi sh...</td>\n",
       "    </tr>\n",
       "    <tr>\n",
       "      <th>37</th>\n",
       "      <td>36</td>\n",
       "      <td>55</td>\n",
       "      <td>36_boy_rider_nice_absolute</td>\n",
       "      <td>[boy, rider, nice, absolute, guy, simply, fast...</td>\n",
       "      <td>[boy, rider, absolute, guy, fast, thank, kind,...</td>\n",
       "      <td>[boy, good, great, nice, guy, thank, awesome, ...</td>\n",
       "      <td>[boy, rider, nice, absolute, guy, fast, good, ...</td>\n",
       "      <td>[very good boy, good boy, good boy]</td>\n",
       "    </tr>\n",
       "    <tr>\n",
       "      <th>38</th>\n",
       "      <td>37</td>\n",
       "      <td>54</td>\n",
       "      <td>37_bikes_cars_coffee_cafe</td>\n",
       "      <td>[bikes, cars, coffee, cafe, bike, rent, driven...</td>\n",
       "      <td>[bikes, cars, cafe, garage, coffees, supercars...</td>\n",
       "      <td>[cafe, cafes, coffee, coffees, cozy, biking, b...</td>\n",
       "      <td>[bikes, cars, coffee, cafe, bike, rent, garage...</td>\n",
       "      <td>[A cozy, classy cafe to visit amidst the chaos...</td>\n",
       "    </tr>\n",
       "    <tr>\n",
       "      <th>39</th>\n",
       "      <td>38</td>\n",
       "      <td>53</td>\n",
       "      <td>38_waste_zero_wan_li</td>\n",
       "      <td>[waste, zero, wan, li, nom, avarage, minds, ow...</td>\n",
       "      <td>[waste, nom, rats, taste, nyc, cockroaches, du...</td>\n",
       "      <td>[taste, tastes, flavour, tasted, waste, bland,...</td>\n",
       "      <td>[waste, avarage, rats, minds, taste, vry, cock...</td>\n",
       "      <td>[the taste is not good just waste of money wan...</td>\n",
       "    </tr>\n",
       "    <tr>\n",
       "      <th>40</th>\n",
       "      <td>39</td>\n",
       "      <td>51</td>\n",
       "      <td>39_shake_shakes_tempteys_poppy</td>\n",
       "      <td>[shake, shakes, tempteys, poppy, cherry, caram...</td>\n",
       "      <td>[shakes, tempteys, caramel, oreo, brownie, coo...</td>\n",
       "      <td>[flavors, flavor, caramel, flavoured, marshmal...</td>\n",
       "      <td>[shake, shakes, cherry, caramel, berry, oreo, ...</td>\n",
       "      <td>[Sunday afternoon we visited this place with t...</td>\n",
       "    </tr>\n",
       "    <tr>\n",
       "      <th>41</th>\n",
       "      <td>40</td>\n",
       "      <td>48</td>\n",
       "      <td>40_fast_delivery_delivary_speed</td>\n",
       "      <td>[fast, delivery, delivary, speed, super, delie...</td>\n",
       "      <td>[delivery, delivary, speed, exceedingly, rains...</td>\n",
       "      <td>[delivery, deliver, fast, fastest, faster, spe...</td>\n",
       "      <td>[fast, delivery, delivary, speed, super, delvi...</td>\n",
       "      <td>[Super fast delivery, super fast delivery, sup...</td>\n",
       "    </tr>\n",
       "    <tr>\n",
       "      <th>42</th>\n",
       "      <td>41</td>\n",
       "      <td>46</td>\n",
       "      <td>41_waffle_pancakes_waffles_tea</td>\n",
       "      <td>[waffle, pancakes, waffles, tea, nutella, panc...</td>\n",
       "      <td>[waffle, pancakes, waffles, nutella, scrambled...</td>\n",
       "      <td>[breakfast, pancakes, waffles, waffle, pancake...</td>\n",
       "      <td>[waffle, pancakes, waffles, tea, nutella, panc...</td>\n",
       "      <td>[Big fan of All day Breakfast in bed? Order fr...</td>\n",
       "    </tr>\n",
       "    <tr>\n",
       "      <th>43</th>\n",
       "      <td>42</td>\n",
       "      <td>45</td>\n",
       "      <td>42_maggi_maggie_double_egg</td>\n",
       "      <td>[maggi, maggie, double, egg, lukmi, hunger, ma...</td>\n",
       "      <td>[maggi, egg, snack, park, samosa, masaledaar, ...</td>\n",
       "      <td>[maggi, magi, maggis, snack, hunger, shawarma,...</td>\n",
       "      <td>[maggi, maggie, double, egg, hunger, magi, sna...</td>\n",
       "      <td>[Who can say no to some delicious Maggi! Hunge...</td>\n",
       "    </tr>\n",
       "    <tr>\n",
       "      <th>44</th>\n",
       "      <td>43</td>\n",
       "      <td>44</td>\n",
       "      <td>43_bagel_bread_madras_bagels</td>\n",
       "      <td>[bagel, bread, madras, bagels, sandwich, filte...</td>\n",
       "      <td>[bagel, bagels, filter, pastries, breads, coff...</td>\n",
       "      <td>[bakery, sandwiches, madras, bread, breakfast,...</td>\n",
       "      <td>[bagel, bread, bagels, sandwich, filter, sourd...</td>\n",
       "      <td>[The Old Madras Baking Company. How posh does ...</td>\n",
       "    </tr>\n",
       "    <tr>\n",
       "      <th>45</th>\n",
       "      <td>44</td>\n",
       "      <td>41</td>\n",
       "      <td>44_nice_rider_person_</td>\n",
       "      <td>[nice, rider, person, , , , , , , ]</td>\n",
       "      <td>[nice, rider, person, , , , , , , , , , , , , ...</td>\n",
       "      <td>[nice, , , , , , , , , ]</td>\n",
       "      <td>[nice, rider, person, , , , , , , ]</td>\n",
       "      <td>[Nice, nice, nice]</td>\n",
       "    </tr>\n",
       "    <tr>\n",
       "      <th>46</th>\n",
       "      <td>45</td>\n",
       "      <td>38</td>\n",
       "      <td>45_andhra_telugu_telangana_kodi</td>\n",
       "      <td>[andhra, telugu, telangana, kodi, pulav, ulava...</td>\n",
       "      <td>[andhra, telugu, ulavacharu, bamboo, pot, dabh...</td>\n",
       "      <td>[andhra, telangana, cuisine, telugu, mysore, n...</td>\n",
       "      <td>[andhra, telugu, kodi, pulav, ulavacharu, bamb...</td>\n",
       "      <td>[T-Grill is on the main road next to ICICI cam...</td>\n",
       "    </tr>\n",
       "    <tr>\n",
       "      <th>47</th>\n",
       "      <td>46</td>\n",
       "      <td>38</td>\n",
       "      <td>46_spicy____vegitable_ayrup</td>\n",
       "      <td>[spicy, __, vegitable, ayrup, mantain, vegitab...</td>\n",
       "      <td>[spicy, ayrup, vegitables, harm, ache, stomach...</td>\n",
       "      <td>[spicy, spices, chilli, uncooked, tasty, coria...</td>\n",
       "      <td>[spicy, ayrup, vegitables, vegitable, intentio...</td>\n",
       "      <td>[Can you explain, how spicy food is healthy? I...</td>\n",
       "    </tr>\n",
       "    <tr>\n",
       "      <th>48</th>\n",
       "      <td>47</td>\n",
       "      <td>38</td>\n",
       "      <td>47_haleem_pista_ramzan_ramadan</td>\n",
       "      <td>[haleem, pista, ramzan, ramadan, cloves, ghous...</td>\n",
       "      <td>[ramzan, ramadan, ghouse, shah, pathar, poison...</td>\n",
       "      <td>[haleem, haleems, ramadan, tastewise, shah, ba...</td>\n",
       "      <td>[haleem, ramzan, ghouse, shah, house, poisonin...</td>\n",
       "      <td>[Used to hear that this was probably the best ...</td>\n",
       "    </tr>\n",
       "    <tr>\n",
       "      <th>49</th>\n",
       "      <td>48</td>\n",
       "      <td>37</td>\n",
       "      <td>48_excellent_awsome_thank_great</td>\n",
       "      <td>[excellent, awsome, thank, great, perfect, ama...</td>\n",
       "      <td>[excellent, awsome, thank, great, perfect, ama...</td>\n",
       "      <td>[excellent, great, amazing, perfect, thank, , ...</td>\n",
       "      <td>[excellent, great, perfect, , , , , , , ]</td>\n",
       "      <td>[excellent, excellent, excellent]</td>\n",
       "    </tr>\n",
       "    <tr>\n",
       "      <th>50</th>\n",
       "      <td>49</td>\n",
       "      <td>36</td>\n",
       "      <td>49_chai_irani_karachi_cafe</td>\n",
       "      <td>[chai, irani, karachi, cafe, biscuits, posters...</td>\n",
       "      <td>[chai, karachi, biscuits, posters, osmania, vi...</td>\n",
       "      <td>[karachi, cafe, irani, cafes, osmania, bakery,...</td>\n",
       "      <td>[chai, irani, karachi, cafe, biscuits, posters...</td>\n",
       "      <td>[Featuring an interesting place on the busy st...</td>\n",
       "    </tr>\n",
       "    <tr>\n",
       "      <th>51</th>\n",
       "      <td>50</td>\n",
       "      <td>35</td>\n",
       "      <td>50_sizzlers_sizzler_absolute_sizzling</td>\n",
       "      <td>[sizzlers, sizzler, absolute, sizzling, puzzle...</td>\n",
       "      <td>[sizzlers, sizzling, dine, chips, decking, por...</td>\n",
       "      <td>[sizzlers, sizzler, sizzles, sizzle, sizzling,...</td>\n",
       "      <td>[sizzlers, sizzler, absolute, sizzling, puzzle...</td>\n",
       "      <td>[Sizzling Sizzling S best sizzlers restaurant ...</td>\n",
       "    </tr>\n",
       "    <tr>\n",
       "      <th>52</th>\n",
       "      <td>51</td>\n",
       "      <td>33</td>\n",
       "      <td>51_wings_wild_sauces_nuggets</td>\n",
       "      <td>[wings, wild, sauces, nuggets, texas, amazon, ...</td>\n",
       "      <td>[wings, sauces, nuggets, popcorn, bbq, lemonad...</td>\n",
       "      <td>[wings, chicken, bbq, sauces, burgers, burger,...</td>\n",
       "      <td>[wings, wild, sauces, nuggets, amazon, america...</td>\n",
       "      <td>[American Wild Wings = Amazing Wings I happene...</td>\n",
       "    </tr>\n",
       "    <tr>\n",
       "      <th>53</th>\n",
       "      <td>52</td>\n",
       "      <td>31</td>\n",
       "      <td>52_packing_tissues_plastic_cutlery</td>\n",
       "      <td>[packing, tissues, plastic, cutlery, polythene...</td>\n",
       "      <td>[packing, plastic, cutlery, polythene, seal, b...</td>\n",
       "      <td>[packaging, cutlery, packing, boxes, package, ...</td>\n",
       "      <td>[packing, tissues, plastic, cutlery, polythene...</td>\n",
       "      <td>[Not even a cover they have given to hold the ...</td>\n",
       "    </tr>\n",
       "  </tbody>\n",
       "</table>\n",
       "</div>"
      ],
      "text/plain": [
       "    Topic  Count                                     Name  \\\n",
       "0      -1   4202         -1_pizza_friendly_ambience_great   \n",
       "1       0    584       0_biryani_biriyani_biryanis_mutton   \n",
       "2       1    426              1_manager_rude_asked_waiter   \n",
       "3       2    328                   2_dj_dance_floor_music   \n",
       "4       3    308               3_good_bhehave_verry_combo   \n",
       "5       4    259  4_hyderabad_hyderabadi_daawat_sikandari   \n",
       "6       5    240        5_govind_bahadur_excellent_shivam   \n",
       "7       6    178             6_zomato_gold_dominos_refund   \n",
       "8       7    177            7_buffet_spread_hyatt_buffets   \n",
       "9       8    141           8_cake_brownies_cupcakes_cakes   \n",
       "10      9    131        9_gachibowli_located_banjara_area   \n",
       "11     10    128    10_chinese_noodles_authentic_pavilion   \n",
       "12     11    127        11_ambience_kafuli_goreng_average   \n",
       "13     12    119          12_manchurian_noodles_gobi_rice   \n",
       "14     13    116             13_fish_virgin_nawabi_prawns   \n",
       "15     14    115        14_vegetarian_non_vegetarians_veg   \n",
       "16     15    107        15_shawarma_rumali_shah_shawarmas   \n",
       "17     16     95            16_tasty_jucey_weaste_sarvece   \n",
       "18     17     93                     17_smell_raw_oil_kfc   \n",
       "19     18     92                     18_test_nic_yup_bdhd   \n",
       "20     19     91     19_quantity_salt_smoothie_overpriced   \n",
       "21     20     90                 20_delivery_boy_tips_man   \n",
       "22     21     88               21_quantity_sucks_low_poor   \n",
       "23     22     86               22_job_superb_aavula_assum   \n",
       "24     23     85                23_ice_cream_stone_creams   \n",
       "25     24     85           24_burger_burgers_galaxy_milky   \n",
       "26     25     70       25_delivery_late_delivered_deliver   \n",
       "27     26     69            26_chese_amezing_family_space   \n",
       "28     27     66            27_ravioli_frio_pasta_italian   \n",
       "29     28     65            28_indian_north_south_indians   \n",
       "30     29     65     29_received_delivered_wrong_navigate   \n",
       "31     30     65            30_paneer_masala_butter_ganda   \n",
       "32     31     63   31_paratha_parathas_parantha_paranthas   \n",
       "33     32     61              32_punjabi_lassi_punjab_dal   \n",
       "34     33     59          33_donuts_donut_dunkin_doughnut   \n",
       "35     34     58            34_momos_kurkure_momo_steamed   \n",
       "36     35     55                35_mandi_yum_tree_arabian   \n",
       "37     36     55               36_boy_rider_nice_absolute   \n",
       "38     37     54                37_bikes_cars_coffee_cafe   \n",
       "39     38     53                     38_waste_zero_wan_li   \n",
       "40     39     51           39_shake_shakes_tempteys_poppy   \n",
       "41     40     48          40_fast_delivery_delivary_speed   \n",
       "42     41     46           41_waffle_pancakes_waffles_tea   \n",
       "43     42     45               42_maggi_maggie_double_egg   \n",
       "44     43     44             43_bagel_bread_madras_bagels   \n",
       "45     44     41                    44_nice_rider_person_   \n",
       "46     45     38          45_andhra_telugu_telangana_kodi   \n",
       "47     46     38              46_spicy____vegitable_ayrup   \n",
       "48     47     38           47_haleem_pista_ramzan_ramadan   \n",
       "49     48     37          48_excellent_awsome_thank_great   \n",
       "50     49     36               49_chai_irani_karachi_cafe   \n",
       "51     50     35    50_sizzlers_sizzler_absolute_sizzling   \n",
       "52     51     33             51_wings_wild_sauces_nuggets   \n",
       "53     52     31       52_packing_tissues_plastic_cutlery   \n",
       "\n",
       "                                       Representation  \\\n",
       "0   [pizza, friendly, ambience, great, awesome, ov...   \n",
       "1   [biryani, biriyani, biryanis, mutton, dum, par...   \n",
       "2   [manager, rude, asked, waiter, table, pathetic...   \n",
       "3   [dj, dance, floor, music, hangout, crowd, roof...   \n",
       "4       [good, bhehave, verry, combo, nice, , , , , ]   \n",
       "5   [hyderabad, hyderabadi, daawat, sikandari, raa...   \n",
       "6   [govind, bahadur, excellent, shivam, sarvice, ...   \n",
       "7   [zomato, gold, dominos, refund, support, deliv...   \n",
       "8   [buffet, spread, hyatt, buffets, lunch, carte,...   \n",
       "9   [cake, brownies, cupcakes, cakes, velvet, labo...   \n",
       "10  [gachibowli, located, banjara, area, outlets, ...   \n",
       "11  [chinese, noodles, authentic, pavilion, china,...   \n",
       "12  [ambience, kafuli, goreng, average, cocktail, ...   \n",
       "13  [manchurian, noodles, gobi, rice, manchuria, f...   \n",
       "14  [fish, virgin, nawabi, prawns, mocktails, keba...   \n",
       "15  [vegetarian, non, vegetarians, veg, rottened, ...   \n",
       "16  [shawarma, rumali, shah, shawarmas, ghouse, ma...   \n",
       "17  [tasty, jucey, weaste, sarvece, navigation, fo...   \n",
       "18  [smell, raw, oil, kfc, skin, smelling, rotten,...   \n",
       "19  [test, nic, yup, bdhd, thumbsup, ntg, ggod, gd...   \n",
       "20  [quantity, salt, smoothie, overpriced, expecta...   \n",
       "21  [delivery, boy, tips, man, guy, osm, umakanth,...   \n",
       "22  [quantity, sucks, low, poor, pavillion, toomuc...   \n",
       "23  [job, superb, aavula, assum, sarvic, rehman, m...   \n",
       "24  [ice, cream, stone, creams, nuts, amul, icecre...   \n",
       "25  [burger, burgers, galaxy, milky, patty, charco...   \n",
       "26  [delivery, late, delivered, deliver, committed...   \n",
       "27  [chese, amezing, family, space, hospitality, h...   \n",
       "28  [ravioli, frio, pasta, italian, pizza, crust, ...   \n",
       "29  [indian, north, south, indians, mandhi, norfes...   \n",
       "30  [received, delivered, wrong, navigate, incompl...   \n",
       "31  [paneer, masala, butter, ganda, turmeric, makh...   \n",
       "32  [paratha, parathas, parantha, paranthas, aloo,...   \n",
       "33  [punjabi, lassi, punjab, dal, judwa, makhani, ...   \n",
       "34  [donuts, donut, dunkin, doughnut, doughnuts, m...   \n",
       "35  [momos, kurkure, momo, steamed, mayo, steam, m...   \n",
       "36  [mandi, yum, tree, arabian, bbq, juicy, mandis...   \n",
       "37  [boy, rider, nice, absolute, guy, simply, fast...   \n",
       "38  [bikes, cars, coffee, cafe, bike, rent, driven...   \n",
       "39  [waste, zero, wan, li, nom, avarage, minds, ow...   \n",
       "40  [shake, shakes, tempteys, poppy, cherry, caram...   \n",
       "41  [fast, delivery, delivary, speed, super, delie...   \n",
       "42  [waffle, pancakes, waffles, tea, nutella, panc...   \n",
       "43  [maggi, maggie, double, egg, lukmi, hunger, ma...   \n",
       "44  [bagel, bread, madras, bagels, sandwich, filte...   \n",
       "45                [nice, rider, person, , , , , , , ]   \n",
       "46  [andhra, telugu, telangana, kodi, pulav, ulava...   \n",
       "47  [spicy, __, vegitable, ayrup, mantain, vegitab...   \n",
       "48  [haleem, pista, ramzan, ramadan, cloves, ghous...   \n",
       "49  [excellent, awsome, thank, great, perfect, ama...   \n",
       "50  [chai, irani, karachi, cafe, biscuits, posters...   \n",
       "51  [sizzlers, sizzler, absolute, sizzling, puzzle...   \n",
       "52  [wings, wild, sauces, nuggets, texas, amazon, ...   \n",
       "53  [packing, tissues, plastic, cutlery, polythene...   \n",
       "\n",
       "                                                  MMR  \\\n",
       "0   [pizza, friendly, prawns, tikka, menu, lunch, ...   \n",
       "1   [biryani, biriyani, mutton, hyderabadi, quanti...   \n",
       "2   [rude, waiter, mins, waiters, leave, tables, b...   \n",
       "3   [dj, dance, hangout, rooftop, party, pub, week...   \n",
       "4   [good, bhehave, verry, combo, nice, , , , , , ...   \n",
       "5   [hyderabadi, places, culture, dawaat, beers, c...   \n",
       "6   [govind, bahadur, shivam, sabir, krishna, mr, ...   \n",
       "7   [zomato, dominos, refund, contact, payment, fa...   \n",
       "8   [buffet, hyatt, buffets, lunch, counters, dess...   \n",
       "9   [brownies, cupcakes, cakes, chocolate, cookies...   \n",
       "10  [gachibowli, banjara, area, branch, places, ju...   \n",
       "11  [chinese, noodles, pavilion, chineese, cuisine...   \n",
       "12  [ambience, kafuli, goreng, cocktail, toys, dri...   \n",
       "13  [manchurian, noodles, rice, fried, chilli, chi...   \n",
       "14  [nawabi, prawns, mocktails, kebab, soup, crisp...   \n",
       "15  [vegetarian, starters, curries, varieties, ute...   \n",
       "16  [rumali, shawarmas, mayonnaise, shawerma, shah...   \n",
       "17  [tasty, jucey, weaste, sarvece, navigation, fo...   \n",
       "18  [smell, oil, kfc, rotten, cooking, worst, smel...   \n",
       "19  [test, nic, thumbsup, gdgd, execelent, nil, sw...   \n",
       "20  [quantity, salt, smoothie, overpriced, quitity...   \n",
       "21  [delivery, tips, umakanth, mallesh, deliverey,...   \n",
       "22  [quantity, poor, pavillion, quality, vendors, ...   \n",
       "23  [superb, aavula, sarvic, rehman, provider, gau...   \n",
       "24  [creams, nuts, icecreams, chocolate, overloade...   \n",
       "25  [burgers, milky, patty, buns, hotdog, bbq, san...   \n",
       "26  [delivery, thanq, commitments, timely, zoomato...   \n",
       "27  [chese, space, hospitality, unmatchable, conti...   \n",
       "28  [ravioli, frio, pizza, crust, spinach, bistro,...   \n",
       "29  [indians, mandhi, breakfast, kulcha, joints, n...   \n",
       "30  [delivered, incomplete, order, cooperation, re...   \n",
       "31  [paneer, masala, butter, roti, kadhai, curry, ...   \n",
       "32  [paratha, parantha, chutney, stuffing, corn, p...   \n",
       "33  [punjabi, punjab, judwa, makhani, kulcha, dhab...   \n",
       "34  [donuts, donut, doughnut, doughnuts, chocolate...   \n",
       "35  [momos, steamed, mayo, mayonnaise, kukure, ram...   \n",
       "36  [mandi, yum, tree, arabian, bbq, mutton, bakla...   \n",
       "37  [boy, rider, absolute, guy, fast, thank, kind,...   \n",
       "38  [bikes, cars, cafe, garage, coffees, supercars...   \n",
       "39  [waste, nom, rats, taste, nyc, cockroaches, du...   \n",
       "40  [shakes, tempteys, caramel, oreo, brownie, coo...   \n",
       "41  [delivery, delivary, speed, exceedingly, rains...   \n",
       "42  [waffle, pancakes, waffles, nutella, scrambled...   \n",
       "43  [maggi, egg, snack, park, samosa, masaledaar, ...   \n",
       "44  [bagel, bagels, filter, pastries, breads, coff...   \n",
       "45  [nice, rider, person, , , , , , , , , , , , , ...   \n",
       "46  [andhra, telugu, ulavacharu, bamboo, pot, dabh...   \n",
       "47  [spicy, ayrup, vegitables, harm, ache, stomach...   \n",
       "48  [ramzan, ramadan, ghouse, shah, pathar, poison...   \n",
       "49  [excellent, awsome, thank, great, perfect, ama...   \n",
       "50  [chai, karachi, biscuits, posters, osmania, vi...   \n",
       "51  [sizzlers, sizzling, dine, chips, decking, por...   \n",
       "52  [wings, sauces, nuggets, popcorn, bbq, lemonad...   \n",
       "53  [packing, plastic, cutlery, polythene, seal, b...   \n",
       "\n",
       "                                              KeyBert  \\\n",
       "0   [restaurant, buffet, dishes, dish, dinner, lun...   \n",
       "1   [biryani, biiyani, biryanis, biriyani, birayan...   \n",
       "2   [waiters, waiter, serve, customers, booking, r...   \n",
       "3   [pubs, hangout, partying, terrace, pub, place,...   \n",
       "4                        [good, nice, , , , , , , , ]   \n",
       "5   [hyderabadi, hyderabad, cuisine, shorba, cuisi...   \n",
       "6   [visit, hospitality, kusal, servicing, santhu,...   \n",
       "7   [refund, customers, orders, restaurant, domino...   \n",
       "8   [buffets, buffet, dishes, lunch, salads, barbe...   \n",
       "9   [bakery, bakeries, cakes, cupcakes, cupcake, b...   \n",
       "10  [gachibowli, gachiwoli, hangout, visit, tiki, ...   \n",
       "11  [cuisine, chineese, noodles, oriental, sesame,...   \n",
       "12  [ambience, drinks, cocktail, soothing, music, ...   \n",
       "13  [noodles, ramen, rice, chilli, meal, mealbox, ...   \n",
       "14  [soup, soups, spices, chilli, dish, appetizers...   \n",
       "15  [vegetarian, dishes, vegetarians, curries, swe...   \n",
       "16  [shawarma, shawarmas, shawarama, shawerma, sha...   \n",
       "17  [tasty, delicious, yummy, food, taste, eat, co...   \n",
       "18  [chicken, sandwich, kfc, cooking, cooked, snac...   \n",
       "19  [test, good, quality, bad, best, decent, did, ...   \n",
       "20  [overpriced, smoothie, pricey, edible, prices,...   \n",
       "21  [delivery, deliver, deliverd, delivered, deliv...   \n",
       "22  [quantity, low, quality, prices, value, overpr...   \n",
       "23  [thanks, superb, thank, excellent, great, awes...   \n",
       "24  [icecreams, icecrem, icecream, creamery, cream...   \n",
       "25  [burger, burgers, barbecues, bbq, grill, grill...   \n",
       "26  [delivery, deliver, delayed, late, delivered, ...   \n",
       "27  [hospitality, visiting, spacious, outskirts, e...   \n",
       "28  [pizza, ravioli, pasta, alfredo, pizzas, pasta...   \n",
       "29  [cuisine, cuisines, indiranagar, indian, india...   \n",
       "30  [delivery, deliver, delivering, delivered, ord...   \n",
       "31  [paneer, masala, panner, kadhai, lasagna, curr...   \n",
       "32  [parathas, paratha, parantha, paneer, stuffing...   \n",
       "33  [punjabi, punjab, paneer, patiyala, kutta, hyd...   \n",
       "34  [donuts, donut, doughnuts, doughnut, dounuts, ...   \n",
       "35  [momos, mayo, momo, mayonnaise, steamed, eater...   \n",
       "36  [mandi, mandis, arabian, bbq, barbeque, arabic...   \n",
       "37  [boy, good, great, nice, guy, thank, awesome, ...   \n",
       "38  [cafe, cafes, coffee, coffees, cozy, biking, b...   \n",
       "39  [taste, tastes, flavour, tasted, waste, bland,...   \n",
       "40  [flavors, flavor, caramel, flavoured, marshmal...   \n",
       "41  [delivery, deliver, fast, fastest, faster, spe...   \n",
       "42  [breakfast, pancakes, waffles, waffle, pancake...   \n",
       "43  [maggi, magi, maggis, snack, hunger, shawarma,...   \n",
       "44  [bakery, sandwiches, madras, bread, breakfast,...   \n",
       "45                           [nice, , , , , , , , , ]   \n",
       "46  [andhra, telangana, cuisine, telugu, mysore, n...   \n",
       "47  [spicy, spices, chilli, uncooked, tasty, coria...   \n",
       "48  [haleem, haleems, ramadan, tastewise, shah, ba...   \n",
       "49  [excellent, great, amazing, perfect, thank, , ...   \n",
       "50  [karachi, cafe, irani, cafes, osmania, bakery,...   \n",
       "51  [sizzlers, sizzler, sizzles, sizzle, sizzling,...   \n",
       "52  [wings, chicken, bbq, sauces, burgers, burger,...   \n",
       "53  [packaging, cutlery, packing, boxes, package, ...   \n",
       "\n",
       "                                                  Pos  \\\n",
       "0   [pizza, friendly, ambience, great, awesome, ov...   \n",
       "1   [biryani, biriyani, biryanis, mutton, paradise...   \n",
       "2   [manager, rude, waiter, table, pathetic, mins,...   \n",
       "3   [dj, dance, floor, music, hangout, crowd, roof...   \n",
       "4                   [good, combo, nice, , , , , , , ]   \n",
       "5   [hyderabad, hyderabadi, daawat, sikandari, pla...   \n",
       "6   [bahadur, excellent, sarvice, abs, suraj, than...   \n",
       "7   [zomato, gold, dominos, refund, support, conta...   \n",
       "8   [buffet, spread, buffets, lunch, carte, counte...   \n",
       "9   [cake, brownies, cupcakes, cakes, velvet, labo...   \n",
       "10  [gachibowli, area, outlets, branch, spots, dan...   \n",
       "11  [chinese, noodles, authentic, pavilion, chow, ...   \n",
       "12  [ambience, goreng, average, cocktail, toys, dr...   \n",
       "13  [manchurian, noodles, gobi, rice, manchuria, f...   \n",
       "14  [fish, virgin, nawabi, prawns, mocktails, soup...   \n",
       "15  [vegetarian, non, vegetarians, veg, starters, ...   \n",
       "16  [shawarma, rumali, shah, shawarmas, ghouse, ma...   \n",
       "17  [tasty, navigation, thanku, yummy, delivary, w...   \n",
       "18  [smell, raw, oil, skin, rotten, cooking, worst...   \n",
       "19  [test, nic, thumbsup, execelent, gdgd, bad, sw...   \n",
       "20  [quantity, salt, smoothie, overpriced, expecta...   \n",
       "21  [delivery, boy, tips, man, guy, deliverey, shu...   \n",
       "22  [quantity, sucks, low, poor, toomuch, quality,...   \n",
       "23  [job, superb, aavula, sarvic, thank, provider,...   \n",
       "24  [ice, cream, stone, creams, nuts, icecreams, f...   \n",
       "25  [burger, burgers, galaxy, milky, patty, charco...   \n",
       "26  [delivery, late, deliver, intime, commitments,...   \n",
       "27  [chese, family, space, hospitality, licker, ca...   \n",
       "28  [ravioli, frio, pasta, italian, pizza, crust, ...   \n",
       "29  [indian, north, south, mandhi, breakfast, typi...   \n",
       "30  [wrong, incomplete, order, address, decency, n...   \n",
       "31  [paneer, masala, butter, turmeric, ganda, makh...   \n",
       "32  [paratha, parathas, parantha, paranthas, aloo,...   \n",
       "33  [punjabi, lassi, punjab, dal, judwa, makhani, ...   \n",
       "34  [donuts, donut, dunkin, doughnut, doughnuts, m...   \n",
       "35  [momos, kurkure, momo, steamed, mayo, mayonnai...   \n",
       "36  [mandi, yum, tree, arabian, bbq, juicy, mutton...   \n",
       "37  [boy, rider, nice, absolute, guy, fast, good, ...   \n",
       "38  [bikes, cars, coffee, cafe, bike, rent, garage...   \n",
       "39  [waste, avarage, rats, minds, taste, vry, cock...   \n",
       "40  [shake, shakes, cherry, caramel, berry, oreo, ...   \n",
       "41  [fast, delivery, delivary, speed, super, delvi...   \n",
       "42  [waffle, pancakes, waffles, tea, nutella, panc...   \n",
       "43  [maggi, maggie, double, egg, hunger, magi, sna...   \n",
       "44  [bagel, bread, bagels, sandwich, filter, sourd...   \n",
       "45                [nice, rider, person, , , , , , , ]   \n",
       "46  [andhra, telugu, kodi, pulav, ulavacharu, bamb...   \n",
       "47  [spicy, ayrup, vegitables, vegitable, intentio...   \n",
       "48  [haleem, ramzan, ghouse, shah, house, poisonin...   \n",
       "49          [excellent, great, perfect, , , , , , , ]   \n",
       "50  [chai, irani, karachi, cafe, biscuits, posters...   \n",
       "51  [sizzlers, sizzler, absolute, sizzling, puzzle...   \n",
       "52  [wings, wild, sauces, nuggets, amazon, america...   \n",
       "53  [packing, tissues, plastic, cutlery, polythene...   \n",
       "\n",
       "                                  Representative_Docs  \n",
       "0   [This place has been a bookmark for me since v...  \n",
       "1   [Well this is an absolute honest review from a...  \n",
       "2   [I went to club rouge since the day it started...  \n",
       "3   [This place has amazing setup, separated in mu...  \n",
       "4                          [good, good, good bhehave]  \n",
       "5   [Ask anyone what you like about Hyderabad the ...  \n",
       "6   [Excellent food and excellent service providin...  \n",
       "7   [delivery, poor customer support. Both me and ...  \n",
       "8   [I have had the breakfast buffet here quite a ...  \n",
       "9   [Absolutely delighted with our overall experie...  \n",
       "10  [Tiki Shak, Gachibowli - Hyderabad The Gachibo...  \n",
       "11  [Ohh finally the wait is over, I have been see...  \n",
       "12  [Ambience- Good for a family dinner. Warm Mell...  \n",
       "13  [Wow!!! Just wow!! What a let down!! I ordered...  \n",
       "14  [Follow my Instagram page Pour House is a spac...  \n",
       "15  [I aplogize for posting the review so late (af...  \n",
       "16  [This place promises to be one of the good Sha...  \n",
       "17  [So tasty yummy, Tasty and delicious, so tasty...  \n",
       "18  [Food was not that not at all good.. just not ...  \n",
       "19  [not so good test, test is very good, Not plen...  \n",
       "20  [It is just average coming to taste. You do no...  \n",
       "21  [Delivery boy has not reached yet. Told me to ...  \n",
       "22  [very low quantity for the price, low quality ...  \n",
       "23  [superb service, excellent job, Superb fast th...  \n",
       "24  [I have ordered almost all the chocolate conce...  \n",
       "25  [Now that s what we call some authentic chicke...  \n",
       "26  [late delivery, Late delivery, Bad experience,...  \n",
       "27  [I was waiting since long to visit this place....  \n",
       "28  [I was at this bistro for dinner with my frien...  \n",
       "29  [This place is my default option for south ind...  \n",
       "30  [wrong items delivered. cannot call back deliv...  \n",
       "31  [Had the panneer of the day combo here. It was...  \n",
       "32  [So I happened to order Aloo Parathas and Moun...  \n",
       "33  [Got to know about this by watching uber eats ...  \n",
       "34  [Landed up here on a Saturday night after shop...  \n",
       "35  [Watching ipl and ordred norfest, thought of a...  \n",
       "36  [Awesome Arabian food your search for Mandi sh...  \n",
       "37                [very good boy, good boy, good boy]  \n",
       "38  [A cozy, classy cafe to visit amidst the chaos...  \n",
       "39  [the taste is not good just waste of money wan...  \n",
       "40  [Sunday afternoon we visited this place with t...  \n",
       "41  [Super fast delivery, super fast delivery, sup...  \n",
       "42  [Big fan of All day Breakfast in bed? Order fr...  \n",
       "43  [Who can say no to some delicious Maggi! Hunge...  \n",
       "44  [The Old Madras Baking Company. How posh does ...  \n",
       "45                                 [Nice, nice, nice]  \n",
       "46  [T-Grill is on the main road next to ICICI cam...  \n",
       "47  [Can you explain, how spicy food is healthy? I...  \n",
       "48  [Used to hear that this was probably the best ...  \n",
       "49                  [excellent, excellent, excellent]  \n",
       "50  [Featuring an interesting place on the busy st...  \n",
       "51  [Sizzling Sizzling S best sizzlers restaurant ...  \n",
       "52  [American Wild Wings = Amazing Wings I happene...  \n",
       "53  [Not even a cover they have given to hold the ...  "
      ]
     },
     "execution_count": 28,
     "metadata": {},
     "output_type": "execute_result"
    }
   ],
   "source": [
    "model_base.get_topic_info()"
   ]
  },
  {
   "cell_type": "code",
   "execution_count": 29,
   "metadata": {},
   "outputs": [
    {
     "data": {
      "text/html": [
       "<div>\n",
       "<style scoped>\n",
       "    .dataframe tbody tr th:only-of-type {\n",
       "        vertical-align: middle;\n",
       "    }\n",
       "\n",
       "    .dataframe tbody tr th {\n",
       "        vertical-align: top;\n",
       "    }\n",
       "\n",
       "    .dataframe thead th {\n",
       "        text-align: right;\n",
       "    }\n",
       "</style>\n",
       "<table border=\"1\" class=\"dataframe\">\n",
       "  <thead>\n",
       "    <tr style=\"text-align: right;\">\n",
       "      <th></th>\n",
       "      <th>Review</th>\n",
       "      <th>Top_3_Topics</th>\n",
       "      <th>Top_3_Probabilities</th>\n",
       "      <th>Topics_MMR</th>\n",
       "      <th>Topics_KB</th>\n",
       "      <th>Topics_POS</th>\n",
       "    </tr>\n",
       "  </thead>\n",
       "  <tbody>\n",
       "    <tr>\n",
       "      <th>0</th>\n",
       "      <td>The ambience was good, food was quite good. ha...</td>\n",
       "      <td>[26, 11, 5]</td>\n",
       "      <td>[5.15, 4.94, 4.38]</td>\n",
       "      <td>[chese | space | hospitality, ambience | kaful...</td>\n",
       "      <td>[hospitality | visiting | spacious, ambience |...</td>\n",
       "      <td>[chese | family | space, ambience | goreng | a...</td>\n",
       "    </tr>\n",
       "    <tr>\n",
       "      <th>1</th>\n",
       "      <td>Ambience is too good for a pleasant evening. S...</td>\n",
       "      <td>[11, 26, 2]</td>\n",
       "      <td>[48.85, 3.5, 2.03]</td>\n",
       "      <td>[ambience | kafuli | goreng, chese | space | h...</td>\n",
       "      <td>[ambience | drinks | cocktail, hospitality | v...</td>\n",
       "      <td>[ambience | goreng | average, chese | family |...</td>\n",
       "    </tr>\n",
       "    <tr>\n",
       "      <th>2</th>\n",
       "      <td>A must try.. great food great ambience. Thnx f...</td>\n",
       "      <td>[11, 26, 27]</td>\n",
       "      <td>[12.61, 5.94, 3.11]</td>\n",
       "      <td>[ambience | kafuli | goreng, chese | space | h...</td>\n",
       "      <td>[ambience | drinks | cocktail, hospitality | v...</td>\n",
       "      <td>[ambience | goreng | average, chese | family |...</td>\n",
       "    </tr>\n",
       "    <tr>\n",
       "      <th>3</th>\n",
       "      <td>Soumen das and Arun was a great guy. Only beca...</td>\n",
       "      <td>[5, 26, 7]</td>\n",
       "      <td>[56.52, 2.08, 1.44]</td>\n",
       "      <td>[govind | bahadur | shivam, chese | space | ho...</td>\n",
       "      <td>[visit | hospitality | kusal, hospitality | vi...</td>\n",
       "      <td>[bahadur | excellent | sarvice, chese | family...</td>\n",
       "    </tr>\n",
       "    <tr>\n",
       "      <th>4</th>\n",
       "      <td>Food is good. we ordered Kodi drumsticks and b...</td>\n",
       "      <td>[7, 13, 27]</td>\n",
       "      <td>[1.05, 0.95, 0.89]</td>\n",
       "      <td>[buffet | hyatt | buffets, nawabi | prawns | m...</td>\n",
       "      <td>[buffets | buffet | dishes, soup | soups | spi...</td>\n",
       "      <td>[buffet | spread | buffets, fish | virgin | na...</td>\n",
       "    </tr>\n",
       "  </tbody>\n",
       "</table>\n",
       "</div>"
      ],
      "text/plain": [
       "                                              Review  Top_3_Topics  \\\n",
       "0  The ambience was good, food was quite good. ha...   [26, 11, 5]   \n",
       "1  Ambience is too good for a pleasant evening. S...   [11, 26, 2]   \n",
       "2  A must try.. great food great ambience. Thnx f...  [11, 26, 27]   \n",
       "3  Soumen das and Arun was a great guy. Only beca...    [5, 26, 7]   \n",
       "4  Food is good. we ordered Kodi drumsticks and b...   [7, 13, 27]   \n",
       "\n",
       "   Top_3_Probabilities                                         Topics_MMR  \\\n",
       "0   [5.15, 4.94, 4.38]  [chese | space | hospitality, ambience | kaful...   \n",
       "1   [48.85, 3.5, 2.03]  [ambience | kafuli | goreng, chese | space | h...   \n",
       "2  [12.61, 5.94, 3.11]  [ambience | kafuli | goreng, chese | space | h...   \n",
       "3  [56.52, 2.08, 1.44]  [govind | bahadur | shivam, chese | space | ho...   \n",
       "4   [1.05, 0.95, 0.89]  [buffet | hyatt | buffets, nawabi | prawns | m...   \n",
       "\n",
       "                                           Topics_KB  \\\n",
       "0  [hospitality | visiting | spacious, ambience |...   \n",
       "1  [ambience | drinks | cocktail, hospitality | v...   \n",
       "2  [ambience | drinks | cocktail, hospitality | v...   \n",
       "3  [visit | hospitality | kusal, hospitality | vi...   \n",
       "4  [buffets | buffet | dishes, soup | soups | spi...   \n",
       "\n",
       "                                          Topics_POS  \n",
       "0  [chese | family | space, ambience | goreng | a...  \n",
       "1  [ambience | goreng | average, chese | family |...  \n",
       "2  [ambience | goreng | average, chese | family |...  \n",
       "3  [bahadur | excellent | sarvice, chese | family...  \n",
       "4  [buffet | spread | buffets, fish | virgin | na...  "
      ]
     },
     "execution_count": 29,
     "metadata": {},
     "output_type": "execute_result"
    }
   ],
   "source": [
    "# Create a DataFrame with reviews and their top 3 assigned topics with probabilities\n",
    "reviews_with_topics = pd.DataFrame({\n",
    "    'Review': reviews_preproc,\n",
    "    'Top_3_Topics': [np.argsort(probs_base[i])[-3:][::-1] for i in range(len(reviews_preproc))],\n",
    "    'Top_3_Probabilities': [np.round(np.sort(probs_base[i])[-3:][::-1] * 100, 2) for i in range(len(reviews_preproc))]\n",
    "})\n",
    "\n",
    "# Map the topic IDs to their custom names from topic_aspects_[\"MMR\"]\n",
    "topic_info_MMR = {topic: \" | \".join(list(zip(*values))[0][:3]) for topic, values in model_base.topic_aspects_[\"MMR\"].items()}\n",
    "topic_info_KB = {topic: \" | \".join(list(zip(*values))[0][:3]) for topic, values in model_base.topic_aspects_[\"KeyBert\"].items()}\n",
    "topic_info_POS = {topic: \" | \".join(list(zip(*values))[0][:3]) for topic, values in model_base.topic_aspects_[\"Pos\"].items()}\n",
    "reviews_with_topics['Topics_MMR'] = reviews_with_topics['Top_3_Topics'].apply(lambda topics: [topic_info_MMR[topic] for topic in topics])\n",
    "reviews_with_topics['Topics_KB'] = reviews_with_topics['Top_3_Topics'].apply(lambda topics: [topic_info_KB[topic] for topic in topics])\n",
    "reviews_with_topics['Topics_POS'] = reviews_with_topics['Top_3_Topics'].apply(lambda topics: [topic_info_POS[topic] for topic in topics])\n",
    "\n",
    "# Display the first few rows of the new DataFrame\n",
    "reviews_with_topics.head()\n"
   ]
  },
  {
   "cell_type": "code",
   "execution_count": null,
   "metadata": {},
   "outputs": [],
   "source": []
  },
  {
   "cell_type": "code",
   "execution_count": 19,
   "metadata": {},
   "outputs": [
    {
     "name": "stderr",
     "output_type": "stream",
     "text": [
      "100%|██████████| 52/52 [00:00<00:00, 189.77it/s]\n"
     ]
    }
   ],
   "source": [
    "hierarchical_topics = model_base.hierarchical_topics(reviews_preproc)\n"
   ]
  },
  {
   "cell_type": "code",
   "execution_count": 20,
   "metadata": {},
   "outputs": [
    {
     "data": {
      "application/vnd.plotly.v1+json": {
       "config": {
        "plotlyServerURL": "https://plot.ly"
       },
       "data": [
        {
         "hoverinfo": "text",
         "marker": {
          "color": "rgb(61,153,112)"
         },
         "mode": "lines",
         "text": [
          "ice_cream_creams_stone_nuts",
          "",
          "",
          "shake_shakes_tempteys_brownie_caramel"
         ],
         "type": "scatter",
         "x": [
          0,
          0.8343275949412744,
          0.8343275949412744,
          0
         ],
         "xaxis": "x",
         "y": [
          -15,
          -15,
          -25,
          -25
         ],
         "yaxis": "y"
        },
        {
         "hoverinfo": "text",
         "marker": {
          "color": "rgb(61,153,112)"
         },
         "mode": "lines",
         "text": [
          "waffle_pancakes_waffles_tea_nutella",
          "",
          "",
          "ice_cream_shake_shakes_creams"
         ],
         "type": "scatter",
         "x": [
          0,
          0.8972582293752349,
          0.8972582293752349,
          0.8343275949412744
         ],
         "xaxis": "x",
         "y": [
          -5,
          -5,
          -20,
          -20
         ],
         "yaxis": "y"
        },
        {
         "hoverinfo": "text",
         "marker": {
          "color": "rgb(61,153,112)"
         },
         "mode": "lines",
         "text": [
          "cake_cakes_brownies_cupcakes_chocolate",
          "",
          "",
          "bread_sandwich_bagel_coffee_bakery"
         ],
         "type": "scatter",
         "x": [
          0,
          0.6840515295449561,
          0.6840515295449561,
          0
         ],
         "xaxis": "x",
         "y": [
          -35,
          -35,
          -45,
          -45
         ],
         "yaxis": "y"
        },
        {
         "hoverinfo": "text",
         "marker": {
          "color": "rgb(61,153,112)"
         },
         "mode": "lines",
         "text": [
          "coffee_cafe_bikes_cars_bike",
          "",
          "",
          "chai_irani_karachi_cafe_old"
         ],
         "type": "scatter",
         "x": [
          0,
          0.8153032821575443,
          0.8153032821575443,
          0
         ],
         "xaxis": "x",
         "y": [
          -55,
          -55,
          -65,
          -65
         ],
         "yaxis": "y"
        },
        {
         "hoverinfo": "text",
         "marker": {
          "color": "rgb(61,153,112)"
         },
         "mode": "lines",
         "text": [
          "cake_cakes_brownies_chocolate_cupcakes",
          "",
          "",
          "cafe_coffee_chai_irani_bikes"
         ],
         "type": "scatter",
         "x": [
          0.6840515295449561,
          0.8801659463035314,
          0.8801659463035314,
          0.8153032821575443
         ],
         "xaxis": "x",
         "y": [
          -40,
          -40,
          -60,
          -60
         ],
         "yaxis": "y"
        },
        {
         "hoverinfo": "text",
         "marker": {
          "color": "rgb(61,153,112)"
         },
         "mode": "lines",
         "text": [
          "ice_cream_shake_shakes_creams",
          "",
          "",
          "cake_coffee_cafe_cakes_chocolate"
         ],
         "type": "scatter",
         "x": [
          0.8972582293752349,
          0.9724950009436559,
          0.9724950009436559,
          0.8801659463035314
         ],
         "xaxis": "x",
         "y": [
          -12.5,
          -12.5,
          -50,
          -50
         ],
         "yaxis": "y"
        },
        {
         "hoverinfo": "text",
         "marker": {
          "color": "rgb(255,65,54)"
         },
         "mode": "lines",
         "text": [
          "paneer_masala_butter_ordered_curry",
          "",
          "",
          "punjabi_dal_lassi_food_makhani"
         ],
         "type": "scatter",
         "x": [
          0,
          0.6768575672195103,
          0.6768575672195103,
          0
         ],
         "xaxis": "x",
         "y": [
          -85,
          -85,
          -95,
          -95
         ],
         "yaxis": "y"
        },
        {
         "hoverinfo": "text",
         "marker": {
          "color": "rgb(255,65,54)"
         },
         "mode": "lines",
         "text": [
          "punjabi_paneer_dal_butter_makhani",
          "",
          "",
          "indian_north_south_food_good"
         ],
         "type": "scatter",
         "x": [
          0.6768575672195103,
          0.767023931228596,
          0.767023931228596,
          0
         ],
         "xaxis": "x",
         "y": [
          -90,
          -90,
          -105,
          -105
         ],
         "yaxis": "y"
        },
        {
         "hoverinfo": "text",
         "marker": {
          "color": "rgb(255,65,54)"
         },
         "mode": "lines",
         "text": [
          "paratha_parathas_parantha_aloo_chutney",
          "",
          "",
          "punjabi_paneer_indian_north_dal"
         ],
         "type": "scatter",
         "x": [
          0,
          0.8304656863993819,
          0.8304656863993819,
          0.767023931228596
         ],
         "xaxis": "x",
         "y": [
          -75,
          -75,
          -97.5,
          -97.5
         ],
         "yaxis": "y"
        },
        {
         "hoverinfo": "text",
         "marker": {
          "color": "rgb(35,205,205)"
         },
         "mode": "lines",
         "text": [
          "momos_kurkure_momo_steamed_sauce",
          "",
          "",
          "spicy____super_stomach_vegitables"
         ],
         "type": "scatter",
         "x": [
          0,
          0.949416575273361,
          0.949416575273361,
          0
         ],
         "xaxis": "x",
         "y": [
          -125,
          -125,
          -135,
          -135
         ],
         "yaxis": "y"
        },
        {
         "hoverinfo": "text",
         "marker": {
          "color": "rgb(35,205,205)"
         },
         "mode": "lines",
         "text": [
          "shawarma_rumali_shah_ghouse_shawarmas",
          "",
          "",
          "maggi_maggie_double_egg_fried"
         ],
         "type": "scatter",
         "x": [
          0,
          0.8538064383382428,
          0.8538064383382428,
          0
         ],
         "xaxis": "x",
         "y": [
          -145,
          -145,
          -155,
          -155
         ],
         "yaxis": "y"
        },
        {
         "hoverinfo": "text",
         "marker": {
          "color": "rgb(35,205,205)"
         },
         "mode": "lines",
         "text": [
          "momos_kurkure_momo_steamed_spicy",
          "",
          "",
          "shawarma_maggi_maggie_rumali_chicken"
         ],
         "type": "scatter",
         "x": [
          0.949416575273361,
          0.9533092017234647,
          0.9533092017234647,
          0.8538064383382428
         ],
         "xaxis": "x",
         "y": [
          -130,
          -130,
          -150,
          -150
         ],
         "yaxis": "y"
        },
        {
         "hoverinfo": "text",
         "marker": {
          "color": "rgb(35,205,205)"
         },
         "mode": "lines",
         "text": [
          "haleem_pista_house_ramzan_ghouse",
          "",
          "",
          "sizzlers_sizzler_absolute_sizzling_absolutely"
         ],
         "type": "scatter",
         "x": [
          0,
          0.9534370392046917,
          0.9534370392046917,
          0
         ],
         "xaxis": "x",
         "y": [
          -165,
          -165,
          -175,
          -175
         ],
         "yaxis": "y"
        },
        {
         "hoverinfo": "text",
         "marker": {
          "color": "rgb(35,205,205)"
         },
         "mode": "lines",
         "text": [
          "shawarma_momos_maggi_maggie_kurkure",
          "",
          "",
          "haleem_sizzlers_sizzler_absolute_pista"
         ],
         "type": "scatter",
         "x": [
          0.9533092017234647,
          0.9823247259726389,
          0.9823247259726389,
          0.9534370392046917
         ],
         "xaxis": "x",
         "y": [
          -140,
          -140,
          -170,
          -170
         ],
         "yaxis": "y"
        },
        {
         "hoverinfo": "text",
         "marker": {
          "color": "rgb(0,116,217)"
         },
         "mode": "lines",
         "text": [
          "packing_plastic_tissues_cutlery_cover",
          "",
          "",
          "shawarma_momos_haleem_maggi_sizzlers"
         ],
         "type": "scatter",
         "x": [
          0,
          1.0009677655623654,
          1.0009677655623654,
          0.9823247259726389
         ],
         "xaxis": "x",
         "y": [
          -115,
          -115,
          -155,
          -155
         ],
         "yaxis": "y"
        },
        {
         "hoverinfo": "text",
         "marker": {
          "color": "rgb(133,20,75)"
         },
         "mode": "lines",
         "text": [
          "taste_waste_bad_zero_nom",
          "",
          "",
          "test_bad_ok_worst_nic"
         ],
         "type": "scatter",
         "x": [
          0,
          0.8152597596421309,
          0.8152597596421309,
          0
         ],
         "xaxis": "x",
         "y": [
          -185,
          -185,
          -195,
          -195
         ],
         "yaxis": "y"
        },
        {
         "hoverinfo": "text",
         "marker": {
          "color": "rgb(0,116,217)"
         },
         "mode": "lines",
         "text": [
          "shawarma_momos_haleem_maggi_sizzlers",
          "",
          "",
          "bad_taste_waste_test_ok"
         ],
         "type": "scatter",
         "x": [
          1.0009677655623654,
          1.0429116606540314,
          1.0429116606540314,
          0.8152597596421309
         ],
         "xaxis": "x",
         "y": [
          -135,
          -135,
          -190,
          -190
         ],
         "yaxis": "y"
        },
        {
         "hoverinfo": "text",
         "marker": {
          "color": "rgb(255,220,0)"
         },
         "mode": "lines",
         "text": [
          "chinese_noodles_fried_authentic_soup",
          "",
          "",
          "noodles_manchurian_rice_fried_ordered"
         ],
         "type": "scatter",
         "x": [
          0,
          0.5288033006905868,
          0.5288033006905868,
          0
         ],
         "xaxis": "x",
         "y": [
          -215,
          -215,
          -225,
          -225
         ],
         "yaxis": "y"
        },
        {
         "hoverinfo": "text",
         "marker": {
          "color": "rgb(255,220,0)"
         },
         "mode": "lines",
         "text": [
          "biryani_chicken_biriyani_mutton_taste",
          "",
          "",
          "andhra_telugu_kodi_authentic_pulav"
         ],
         "type": "scatter",
         "x": [
          0,
          0.6401571908601076,
          0.6401571908601076,
          0
         ],
         "xaxis": "x",
         "y": [
          -245,
          -245,
          -255,
          -255
         ],
         "yaxis": "y"
        },
        {
         "hoverinfo": "text",
         "marker": {
          "color": "rgb(255,220,0)"
         },
         "mode": "lines",
         "text": [
          "chicken_worst_bad_smell_oil",
          "",
          "",
          "biryani_chicken_biriyani_taste_mutton"
         ],
         "type": "scatter",
         "x": [
          0,
          0.754569566142303,
          0.754569566142303,
          0.6401571908601076
         ],
         "xaxis": "x",
         "y": [
          -235,
          -235,
          -250,
          -250
         ],
         "yaxis": "y"
        },
        {
         "hoverinfo": "text",
         "marker": {
          "color": "rgb(255,220,0)"
         },
         "mode": "lines",
         "text": [
          "chinese_noodles_rice_fried_manchurian",
          "",
          "",
          "biryani_chicken_biriyani_ordered_taste"
         ],
         "type": "scatter",
         "x": [
          0.5288033006905868,
          0.8489918565881195,
          0.8489918565881195,
          0.754569566142303
         ],
         "xaxis": "x",
         "y": [
          -220,
          -220,
          -242.5,
          -242.5
         ],
         "yaxis": "y"
        },
        {
         "hoverinfo": "text",
         "marker": {
          "color": "rgb(255,220,0)"
         },
         "mode": "lines",
         "text": [
          "mandi_yum_arabian_tree_mutton",
          "",
          "",
          "biryani_chicken_chinese_ordered_rice"
         ],
         "type": "scatter",
         "x": [
          0,
          0.8886118167846682,
          0.8886118167846682,
          0.8489918565881195
         ],
         "xaxis": "x",
         "y": [
          -205,
          -205,
          -231.25,
          -231.25
         ],
         "yaxis": "y"
        },
        {
         "hoverinfo": "text",
         "marker": {
          "color": "rgb(40,35,35)"
         },
         "mode": "lines",
         "text": [
          "wings_wild_sauces_chicken_nuggets",
          "",
          "",
          "burger_burgers_galaxy_milky_chicken"
         ],
         "type": "scatter",
         "x": [
          0,
          0.7380275407902324,
          0.7380275407902324,
          0
         ],
         "xaxis": "x",
         "y": [
          -265,
          -265,
          -275,
          -275
         ],
         "yaxis": "y"
        },
        {
         "hoverinfo": "text",
         "marker": {
          "color": "rgb(40,35,35)"
         },
         "mode": "lines",
         "text": [
          "burger_wings_burgers_chicken_sauces",
          "",
          "",
          "donuts_donut_dunkin_chocolate_coffee"
         ],
         "type": "scatter",
         "x": [
          0.7380275407902324,
          0.8748092279381146,
          0.8748092279381146,
          0
         ],
         "xaxis": "x",
         "y": [
          -270,
          -270,
          -285,
          -285
         ],
         "yaxis": "y"
        },
        {
         "hoverinfo": "text",
         "marker": {
          "color": "rgb(0,116,217)"
         },
         "mode": "lines",
         "text": [
          "biryani_chicken_rice_chinese_ordered",
          "",
          "",
          "burger_donuts_wings_burgers_chicken"
         ],
         "type": "scatter",
         "x": [
          0.8886118167846682,
          1.0553344530162359,
          1.0553344530162359,
          0.8748092279381146
         ],
         "xaxis": "x",
         "y": [
          -218.125,
          -218.125,
          -277.5,
          -277.5
         ],
         "yaxis": "y"
        },
        {
         "hoverinfo": "text",
         "marker": {
          "color": "rgb(0,116,217)"
         },
         "mode": "lines",
         "text": [
          "shawarma_momos_haleem_maggi_sizzlers",
          "",
          "",
          "biryani_chicken_ordered_rice_burger"
         ],
         "type": "scatter",
         "x": [
          1.0429116606540314,
          1.105954841587002,
          1.105954841587002,
          1.0553344530162359
         ],
         "xaxis": "x",
         "y": [
          -162.5,
          -162.5,
          -247.8125,
          -247.8125
         ],
         "yaxis": "y"
        },
        {
         "hoverinfo": "text",
         "marker": {
          "color": "rgb(61,153,112)"
         },
         "mode": "lines",
         "text": [
          "manager_asked_service_table_worst",
          "",
          "",
          "zomato_gold_order_restaurant_delivery"
         ],
         "type": "scatter",
         "x": [
          0,
          0.5312486832729699,
          0.5312486832729699,
          0
         ],
         "xaxis": "x",
         "y": [
          -295,
          -295,
          -305,
          -305
         ],
         "yaxis": "y"
        },
        {
         "hoverinfo": "text",
         "marker": {
          "color": "rgb(61,153,112)"
         },
         "mode": "lines",
         "text": [
          "zomato_asked_manager_service_worst",
          "",
          "",
          "order_received_delivered_wrong_delivery"
         ],
         "type": "scatter",
         "x": [
          0.5312486832729699,
          0.7711263634444713,
          0.7711263634444713,
          0
         ],
         "xaxis": "x",
         "y": [
          -300,
          -300,
          -315,
          -315
         ],
         "yaxis": "y"
        },
        {
         "hoverinfo": "text",
         "marker": {
          "color": "rgb(0,116,217)"
         },
         "mode": "lines",
         "text": [
          "biryani_chicken_ordered_taste_shawarma",
          "",
          "",
          "zomato_asked_order_manager_service"
         ],
         "type": "scatter",
         "x": [
          1.105954841587002,
          1.115153859447968,
          1.115153859447968,
          0.7711263634444713
         ],
         "xaxis": "x",
         "y": [
          -205.15625,
          -205.15625,
          -307.5,
          -307.5
         ],
         "yaxis": "y"
        },
        {
         "hoverinfo": "text",
         "marker": {
          "color": "rgb(0,116,217)"
         },
         "mode": "lines",
         "text": [
          "punjabi_paratha_paneer_indian_north",
          "",
          "",
          "biryani_chicken_ordered_order_taste"
         ],
         "type": "scatter",
         "x": [
          0.8304656863993819,
          1.14952555670086,
          1.14952555670086,
          1.115153859447968
         ],
         "xaxis": "x",
         "y": [
          -86.25,
          -86.25,
          -256.328125,
          -256.328125
         ],
         "yaxis": "y"
        },
        {
         "hoverinfo": "text",
         "marker": {
          "color": "rgb(255,65,54)"
         },
         "mode": "lines",
         "text": [
          "quantity_taste_food_quality_salt",
          "",
          "",
          "quantity_quality_low_sucks_poor"
         ],
         "type": "scatter",
         "x": [
          0,
          0.42934533101496475,
          0.42934533101496475,
          0
         ],
         "xaxis": "x",
         "y": [
          -325,
          -325,
          -335,
          -335
         ],
         "yaxis": "y"
        },
        {
         "hoverinfo": "text",
         "marker": {
          "color": "rgb(0,116,217)"
         },
         "mode": "lines",
         "text": [
          "biryani_chicken_ordered_taste_food",
          "",
          "",
          "quantity_quality_price_taste_low"
         ],
         "type": "scatter",
         "x": [
          1.14952555670086,
          1.167352915601314,
          1.167352915601314,
          0.42934533101496475
         ],
         "xaxis": "x",
         "y": [
          -171.2890625,
          -171.2890625,
          -330,
          -330
         ],
         "yaxis": "y"
        },
        {
         "hoverinfo": "text",
         "marker": {
          "color": "rgb(0,116,217)"
         },
         "mode": "lines",
         "text": [
          "cake_cream_ice_chocolate_coffee",
          "",
          "",
          "biryani_chicken_ordered_taste_food"
         ],
         "type": "scatter",
         "x": [
          0.9724950009436559,
          1.2696826510270578,
          1.2696826510270578,
          1.167352915601314
         ],
         "xaxis": "x",
         "y": [
          -31.25,
          -31.25,
          -250.64453125,
          -250.64453125
         ],
         "yaxis": "y"
        },
        {
         "hoverinfo": "text",
         "marker": {
          "color": "rgb(35,205,205)"
         },
         "mode": "lines",
         "text": [
          "place_family_food_great_good",
          "",
          "",
          "ambience_service_food_good_staff"
         ],
         "type": "scatter",
         "x": [
          0,
          0.48243989465039716,
          0.48243989465039716,
          0
         ],
         "xaxis": "x",
         "y": [
          -345,
          -345,
          -355,
          -355
         ],
         "yaxis": "y"
        },
        {
         "hoverinfo": "text",
         "marker": {
          "color": "rgb(35,205,205)"
         },
         "mode": "lines",
         "text": [
          "ambience_food_service_place_good",
          "",
          "",
          "dance_dj_floor_music_place"
         ],
         "type": "scatter",
         "x": [
          0.48243989465039716,
          0.5054705668571803,
          0.5054705668571803,
          0
         ],
         "xaxis": "x",
         "y": [
          -350,
          -350,
          -365,
          -365
         ],
         "yaxis": "y"
        },
        {
         "hoverinfo": "text",
         "marker": {
          "color": "rgb(35,205,205)"
         },
         "mode": "lines",
         "text": [
          "veg_non_vegetarian_starters_vegetarians",
          "",
          "",
          "buffet_spread_lunch_starters_main"
         ],
         "type": "scatter",
         "x": [
          0,
          0.49240199263987994,
          0.49240199263987994,
          0
         ],
         "xaxis": "x",
         "y": [
          -375,
          -375,
          -385,
          -385
         ],
         "yaxis": "y"
        },
        {
         "hoverinfo": "text",
         "marker": {
          "color": "rgb(35,205,205)"
         },
         "mode": "lines",
         "text": [
          "chicken_fish_paneer_soup_main",
          "",
          "",
          "hyderabad_hyderabadi_best_place_food"
         ],
         "type": "scatter",
         "x": [
          0,
          0.47370149610722234,
          0.47370149610722234,
          0
         ],
         "xaxis": "x",
         "y": [
          -395,
          -395,
          -405,
          -405
         ],
         "yaxis": "y"
        },
        {
         "hoverinfo": "text",
         "marker": {
          "color": "rgb(35,205,205)"
         },
         "mode": "lines",
         "text": [
          "hyderabad_chicken_best_place_fish",
          "",
          "",
          "gachibowli_place_ambience_area_food"
         ],
         "type": "scatter",
         "x": [
          0.47370149610722234,
          0.5712658545992103,
          0.5712658545992103,
          0
         ],
         "xaxis": "x",
         "y": [
          -400,
          -400,
          -415,
          -415
         ],
         "yaxis": "y"
        },
        {
         "hoverinfo": "text",
         "marker": {
          "color": "rgb(35,205,205)"
         },
         "mode": "lines",
         "text": [
          "buffet_veg_non_spread_starters",
          "",
          "",
          "hyderabad_gachibowli_place_best_chicken"
         ],
         "type": "scatter",
         "x": [
          0.49240199263987994,
          0.6701242346611492,
          0.6701242346611492,
          0.5712658545992103
         ],
         "xaxis": "x",
         "y": [
          -380,
          -380,
          -407.5,
          -407.5
         ],
         "yaxis": "y"
        },
        {
         "hoverinfo": "text",
         "marker": {
          "color": "rgb(35,205,205)"
         },
         "mode": "lines",
         "text": [
          "buffet_hyderabad_veg_place_gachibowli",
          "",
          "",
          "pasta_pizza_ravioli_frio_cheese"
         ],
         "type": "scatter",
         "x": [
          0.6701242346611492,
          0.7458710056470127,
          0.7458710056470127,
          0
         ],
         "xaxis": "x",
         "y": [
          -393.75,
          -393.75,
          -425,
          -425
         ],
         "yaxis": "y"
        },
        {
         "hoverinfo": "text",
         "marker": {
          "color": "rgb(35,205,205)"
         },
         "mode": "lines",
         "text": [
          "dj_place_dance_music_ambience",
          "",
          "",
          "buffet_hyderabad_veg_place_gachibowli"
         ],
         "type": "scatter",
         "x": [
          0.5054705668571803,
          0.7812697281486201,
          0.7812697281486201,
          0.7458710056470127
         ],
         "xaxis": "x",
         "y": [
          -357.5,
          -357.5,
          -409.375,
          -409.375
         ],
         "yaxis": "y"
        },
        {
         "hoverinfo": "text",
         "marker": {
          "color": "rgb(0,116,217)"
         },
         "mode": "lines",
         "text": [
          "biryani_ordered_chicken_taste_food",
          "",
          "",
          "place_good_ambience_buffet_food"
         ],
         "type": "scatter",
         "x": [
          1.2696826510270578,
          1.4080798086301394,
          1.4080798086301394,
          0.7812697281486201
         ],
         "xaxis": "x",
         "y": [
          -140.947265625,
          -140.947265625,
          -383.4375,
          -383.4375
         ],
         "yaxis": "y"
        },
        {
         "hoverinfo": "text",
         "marker": {
          "color": "rgb(61,153,112)"
         },
         "mode": "lines",
         "text": [
          "excellent_service_govind_nice_thank",
          "",
          "",
          "service_superb_job_good_thank"
         ],
         "type": "scatter",
         "x": [
          0,
          0.6327856566305344,
          0.6327856566305344,
          0
         ],
         "xaxis": "x",
         "y": [
          -455,
          -455,
          -465,
          -465
         ],
         "yaxis": "y"
        },
        {
         "hoverinfo": "text",
         "marker": {
          "color": "rgb(61,153,112)"
         },
         "mode": "lines",
         "text": [
          "excellent_awsome_great_amazing_thank",
          "",
          "",
          "service_excellent_govind_thank_nice"
         ],
         "type": "scatter",
         "x": [
          0,
          0.8340439296176538,
          0.8340439296176538,
          0.6327856566305344
         ],
         "xaxis": "x",
         "y": [
          -445,
          -445,
          -460,
          -460
         ],
         "yaxis": "y"
        },
        {
         "hoverinfo": "text",
         "marker": {
          "color": "rgb(61,153,112)"
         },
         "mode": "lines",
         "text": [
          "tasty_food_delicious_awesome_yummy",
          "",
          "",
          "excellent_service_govind_thank_nice"
         ],
         "type": "scatter",
         "x": [
          0,
          0.8381945413946291,
          0.8381945413946291,
          0.8340439296176538
         ],
         "xaxis": "x",
         "y": [
          -435,
          -435,
          -452.5,
          -452.5
         ],
         "yaxis": "y"
        },
        {
         "hoverinfo": "text",
         "marker": {
          "color": "rgb(255,65,54)"
         },
         "mode": "lines",
         "text": [
          "good_bhehave_verry_combo_nice",
          "",
          "",
          "good_boy_nice_rider_absolute"
         ],
         "type": "scatter",
         "x": [
          0,
          0.3736547114754539,
          0.3736547114754539,
          0
         ],
         "xaxis": "x",
         "y": [
          -475,
          -475,
          -485,
          -485
         ],
         "yaxis": "y"
        },
        {
         "hoverinfo": "text",
         "marker": {
          "color": "rgb(255,65,54)"
         },
         "mode": "lines",
         "text": [
          "good_boy_nice_bhehave_rider",
          "",
          "",
          "nice_rider_person__"
         ],
         "type": "scatter",
         "x": [
          0.3736547114754539,
          0.890615327101472,
          0.890615327101472,
          0
         ],
         "xaxis": "x",
         "y": [
          -480,
          -480,
          -495,
          -495
         ],
         "yaxis": "y"
        },
        {
         "hoverinfo": "text",
         "marker": {
          "color": "rgb(0,116,217)"
         },
         "mode": "lines",
         "text": [
          "excellent_service_nice_govind_thank",
          "",
          "",
          "good_nice_boy_rider_bhehave"
         ],
         "type": "scatter",
         "x": [
          0.8381945413946291,
          1.125307662413042,
          1.125307662413042,
          0.890615327101472
         ],
         "xaxis": "x",
         "y": [
          -443.75,
          -443.75,
          -487.5,
          -487.5
         ],
         "yaxis": "y"
        },
        {
         "hoverinfo": "text",
         "marker": {
          "color": "rgb(35,205,205)"
         },
         "mode": "lines",
         "text": [
          "delivery_late_time_delivered_deliver",
          "",
          "",
          "delivery_boy_guy_man_good"
         ],
         "type": "scatter",
         "x": [
          0,
          0.33257600308970925,
          0.33257600308970925,
          0
         ],
         "xaxis": "x",
         "y": [
          -505,
          -505,
          -515,
          -515
         ],
         "yaxis": "y"
        },
        {
         "hoverinfo": "text",
         "marker": {
          "color": "rgb(35,205,205)"
         },
         "mode": "lines",
         "text": [
          "delivery_late_time_delivered_boy",
          "",
          "",
          "fast_delivery_super_speed_delivary"
         ],
         "type": "scatter",
         "x": [
          0.33257600308970925,
          0.5271851241825154,
          0.5271851241825154,
          0
         ],
         "xaxis": "x",
         "y": [
          -510,
          -510,
          -525,
          -525
         ],
         "yaxis": "y"
        },
        {
         "hoverinfo": "text",
         "marker": {
          "color": "rgb(0,116,217)"
         },
         "mode": "lines",
         "text": [
          "good_excellent_service_nice_thank",
          "",
          "",
          "delivery_fast_time_late_boy"
         ],
         "type": "scatter",
         "x": [
          1.125307662413042,
          1.5076327494685404,
          1.5076327494685404,
          0.5271851241825154
         ],
         "xaxis": "x",
         "y": [
          -465.625,
          -465.625,
          -517.5,
          -517.5
         ],
         "yaxis": "y"
        },
        {
         "hoverinfo": "text",
         "marker": {
          "color": "rgb(0,116,217)"
         },
         "mode": "lines",
         "text": [
          "place_biryani_food_good_chicken",
          "",
          "",
          "delivery_good_excellent_service_nice"
         ],
         "type": "scatter",
         "x": [
          1.4080798086301394,
          1.704398989145872,
          1.704398989145872,
          1.5076327494685404
         ],
         "xaxis": "x",
         "y": [
          -262.1923828125,
          -262.1923828125,
          -491.5625,
          -491.5625
         ],
         "yaxis": "y"
        },
        {
         "hoverinfo": "text",
         "hovertext": [
          "cake_cakes_brownies_chocolate_cupcakes",
          "ice_cream_shake_shakes_creams",
          "punjabi_paneer_dal_butter_makhani",
          "momos_kurkure_momo_steamed_spicy",
          "shawarma_momos_maggi_maggie_kurkure",
          "shawarma_momos_haleem_maggi_sizzlers",
          "chinese_noodles_rice_fried_manchurian",
          "burger_wings_burgers_chicken_sauces",
          "biryani_chicken_rice_chinese_ordered",
          "shawarma_momos_haleem_maggi_sizzlers",
          "zomato_asked_manager_service_worst",
          "biryani_chicken_ordered_taste_shawarma",
          "punjabi_paratha_paneer_indian_north",
          "biryani_chicken_ordered_taste_food",
          "cake_cream_ice_chocolate_coffee",
          "ambience_food_service_place_good",
          "hyderabad_chicken_best_place_fish",
          "buffet_veg_non_spread_starters",
          "buffet_hyderabad_veg_place_gachibowli",
          "dj_place_dance_music_ambience",
          "biryani_ordered_chicken_taste_food",
          "good_boy_nice_bhehave_rider",
          "excellent_service_nice_govind_thank",
          "delivery_late_time_delivered_boy",
          "good_excellent_service_nice_thank",
          "place_biryani_food_good_chicken"
         ],
         "marker": {
          "color": "black"
         },
         "mode": "markers",
         "showlegend": false,
         "type": "scatter",
         "x": [
          0.6840515295449561,
          0.8972582293752349,
          0.6768575672195103,
          0.949416575273361,
          0.9533092017234647,
          1.0009677655623654,
          0.5288033006905868,
          0.7380275407902324,
          0.8886118167846682,
          1.0429116606540314,
          0.5312486832729699,
          1.105954841587002,
          0.8304656863993819,
          1.14952555670086,
          0.9724950009436559,
          0.48243989465039716,
          0.47370149610722234,
          0.49240199263987994,
          0.6701242346611492,
          0.5054705668571803,
          1.2696826510270578,
          0.3736547114754539,
          0.8381945413946291,
          0.33257600308970925,
          1.125307662413042,
          1.4080798086301394
         ],
         "y": [
          -40,
          -12.5,
          -90,
          -130,
          -140,
          -135,
          -220,
          -270,
          -218.125,
          -162.5,
          -300,
          -205.15625,
          -86.25,
          -171.2890625,
          -31.25,
          -350,
          -400,
          -380,
          -393.75,
          -357.5,
          -140.947265625,
          -480,
          -443.75,
          -510,
          -465.625,
          -262.1923828125
         ]
        },
        {
         "hoverinfo": "text",
         "hovertext": [
          "ice_cream_shake_shakes_creams",
          "cafe_coffee_chai_irani_bikes",
          "cake_coffee_cafe_cakes_chocolate",
          "punjabi_paneer_indian_north_dal",
          "shawarma_maggi_maggie_rumali_chicken",
          "haleem_sizzlers_sizzler_absolute_pista",
          "shawarma_momos_haleem_maggi_sizzlers",
          "bad_taste_waste_test_ok",
          "biryani_chicken_biriyani_taste_mutton",
          "biryani_chicken_biriyani_ordered_taste",
          "biryani_chicken_chinese_ordered_rice",
          "burger_donuts_wings_burgers_chicken",
          "biryani_chicken_ordered_rice_burger",
          "zomato_asked_order_manager_service",
          "biryani_chicken_ordered_order_taste",
          "quantity_quality_price_taste_low",
          "biryani_chicken_ordered_taste_food",
          "hyderabad_gachibowli_place_best_chicken",
          "buffet_hyderabad_veg_place_gachibowli",
          "place_good_ambience_buffet_food",
          "service_excellent_govind_thank_nice",
          "excellent_service_govind_thank_nice",
          "good_nice_boy_rider_bhehave",
          "delivery_fast_time_late_boy",
          "delivery_good_excellent_service_nice"
         ],
         "marker": {
          "color": "black"
         },
         "mode": "markers",
         "showlegend": false,
         "type": "scatter",
         "x": [
          0.8343275949412744,
          0.8153032821575443,
          0.8801659463035314,
          0.767023931228596,
          0.8538064383382428,
          0.9534370392046917,
          0.9823247259726389,
          0.8152597596421309,
          0.6401571908601076,
          0.754569566142303,
          0.8489918565881195,
          0.8748092279381146,
          1.0553344530162359,
          0.7711263634444713,
          1.115153859447968,
          0.42934533101496475,
          1.167352915601314,
          0.5712658545992103,
          0.7458710056470127,
          0.7812697281486201,
          0.6327856566305344,
          0.8340439296176538,
          0.890615327101472,
          0.5271851241825154,
          1.5076327494685404
         ],
         "y": [
          -20,
          -60,
          -50,
          -97.5,
          -150,
          -170,
          -155,
          -190,
          -250,
          -242.5,
          -231.25,
          -277.5,
          -247.8125,
          -307.5,
          -256.328125,
          -330,
          -250.64453125,
          -407.5,
          -409.375,
          -383.4375,
          -460,
          -452.5,
          -487.5,
          -517.5,
          -491.5625
         ]
        }
       ],
       "layout": {
        "autosize": false,
        "height": 995,
        "hoverlabel": {
         "bgcolor": "white",
         "font": {
          "family": "Rockwell",
          "size": 16
         }
        },
        "hovermode": "closest",
        "plot_bgcolor": "#ECEFF1",
        "showlegend": false,
        "template": {
         "data": {
          "bar": [
           {
            "error_x": {
             "color": "#2a3f5f"
            },
            "error_y": {
             "color": "#2a3f5f"
            },
            "marker": {
             "line": {
              "color": "white",
              "width": 0.5
             },
             "pattern": {
              "fillmode": "overlay",
              "size": 10,
              "solidity": 0.2
             }
            },
            "type": "bar"
           }
          ],
          "barpolar": [
           {
            "marker": {
             "line": {
              "color": "white",
              "width": 0.5
             },
             "pattern": {
              "fillmode": "overlay",
              "size": 10,
              "solidity": 0.2
             }
            },
            "type": "barpolar"
           }
          ],
          "carpet": [
           {
            "aaxis": {
             "endlinecolor": "#2a3f5f",
             "gridcolor": "#C8D4E3",
             "linecolor": "#C8D4E3",
             "minorgridcolor": "#C8D4E3",
             "startlinecolor": "#2a3f5f"
            },
            "baxis": {
             "endlinecolor": "#2a3f5f",
             "gridcolor": "#C8D4E3",
             "linecolor": "#C8D4E3",
             "minorgridcolor": "#C8D4E3",
             "startlinecolor": "#2a3f5f"
            },
            "type": "carpet"
           }
          ],
          "choropleth": [
           {
            "colorbar": {
             "outlinewidth": 0,
             "ticks": ""
            },
            "type": "choropleth"
           }
          ],
          "contour": [
           {
            "colorbar": {
             "outlinewidth": 0,
             "ticks": ""
            },
            "colorscale": [
             [
              0,
              "#0d0887"
             ],
             [
              0.1111111111111111,
              "#46039f"
             ],
             [
              0.2222222222222222,
              "#7201a8"
             ],
             [
              0.3333333333333333,
              "#9c179e"
             ],
             [
              0.4444444444444444,
              "#bd3786"
             ],
             [
              0.5555555555555556,
              "#d8576b"
             ],
             [
              0.6666666666666666,
              "#ed7953"
             ],
             [
              0.7777777777777778,
              "#fb9f3a"
             ],
             [
              0.8888888888888888,
              "#fdca26"
             ],
             [
              1,
              "#f0f921"
             ]
            ],
            "type": "contour"
           }
          ],
          "contourcarpet": [
           {
            "colorbar": {
             "outlinewidth": 0,
             "ticks": ""
            },
            "type": "contourcarpet"
           }
          ],
          "heatmap": [
           {
            "colorbar": {
             "outlinewidth": 0,
             "ticks": ""
            },
            "colorscale": [
             [
              0,
              "#0d0887"
             ],
             [
              0.1111111111111111,
              "#46039f"
             ],
             [
              0.2222222222222222,
              "#7201a8"
             ],
             [
              0.3333333333333333,
              "#9c179e"
             ],
             [
              0.4444444444444444,
              "#bd3786"
             ],
             [
              0.5555555555555556,
              "#d8576b"
             ],
             [
              0.6666666666666666,
              "#ed7953"
             ],
             [
              0.7777777777777778,
              "#fb9f3a"
             ],
             [
              0.8888888888888888,
              "#fdca26"
             ],
             [
              1,
              "#f0f921"
             ]
            ],
            "type": "heatmap"
           }
          ],
          "heatmapgl": [
           {
            "colorbar": {
             "outlinewidth": 0,
             "ticks": ""
            },
            "colorscale": [
             [
              0,
              "#0d0887"
             ],
             [
              0.1111111111111111,
              "#46039f"
             ],
             [
              0.2222222222222222,
              "#7201a8"
             ],
             [
              0.3333333333333333,
              "#9c179e"
             ],
             [
              0.4444444444444444,
              "#bd3786"
             ],
             [
              0.5555555555555556,
              "#d8576b"
             ],
             [
              0.6666666666666666,
              "#ed7953"
             ],
             [
              0.7777777777777778,
              "#fb9f3a"
             ],
             [
              0.8888888888888888,
              "#fdca26"
             ],
             [
              1,
              "#f0f921"
             ]
            ],
            "type": "heatmapgl"
           }
          ],
          "histogram": [
           {
            "marker": {
             "pattern": {
              "fillmode": "overlay",
              "size": 10,
              "solidity": 0.2
             }
            },
            "type": "histogram"
           }
          ],
          "histogram2d": [
           {
            "colorbar": {
             "outlinewidth": 0,
             "ticks": ""
            },
            "colorscale": [
             [
              0,
              "#0d0887"
             ],
             [
              0.1111111111111111,
              "#46039f"
             ],
             [
              0.2222222222222222,
              "#7201a8"
             ],
             [
              0.3333333333333333,
              "#9c179e"
             ],
             [
              0.4444444444444444,
              "#bd3786"
             ],
             [
              0.5555555555555556,
              "#d8576b"
             ],
             [
              0.6666666666666666,
              "#ed7953"
             ],
             [
              0.7777777777777778,
              "#fb9f3a"
             ],
             [
              0.8888888888888888,
              "#fdca26"
             ],
             [
              1,
              "#f0f921"
             ]
            ],
            "type": "histogram2d"
           }
          ],
          "histogram2dcontour": [
           {
            "colorbar": {
             "outlinewidth": 0,
             "ticks": ""
            },
            "colorscale": [
             [
              0,
              "#0d0887"
             ],
             [
              0.1111111111111111,
              "#46039f"
             ],
             [
              0.2222222222222222,
              "#7201a8"
             ],
             [
              0.3333333333333333,
              "#9c179e"
             ],
             [
              0.4444444444444444,
              "#bd3786"
             ],
             [
              0.5555555555555556,
              "#d8576b"
             ],
             [
              0.6666666666666666,
              "#ed7953"
             ],
             [
              0.7777777777777778,
              "#fb9f3a"
             ],
             [
              0.8888888888888888,
              "#fdca26"
             ],
             [
              1,
              "#f0f921"
             ]
            ],
            "type": "histogram2dcontour"
           }
          ],
          "mesh3d": [
           {
            "colorbar": {
             "outlinewidth": 0,
             "ticks": ""
            },
            "type": "mesh3d"
           }
          ],
          "parcoords": [
           {
            "line": {
             "colorbar": {
              "outlinewidth": 0,
              "ticks": ""
             }
            },
            "type": "parcoords"
           }
          ],
          "pie": [
           {
            "automargin": true,
            "type": "pie"
           }
          ],
          "scatter": [
           {
            "fillpattern": {
             "fillmode": "overlay",
             "size": 10,
             "solidity": 0.2
            },
            "type": "scatter"
           }
          ],
          "scatter3d": [
           {
            "line": {
             "colorbar": {
              "outlinewidth": 0,
              "ticks": ""
             }
            },
            "marker": {
             "colorbar": {
              "outlinewidth": 0,
              "ticks": ""
             }
            },
            "type": "scatter3d"
           }
          ],
          "scattercarpet": [
           {
            "marker": {
             "colorbar": {
              "outlinewidth": 0,
              "ticks": ""
             }
            },
            "type": "scattercarpet"
           }
          ],
          "scattergeo": [
           {
            "marker": {
             "colorbar": {
              "outlinewidth": 0,
              "ticks": ""
             }
            },
            "type": "scattergeo"
           }
          ],
          "scattergl": [
           {
            "marker": {
             "colorbar": {
              "outlinewidth": 0,
              "ticks": ""
             }
            },
            "type": "scattergl"
           }
          ],
          "scattermapbox": [
           {
            "marker": {
             "colorbar": {
              "outlinewidth": 0,
              "ticks": ""
             }
            },
            "type": "scattermapbox"
           }
          ],
          "scatterpolar": [
           {
            "marker": {
             "colorbar": {
              "outlinewidth": 0,
              "ticks": ""
             }
            },
            "type": "scatterpolar"
           }
          ],
          "scatterpolargl": [
           {
            "marker": {
             "colorbar": {
              "outlinewidth": 0,
              "ticks": ""
             }
            },
            "type": "scatterpolargl"
           }
          ],
          "scatterternary": [
           {
            "marker": {
             "colorbar": {
              "outlinewidth": 0,
              "ticks": ""
             }
            },
            "type": "scatterternary"
           }
          ],
          "surface": [
           {
            "colorbar": {
             "outlinewidth": 0,
             "ticks": ""
            },
            "colorscale": [
             [
              0,
              "#0d0887"
             ],
             [
              0.1111111111111111,
              "#46039f"
             ],
             [
              0.2222222222222222,
              "#7201a8"
             ],
             [
              0.3333333333333333,
              "#9c179e"
             ],
             [
              0.4444444444444444,
              "#bd3786"
             ],
             [
              0.5555555555555556,
              "#d8576b"
             ],
             [
              0.6666666666666666,
              "#ed7953"
             ],
             [
              0.7777777777777778,
              "#fb9f3a"
             ],
             [
              0.8888888888888888,
              "#fdca26"
             ],
             [
              1,
              "#f0f921"
             ]
            ],
            "type": "surface"
           }
          ],
          "table": [
           {
            "cells": {
             "fill": {
              "color": "#EBF0F8"
             },
             "line": {
              "color": "white"
             }
            },
            "header": {
             "fill": {
              "color": "#C8D4E3"
             },
             "line": {
              "color": "white"
             }
            },
            "type": "table"
           }
          ]
         },
         "layout": {
          "annotationdefaults": {
           "arrowcolor": "#2a3f5f",
           "arrowhead": 0,
           "arrowwidth": 1
          },
          "autotypenumbers": "strict",
          "coloraxis": {
           "colorbar": {
            "outlinewidth": 0,
            "ticks": ""
           }
          },
          "colorscale": {
           "diverging": [
            [
             0,
             "#8e0152"
            ],
            [
             0.1,
             "#c51b7d"
            ],
            [
             0.2,
             "#de77ae"
            ],
            [
             0.3,
             "#f1b6da"
            ],
            [
             0.4,
             "#fde0ef"
            ],
            [
             0.5,
             "#f7f7f7"
            ],
            [
             0.6,
             "#e6f5d0"
            ],
            [
             0.7,
             "#b8e186"
            ],
            [
             0.8,
             "#7fbc41"
            ],
            [
             0.9,
             "#4d9221"
            ],
            [
             1,
             "#276419"
            ]
           ],
           "sequential": [
            [
             0,
             "#0d0887"
            ],
            [
             0.1111111111111111,
             "#46039f"
            ],
            [
             0.2222222222222222,
             "#7201a8"
            ],
            [
             0.3333333333333333,
             "#9c179e"
            ],
            [
             0.4444444444444444,
             "#bd3786"
            ],
            [
             0.5555555555555556,
             "#d8576b"
            ],
            [
             0.6666666666666666,
             "#ed7953"
            ],
            [
             0.7777777777777778,
             "#fb9f3a"
            ],
            [
             0.8888888888888888,
             "#fdca26"
            ],
            [
             1,
             "#f0f921"
            ]
           ],
           "sequentialminus": [
            [
             0,
             "#0d0887"
            ],
            [
             0.1111111111111111,
             "#46039f"
            ],
            [
             0.2222222222222222,
             "#7201a8"
            ],
            [
             0.3333333333333333,
             "#9c179e"
            ],
            [
             0.4444444444444444,
             "#bd3786"
            ],
            [
             0.5555555555555556,
             "#d8576b"
            ],
            [
             0.6666666666666666,
             "#ed7953"
            ],
            [
             0.7777777777777778,
             "#fb9f3a"
            ],
            [
             0.8888888888888888,
             "#fdca26"
            ],
            [
             1,
             "#f0f921"
            ]
           ]
          },
          "colorway": [
           "#636efa",
           "#EF553B",
           "#00cc96",
           "#ab63fa",
           "#FFA15A",
           "#19d3f3",
           "#FF6692",
           "#B6E880",
           "#FF97FF",
           "#FECB52"
          ],
          "font": {
           "color": "#2a3f5f"
          },
          "geo": {
           "bgcolor": "white",
           "lakecolor": "white",
           "landcolor": "white",
           "showlakes": true,
           "showland": true,
           "subunitcolor": "#C8D4E3"
          },
          "hoverlabel": {
           "align": "left"
          },
          "hovermode": "closest",
          "mapbox": {
           "style": "light"
          },
          "paper_bgcolor": "white",
          "plot_bgcolor": "white",
          "polar": {
           "angularaxis": {
            "gridcolor": "#EBF0F8",
            "linecolor": "#EBF0F8",
            "ticks": ""
           },
           "bgcolor": "white",
           "radialaxis": {
            "gridcolor": "#EBF0F8",
            "linecolor": "#EBF0F8",
            "ticks": ""
           }
          },
          "scene": {
           "xaxis": {
            "backgroundcolor": "white",
            "gridcolor": "#DFE8F3",
            "gridwidth": 2,
            "linecolor": "#EBF0F8",
            "showbackground": true,
            "ticks": "",
            "zerolinecolor": "#EBF0F8"
           },
           "yaxis": {
            "backgroundcolor": "white",
            "gridcolor": "#DFE8F3",
            "gridwidth": 2,
            "linecolor": "#EBF0F8",
            "showbackground": true,
            "ticks": "",
            "zerolinecolor": "#EBF0F8"
           },
           "zaxis": {
            "backgroundcolor": "white",
            "gridcolor": "#DFE8F3",
            "gridwidth": 2,
            "linecolor": "#EBF0F8",
            "showbackground": true,
            "ticks": "",
            "zerolinecolor": "#EBF0F8"
           }
          },
          "shapedefaults": {
           "line": {
            "color": "#2a3f5f"
           }
          },
          "ternary": {
           "aaxis": {
            "gridcolor": "#DFE8F3",
            "linecolor": "#A2B1C6",
            "ticks": ""
           },
           "baxis": {
            "gridcolor": "#DFE8F3",
            "linecolor": "#A2B1C6",
            "ticks": ""
           },
           "bgcolor": "white",
           "caxis": {
            "gridcolor": "#DFE8F3",
            "linecolor": "#A2B1C6",
            "ticks": ""
           }
          },
          "title": {
           "x": 0.05
          },
          "xaxis": {
           "automargin": true,
           "gridcolor": "#EBF0F8",
           "linecolor": "#EBF0F8",
           "ticks": "",
           "title": {
            "standoff": 15
           },
           "zerolinecolor": "#EBF0F8",
           "zerolinewidth": 2
          },
          "yaxis": {
           "automargin": true,
           "gridcolor": "#EBF0F8",
           "linecolor": "#EBF0F8",
           "ticks": "",
           "title": {
            "standoff": 15
           },
           "zerolinecolor": "#EBF0F8",
           "zerolinewidth": 2
          }
         }
        },
        "title": {
         "font": {
          "color": "Black",
          "size": 22
         },
         "text": "<b>Hierarchical Clustering</b>",
         "x": 0.5,
         "xanchor": "center",
         "yanchor": "top"
        },
        "width": 1000,
        "xaxis": {
         "mirror": "allticks",
         "rangemode": "tozero",
         "showgrid": false,
         "showline": true,
         "showticklabels": true,
         "ticks": "outside",
         "type": "linear",
         "zeroline": false
        },
        "yaxis": {
         "mirror": "allticks",
         "range": [
          -530,
          0
         ],
         "rangemode": "tozero",
         "showgrid": false,
         "showline": true,
         "showticklabels": true,
         "tickmode": "array",
         "ticks": "outside",
         "ticktext": [
          "41_waffle_pancakes_waffles",
          "23_ice_cream_creams",
          "39_shake_shakes_tempteys",
          "8_cake_cakes_brownies",
          "43_bread_sandwich_bagel",
          "37_coffee_cafe_bikes",
          "49_chai_irani_karachi",
          "31_paratha_parathas_parantha",
          "30_paneer_masala_butter",
          "32_punjabi_dal_lassi",
          "28_indian_north_south",
          "52_packing_plastic_tissues",
          "34_momos_kurkure_momo",
          "46_spicy____super",
          "15_shawarma_rumali_shah",
          "42_maggi_maggie_double",
          "47_haleem_pista_house",
          "50_sizzlers_sizzler_absolute",
          "38_taste_waste_bad",
          "18_test_bad_ok",
          "35_mandi_yum_arabian",
          "10_chinese_noodles_fried",
          "12_noodles_manchurian_rice",
          "17_chicken_worst_bad",
          "0_biryani_chicken_biriyani",
          "45_andhra_telugu_kodi",
          "51_wings_wild_sauces",
          "24_burger_burgers_galaxy",
          "33_donuts_donut_dunkin",
          "1_manager_asked_service",
          "6_zomato_gold_order",
          "29_order_received_delivered",
          "19_quantity_taste_food",
          "21_quantity_quality_low",
          "26_place_family_food",
          "11_ambience_service_food",
          "2_dance_dj_floor",
          "14_veg_non_vegetarian",
          "7_buffet_spread_lunch",
          "13_chicken_fish_paneer",
          "4_hyderabad_hyderabadi_best",
          "9_gachibowli_place_ambience",
          "27_pasta_pizza_ravioli",
          "16_tasty_food_delicious",
          "48_excellent_awsome_great",
          "5_excellent_service_govind",
          "22_service_superb_job",
          "3_good_bhehave_verry",
          "36_good_boy_nice",
          "44_nice_rider_person",
          "25_delivery_late_time",
          "20_delivery_boy_guy",
          "40_fast_delivery_super"
         ],
         "tickvals": [
          -5,
          -15,
          -25,
          -35,
          -45,
          -55,
          -65,
          -75,
          -85,
          -95,
          -105,
          -115,
          -125,
          -135,
          -145,
          -155,
          -165,
          -175,
          -185,
          -195,
          -205,
          -215,
          -225,
          -235,
          -245,
          -255,
          -265,
          -275,
          -285,
          -295,
          -305,
          -315,
          -325,
          -335,
          -345,
          -355,
          -365,
          -375,
          -385,
          -395,
          -405,
          -415,
          -425,
          -435,
          -445,
          -455,
          -465,
          -475,
          -485,
          -495,
          -505,
          -515,
          -525
         ],
         "type": "linear",
         "zeroline": false
        }
       }
      }
     },
     "metadata": {},
     "output_type": "display_data"
    }
   ],
   "source": [
    "model_base.visualize_hierarchy(hierarchical_topics=hierarchical_topics)"
   ]
  },
  {
   "cell_type": "code",
   "execution_count": 21,
   "metadata": {},
   "outputs": [
    {
     "data": {
      "text/plain": [
       "54"
      ]
     },
     "execution_count": 21,
     "metadata": {},
     "output_type": "execute_result"
    }
   ],
   "source": [
    "len(model_base.get_topics())"
   ]
  },
  {
   "cell_type": "code",
   "execution_count": 22,
   "metadata": {},
   "outputs": [
    {
     "name": "stderr",
     "output_type": "stream",
     "text": [
      "2024-12-15 17:31:44,605 - BERTopic - Topic reduction - Reducing number of topics\n",
      "2024-12-15 17:31:50,318 - BERTopic - Topic reduction - Reduced number of topics from 54 to 10\n"
     ]
    }
   ],
   "source": [
    "model_reduced = model_base.reduce_topics(reviews_preproc, nr_topics=10)"
   ]
  },
  {
   "cell_type": "code",
   "execution_count": 23,
   "metadata": {},
   "outputs": [],
   "source": [
    "topics_reduced = model_reduced.topics_\n",
    "probs_reduced = model_reduced.probabilities_"
   ]
  },
  {
   "cell_type": "code",
   "execution_count": 24,
   "metadata": {},
   "outputs": [
    {
     "data": {
      "text/html": [
       "<div>\n",
       "<style scoped>\n",
       "    .dataframe tbody tr th:only-of-type {\n",
       "        vertical-align: middle;\n",
       "    }\n",
       "\n",
       "    .dataframe tbody tr th {\n",
       "        vertical-align: top;\n",
       "    }\n",
       "\n",
       "    .dataframe thead th {\n",
       "        text-align: right;\n",
       "    }\n",
       "</style>\n",
       "<table border=\"1\" class=\"dataframe\">\n",
       "  <thead>\n",
       "    <tr style=\"text-align: right;\">\n",
       "      <th></th>\n",
       "      <th>Review</th>\n",
       "      <th>Top_3_Topics</th>\n",
       "      <th>Top_3_Probabilities</th>\n",
       "      <th>Topics_MMR</th>\n",
       "      <th>Topics_KB</th>\n",
       "      <th>Topics_POS</th>\n",
       "    </tr>\n",
       "  </thead>\n",
       "  <tbody>\n",
       "    <tr>\n",
       "      <th>0</th>\n",
       "      <td>The ambience was good, food was quite good. ha...</td>\n",
       "      <td>[0, 2, 4]</td>\n",
       "      <td>[58.83, 5.82, 2.5]</td>\n",
       "      <td>[food | place | chicken, chocolate | donuts | ...</td>\n",
       "      <td>[restaurant | buffet | lunch, icecream | choco...</td>\n",
       "      <td>[food | place | good, cake | cream | ice, spic...</td>\n",
       "    </tr>\n",
       "    <tr>\n",
       "      <th>1</th>\n",
       "      <td>Ambience is too good for a pleasant evening. S...</td>\n",
       "      <td>[0, 2, 4]</td>\n",
       "      <td>[77.88, 3.42, 1.36]</td>\n",
       "      <td>[food | place | chicken, chocolate | donuts | ...</td>\n",
       "      <td>[restaurant | buffet | lunch, icecream | choco...</td>\n",
       "      <td>[food | place | good, cake | cream | ice, spic...</td>\n",
       "    </tr>\n",
       "    <tr>\n",
       "      <th>2</th>\n",
       "      <td>A must try.. great food great ambience. Thnx f...</td>\n",
       "      <td>[0, 2, 4]</td>\n",
       "      <td>[59.79, 5.87, 2.14]</td>\n",
       "      <td>[food | place | chicken, chocolate | donuts | ...</td>\n",
       "      <td>[restaurant | buffet | lunch, icecream | choco...</td>\n",
       "      <td>[food | place | good, cake | cream | ice, spic...</td>\n",
       "    </tr>\n",
       "    <tr>\n",
       "      <th>3</th>\n",
       "      <td>Soumen das and Arun was a great guy. Only beca...</td>\n",
       "      <td>[0, 2, 7]</td>\n",
       "      <td>[81.65, 3.0, 1.4]</td>\n",
       "      <td>[food | place | chicken, chocolate | donuts | ...</td>\n",
       "      <td>[restaurant | buffet | lunch, icecream | choco...</td>\n",
       "      <td>[food | place | good, cake | cream | ice, sizz...</td>\n",
       "    </tr>\n",
       "    <tr>\n",
       "      <th>4</th>\n",
       "      <td>Food is good. we ordered Kodi drumsticks and b...</td>\n",
       "      <td>[0, 2, 4]</td>\n",
       "      <td>[15.72, 1.45, 0.73]</td>\n",
       "      <td>[food | place | chicken, chocolate | donuts | ...</td>\n",
       "      <td>[restaurant | buffet | lunch, icecream | choco...</td>\n",
       "      <td>[food | place | good, cake | cream | ice, spic...</td>\n",
       "    </tr>\n",
       "  </tbody>\n",
       "</table>\n",
       "</div>"
      ],
      "text/plain": [
       "                                              Review Top_3_Topics  \\\n",
       "0  The ambience was good, food was quite good. ha...    [0, 2, 4]   \n",
       "1  Ambience is too good for a pleasant evening. S...    [0, 2, 4]   \n",
       "2  A must try.. great food great ambience. Thnx f...    [0, 2, 4]   \n",
       "3  Soumen das and Arun was a great guy. Only beca...    [0, 2, 7]   \n",
       "4  Food is good. we ordered Kodi drumsticks and b...    [0, 2, 4]   \n",
       "\n",
       "   Top_3_Probabilities                                         Topics_MMR  \\\n",
       "0   [58.83, 5.82, 2.5]  [food | place | chicken, chocolate | donuts | ...   \n",
       "1  [77.88, 3.42, 1.36]  [food | place | chicken, chocolate | donuts | ...   \n",
       "2  [59.79, 5.87, 2.14]  [food | place | chicken, chocolate | donuts | ...   \n",
       "3    [81.65, 3.0, 1.4]  [food | place | chicken, chocolate | donuts | ...   \n",
       "4  [15.72, 1.45, 0.73]  [food | place | chicken, chocolate | donuts | ...   \n",
       "\n",
       "                                           Topics_KB  \\\n",
       "0  [restaurant | buffet | lunch, icecream | choco...   \n",
       "1  [restaurant | buffet | lunch, icecream | choco...   \n",
       "2  [restaurant | buffet | lunch, icecream | choco...   \n",
       "3  [restaurant | buffet | lunch, icecream | choco...   \n",
       "4  [restaurant | buffet | lunch, icecream | choco...   \n",
       "\n",
       "                                          Topics_POS  \n",
       "0  [food | place | good, cake | cream | ice, spic...  \n",
       "1  [food | place | good, cake | cream | ice, spic...  \n",
       "2  [food | place | good, cake | cream | ice, spic...  \n",
       "3  [food | place | good, cake | cream | ice, sizz...  \n",
       "4  [food | place | good, cake | cream | ice, spic...  "
      ]
     },
     "execution_count": 24,
     "metadata": {},
     "output_type": "execute_result"
    }
   ],
   "source": [
    "# Create a DataFrame with reviews and their top 3 assigned topics with probabilities\n",
    "reviews_with_topics_merged = pd.DataFrame({\n",
    "    'Review': reviews_preproc,\n",
    "    'Top_3_Topics': [np.argsort(probs_reduced[i])[-3:][::-1] for i in range(len(reviews_preproc))],\n",
    "    'Top_3_Probabilities': [np.round(np.sort(probs_reduced[i])[-3:][::-1] * 100, 2) for i in range(len(reviews_preproc))]\n",
    "})\n",
    "\n",
    "# Map the topic IDs to their custom names from topic_aspects_[\"MMR\"]\n",
    "topic_info_MMR_merged = {topic: \" | \".join(list(zip(*values))[0][:3]) for topic, values in model_reduced.topic_aspects_[\"MMR\"].items()}\n",
    "topic_info_KB_merged = {topic: \" | \".join(list(zip(*values))[0][:3]) for topic, values in model_reduced.topic_aspects_[\"KeyBert\"].items()}\n",
    "topic_info_POS_merged = {topic: \" | \".join(list(zip(*values))[0][:3]) for topic, values in model_reduced.topic_aspects_[\"Pos\"].items()}\n",
    "reviews_with_topics_merged['Topics_MMR'] = reviews_with_topics_merged['Top_3_Topics'].apply(lambda topics: [topic_info_MMR_merged[topic] for topic in topics])\n",
    "reviews_with_topics_merged['Topics_KB'] = reviews_with_topics_merged['Top_3_Topics'].apply(lambda topics: [topic_info_KB_merged[topic] for topic in topics])\n",
    "reviews_with_topics_merged['Topics_POS'] = reviews_with_topics_merged['Top_3_Topics'].apply(lambda topics: [topic_info_POS_merged[topic] for topic in topics])\n",
    "\n",
    "# Display the first few rows of the new DataFrame\n",
    "reviews_with_topics_merged.head()"
   ]
  },
  {
   "cell_type": "code",
   "execution_count": 334,
   "metadata": {},
   "outputs": [
    {
     "name": "stderr",
     "output_type": "stream",
     "text": [
      "2024-12-14 20:01:26,757 - BERTopic - Dimensionality - Fitting the dimensionality reduction algorithm\n",
      "2024-12-14 20:01:43,825 - BERTopic - Dimensionality - Completed ✓\n",
      "2024-12-14 20:01:43,826 - BERTopic - Cluster - Start clustering the reduced embeddings\n",
      "2024-12-14 20:01:45,477 - BERTopic - Cluster - Completed ✓\n",
      "2024-12-14 20:01:45,482 - BERTopic - Representation - Extracting topics from clusters using representation models.\n",
      "2024-12-14 20:02:08,945 - BERTopic - Representation - Completed ✓\n"
     ]
    }
   ],
   "source": [
    "model_custom_merged= BERTopic(\n",
    "    language=\"english\", \n",
    "    calculate_probabilities=True,\n",
    "    embedding_model= embedding_model,\n",
    "    vectorizer_model=vectorizer_model,\n",
    "    ctfidf_model=ctfidf_model,\n",
    "    umap_model= umap_model,\n",
    "    hdbscan_model=hdbscan_model,\n",
    "    representation_model={\"MMR\": MaximalMarginalRelevance(diversity=0.3),\n",
    "                          \"KeyBert\": KeyBERTInspired(),\n",
    "                          \"Pos\": PartOfSpeech()},\n",
    "    verbose = True\n",
    ")\n",
    "topics_custom, probs_custom = model_custom_merged.fit_transform(reviews_preproc,embeddings)"
   ]
  },
  {
   "cell_type": "code",
   "execution_count": 335,
   "metadata": {},
   "outputs": [],
   "source": [
    "model_custom_merged.merge_topics(reviews_preproc, topics_to_merge=[3,33])"
   ]
  },
  {
   "cell_type": "code",
   "execution_count": 337,
   "metadata": {},
   "outputs": [
    {
     "data": {
      "text/plain": [
       "52"
      ]
     },
     "execution_count": 337,
     "metadata": {},
     "output_type": "execute_result"
    }
   ],
   "source": [
    "len(model_custom_merged.get_topic_info())"
   ]
  },
  {
   "cell_type": "code",
   "execution_count": 338,
   "metadata": {},
   "outputs": [],
   "source": [
    "model_custom_merged.merge_topics(reviews_preproc, topics_to_merge=[16,17,25,35,37,42])"
   ]
  },
  {
   "cell_type": "code",
   "execution_count": 339,
   "metadata": {},
   "outputs": [
    {
     "data": {
      "text/plain": [
       "47"
      ]
     },
     "execution_count": 339,
     "metadata": {},
     "output_type": "execute_result"
    }
   ],
   "source": [
    "len(model_custom_merged.get_topic_info())"
   ]
  },
  {
   "cell_type": "code",
   "execution_count": 340,
   "metadata": {},
   "outputs": [],
   "source": [
    "model_custom_merged.merge_topics(reviews_preproc, topics_to_merge=[31,22])"
   ]
  },
  {
   "cell_type": "code",
   "execution_count": 342,
   "metadata": {},
   "outputs": [],
   "source": [
    "topics_custom = model_custom_merged.topics_\n",
    "probs_custom = model_custom_merged.probabilities_"
   ]
  },
  {
   "cell_type": "code",
   "execution_count": 352,
   "metadata": {},
   "outputs": [
    {
     "data": {
      "text/html": [
       "<div>\n",
       "<style scoped>\n",
       "    .dataframe tbody tr th:only-of-type {\n",
       "        vertical-align: middle;\n",
       "    }\n",
       "\n",
       "    .dataframe tbody tr th {\n",
       "        vertical-align: top;\n",
       "    }\n",
       "\n",
       "    .dataframe thead th {\n",
       "        text-align: right;\n",
       "    }\n",
       "</style>\n",
       "<table border=\"1\" class=\"dataframe\">\n",
       "  <thead>\n",
       "    <tr style=\"text-align: right;\">\n",
       "      <th></th>\n",
       "      <th>Topic</th>\n",
       "      <th>Count</th>\n",
       "      <th>Name</th>\n",
       "      <th>Representation</th>\n",
       "      <th>MMR</th>\n",
       "      <th>KeyBert</th>\n",
       "      <th>Pos</th>\n",
       "      <th>Representative_Docs</th>\n",
       "    </tr>\n",
       "  </thead>\n",
       "  <tbody>\n",
       "    <tr>\n",
       "      <th>0</th>\n",
       "      <td>-1</td>\n",
       "      <td>3547</td>\n",
       "      <td>-1_food_good_place_chicken</td>\n",
       "      <td>[food, good, place, chicken, service, ordered,...</td>\n",
       "      <td>[food, place, chicken, service, ambience, rest...</td>\n",
       "      <td>[good food, restaurant, food good, food, buffe...</td>\n",
       "      <td>[food, good, place, chicken, service, taste, a...</td>\n",
       "      <td>[Arena eleven sports bar I Pl is here and what...</td>\n",
       "    </tr>\n",
       "    <tr>\n",
       "      <th>1</th>\n",
       "      <td>0</td>\n",
       "      <td>1425</td>\n",
       "      <td>0_place_good_food_ambience</td>\n",
       "      <td>[place, good, food, ambience, service, great, ...</td>\n",
       "      <td>[ambience, service, music, visit, drinks, dj, ...</td>\n",
       "      <td>[great place, good ambience, good place, nice ...</td>\n",
       "      <td>[place, good, food, ambience, service, great, ...</td>\n",
       "      <td>[Great ambience. awesome service by Manoranjan...</td>\n",
       "    </tr>\n",
       "    <tr>\n",
       "      <th>2</th>\n",
       "      <td>1</td>\n",
       "      <td>565</td>\n",
       "      <td>1_biryani_chicken_chicken biryani_taste</td>\n",
       "      <td>[biryani, chicken, chicken biryani, taste, ord...</td>\n",
       "      <td>[biryani, chicken biryani, taste, biriyani, mu...</td>\n",
       "      <td>[biryani good, good biryani, biryani taste, ch...</td>\n",
       "      <td>[biryani, chicken, taste, biriyani, good, mutt...</td>\n",
       "      <td>[good biryani, biryani is good, Mutton biryani...</td>\n",
       "    </tr>\n",
       "    <tr>\n",
       "      <th>3</th>\n",
       "      <td>2</td>\n",
       "      <td>466</td>\n",
       "      <td>2_service_manager_food_asked</td>\n",
       "      <td>[service, manager, food, asked, staff, place, ...</td>\n",
       "      <td>[service, manager, staff, table, rude, restaur...</td>\n",
       "      <td>[serving, serve, restaurant, waiters, buffet, ...</td>\n",
       "      <td>[service, manager, food, staff, place, table, ...</td>\n",
       "      <td>[We went today for an office team lunch. We we...</td>\n",
       "    </tr>\n",
       "    <tr>\n",
       "      <th>4</th>\n",
       "      <td>3</td>\n",
       "      <td>379</td>\n",
       "      <td>3_delivery_maggi_shake_coffee</td>\n",
       "      <td>[delivery, maggi, shake, coffee, shakes, cafe,...</td>\n",
       "      <td>[maggi, coffee, shakes, cafe, bikes, time deli...</td>\n",
       "      <td>[good delivery, delivery good, excellent deliv...</td>\n",
       "      <td>[delivery, shake, coffee, shakes, cafe, order,...</td>\n",
       "      <td>[good delivery, good delivery, delivery is very]</td>\n",
       "    </tr>\n",
       "    <tr>\n",
       "      <th>5</th>\n",
       "      <td>4</td>\n",
       "      <td>363</td>\n",
       "      <td>4_good good_good_nice good_good nice</td>\n",
       "      <td>[good good, good, nice good, good nice, good b...</td>\n",
       "      <td>[boy good, rider kind, good tast, bhehave good...</td>\n",
       "      <td>[good, good good, great good, good great, nice...</td>\n",
       "      <td>[good, good boy, nice, boy, good tast, nice ri...</td>\n",
       "      <td>[good, good good, a very good good]</td>\n",
       "    </tr>\n",
       "    <tr>\n",
       "      <th>6</th>\n",
       "      <td>5</td>\n",
       "      <td>230</td>\n",
       "      <td>5_hyderabad_place_best_food</td>\n",
       "      <td>[hyderabad, place, best, food, visit, service,...</td>\n",
       "      <td>[hyderabad, visit, hyderabadi, place hyderabad...</td>\n",
       "      <td>[hyderabad food, places hyderabad, place hyder...</td>\n",
       "      <td>[hyderabad, place, best, food, service, hydera...</td>\n",
       "      <td>[One of the best buffet experiences we had in ...</td>\n",
       "    </tr>\n",
       "    <tr>\n",
       "      <th>7</th>\n",
       "      <td>6</td>\n",
       "      <td>226</td>\n",
       "      <td>6_buffet_spread_lunch_starters</td>\n",
       "      <td>[buffet, spread, lunch, starters, good, food, ...</td>\n",
       "      <td>[buffet, lunch, food, main course, lunch buffe...</td>\n",
       "      <td>[buffet food, buffet lunch, dinner buffet, lun...</td>\n",
       "      <td>[buffet, spread, lunch, starters, good, food, ...</td>\n",
       "      <td>[Very good place to have buffet. Buffet spread...</td>\n",
       "    </tr>\n",
       "    <tr>\n",
       "      <th>8</th>\n",
       "      <td>7</td>\n",
       "      <td>156</td>\n",
       "      <td>7_cake_cakes_brownies_chocolate</td>\n",
       "      <td>[cake, cakes, brownies, chocolate, cupcakes, r...</td>\n",
       "      <td>[cakes, brownies, chocolate, cupcakes, red vel...</td>\n",
       "      <td>[cakes brownies, cup cakes, cake chocolate, ch...</td>\n",
       "      <td>[cake, cakes, brownies, chocolate, cupcakes, r...</td>\n",
       "      <td>[They make the Best red velvet cake and cup ca...</td>\n",
       "    </tr>\n",
       "    <tr>\n",
       "      <th>9</th>\n",
       "      <td>8</td>\n",
       "      <td>142</td>\n",
       "      <td>8_chicken_fish_veg_taste</td>\n",
       "      <td>[chicken, fish, veg, taste, good, paneer, star...</td>\n",
       "      <td>[chicken, paneer, dish, prawns, tikka, spicy, ...</td>\n",
       "      <td>[restaurant, buffet, dishes, chicken, chilli, ...</td>\n",
       "      <td>[chicken, fish, veg, taste, good, paneer, star...</td>\n",
       "      <td>[Best place Ever Jonathan is Kitchen If you ar...</td>\n",
       "    </tr>\n",
       "    <tr>\n",
       "      <th>10</th>\n",
       "      <td>9</td>\n",
       "      <td>138</td>\n",
       "      <td>9_gachibowli_place_place gachibowli_food</td>\n",
       "      <td>[gachibowli, place, place gachibowli, food, go...</td>\n",
       "      <td>[gachibowli, place gachibowli, food, visit, pl...</td>\n",
       "      <td>[gachibowli place, visit gachibowli, gachibowl...</td>\n",
       "      <td>[gachibowli, place, food, good, best, ambience...</td>\n",
       "      <td>[Here is one of the best buffet places for tea...</td>\n",
       "    </tr>\n",
       "    <tr>\n",
       "      <th>11</th>\n",
       "      <td>10</td>\n",
       "      <td>129</td>\n",
       "      <td>10_chinese_chinese food_noodles_food</td>\n",
       "      <td>[chinese, chinese food, noodles, food, fried, ...</td>\n",
       "      <td>[chinese food, noodles, fried rice, restaurant...</td>\n",
       "      <td>[chinese cuisine, chinese restaurant, chinese ...</td>\n",
       "      <td>[chinese, chinese food, noodles, food, fried, ...</td>\n",
       "      <td>[Amazing food, good ambience &amp; great this is w...</td>\n",
       "    </tr>\n",
       "    <tr>\n",
       "      <th>12</th>\n",
       "      <td>11</td>\n",
       "      <td>125</td>\n",
       "      <td>11_punjabi_punjabi food_good service_service</td>\n",
       "      <td>[punjabi, punjabi food, good service, service,...</td>\n",
       "      <td>[punjabi, punjabi food, service good, authenti...</td>\n",
       "      <td>[punjabi food, punjabi restaurants, punjabi re...</td>\n",
       "      <td>[punjabi, good service, service, food, dal, go...</td>\n",
       "      <td>[Craving for punjabi food in hyderabad? This o...</td>\n",
       "    </tr>\n",
       "    <tr>\n",
       "      <th>13</th>\n",
       "      <td>12</td>\n",
       "      <td>119</td>\n",
       "      <td>12_noodles_manchurian_rice_ordered</td>\n",
       "      <td>[noodles, manchurian, rice, ordered, fried, fr...</td>\n",
       "      <td>[fried rice, chilli, chicken, chinese, manchur...</td>\n",
       "      <td>[ordered noodles, noodles manchurian, ordered ...</td>\n",
       "      <td>[noodles, manchurian, rice, fried, chilli, gob...</td>\n",
       "      <td>[Have ordered a couple of times from here and ...</td>\n",
       "    </tr>\n",
       "    <tr>\n",
       "      <th>14</th>\n",
       "      <td>13</td>\n",
       "      <td>107</td>\n",
       "      <td>13_shawarma_rumali_chicken shawarma_chicken</td>\n",
       "      <td>[shawarma, rumali, chicken shawarma, chicken, ...</td>\n",
       "      <td>[shawarma, chicken shawarma, shah ghouse, best...</td>\n",
       "      <td>[chicken shawarma, shawarma chicken, best shaw...</td>\n",
       "      <td>[shawarma, rumali, chicken, shah, ghouse, best...</td>\n",
       "      <td>[This place promises to be one of the good Sha...</td>\n",
       "    </tr>\n",
       "    <tr>\n",
       "      <th>15</th>\n",
       "      <td>14</td>\n",
       "      <td>95</td>\n",
       "      <td>14_veg_vegetarian_non_non veg</td>\n",
       "      <td>[veg, vegetarian, non, non veg, good, vegetari...</td>\n",
       "      <td>[veg, vegetarian, non veg, vegetarians, non ve...</td>\n",
       "      <td>[veg food, buffet, vegetarian starters, food g...</td>\n",
       "      <td>[veg, vegetarian, non, non veg, good, vegetari...</td>\n",
       "      <td>[This was on my list since few months and fina...</td>\n",
       "    </tr>\n",
       "    <tr>\n",
       "      <th>16</th>\n",
       "      <td>15</td>\n",
       "      <td>92</td>\n",
       "      <td>15_tasty_food tasty_food_good food</td>\n",
       "      <td>[tasty, food tasty, food, good food, awesome f...</td>\n",
       "      <td>[food tasty, good food, food awesome, tasty ta...</td>\n",
       "      <td>[food tasty, tasty tasty, tasty, delicious tas...</td>\n",
       "      <td>[tasty, food, good food, awesome food, nice fo...</td>\n",
       "      <td>[food is tasty.., food is tasty, good food and...</td>\n",
       "    </tr>\n",
       "    <tr>\n",
       "      <th>17</th>\n",
       "      <td>16</td>\n",
       "      <td>90</td>\n",
       "      <td>16_quantity_quality_quantity quantity_low</td>\n",
       "      <td>[quantity, quality, quantity quantity, low, qu...</td>\n",
       "      <td>[quantity quantity, quantity sucks, service qu...</td>\n",
       "      <td>[quantity smaller, low quantity, quantity, qua...</td>\n",
       "      <td>[quantity, quality, low, sucks, bad quality, p...</td>\n",
       "      <td>[quantity was less, the quantity is very less....</td>\n",
       "    </tr>\n",
       "    <tr>\n",
       "      <th>18</th>\n",
       "      <td>17</td>\n",
       "      <td>87</td>\n",
       "      <td>17_quantity_food_taste_quality</td>\n",
       "      <td>[quantity, food, taste, quality, price, food g...</td>\n",
       "      <td>[food good, food food, food quantity, quantity...</td>\n",
       "      <td>[food quality, quality food, taste quality, qu...</td>\n",
       "      <td>[quantity, food, taste, quality, price, good, ...</td>\n",
       "      <td>[Food is not that good. Quantity is more but q...</td>\n",
       "    </tr>\n",
       "    <tr>\n",
       "      <th>19</th>\n",
       "      <td>18</td>\n",
       "      <td>84</td>\n",
       "      <td>18_ice_cream_ice cream_ice creams</td>\n",
       "      <td>[ice, cream, ice cream, ice creams, creams, st...</td>\n",
       "      <td>[ice creams, cream stone, ordered, sundae, ice...</td>\n",
       "      <td>[ice cream, ordered ice, order ice, ice creams...</td>\n",
       "      <td>[ice, cream, creams, stone, chocolate, nuts, d...</td>\n",
       "      <td>[As we all know that cream stone is a good pla...</td>\n",
       "    </tr>\n",
       "    <tr>\n",
       "      <th>20</th>\n",
       "      <td>19</td>\n",
       "      <td>81</td>\n",
       "      <td>19_burger_burgers_chicken_galaxy</td>\n",
       "      <td>[burger, burgers, chicken, galaxy, milky way, ...</td>\n",
       "      <td>[burger, burgers, milky way, chicken burger, g...</td>\n",
       "      <td>[best burgers, best burger, burger burger, chi...</td>\n",
       "      <td>[burger, burgers, chicken, galaxy, milky way, ...</td>\n",
       "      <td>[Best burger, Do You Know A burger is the shor...</td>\n",
       "    </tr>\n",
       "    <tr>\n",
       "      <th>21</th>\n",
       "      <td>20</td>\n",
       "      <td>79</td>\n",
       "      <td>20_paneer_ordered paneer_butter_masala</td>\n",
       "      <td>[paneer, ordered paneer, butter, masala, order...</td>\n",
       "      <td>[paneer, ordered paneer, butter masala, paneer...</td>\n",
       "      <td>[paneer masala, masala paneer, ordered paneer,...</td>\n",
       "      <td>[paneer, butter, masala, dal, roti, naan, curr...</td>\n",
       "      <td>[Ordered Paneer Masala Curry and Butter Naan t...</td>\n",
       "    </tr>\n",
       "    <tr>\n",
       "      <th>22</th>\n",
       "      <td>21</td>\n",
       "      <td>79</td>\n",
       "      <td>21_pasta_pizza_cheese_ravioli</td>\n",
       "      <td>[pasta, pizza, cheese, ravioli, italian, place...</td>\n",
       "      <td>[pasta, pizza, cheese, ravioli, italian, crust...</td>\n",
       "      <td>[pizza ravioli, italian food, cheese ravioli, ...</td>\n",
       "      <td>[pasta, pizza, cheese, ravioli, italian, place...</td>\n",
       "      <td>[I was here with my bunch of friends a few day...</td>\n",
       "    </tr>\n",
       "    <tr>\n",
       "      <th>23</th>\n",
       "      <td>22</td>\n",
       "      <td>77</td>\n",
       "      <td>22_good bad_bad_test_test good</td>\n",
       "      <td>[good bad, bad, test, test good, good test, wo...</td>\n",
       "      <td>[test good, bad good, test quality, trust rati...</td>\n",
       "      <td>[test good, good test, wonderful test, test, t...</td>\n",
       "      <td>[bad, test, good test, good, wonderful test, g...</td>\n",
       "      <td>[test is very good, test is good, not good not...</td>\n",
       "    </tr>\n",
       "    <tr>\n",
       "      <th>24</th>\n",
       "      <td>23</td>\n",
       "      <td>70</td>\n",
       "      <td>23_paratha_parathas_aloo_parantha</td>\n",
       "      <td>[paratha, parathas, aloo, parantha, chutney, p...</td>\n",
       "      <td>[paneer paratha, paneer, mexican corn, pickle,...</td>\n",
       "      <td>[parathas delicious, paratha stuffing, paratha...</td>\n",
       "      <td>[paratha, parathas, aloo, parantha, chutney, p...</td>\n",
       "      <td>[I have ordered food from this well known para...</td>\n",
       "    </tr>\n",
       "    <tr>\n",
       "      <th>25</th>\n",
       "      <td>24</td>\n",
       "      <td>60</td>\n",
       "      <td>24_chicken_worst_cooked_bad</td>\n",
       "      <td>[chicken, worst, cooked, bad, raw, kfc, served...</td>\n",
       "      <td>[kfc, chicken worst, chicken 65, worst food, c...</td>\n",
       "      <td>[chicken worst, bad chicken, worst chicken, ch...</td>\n",
       "      <td>[chicken, worst, bad, raw, smell, sandwich, wo...</td>\n",
       "      <td>[Was served very bad quality of chicken, even ...</td>\n",
       "    </tr>\n",
       "    <tr>\n",
       "      <th>26</th>\n",
       "      <td>25</td>\n",
       "      <td>60</td>\n",
       "      <td>25_indian_north_north indian_indian food</td>\n",
       "      <td>[indian, north, north indian, indian food, sou...</td>\n",
       "      <td>[north indian, indian food, south indian, indi...</td>\n",
       "      <td>[indian cuisine, indian food, indian foods, in...</td>\n",
       "      <td>[indian, north, indian food, south, food, good...</td>\n",
       "      <td>[Bit pricy as compared to the location. Tasty ...</td>\n",
       "    </tr>\n",
       "    <tr>\n",
       "      <th>27</th>\n",
       "      <td>26</td>\n",
       "      <td>59</td>\n",
       "      <td>26_donuts_donut_dunkin_chocolate</td>\n",
       "      <td>[donuts, donut, dunkin, chocolate, coffee, bur...</td>\n",
       "      <td>[donuts, dunkin donuts, donuts fresh, iced cof...</td>\n",
       "      <td>[dunkin donuts, chocolate donuts, donuts surpr...</td>\n",
       "      <td>[donuts, donut, dunkin, chocolate, coffee, bur...</td>\n",
       "      <td>[To satisfy my donut craving stopped at this p...</td>\n",
       "    </tr>\n",
       "    <tr>\n",
       "      <th>28</th>\n",
       "      <td>27</td>\n",
       "      <td>58</td>\n",
       "      <td>27_momos_kurkure_momo_steamed</td>\n",
       "      <td>[momos, kurkure, momo, steamed, kurkure momos,...</td>\n",
       "      <td>[kurkure momos, chicken momos, steamed momos, ...</td>\n",
       "      <td>[delicious momos, steamed momos, fried momos, ...</td>\n",
       "      <td>[momos, kurkure, momo, steamed, sauce, fried, ...</td>\n",
       "      <td>[Big fan of kurkure chicken momos served here....</td>\n",
       "    </tr>\n",
       "    <tr>\n",
       "      <th>29</th>\n",
       "      <td>28</td>\n",
       "      <td>56</td>\n",
       "      <td>28_zomato_order_support_restaurant</td>\n",
       "      <td>[zomato, order, support, restaurant, delivery,...</td>\n",
       "      <td>[zomato, faasos, contact, delivered, customer ...</td>\n",
       "      <td>[zomato restaurant, zomato customer, service z...</td>\n",
       "      <td>[zomato, order, support, restaurant, delivery,...</td>\n",
       "      <td>[delivery, poor customer support. Both me and ...</td>\n",
       "    </tr>\n",
       "    <tr>\n",
       "      <th>30</th>\n",
       "      <td>29</td>\n",
       "      <td>56</td>\n",
       "      <td>29_taste_waste_taste taste_waste taste</td>\n",
       "      <td>[taste, waste, taste taste, waste taste, taste...</td>\n",
       "      <td>[taste taste, waste taste, taste good, worst t...</td>\n",
       "      <td>[taste bad, taste taste, waste taste, taste wa...</td>\n",
       "      <td>[taste, waste, bad, bad waste, bad taste, good...</td>\n",
       "      <td>[no taste, no taste, Very very bad waste taste...</td>\n",
       "    </tr>\n",
       "    <tr>\n",
       "      <th>31</th>\n",
       "      <td>30</td>\n",
       "      <td>55</td>\n",
       "      <td>30_mandi_yum_arabian_chicken</td>\n",
       "      <td>[mandi, yum, arabian, chicken, yum yum, yum tr...</td>\n",
       "      <td>[yum yum, chicken bbq, mandi chicken, arabian ...</td>\n",
       "      <td>[bbq mandi, arabian food, mandi chicken, eat m...</td>\n",
       "      <td>[mandi, yum, arabian, chicken, mutton, tree, b...</td>\n",
       "      <td>[Have been craving for their mandi after seein...</td>\n",
       "    </tr>\n",
       "    <tr>\n",
       "      <th>32</th>\n",
       "      <td>31</td>\n",
       "      <td>51</td>\n",
       "      <td>31_fast delivery_fast_delivery_delivery fast</td>\n",
       "      <td>[fast delivery, fast, delivery, delivery fast,...</td>\n",
       "      <td>[fast delivery, delivery fast, delivery super,...</td>\n",
       "      <td>[fast delivery, delivery fast, delivery fastes...</td>\n",
       "      <td>[fast delivery, fast, delivery, super, super d...</td>\n",
       "      <td>[fast delivery, very fast delivery, very fast ...</td>\n",
       "    </tr>\n",
       "    <tr>\n",
       "      <th>33</th>\n",
       "      <td>32</td>\n",
       "      <td>49</td>\n",
       "      <td>32_packing_plastic_delivery_tissues</td>\n",
       "      <td>[packing, plastic, delivery, tissues, packagin...</td>\n",
       "      <td>[delivery, packaging, packing good, cutlery, l...</td>\n",
       "      <td>[poor packing, packing good, proper packing, p...</td>\n",
       "      <td>[packing, plastic, delivery, tissues, packagin...</td>\n",
       "      <td>[packing was not at all good, packing should h...</td>\n",
       "    </tr>\n",
       "    <tr>\n",
       "      <th>34</th>\n",
       "      <td>33</td>\n",
       "      <td>48</td>\n",
       "      <td>33_gold_zomato gold_zomato_gold membership</td>\n",
       "      <td>[gold, zomato gold, zomato, gold membership, m...</td>\n",
       "      <td>[zomato gold, zomato, gold membership, gold re...</td>\n",
       "      <td>[zomato gold, gold customers, restaurant zomat...</td>\n",
       "      <td>[gold, zomato, membership, restaurant, service...</td>\n",
       "      <td>[What is the point of taking Zomato Gold when ...</td>\n",
       "    </tr>\n",
       "    <tr>\n",
       "      <th>35</th>\n",
       "      <td>34</td>\n",
       "      <td>45</td>\n",
       "      <td>34_pancakes_waffle_waffles_tea</td>\n",
       "      <td>[pancakes, waffle, waffles, tea, eggs, breakfa...</td>\n",
       "      <td>[pancakes, waffles, scrambled eggs, omelette, ...</td>\n",
       "      <td>[pancakes waffles, waffles pancakes, nutella w...</td>\n",
       "      <td>[pancakes, waffle, waffles, tea, eggs, breakfa...</td>\n",
       "      <td>[Big fan of All day Breakfast in bed? Order fr...</td>\n",
       "    </tr>\n",
       "    <tr>\n",
       "      <th>36</th>\n",
       "      <td>35</td>\n",
       "      <td>42</td>\n",
       "      <td>35_spicy_spicy spicy_spicy food_spicy good</td>\n",
       "      <td>[spicy, spicy spicy, spicy food, spicy good, t...</td>\n",
       "      <td>[spicy spicy, spicy food, spicy good, taste sp...</td>\n",
       "      <td>[spicy, super spicy, spicy spicy, taste spicy,...</td>\n",
       "      <td>[spicy, spicy food, little spicy, taste, good,...</td>\n",
       "      <td>[Too spicy, Not so spicy.., Too spicy]</td>\n",
       "    </tr>\n",
       "    <tr>\n",
       "      <th>37</th>\n",
       "      <td>36</td>\n",
       "      <td>41</td>\n",
       "      <td>36_nice nice_nice_rider nice_nice rider</td>\n",
       "      <td>[nice nice, nice, rider nice, nice rider, ride...</td>\n",
       "      <td>[nice nice, nice, rider nice, nice rider, ride...</td>\n",
       "      <td>[nice, nice nice, nice person, nice rider, , ,...</td>\n",
       "      <td>[nice, rider, nice person, person, , , , , , ]</td>\n",
       "      <td>[nice, nice, Nice]</td>\n",
       "    </tr>\n",
       "    <tr>\n",
       "      <th>38</th>\n",
       "      <td>37</td>\n",
       "      <td>40</td>\n",
       "      <td>37_bread_sandwich_coffee_cheese</td>\n",
       "      <td>[bread, sandwich, coffee, cheese, cream cheese...</td>\n",
       "      <td>[cream cheese, bakery, bagels, baking, breads,...</td>\n",
       "      <td>[madras baking, madras coffee, fresh bread, go...</td>\n",
       "      <td>[bread, sandwich, coffee, cheese, bagel, baker...</td>\n",
       "      <td>[Oh what a lovely place. Thanks to my friend w...</td>\n",
       "    </tr>\n",
       "    <tr>\n",
       "      <th>39</th>\n",
       "      <td>38</td>\n",
       "      <td>38</td>\n",
       "      <td>38_excellent excellent_excellent_excellent aws...</td>\n",
       "      <td>[excellent excellent, excellent, excellent aws...</td>\n",
       "      <td>[excellent excellent, great excellent, awsome ...</td>\n",
       "      <td>[excellent, excellent excellent, great excelle...</td>\n",
       "      <td>[excellent, great, perfect, , , , , , , ]</td>\n",
       "      <td>[excellent, excellent, Excellent!!!]</td>\n",
       "    </tr>\n",
       "    <tr>\n",
       "      <th>40</th>\n",
       "      <td>39</td>\n",
       "      <td>36</td>\n",
       "      <td>39_haleem_pista house_pista_haleem good</td>\n",
       "      <td>[haleem, pista house, pista, haleem good, hous...</td>\n",
       "      <td>[pista house, shah ghouse, haleem haleem, tast...</td>\n",
       "      <td>[quality haleem, taste haleem, ordered haleem,...</td>\n",
       "      <td>[haleem, house, ramzan, taste, ghouse, shah, g...</td>\n",
       "      <td>[I am new to Hyderabad.. heard of the Hyderaba...</td>\n",
       "    </tr>\n",
       "    <tr>\n",
       "      <th>41</th>\n",
       "      <td>40</td>\n",
       "      <td>36</td>\n",
       "      <td>40_andhra_authentic andhra_kodi_authentic</td>\n",
       "      <td>[andhra, authentic andhra, kodi, authentic, ch...</td>\n",
       "      <td>[andhra, authentic andhra, chicken, bamboo chi...</td>\n",
       "      <td>[andhra cuisine, andhra food, andhra dishes, t...</td>\n",
       "      <td>[andhra, kodi, authentic, chicken, pulav, telu...</td>\n",
       "      <td>[India is a food nation, every 50 kms you trav...</td>\n",
       "    </tr>\n",
       "    <tr>\n",
       "      <th>42</th>\n",
       "      <td>41</td>\n",
       "      <td>35</td>\n",
       "      <td>41_wings_chicken wings_chicken_wild</td>\n",
       "      <td>[wings, chicken wings, chicken, wild, sauces, ...</td>\n",
       "      <td>[chicken wings, chicken, sauces, wild wings, t...</td>\n",
       "      <td>[wings delicious, wings chicken, chicken wings...</td>\n",
       "      <td>[wings, chicken, wild, sauces, nuggets, americ...</td>\n",
       "      <td>[American Wild Wings is a very affordable plac...</td>\n",
       "    </tr>\n",
       "    <tr>\n",
       "      <th>43</th>\n",
       "      <td>42</td>\n",
       "      <td>34</td>\n",
       "      <td>42_chai_irani_irani chai_karachi</td>\n",
       "      <td>[chai, irani, irani chai, karachi, cafe, old, ...</td>\n",
       "      <td>[irani chai, karachi, osmania biscuits, poster...</td>\n",
       "      <td>[irani tea, irani chai, karachi cafe, osmania ...</td>\n",
       "      <td>[chai, irani, irani chai, karachi, cafe, old, ...</td>\n",
       "      <td>[Been here only for tea and snacks, the guy ov...</td>\n",
       "    </tr>\n",
       "    <tr>\n",
       "      <th>44</th>\n",
       "      <td>43</td>\n",
       "      <td>31</td>\n",
       "      <td>43_sizzlers_sizzler_absolute_absolute sizzlers</td>\n",
       "      <td>[sizzlers, sizzler, absolute, absolute sizzler...</td>\n",
       "      <td>[absolute sizzlers, absolute sizzler, chicken ...</td>\n",
       "      <td>[sizzlers restaurant, visit sizzlers, sizzlers...</td>\n",
       "      <td>[sizzlers, sizzler, absolute, absolute sizzler...</td>\n",
       "      <td>[The sizzlers here are unlike any other place,...</td>\n",
       "    </tr>\n",
       "    <tr>\n",
       "      <th>45</th>\n",
       "      <td>44</td>\n",
       "      <td>30</td>\n",
       "      <td>44_wrap_wraps_jumbo_chicken wrap</td>\n",
       "      <td>[wrap, wraps, jumbo, chicken wrap, cheese, faa...</td>\n",
       "      <td>[chicken wrap, pizza wrap, veg wrap, wrap jumb...</td>\n",
       "      <td>[chicken wrap, wrap food, wraps good, wrap chi...</td>\n",
       "      <td>[wrap, wraps, jumbo, cheese, faasos, jumbo chi...</td>\n",
       "      <td>[I got a chance to review food from here. I or...</td>\n",
       "    </tr>\n",
       "  </tbody>\n",
       "</table>\n",
       "</div>"
      ],
      "text/plain": [
       "    Topic  Count                                               Name  \\\n",
       "0      -1   3547                         -1_food_good_place_chicken   \n",
       "1       0   1425                         0_place_good_food_ambience   \n",
       "2       1    565            1_biryani_chicken_chicken biryani_taste   \n",
       "3       2    466                       2_service_manager_food_asked   \n",
       "4       3    379                      3_delivery_maggi_shake_coffee   \n",
       "5       4    363               4_good good_good_nice good_good nice   \n",
       "6       5    230                        5_hyderabad_place_best_food   \n",
       "7       6    226                     6_buffet_spread_lunch_starters   \n",
       "8       7    156                    7_cake_cakes_brownies_chocolate   \n",
       "9       8    142                           8_chicken_fish_veg_taste   \n",
       "10      9    138           9_gachibowli_place_place gachibowli_food   \n",
       "11     10    129               10_chinese_chinese food_noodles_food   \n",
       "12     11    125       11_punjabi_punjabi food_good service_service   \n",
       "13     12    119                 12_noodles_manchurian_rice_ordered   \n",
       "14     13    107        13_shawarma_rumali_chicken shawarma_chicken   \n",
       "15     14     95                      14_veg_vegetarian_non_non veg   \n",
       "16     15     92                 15_tasty_food tasty_food_good food   \n",
       "17     16     90          16_quantity_quality_quantity quantity_low   \n",
       "18     17     87                     17_quantity_food_taste_quality   \n",
       "19     18     84                  18_ice_cream_ice cream_ice creams   \n",
       "20     19     81                   19_burger_burgers_chicken_galaxy   \n",
       "21     20     79             20_paneer_ordered paneer_butter_masala   \n",
       "22     21     79                      21_pasta_pizza_cheese_ravioli   \n",
       "23     22     77                     22_good bad_bad_test_test good   \n",
       "24     23     70                  23_paratha_parathas_aloo_parantha   \n",
       "25     24     60                        24_chicken_worst_cooked_bad   \n",
       "26     25     60           25_indian_north_north indian_indian food   \n",
       "27     26     59                   26_donuts_donut_dunkin_chocolate   \n",
       "28     27     58                      27_momos_kurkure_momo_steamed   \n",
       "29     28     56                 28_zomato_order_support_restaurant   \n",
       "30     29     56             29_taste_waste_taste taste_waste taste   \n",
       "31     30     55                       30_mandi_yum_arabian_chicken   \n",
       "32     31     51       31_fast delivery_fast_delivery_delivery fast   \n",
       "33     32     49                32_packing_plastic_delivery_tissues   \n",
       "34     33     48         33_gold_zomato gold_zomato_gold membership   \n",
       "35     34     45                     34_pancakes_waffle_waffles_tea   \n",
       "36     35     42         35_spicy_spicy spicy_spicy food_spicy good   \n",
       "37     36     41            36_nice nice_nice_rider nice_nice rider   \n",
       "38     37     40                    37_bread_sandwich_coffee_cheese   \n",
       "39     38     38  38_excellent excellent_excellent_excellent aws...   \n",
       "40     39     36            39_haleem_pista house_pista_haleem good   \n",
       "41     40     36          40_andhra_authentic andhra_kodi_authentic   \n",
       "42     41     35                41_wings_chicken wings_chicken_wild   \n",
       "43     42     34                   42_chai_irani_irani chai_karachi   \n",
       "44     43     31     43_sizzlers_sizzler_absolute_absolute sizzlers   \n",
       "45     44     30                   44_wrap_wraps_jumbo_chicken wrap   \n",
       "\n",
       "                                       Representation  \\\n",
       "0   [food, good, place, chicken, service, ordered,...   \n",
       "1   [place, good, food, ambience, service, great, ...   \n",
       "2   [biryani, chicken, chicken biryani, taste, ord...   \n",
       "3   [service, manager, food, asked, staff, place, ...   \n",
       "4   [delivery, maggi, shake, coffee, shakes, cafe,...   \n",
       "5   [good good, good, nice good, good nice, good b...   \n",
       "6   [hyderabad, place, best, food, visit, service,...   \n",
       "7   [buffet, spread, lunch, starters, good, food, ...   \n",
       "8   [cake, cakes, brownies, chocolate, cupcakes, r...   \n",
       "9   [chicken, fish, veg, taste, good, paneer, star...   \n",
       "10  [gachibowli, place, place gachibowli, food, go...   \n",
       "11  [chinese, chinese food, noodles, food, fried, ...   \n",
       "12  [punjabi, punjabi food, good service, service,...   \n",
       "13  [noodles, manchurian, rice, ordered, fried, fr...   \n",
       "14  [shawarma, rumali, chicken shawarma, chicken, ...   \n",
       "15  [veg, vegetarian, non, non veg, good, vegetari...   \n",
       "16  [tasty, food tasty, food, good food, awesome f...   \n",
       "17  [quantity, quality, quantity quantity, low, qu...   \n",
       "18  [quantity, food, taste, quality, price, food g...   \n",
       "19  [ice, cream, ice cream, ice creams, creams, st...   \n",
       "20  [burger, burgers, chicken, galaxy, milky way, ...   \n",
       "21  [paneer, ordered paneer, butter, masala, order...   \n",
       "22  [pasta, pizza, cheese, ravioli, italian, place...   \n",
       "23  [good bad, bad, test, test good, good test, wo...   \n",
       "24  [paratha, parathas, aloo, parantha, chutney, p...   \n",
       "25  [chicken, worst, cooked, bad, raw, kfc, served...   \n",
       "26  [indian, north, north indian, indian food, sou...   \n",
       "27  [donuts, donut, dunkin, chocolate, coffee, bur...   \n",
       "28  [momos, kurkure, momo, steamed, kurkure momos,...   \n",
       "29  [zomato, order, support, restaurant, delivery,...   \n",
       "30  [taste, waste, taste taste, waste taste, taste...   \n",
       "31  [mandi, yum, arabian, chicken, yum yum, yum tr...   \n",
       "32  [fast delivery, fast, delivery, delivery fast,...   \n",
       "33  [packing, plastic, delivery, tissues, packagin...   \n",
       "34  [gold, zomato gold, zomato, gold membership, m...   \n",
       "35  [pancakes, waffle, waffles, tea, eggs, breakfa...   \n",
       "36  [spicy, spicy spicy, spicy food, spicy good, t...   \n",
       "37  [nice nice, nice, rider nice, nice rider, ride...   \n",
       "38  [bread, sandwich, coffee, cheese, cream cheese...   \n",
       "39  [excellent excellent, excellent, excellent aws...   \n",
       "40  [haleem, pista house, pista, haleem good, hous...   \n",
       "41  [andhra, authentic andhra, kodi, authentic, ch...   \n",
       "42  [wings, chicken wings, chicken, wild, sauces, ...   \n",
       "43  [chai, irani, irani chai, karachi, cafe, old, ...   \n",
       "44  [sizzlers, sizzler, absolute, absolute sizzler...   \n",
       "45  [wrap, wraps, jumbo, chicken wrap, cheese, faa...   \n",
       "\n",
       "                                                  MMR  \\\n",
       "0   [food, place, chicken, service, ambience, rest...   \n",
       "1   [ambience, service, music, visit, drinks, dj, ...   \n",
       "2   [biryani, chicken biryani, taste, biriyani, mu...   \n",
       "3   [service, manager, staff, table, rude, restaur...   \n",
       "4   [maggi, coffee, shakes, cafe, bikes, time deli...   \n",
       "5   [boy good, rider kind, good tast, bhehave good...   \n",
       "6   [hyderabad, visit, hyderabadi, place hyderabad...   \n",
       "7   [buffet, lunch, food, main course, lunch buffe...   \n",
       "8   [cakes, brownies, chocolate, cupcakes, red vel...   \n",
       "9   [chicken, paneer, dish, prawns, tikka, spicy, ...   \n",
       "10  [gachibowli, place gachibowli, food, visit, pl...   \n",
       "11  [chinese food, noodles, fried rice, restaurant...   \n",
       "12  [punjabi, punjabi food, service good, authenti...   \n",
       "13  [fried rice, chilli, chicken, chinese, manchur...   \n",
       "14  [shawarma, chicken shawarma, shah ghouse, best...   \n",
       "15  [veg, vegetarian, non veg, vegetarians, non ve...   \n",
       "16  [food tasty, good food, food awesome, tasty ta...   \n",
       "17  [quantity quantity, quantity sucks, service qu...   \n",
       "18  [food good, food food, food quantity, quantity...   \n",
       "19  [ice creams, cream stone, ordered, sundae, ice...   \n",
       "20  [burger, burgers, milky way, chicken burger, g...   \n",
       "21  [paneer, ordered paneer, butter masala, paneer...   \n",
       "22  [pasta, pizza, cheese, ravioli, italian, crust...   \n",
       "23  [test good, bad good, test quality, trust rati...   \n",
       "24  [paneer paratha, paneer, mexican corn, pickle,...   \n",
       "25  [kfc, chicken worst, chicken 65, worst food, c...   \n",
       "26  [north indian, indian food, south indian, indi...   \n",
       "27  [donuts, dunkin donuts, donuts fresh, iced cof...   \n",
       "28  [kurkure momos, chicken momos, steamed momos, ...   \n",
       "29  [zomato, faasos, contact, delivered, customer ...   \n",
       "30  [taste taste, waste taste, taste good, worst t...   \n",
       "31  [yum yum, chicken bbq, mandi chicken, arabian ...   \n",
       "32  [fast delivery, delivery fast, delivery super,...   \n",
       "33  [delivery, packaging, packing good, cutlery, l...   \n",
       "34  [zomato gold, zomato, gold membership, gold re...   \n",
       "35  [pancakes, waffles, scrambled eggs, omelette, ...   \n",
       "36  [spicy spicy, spicy food, spicy good, taste sp...   \n",
       "37  [nice nice, nice, rider nice, nice rider, ride...   \n",
       "38  [cream cheese, bakery, bagels, baking, breads,...   \n",
       "39  [excellent excellent, great excellent, awsome ...   \n",
       "40  [pista house, shah ghouse, haleem haleem, tast...   \n",
       "41  [andhra, authentic andhra, chicken, bamboo chi...   \n",
       "42  [chicken wings, chicken, sauces, wild wings, t...   \n",
       "43  [irani chai, karachi, osmania biscuits, poster...   \n",
       "44  [absolute sizzlers, absolute sizzler, chicken ...   \n",
       "45  [chicken wrap, pizza wrap, veg wrap, wrap jumb...   \n",
       "\n",
       "                                              KeyBert  \\\n",
       "0   [good food, restaurant, food good, food, buffe...   \n",
       "1   [great place, good ambience, good place, nice ...   \n",
       "2   [biryani good, good biryani, biryani taste, ch...   \n",
       "3   [serving, serve, restaurant, waiters, buffet, ...   \n",
       "4   [good delivery, delivery good, excellent deliv...   \n",
       "5   [good, good good, great good, good great, nice...   \n",
       "6   [hyderabad food, places hyderabad, place hyder...   \n",
       "7   [buffet food, buffet lunch, dinner buffet, lun...   \n",
       "8   [cakes brownies, cup cakes, cake chocolate, ch...   \n",
       "9   [restaurant, buffet, dishes, chicken, chilli, ...   \n",
       "10  [gachibowli place, visit gachibowli, gachibowl...   \n",
       "11  [chinese cuisine, chinese restaurant, chinese ...   \n",
       "12  [punjabi food, punjabi restaurants, punjabi re...   \n",
       "13  [ordered noodles, noodles manchurian, ordered ...   \n",
       "14  [chicken shawarma, shawarma chicken, best shaw...   \n",
       "15  [veg food, buffet, vegetarian starters, food g...   \n",
       "16  [food tasty, tasty tasty, tasty, delicious tas...   \n",
       "17  [quantity smaller, low quantity, quantity, qua...   \n",
       "18  [food quality, quality food, taste quality, qu...   \n",
       "19  [ice cream, ordered ice, order ice, ice creams...   \n",
       "20  [best burgers, best burger, burger burger, chi...   \n",
       "21  [paneer masala, masala paneer, ordered paneer,...   \n",
       "22  [pizza ravioli, italian food, cheese ravioli, ...   \n",
       "23  [test good, good test, wonderful test, test, t...   \n",
       "24  [parathas delicious, paratha stuffing, paratha...   \n",
       "25  [chicken worst, bad chicken, worst chicken, ch...   \n",
       "26  [indian cuisine, indian food, indian foods, in...   \n",
       "27  [dunkin donuts, chocolate donuts, donuts surpr...   \n",
       "28  [delicious momos, steamed momos, fried momos, ...   \n",
       "29  [zomato restaurant, zomato customer, service z...   \n",
       "30  [taste bad, taste taste, waste taste, taste wa...   \n",
       "31  [bbq mandi, arabian food, mandi chicken, eat m...   \n",
       "32  [fast delivery, delivery fast, delivery fastes...   \n",
       "33  [poor packing, packing good, proper packing, p...   \n",
       "34  [zomato gold, gold customers, restaurant zomat...   \n",
       "35  [pancakes waffles, waffles pancakes, nutella w...   \n",
       "36  [spicy, super spicy, spicy spicy, taste spicy,...   \n",
       "37  [nice, nice nice, nice person, nice rider, , ,...   \n",
       "38  [madras baking, madras coffee, fresh bread, go...   \n",
       "39  [excellent, excellent excellent, great excelle...   \n",
       "40  [quality haleem, taste haleem, ordered haleem,...   \n",
       "41  [andhra cuisine, andhra food, andhra dishes, t...   \n",
       "42  [wings delicious, wings chicken, chicken wings...   \n",
       "43  [irani tea, irani chai, karachi cafe, osmania ...   \n",
       "44  [sizzlers restaurant, visit sizzlers, sizzlers...   \n",
       "45  [chicken wrap, wrap food, wraps good, wrap chi...   \n",
       "\n",
       "                                                  Pos  \\\n",
       "0   [food, good, place, chicken, service, taste, a...   \n",
       "1   [place, good, food, ambience, service, great, ...   \n",
       "2   [biryani, chicken, taste, biriyani, good, mutt...   \n",
       "3   [service, manager, food, staff, place, table, ...   \n",
       "4   [delivery, shake, coffee, shakes, cafe, order,...   \n",
       "5   [good, good boy, nice, boy, good tast, nice ri...   \n",
       "6   [hyderabad, place, best, food, service, hydera...   \n",
       "7   [buffet, spread, lunch, starters, good, food, ...   \n",
       "8   [cake, cakes, brownies, chocolate, cupcakes, r...   \n",
       "9   [chicken, fish, veg, taste, good, paneer, star...   \n",
       "10  [gachibowli, place, food, good, best, ambience...   \n",
       "11  [chinese, chinese food, noodles, food, fried, ...   \n",
       "12  [punjabi, good service, service, food, dal, go...   \n",
       "13  [noodles, manchurian, rice, fried, chilli, gob...   \n",
       "14  [shawarma, rumali, chicken, shah, ghouse, best...   \n",
       "15  [veg, vegetarian, non, non veg, good, vegetari...   \n",
       "16  [tasty, food, good food, awesome food, nice fo...   \n",
       "17  [quantity, quality, low, sucks, bad quality, p...   \n",
       "18  [quantity, food, taste, quality, price, good, ...   \n",
       "19  [ice, cream, creams, stone, chocolate, nuts, d...   \n",
       "20  [burger, burgers, chicken, galaxy, milky way, ...   \n",
       "21  [paneer, butter, masala, dal, roti, naan, curr...   \n",
       "22  [pasta, pizza, cheese, ravioli, italian, place...   \n",
       "23  [bad, test, good test, good, wonderful test, g...   \n",
       "24  [paratha, parathas, aloo, parantha, chutney, p...   \n",
       "25  [chicken, worst, bad, raw, smell, sandwich, wo...   \n",
       "26  [indian, north, indian food, south, food, good...   \n",
       "27  [donuts, donut, dunkin, chocolate, coffee, bur...   \n",
       "28  [momos, kurkure, momo, steamed, sauce, fried, ...   \n",
       "29  [zomato, order, support, restaurant, delivery,...   \n",
       "30  [taste, waste, bad, bad waste, bad taste, good...   \n",
       "31  [mandi, yum, arabian, chicken, mutton, tree, b...   \n",
       "32  [fast delivery, fast, delivery, super, super d...   \n",
       "33  [packing, plastic, delivery, tissues, packagin...   \n",
       "34  [gold, zomato, membership, restaurant, service...   \n",
       "35  [pancakes, waffle, waffles, tea, eggs, breakfa...   \n",
       "36  [spicy, spicy food, little spicy, taste, good,...   \n",
       "37     [nice, rider, nice person, person, , , , , , ]   \n",
       "38  [bread, sandwich, coffee, cheese, bagel, baker...   \n",
       "39          [excellent, great, perfect, , , , , , , ]   \n",
       "40  [haleem, house, ramzan, taste, ghouse, shah, g...   \n",
       "41  [andhra, kodi, authentic, chicken, pulav, telu...   \n",
       "42  [wings, chicken, wild, sauces, nuggets, americ...   \n",
       "43  [chai, irani, irani chai, karachi, cafe, old, ...   \n",
       "44  [sizzlers, sizzler, absolute, absolute sizzler...   \n",
       "45  [wrap, wraps, jumbo, cheese, faasos, jumbo chi...   \n",
       "\n",
       "                                  Representative_Docs  \n",
       "0   [Arena eleven sports bar I Pl is here and what...  \n",
       "1   [Great ambience. awesome service by Manoranjan...  \n",
       "2   [good biryani, biryani is good, Mutton biryani...  \n",
       "3   [We went today for an office team lunch. We we...  \n",
       "4    [good delivery, good delivery, delivery is very]  \n",
       "5                 [good, good good, a very good good]  \n",
       "6   [One of the best buffet experiences we had in ...  \n",
       "7   [Very good place to have buffet. Buffet spread...  \n",
       "8   [They make the Best red velvet cake and cup ca...  \n",
       "9   [Best place Ever Jonathan is Kitchen If you ar...  \n",
       "10  [Here is one of the best buffet places for tea...  \n",
       "11  [Amazing food, good ambience & great this is w...  \n",
       "12  [Craving for punjabi food in hyderabad? This o...  \n",
       "13  [Have ordered a couple of times from here and ...  \n",
       "14  [This place promises to be one of the good Sha...  \n",
       "15  [This was on my list since few months and fina...  \n",
       "16  [food is tasty.., food is tasty, good food and...  \n",
       "17  [quantity was less, the quantity is very less....  \n",
       "18  [Food is not that good. Quantity is more but q...  \n",
       "19  [As we all know that cream stone is a good pla...  \n",
       "20  [Best burger, Do You Know A burger is the shor...  \n",
       "21  [Ordered Paneer Masala Curry and Butter Naan t...  \n",
       "22  [I was here with my bunch of friends a few day...  \n",
       "23  [test is very good, test is good, not good not...  \n",
       "24  [I have ordered food from this well known para...  \n",
       "25  [Was served very bad quality of chicken, even ...  \n",
       "26  [Bit pricy as compared to the location. Tasty ...  \n",
       "27  [To satisfy my donut craving stopped at this p...  \n",
       "28  [Big fan of kurkure chicken momos served here....  \n",
       "29  [delivery, poor customer support. Both me and ...  \n",
       "30  [no taste, no taste, Very very bad waste taste...  \n",
       "31  [Have been craving for their mandi after seein...  \n",
       "32  [fast delivery, very fast delivery, very fast ...  \n",
       "33  [packing was not at all good, packing should h...  \n",
       "34  [What is the point of taking Zomato Gold when ...  \n",
       "35  [Big fan of All day Breakfast in bed? Order fr...  \n",
       "36             [Too spicy, Not so spicy.., Too spicy]  \n",
       "37                                 [nice, nice, Nice]  \n",
       "38  [Oh what a lovely place. Thanks to my friend w...  \n",
       "39               [excellent, excellent, Excellent!!!]  \n",
       "40  [I am new to Hyderabad.. heard of the Hyderaba...  \n",
       "41  [India is a food nation, every 50 kms you trav...  \n",
       "42  [American Wild Wings is a very affordable plac...  \n",
       "43  [Been here only for tea and snacks, the guy ov...  \n",
       "44  [The sizzlers here are unlike any other place,...  \n",
       "45  [I got a chance to review food from here. I or...  "
      ]
     },
     "execution_count": 352,
     "metadata": {},
     "output_type": "execute_result"
    }
   ],
   "source": [
    "model_custom_merged.get_topic_info()"
   ]
  },
  {
   "cell_type": "code",
   "execution_count": 359,
   "metadata": {},
   "outputs": [
    {
     "data": {
      "text/html": [
       "<div>\n",
       "<style scoped>\n",
       "    .dataframe tbody tr th:only-of-type {\n",
       "        vertical-align: middle;\n",
       "    }\n",
       "\n",
       "    .dataframe tbody tr th {\n",
       "        vertical-align: top;\n",
       "    }\n",
       "\n",
       "    .dataframe thead th {\n",
       "        text-align: right;\n",
       "    }\n",
       "</style>\n",
       "<table border=\"1\" class=\"dataframe\">\n",
       "  <thead>\n",
       "    <tr style=\"text-align: right;\">\n",
       "      <th></th>\n",
       "      <th>Review</th>\n",
       "      <th>Top_3_Topics</th>\n",
       "      <th>Top_3_Probabilities</th>\n",
       "      <th>Topics_KB</th>\n",
       "    </tr>\n",
       "  </thead>\n",
       "  <tbody>\n",
       "    <tr>\n",
       "      <th>0</th>\n",
       "      <td>The ambience was good, food was quite good. ha...</td>\n",
       "      <td>[3, 0, 6]</td>\n",
       "      <td>[8.42, 8.05, 4.87]</td>\n",
       "      <td>[good delivery, great place, buffet food]</td>\n",
       "    </tr>\n",
       "    <tr>\n",
       "      <th>1</th>\n",
       "      <td>Ambience is too good for a pleasant evening. S...</td>\n",
       "      <td>[0, 3, 21]</td>\n",
       "      <td>[100.0, 0.0, 0.0]</td>\n",
       "      <td>[great place, good delivery, pizza ravioli]</td>\n",
       "    </tr>\n",
       "    <tr>\n",
       "      <th>2</th>\n",
       "      <td>A must try.. great food great ambience. Thnx f...</td>\n",
       "      <td>[0, 3, 21]</td>\n",
       "      <td>[11.36, 9.53, 5.21]</td>\n",
       "      <td>[great place, good delivery, pizza ravioli]</td>\n",
       "    </tr>\n",
       "    <tr>\n",
       "      <th>3</th>\n",
       "      <td>Soumen das and Arun was a great guy. Only beca...</td>\n",
       "      <td>[0, 3, 43]</td>\n",
       "      <td>[37.61, 5.87, 2.95]</td>\n",
       "      <td>[great place, good delivery, sizzlers restaurant]</td>\n",
       "    </tr>\n",
       "    <tr>\n",
       "      <th>4</th>\n",
       "      <td>Food is good. we ordered Kodi drumsticks and b...</td>\n",
       "      <td>[3, 21, 6]</td>\n",
       "      <td>[1.2, 0.77, 0.75]</td>\n",
       "      <td>[good delivery, pizza ravioli, buffet food]</td>\n",
       "    </tr>\n",
       "  </tbody>\n",
       "</table>\n",
       "</div>"
      ],
      "text/plain": [
       "                                              Review Top_3_Topics  \\\n",
       "0  The ambience was good, food was quite good. ha...    [3, 0, 6]   \n",
       "1  Ambience is too good for a pleasant evening. S...   [0, 3, 21]   \n",
       "2  A must try.. great food great ambience. Thnx f...   [0, 3, 21]   \n",
       "3  Soumen das and Arun was a great guy. Only beca...   [0, 3, 43]   \n",
       "4  Food is good. we ordered Kodi drumsticks and b...   [3, 21, 6]   \n",
       "\n",
       "   Top_3_Probabilities                                          Topics_KB  \n",
       "0   [8.42, 8.05, 4.87]          [good delivery, great place, buffet food]  \n",
       "1    [100.0, 0.0, 0.0]        [great place, good delivery, pizza ravioli]  \n",
       "2  [11.36, 9.53, 5.21]        [great place, good delivery, pizza ravioli]  \n",
       "3  [37.61, 5.87, 2.95]  [great place, good delivery, sizzlers restaurant]  \n",
       "4    [1.2, 0.77, 0.75]        [good delivery, pizza ravioli, buffet food]  "
      ]
     },
     "execution_count": 359,
     "metadata": {},
     "output_type": "execute_result"
    }
   ],
   "source": [
    "# Create a DataFrame with reviews and their top 3 assigned topics with probabilities\n",
    "reviews_with_topics_custom = pd.DataFrame({\n",
    "    'Review': reviews_preproc,\n",
    "    'Top_3_Topics': [np.argsort(probs_custom[i])[-3:][::-1] for i in range(len(reviews_preproc))],\n",
    "    'Top_3_Probabilities': [np.round(np.sort(probs_custom[i])[-3:][::-1] * 100, 2) for i in range(len(reviews_preproc))]\n",
    "})\n",
    "\n",
    "# Map the topic IDs to their custom names from topic_aspects_[\"MMR\"]\n",
    "#topic_info_MMR_custom = {topic: \" | \".join(list(zip(*values))[0][:3]) for topic, values in model_custom_merged.topic_aspects_[\"MMR\"].items()}\n",
    "topic_info_KB_custom = {topic: \" | \".join(list(zip(*values))[0][:1]) for topic, values in model_custom_merged.topic_aspects_[\"KeyBert\"].items()}\n",
    "#topic_info_POS_custom = {topic: \" | \".join(list(zip(*values))[0][:3]) for topic, values in model_custom_merged.topic_aspects_[\"Pos\"].items()}\n",
    "#reviews_with_topics_custom['Topics_MMR'] = reviews_with_topics_custom['Top_3_Topics'].apply(lambda topics: [topic_info_MMR_custom[topic] for topic in topics])\n",
    "reviews_with_topics_custom['Topics_KB'] = reviews_with_topics_custom['Top_3_Topics'].apply(lambda topics: [topic_info_KB_custom[topic] for topic in topics])\n",
    "#reviews_with_topics_custom['Topics_POS'] = reviews_with_topics_custom['Top_3_Topics'].apply(lambda topics: [topic_info_POS_custom[topic] for topic in topics])\n",
    "\n",
    "# Display the first few rows of the new DataFrame\n",
    "reviews_with_topics_custom.head()"
   ]
  },
  {
   "cell_type": "code",
   "execution_count": 52,
   "metadata": {},
   "outputs": [
    {
     "data": {
      "application/vnd.jupyter.widget-view+json": {
       "model_id": "37c14a09ec24487dbc3e421452267f52",
       "version_major": 2,
       "version_minor": 0
      },
      "text/plain": [
       "Batches:   0%|          | 0/312 [00:00<?, ?it/s]"
      ]
     },
     "metadata": {},
     "output_type": "display_data"
    }
   ],
   "source": [
    "from sentence_transformers import SentenceTransformer\n",
    "\n",
    "# Pre-calculate embeddings\n",
    "embedding_model = SentenceTransformer(\"all-MiniLM-L6-v2\")\n",
    "embeddings = embedding_model.encode(reviews_preproc.tolist(), show_progress_bar=True)"
   ]
  },
  {
   "cell_type": "code",
   "execution_count": null,
   "metadata": {},
   "outputs": [],
   "source": [
    "from umap import UMAP\n",
    "\n",
    "umap_model = UMAP(n_neighbors=15, n_components=5, min_dist=0.0, metric='cosine', random_state=42)\n",
    "from hdbscan import HDBSCAN\n",
    "\n",
    "hdbscan_model = HDBSCAN(min_cluster_size=30,metric='euclidean', cluster_selection_method='eom', prediction_data=True)"
   ]
  },
  {
   "cell_type": "code",
   "execution_count": null,
   "metadata": {},
   "outputs": [],
   "source": []
  },
  {
   "cell_type": "code",
   "execution_count": 34,
   "metadata": {},
   "outputs": [],
   "source": [
    "from sklearn.feature_extraction.text import CountVectorizer\n",
    "vectorizer_model = CountVectorizer(stop_words=\"english\", min_df=2, ngram_range=(1, 2))"
   ]
  },
  {
   "cell_type": "code",
   "execution_count": 35,
   "metadata": {},
   "outputs": [],
   "source": [
    "from bertopic.vectorizers import ClassTfidfTransformer\n",
    "\n",
    "ctfidf_model = ClassTfidfTransformer()"
   ]
  },
  {
   "cell_type": "code",
   "execution_count": 111,
   "metadata": {},
   "outputs": [],
   "source": [
    "from bertopic.representation import KeyBERTInspired, MaximalMarginalRelevance, PartOfSpeech\n",
    "\n",
    "# KeyBERT\n",
    "keybert_model = KeyBERTInspired()\n",
    "\n",
    "# Part-of-Speech\n",
    "pos_model = PartOfSpeech(\"en_core_web_sm\")\n",
    "\n",
    "# MMR\n",
    "mmr_model = MaximalMarginalRelevance(diversity=0.2)\n",
    "\n",
    "# All representation models\n",
    "representation_model = {\n",
    "    \"KeyBERT\": keybert_model,\n",
    "    \"MMR\": mmr_model,\n",
    "    \"POS\": pos_model\n",
    "}"
   ]
  },
  {
   "cell_type": "code",
   "execution_count": 202,
   "metadata": {},
   "outputs": [
    {
     "name": "stderr",
     "output_type": "stream",
     "text": [
      "2024-12-14 17:39:51,547 - BERTopic - Dimensionality - Fitting the dimensionality reduction algorithm\n",
      "2024-12-14 17:40:08,317 - BERTopic - Dimensionality - Completed ✓\n",
      "2024-12-14 17:40:08,318 - BERTopic - Cluster - Start clustering the reduced embeddings\n",
      "2024-12-14 17:40:08,762 - BERTopic - Cluster - Completed ✓\n",
      "2024-12-14 17:40:08,766 - BERTopic - Representation - Extracting topics from clusters using representation models.\n",
      "2024-12-14 17:40:35,096 - BERTopic - Representation - Completed ✓\n"
     ]
    }
   ],
   "source": [
    "from bertopic import BERTopic\n",
    "\n",
    "custom_model = BERTopic(\n",
    "\n",
    "  # Pipeline models\n",
    "  embedding_model=embedding_model,\n",
    "  umap_model=umap_model,\n",
    "  hdbscan_model=hdbscan_model,\n",
    "  vectorizer_model=vectorizer_model,\n",
    "  ctfidf_model=ctfidf_model,\n",
    "  representation_model=representation_model,\n",
    "\n",
    "  # Hyperparameters\n",
    "  top_n_words=10,\n",
    "  verbose=True\n",
    ")\n",
    "\n",
    "topics, probs = custom_model.fit_transform(reviews_preproc, embeddings)"
   ]
  },
  {
   "cell_type": "code",
   "execution_count": 113,
   "metadata": {},
   "outputs": [],
   "source": [
    "mrr_topic_labels = {topic: \" | \".join(list(zip(*values))[0][:3]) for topic, values in custom_model.topic_aspects_[\"MMR\"].items()}\n",
    "custom_model.set_topic_labels(mrr_topic_labels)"
   ]
  },
  {
   "cell_type": "code",
   "execution_count": 204,
   "metadata": {},
   "outputs": [
    {
     "data": {
      "text/html": [
       "<div>\n",
       "<style scoped>\n",
       "    .dataframe tbody tr th:only-of-type {\n",
       "        vertical-align: middle;\n",
       "    }\n",
       "\n",
       "    .dataframe tbody tr th {\n",
       "        vertical-align: top;\n",
       "    }\n",
       "\n",
       "    .dataframe thead th {\n",
       "        text-align: right;\n",
       "    }\n",
       "</style>\n",
       "<table border=\"1\" class=\"dataframe\">\n",
       "  <thead>\n",
       "    <tr style=\"text-align: right;\">\n",
       "      <th></th>\n",
       "      <th>Topic</th>\n",
       "      <th>Count</th>\n",
       "      <th>Name</th>\n",
       "      <th>Representation</th>\n",
       "      <th>KeyBERT</th>\n",
       "      <th>MMR</th>\n",
       "      <th>POS</th>\n",
       "      <th>Representative_Docs</th>\n",
       "    </tr>\n",
       "  </thead>\n",
       "  <tbody>\n",
       "    <tr>\n",
       "      <th>0</th>\n",
       "      <td>-1</td>\n",
       "      <td>4186</td>\n",
       "      <td>-1_ambience_great_amazing_starters</td>\n",
       "      <td>[ambience, great, amazing, starters, really, n...</td>\n",
       "      <td>[chicken tikka, restaurant, good food, dishes,...</td>\n",
       "      <td>[ambience, starters, pizza, ambiance, lunch, v...</td>\n",
       "      <td>[ambience, great, amazing, starters, nice, fri...</td>\n",
       "      <td>[\"Oh! Hyderabad\" brings amazing super exciting...</td>\n",
       "    </tr>\n",
       "    <tr>\n",
       "      <th>1</th>\n",
       "      <td>0</td>\n",
       "      <td>577</td>\n",
       "      <td>0_biryani_chicken biryani_mutton biryani_biriyani</td>\n",
       "      <td>[biryani, chicken biryani, mutton biryani, bir...</td>\n",
       "      <td>[biryani tasty, biryani food, hyderabadi birya...</td>\n",
       "      <td>[chicken biryani, mutton biryani, biryani good...</td>\n",
       "      <td>[biryani, biriyani, biryanis, mutton, good bir...</td>\n",
       "      <td>[Another place fo delicious Hyderabadi rum bir...</td>\n",
       "    </tr>\n",
       "    <tr>\n",
       "      <th>2</th>\n",
       "      <td>1</td>\n",
       "      <td>429</td>\n",
       "      <td>1_manager_rude_asked_table</td>\n",
       "      <td>[manager, rude, asked, table, pathetic, waiter...</td>\n",
       "      <td>[serving, waiters, waiter, serve, service bad,...</td>\n",
       "      <td>[rude, waiter, customer, worst service, waiter...</td>\n",
       "      <td>[manager, rude, table, pathetic, waiter, worst...</td>\n",
       "      <td>[I visited this place with my wife on 16 March...</td>\n",
       "    </tr>\n",
       "    <tr>\n",
       "      <th>3</th>\n",
       "      <td>2</td>\n",
       "      <td>332</td>\n",
       "      <td>2_dj_dance_dance floor_floor</td>\n",
       "      <td>[dj, dance, dance floor, floor, hangout, music...</td>\n",
       "      <td>[place party, places hangout, place amazing, f...</td>\n",
       "      <td>[dance, dance floor, hangout, place hangout, p...</td>\n",
       "      <td>[dj, dance, floor, hangout, music, rooftop, pa...</td>\n",
       "      <td>[This place has amazing setup, separated in mu...</td>\n",
       "    </tr>\n",
       "    <tr>\n",
       "      <th>4</th>\n",
       "      <td>3</td>\n",
       "      <td>309</td>\n",
       "      <td>3_good good_good_combo good_nice good</td>\n",
       "      <td>[good good, good, combo good, nice good, verry...</td>\n",
       "      <td>[good, good good, nice good, good nice, nice, ...</td>\n",
       "      <td>[good good, good, combo good, nice good, verry...</td>\n",
       "      <td>[good, combo, nice, , , , , , , ]</td>\n",
       "      <td>[good, good, good good]</td>\n",
       "    </tr>\n",
       "    <tr>\n",
       "      <th>5</th>\n",
       "      <td>4</td>\n",
       "      <td>231</td>\n",
       "      <td>4_hyderabad_place hyderabad_places hyderabad_h...</td>\n",
       "      <td>[hyderabad, place hyderabad, places hyderabad,...</td>\n",
       "      <td>[hyderabadi cuisine, restaurants hyderabad, hy...</td>\n",
       "      <td>[place hyderabad, places hyderabad, hyderabad ...</td>\n",
       "      <td>[hyderabad, hyderabadi, beer, beers, places, b...</td>\n",
       "      <td>[So this place is located near ikea above the ...</td>\n",
       "    </tr>\n",
       "    <tr>\n",
       "      <th>6</th>\n",
       "      <td>5</td>\n",
       "      <td>226</td>\n",
       "      <td>5_govind_excellent service_excellent_abs</td>\n",
       "      <td>[govind, excellent service, excellent, abs, sh...</td>\n",
       "      <td>[excellent food, food excellent, good hospital...</td>\n",
       "      <td>[suraj, food excellent, visit soon, service go...</td>\n",
       "      <td>[excellent service, excellent, abs, suraj, exc...</td>\n",
       "      <td>[Excellent food and excellent service by bahad...</td>\n",
       "    </tr>\n",
       "    <tr>\n",
       "      <th>7</th>\n",
       "      <td>6</td>\n",
       "      <td>213</td>\n",
       "      <td>6_zomato_gold_zomato gold_order</td>\n",
       "      <td>[zomato, gold, zomato gold, order, dominos, de...</td>\n",
       "      <td>[zomato restaurant, restaurant zomato, food zo...</td>\n",
       "      <td>[zomato, zomato gold, order, dominos, refund, ...</td>\n",
       "      <td>[zomato, gold, order, dominos, support, contac...</td>\n",
       "      <td>[delivery, poor customer support . Both me and...</td>\n",
       "    </tr>\n",
       "    <tr>\n",
       "      <th>8</th>\n",
       "      <td>7</td>\n",
       "      <td>192</td>\n",
       "      <td>7_buffet_spread_hyatt_lunch buffet</td>\n",
       "      <td>[buffet, spread, hyatt, lunch buffet, buffets,...</td>\n",
       "      <td>[buffet food, buffet menu, dinner buffet, plac...</td>\n",
       "      <td>[buffet, lunch buffet, buffets, buffet spread,...</td>\n",
       "      <td>[buffet, spread, buffets, carte, lunch, good b...</td>\n",
       "      <td>[I have had the breakfast buffet here quite a ...</td>\n",
       "    </tr>\n",
       "    <tr>\n",
       "      <th>9</th>\n",
       "      <td>8</td>\n",
       "      <td>166</td>\n",
       "      <td>8_cake_brownies_cupcakes_cakes</td>\n",
       "      <td>[cake, brownies, cupcakes, cakes, red velvet, ...</td>\n",
       "      <td>[chocolate cake, bakery items, bakery products...</td>\n",
       "      <td>[brownies, cupcakes, cakes, cookies, chocolate...</td>\n",
       "      <td>[cake, brownies, cupcakes, cakes, red velvet, ...</td>\n",
       "      <td>[A true match for Theo' s from Mumbai, one of ...</td>\n",
       "    </tr>\n",
       "    <tr>\n",
       "      <th>10</th>\n",
       "      <td>9</td>\n",
       "      <td>145</td>\n",
       "      <td>9_ambience good_ambience_ambience food_ambienc...</td>\n",
       "      <td>[ambience good, ambience, ambience food, ambie...</td>\n",
       "      <td>[food ambience, ambience food, ambience good, ...</td>\n",
       "      <td>[ambience good, ambience, ambience food, ambie...</td>\n",
       "      <td>[ambience, great ambience, average, average fo...</td>\n",
       "      <td>[Ambience- Good for a family dinner . Warm Mel...</td>\n",
       "    </tr>\n",
       "    <tr>\n",
       "      <th>11</th>\n",
       "      <td>10</td>\n",
       "      <td>131</td>\n",
       "      <td>10_gachibowli_place gachibowli_located gachibo...</td>\n",
       "      <td>[gachibowli, place gachibowli, located gachibo...</td>\n",
       "      <td>[gachibowli place, visit gachibowli, place gac...</td>\n",
       "      <td>[place gachibowli, located gachibowli, gachibo...</td>\n",
       "      <td>[gachibowli, area, pax, outlets, places, branc...</td>\n",
       "      <td>[I was searching for a good Veg place around G...</td>\n",
       "    </tr>\n",
       "    <tr>\n",
       "      <th>12</th>\n",
       "      <td>11</td>\n",
       "      <td>129</td>\n",
       "      <td>11_chinese_chinese food_authentic chinese_chin...</td>\n",
       "      <td>[chinese, chinese food, authentic chinese, chi...</td>\n",
       "      <td>[chinese cuisine, chinese food, food chinese, ...</td>\n",
       "      <td>[chinese food, authentic chinese, chinese cuis...</td>\n",
       "      <td>[chinese, chinese food, chinese cuisine, noodl...</td>\n",
       "      <td>[Ohh finally the wait is over, I have been see...</td>\n",
       "    </tr>\n",
       "    <tr>\n",
       "      <th>13</th>\n",
       "      <td>12</td>\n",
       "      <td>121</td>\n",
       "      <td>12_fish_prawns_kebab_soup</td>\n",
       "      <td>[fish, prawns, kebab, soup, virgin, mocktails,...</td>\n",
       "      <td>[arabian chicken, chicken soup, chicken, spice...</td>\n",
       "      <td>[prawns, kebab, soup, mocktails, crispy, dish,...</td>\n",
       "      <td>[fish, prawns, soup, mocktails, nawabi, crispy...</td>\n",
       "      <td>[Follow my Instagram page Pour House is a spac...</td>\n",
       "    </tr>\n",
       "    <tr>\n",
       "      <th>14</th>\n",
       "      <td>13</td>\n",
       "      <td>111</td>\n",
       "      <td>13_vegetarian_non_non veg_vegetarians</td>\n",
       "      <td>[vegetarian, non, non veg, vegetarians, veg, v...</td>\n",
       "      <td>[vegetarian dishes, veg dishes, vegetarian foo...</td>\n",
       "      <td>[non veg, veg food, non vegetarian, vegetarian...</td>\n",
       "      <td>[vegetarian, non, non veg, vegetarians, veg, n...</td>\n",
       "      <td>[Ambience 4 * Food 4 * Staff 4 * Service is a ...</td>\n",
       "    </tr>\n",
       "    <tr>\n",
       "      <th>15</th>\n",
       "      <td>14</td>\n",
       "      <td>108</td>\n",
       "      <td>14_shawarma_chicken shawarma_rumali_shah</td>\n",
       "      <td>[shawarma, chicken shawarma, rumali, shah, sha...</td>\n",
       "      <td>[chicken shawarma, shawarma good, shawarma bes...</td>\n",
       "      <td>[shawarma, chicken shawarma, shawarmas, mayonn...</td>\n",
       "      <td>[shawarma, rumali, shah, shawarmas, ghouse, ma...</td>\n",
       "      <td>[One of the besstt places to order shawarma . ...</td>\n",
       "    </tr>\n",
       "    <tr>\n",
       "      <th>16</th>\n",
       "      <td>15</td>\n",
       "      <td>104</td>\n",
       "      <td>15_noodles_manchurian_gobi_fried rice</td>\n",
       "      <td>[noodles, manchurian, gobi, fried rice, manchu...</td>\n",
       "      <td>[chinese dish, noodles ordered, noodles taste,...</td>\n",
       "      <td>[noodles, fried rice, manchuria, veg fried, ve...</td>\n",
       "      <td>[noodles, manchurian, gobi, manchuria, rice, b...</td>\n",
       "      <td>[I was craving for some chinese food before ex...</td>\n",
       "    </tr>\n",
       "    <tr>\n",
       "      <th>17</th>\n",
       "      <td>16</td>\n",
       "      <td>101</td>\n",
       "      <td>16_food tasty_tasty good_awesome food_tasty ex...</td>\n",
       "      <td>[food tasty, tasty good, awesome food, tasty e...</td>\n",
       "      <td>[food tasty, tasty food, delicious food, good ...</td>\n",
       "      <td>[food tasty, tasty good, delicious tasty, food...</td>\n",
       "      <td>[awesome food, tasty, nice food, delicious foo...</td>\n",
       "      <td>[food is tasty, good food and tasty, food is t...</td>\n",
       "    </tr>\n",
       "    <tr>\n",
       "      <th>18</th>\n",
       "      <td>17</td>\n",
       "      <td>97</td>\n",
       "      <td>17_super_ok_goid_ok ok</td>\n",
       "      <td>[super, ok, goid, ok ok, nom, excelent, yuck, ...</td>\n",
       "      <td>[super, service super, awesome, item, fine, , ...</td>\n",
       "      <td>[super, goid, yuck, service super, nom nom, ex...</td>\n",
       "      <td>[super, goid, yuck, excelent, excited, fine, c...</td>\n",
       "      <td>[super, super delevery, Super]</td>\n",
       "    </tr>\n",
       "    <tr>\n",
       "      <th>19</th>\n",
       "      <td>18</td>\n",
       "      <td>95</td>\n",
       "      <td>18_quantity_food quantity_good quantity_food food</td>\n",
       "      <td>[quantity, food quantity, good quantity, food ...</td>\n",
       "      <td>[food price, cost food, food quality, taste qu...</td>\n",
       "      <td>[food quantity, food food, quantity food, food...</td>\n",
       "      <td>[quantity, good quantity, salt, bad food, good...</td>\n",
       "      <td>[Food is good in terms of taste and the qualit...</td>\n",
       "    </tr>\n",
       "    <tr>\n",
       "      <th>20</th>\n",
       "      <td>19</td>\n",
       "      <td>93</td>\n",
       "      <td>19_quantity quantity_quantity_sucks_bad quality</td>\n",
       "      <td>[quantity quantity, quantity, sucks, bad quali...</td>\n",
       "      <td>[quality quantity, quantity quality, quantity ...</td>\n",
       "      <td>[quantity quantity, quantity, quantity price, ...</td>\n",
       "      <td>[quantity, sucks, bad quality, low, poor quali...</td>\n",
       "      <td>[Quantity is very less, from the last two mont...</td>\n",
       "    </tr>\n",
       "    <tr>\n",
       "      <th>21</th>\n",
       "      <td>20</td>\n",
       "      <td>89</td>\n",
       "      <td>20_good delivery_delivery_delivery good_delive...</td>\n",
       "      <td>[good delivery, delivery, delivery good, deliv...</td>\n",
       "      <td>[good delivery, great delivery, delivery good,...</td>\n",
       "      <td>[good delivery, delivery good, delivery delive...</td>\n",
       "      <td>[good delivery, delivery, nice delivery, boy, ...</td>\n",
       "      <td>[good delivery, Very good delivery, good deliv...</td>\n",
       "    </tr>\n",
       "    <tr>\n",
       "      <th>22</th>\n",
       "      <td>21</td>\n",
       "      <td>84</td>\n",
       "      <td>21_ice_cream_ice cream_cream stone</td>\n",
       "      <td>[ice, cream, ice cream, cream stone, ice cream...</td>\n",
       "      <td>[ice cream, ice creams, chocolate ice, ordered...</td>\n",
       "      <td>[ice cream, cream stone, ice creams, creams, c...</td>\n",
       "      <td>[ice, cream, creams, stone, nuts, dry ice, ice...</td>\n",
       "      <td>[Awesome and wonderful place, I had ordered fr...</td>\n",
       "    </tr>\n",
       "    <tr>\n",
       "      <th>23</th>\n",
       "      <td>22</td>\n",
       "      <td>76</td>\n",
       "      <td>22_burger_burgers_milky_charcoal</td>\n",
       "      <td>[burger, burgers, milky, charcoal, cosmic, bes...</td>\n",
       "      <td>[best burgers, best burger, cosmic burger, bur...</td>\n",
       "      <td>[burgers, best burgers, best burger, burger pl...</td>\n",
       "      <td>[burger, burgers, milky, charcoal, cosmic, bes...</td>\n",
       "      <td>[A hidden treasure, you have to travel across ...</td>\n",
       "    </tr>\n",
       "    <tr>\n",
       "      <th>24</th>\n",
       "      <td>23</td>\n",
       "      <td>70</td>\n",
       "      <td>23_ravioli_frio_pasta_italian</td>\n",
       "      <td>[ravioli, frio, pasta, italian, pizza, spinach...</td>\n",
       "      <td>[italian cuisine, italian food, ravioli pasta,...</td>\n",
       "      <td>[ravioli, italian food, penne pasta, pastas, a...</td>\n",
       "      <td>[ravioli, pasta, italian, pizza, spinach, crus...</td>\n",
       "      <td>[This review has been long overdue, I visited ...</td>\n",
       "    </tr>\n",
       "    <tr>\n",
       "      <th>25</th>\n",
       "      <td>24</td>\n",
       "      <td>69</td>\n",
       "      <td>24_punjabi_dal_lassi_dal makhani</td>\n",
       "      <td>[punjabi, dal, lassi, dal makhani, makhani, da...</td>\n",
       "      <td>[indian food, food hyderabad, paneer tikka, pu...</td>\n",
       "      <td>[punjabi, dal makhani, dal makhni, punjab, kul...</td>\n",
       "      <td>[punjabi, dal, lassi, makhani, makhni, punjab,...</td>\n",
       "      <td>[They definitely promise you a decent meal . K...</td>\n",
       "    </tr>\n",
       "    <tr>\n",
       "      <th>26</th>\n",
       "      <td>25</td>\n",
       "      <td>66</td>\n",
       "      <td>25_paratha_parathas_parantha_paranthas</td>\n",
       "      <td>[paratha, parathas, parantha, paranthas, aloo,...</td>\n",
       "      <td>[paneer paratha, ordered paneer, paratha butte...</td>\n",
       "      <td>[paratha, parathas, parantha, paneer paratha, ...</td>\n",
       "      <td>[paratha, parathas, parantha, paranthas, aloo,...</td>\n",
       "      <td>[I have ordered food from this well known para...</td>\n",
       "    </tr>\n",
       "    <tr>\n",
       "      <th>27</th>\n",
       "      <td>26</td>\n",
       "      <td>63</td>\n",
       "      <td>26_good service_service good_service thank_tha...</td>\n",
       "      <td>[good service, service good, service thank, th...</td>\n",
       "      <td>[good service, excellent service, service exce...</td>\n",
       "      <td>[good service, service good, service thank, se...</td>\n",
       "      <td>[good service, nice service, good patience, go...</td>\n",
       "      <td>[good service, good service, very good service...</td>\n",
       "    </tr>\n",
       "    <tr>\n",
       "      <th>28</th>\n",
       "      <td>27</td>\n",
       "      <td>63</td>\n",
       "      <td>27_order delivered_received_wrong order_delivered</td>\n",
       "      <td>[order delivered, received, wrong order, deliv...</td>\n",
       "      <td>[order delivery, deliver order, order delivere...</td>\n",
       "      <td>[order delivered, wrong order, received order,...</td>\n",
       "      <td>[wrong order, wrong, order, address, incomplet...</td>\n",
       "      <td>[In short it was pathetic . They will mark the...</td>\n",
       "    </tr>\n",
       "    <tr>\n",
       "      <th>29</th>\n",
       "      <td>28</td>\n",
       "      <td>62</td>\n",
       "      <td>28_kfc_half cooked_quality chicken_chicken fresh</td>\n",
       "      <td>[kfc, half cooked, quality chicken, chicken fr...</td>\n",
       "      <td>[chicken uncooked, chicken tasted, worst chick...</td>\n",
       "      <td>[kfc, quality chicken, chicken fresh, worst fo...</td>\n",
       "      <td>[smell, worst food, worst chicken, rotten, wor...</td>\n",
       "      <td>[Really really bad spring rolls . Smelled real...</td>\n",
       "    </tr>\n",
       "    <tr>\n",
       "      <th>30</th>\n",
       "      <td>29</td>\n",
       "      <td>62</td>\n",
       "      <td>29_bread_bagel_filter_cream cheese</td>\n",
       "      <td>[bread, bagel, filter, cream cheese, croissant...</td>\n",
       "      <td>[visited cafe, cafe, good breads, breakfast, b...</td>\n",
       "      <td>[bagel, breads, filter coffee, croissants, bag...</td>\n",
       "      <td>[bread, bagel, filter, croissant, sandwich, br...</td>\n",
       "      <td>[Whenever I crave to have a good cup of coffee...</td>\n",
       "    </tr>\n",
       "    <tr>\n",
       "      <th>31</th>\n",
       "      <td>30</td>\n",
       "      <td>61</td>\n",
       "      <td>30_indian food_north indian_north_indian</td>\n",
       "      <td>[indian food, north indian, north, indian, sou...</td>\n",
       "      <td>[indian cuisine, indian food, indian meal, ind...</td>\n",
       "      <td>[indian food, north indian, south indian, indi...</td>\n",
       "      <td>[indian food, north, indian, south, good north...</td>\n",
       "      <td>[Situated a little away from the main road Aro...</td>\n",
       "    </tr>\n",
       "    <tr>\n",
       "      <th>32</th>\n",
       "      <td>31</td>\n",
       "      <td>59</td>\n",
       "      <td>31_donuts_donut_dunkin_dunkin donuts</td>\n",
       "      <td>[donuts, donut, dunkin, dunkin donuts, doughnu...</td>\n",
       "      <td>[dunkin donuts, donuts good, donuts, good donu...</td>\n",
       "      <td>[donuts, dunkin donuts, doughnut, doughnuts, b...</td>\n",
       "      <td>[donuts, donut, dunkin, doughnut, chocolate, d...</td>\n",
       "      <td>[Landed up here on a Saturday night after shop...</td>\n",
       "    </tr>\n",
       "    <tr>\n",
       "      <th>33</th>\n",
       "      <td>32</td>\n",
       "      <td>59</td>\n",
       "      <td>32_ordered paneer_paneer_butter masala_paneer ...</td>\n",
       "      <td>[ordered paneer, paneer, butter masala, paneer...</td>\n",
       "      <td>[ordered paneer, paneer dish, paneer masala, m...</td>\n",
       "      <td>[ordered paneer, paneer butter, paneer tikka, ...</td>\n",
       "      <td>[paneer, masala, butter, roti, makhani, pannee...</td>\n",
       "      <td>[Ordered the paneer-dal combo for 2 people . I...</td>\n",
       "    </tr>\n",
       "    <tr>\n",
       "      <th>34</th>\n",
       "      <td>33</td>\n",
       "      <td>58</td>\n",
       "      <td>33_test good_test_superb_good bad</td>\n",
       "      <td>[test good, test, superb, good bad, good good,...</td>\n",
       "      <td>[test good, test, good did, good best, good, q...</td>\n",
       "      <td>[test good, test, good double, expected good, ...</td>\n",
       "      <td>[test, superb, expectation, bad, plenty, absol...</td>\n",
       "      <td>[good test, test is good, test is very good]</td>\n",
       "    </tr>\n",
       "    <tr>\n",
       "      <th>35</th>\n",
       "      <td>34</td>\n",
       "      <td>57</td>\n",
       "      <td>34_momos_momo_steamed_chicken momos</td>\n",
       "      <td>[momos, momo, steamed, chicken momos, mayo, st...</td>\n",
       "      <td>[chicken momos, chicken momo, momos, momos pla...</td>\n",
       "      <td>[momos, steamed, chicken momos, mayo, mayonnai...</td>\n",
       "      <td>[momos, momo, steamed, mayo, mayonnaise, red s...</td>\n",
       "      <td>[I ordered the steamed chicken and fried chick...</td>\n",
       "    </tr>\n",
       "    <tr>\n",
       "      <th>36</th>\n",
       "      <td>35</td>\n",
       "      <td>56</td>\n",
       "      <td>35_taste taste_waste_taste waste_worst taste</td>\n",
       "      <td>[taste taste, waste, taste waste, worst taste,...</td>\n",
       "      <td>[taste bad, taste worst, taste waste, taste qu...</td>\n",
       "      <td>[taste taste, taste waste, worst taste, taste ...</td>\n",
       "      <td>[waste, worst taste, bad taste, average taste,...</td>\n",
       "      <td>[No taste waste of money, did not reach expect...</td>\n",
       "    </tr>\n",
       "    <tr>\n",
       "      <th>37</th>\n",
       "      <td>36</td>\n",
       "      <td>55</td>\n",
       "      <td>36_time delivery_delivery time_delivery_delive...</td>\n",
       "      <td>[time delivery, delivery time, delivery, deliv...</td>\n",
       "      <td>[time delivery, delivery time, late delivery, ...</td>\n",
       "      <td>[time delivery, delivery time, delivery delive...</td>\n",
       "      <td>[delivery, late delivery, late, time, correct ...</td>\n",
       "      <td>[very on time delivery, on time delivery, Bad ...</td>\n",
       "    </tr>\n",
       "    <tr>\n",
       "      <th>38</th>\n",
       "      <td>37</td>\n",
       "      <td>54</td>\n",
       "      <td>37_mandi_arabian_yum_yum tree</td>\n",
       "      <td>[mandi, arabian, yum, yum tree, yum yum, tree,...</td>\n",
       "      <td>[mandi chicken, chicken mandi, fish mandi, jui...</td>\n",
       "      <td>[arabian, yum tree, mandi chicken, juicy mandi...</td>\n",
       "      <td>[mandi, arabian, yum, tree, juicy mandi, grill...</td>\n",
       "      <td>[We were 2 friends wanted to eat some mandi .....</td>\n",
       "    </tr>\n",
       "    <tr>\n",
       "      <th>39</th>\n",
       "      <td>38</td>\n",
       "      <td>53</td>\n",
       "      <td>38_good good_boy good_nice good_good nice</td>\n",
       "      <td>[good good, boy good, nice good, good nice, bo...</td>\n",
       "      <td>[boy good, good guy, good good, good, good gre...</td>\n",
       "      <td>[boy good, rider, good guy, kind good, good fa...</td>\n",
       "      <td>[boy, rider, good guy, nice, guy, good, fast, ...</td>\n",
       "      <td>[Good boy, good boy, a very good good]</td>\n",
       "    </tr>\n",
       "    <tr>\n",
       "      <th>40</th>\n",
       "      <td>39</td>\n",
       "      <td>51</td>\n",
       "      <td>39_shake_shakes_tempteys_oreo</td>\n",
       "      <td>[shake, shakes, tempteys, oreo, brownie, cherr...</td>\n",
       "      <td>[oreo shake, flavors, milk shakes, taste amazi...</td>\n",
       "      <td>[tempteys, milk shake, choco brownie, cookie, ...</td>\n",
       "      <td>[shake, shakes, oreo, brownie, cherry, caramel...</td>\n",
       "      <td>[A Sunday afternoon and desserts, definitely m...</td>\n",
       "    </tr>\n",
       "    <tr>\n",
       "      <th>41</th>\n",
       "      <td>40</td>\n",
       "      <td>51</td>\n",
       "      <td>40_bikes_cars_coffee_cafe</td>\n",
       "      <td>[bikes, cars, coffee, cafe, bike, rent, driven...</td>\n",
       "      <td>[driven cafe, cafe, coffee place, cafes, coffe...</td>\n",
       "      <td>[bikes, cafe, rent, driven cafe, bikes cars, c...</td>\n",
       "      <td>[bikes, cars, coffee, cafe, bike, rent, coffee...</td>\n",
       "      <td>[Love this place from the word go . I always w...</td>\n",
       "    </tr>\n",
       "    <tr>\n",
       "      <th>42</th>\n",
       "      <td>41</td>\n",
       "      <td>49</td>\n",
       "      <td>41_fast delivery_delivery fast_fast_super fast</td>\n",
       "      <td>[fast delivery, delivery fast, fast, super fas...</td>\n",
       "      <td>[fast delivery, delivery fast, quick delivery,...</td>\n",
       "      <td>[fast delivery, delivery fast, delivery super,...</td>\n",
       "      <td>[fast delivery, fast, delivery, speed, faster,...</td>\n",
       "      <td>[super fast delivery, super fast delivery, Sup...</td>\n",
       "    </tr>\n",
       "    <tr>\n",
       "      <th>43</th>\n",
       "      <td>42</td>\n",
       "      <td>46</td>\n",
       "      <td>42_place ambience_beautiful ambience_ambience ...</td>\n",
       "      <td>[place ambience, beautiful ambience, ambience ...</td>\n",
       "      <td>[ambience place, recommended place, place ambi...</td>\n",
       "      <td>[place ambience, beautiful ambience, ambience ...</td>\n",
       "      <td>[beautiful ambience, space, restraunt, great p...</td>\n",
       "      <td>[I was waiting since long to visit this place ...</td>\n",
       "    </tr>\n",
       "    <tr>\n",
       "      <th>44</th>\n",
       "      <td>43</td>\n",
       "      <td>44</td>\n",
       "      <td>43_friends family_staff wonderful_family_think...</td>\n",
       "      <td>[friends family, staff wonderful, family, thin...</td>\n",
       "      <td>[tasty place, place visit, food location, plac...</td>\n",
       "      <td>[friends family, place food, place family, pla...</td>\n",
       "      <td>[family, faces, nice place, good place, yummy ...</td>\n",
       "      <td>[Place located just opposite of DLF gate no 3,...</td>\n",
       "    </tr>\n",
       "    <tr>\n",
       "      <th>45</th>\n",
       "      <td>44</td>\n",
       "      <td>41</td>\n",
       "      <td>44_nice nice_nice_person nice_rider</td>\n",
       "      <td>[nice nice, nice, person nice, rider, person, ...</td>\n",
       "      <td>[nice, nice nice, , , , , , , , ]</td>\n",
       "      <td>[nice nice, nice, person nice, rider, person, ...</td>\n",
       "      <td>[nice, rider, person, , , , , , , ]</td>\n",
       "      <td>[nice, Nice, nice]</td>\n",
       "    </tr>\n",
       "    <tr>\n",
       "      <th>46</th>\n",
       "      <td>45</td>\n",
       "      <td>41</td>\n",
       "      <td>45_spicy spicy_spicy_spicy food_spicy good</td>\n",
       "      <td>[spicy spicy, spicy, spicy food, spicy good, t...</td>\n",
       "      <td>[food spicy, spicy food, tasty spicy, eat spic...</td>\n",
       "      <td>[spicy spicy, spicy food, spicy good, taste sp...</td>\n",
       "      <td>[spicy, spicy food, little spicy, uncooked, in...</td>\n",
       "      <td>[spicy food upset my stomach also some chicken...</td>\n",
       "    </tr>\n",
       "    <tr>\n",
       "      <th>47</th>\n",
       "      <td>46</td>\n",
       "      <td>40</td>\n",
       "      <td>46_food delivered_cold food_plastic_late delivery</td>\n",
       "      <td>[food delivered, cold food, plastic, late deli...</td>\n",
       "      <td>[food delivered, delivered food, food delivery...</td>\n",
       "      <td>[food delivered, cold food, late delivery, pac...</td>\n",
       "      <td>[cold food, plastic, late delivery, cutlery, p...</td>\n",
       "      <td>[Very bad packing of the food . It all got mix...</td>\n",
       "    </tr>\n",
       "    <tr>\n",
       "      <th>48</th>\n",
       "      <td>47</td>\n",
       "      <td>39</td>\n",
       "      <td>47_maggi_maggie_double_egg chicken</td>\n",
       "      <td>[maggi, maggie, double, egg chicken, fried mag...</td>\n",
       "      <td>[maggi, chicken quality, chicken shawarma, ord...</td>\n",
       "      <td>[maggi, maggie, egg chicken, fried maggie, ord...</td>\n",
       "      <td>[maggi, maggie, double, fried maggie, egg, hun...</td>\n",
       "      <td>[This restaurant is a saviour . This is the an...</td>\n",
       "    </tr>\n",
       "    <tr>\n",
       "      <th>49</th>\n",
       "      <td>48</td>\n",
       "      <td>38</td>\n",
       "      <td>48_waffle_waffles_pancakes_tea</td>\n",
       "      <td>[waffle, waffles, pancakes, tea, maple, maple ...</td>\n",
       "      <td>[pancakes waffles, waffles, waffle, pancakes, ...</td>\n",
       "      <td>[waffle, waffles, pancakes, scrambled, pancake...</td>\n",
       "      <td>[waffle, waffles, pancakes, tea, maple, nutell...</td>\n",
       "      <td>[Kindly try putting more stuffing in the waffl...</td>\n",
       "    </tr>\n",
       "    <tr>\n",
       "      <th>50</th>\n",
       "      <td>49</td>\n",
       "      <td>37</td>\n",
       "      <td>49_haleem_pista house_pista_ramzan</td>\n",
       "      <td>[haleem, pista house, pista, ramzan, cloves, g...</td>\n",
       "      <td>[haleem, mutton haleem, pista house, desserts ...</td>\n",
       "      <td>[pista house, shah ghouse, mutton haleem, food...</td>\n",
       "      <td>[haleem, ramzan, ghouse, house, shah, season, ...</td>\n",
       "      <td>[Ordered Mutton Haleem . It was awesome! Taste...</td>\n",
       "    </tr>\n",
       "    <tr>\n",
       "      <th>51</th>\n",
       "      <td>50</td>\n",
       "      <td>37</td>\n",
       "      <td>50_excellent excellent_excellent_awsome_great ...</td>\n",
       "      <td>[excellent excellent, excellent, awsome, great...</td>\n",
       "      <td>[excellent, excellent excellent, great, amazin...</td>\n",
       "      <td>[excellent excellent, excellent, awsome, great...</td>\n",
       "      <td>[excellent, great, perfect, , , , , , , ]</td>\n",
       "      <td>[excellent, excellent, excellent]</td>\n",
       "    </tr>\n",
       "    <tr>\n",
       "      <th>52</th>\n",
       "      <td>51</td>\n",
       "      <td>33</td>\n",
       "      <td>51_andhra_telangana_bamboo chicken_kodi</td>\n",
       "      <td>[andhra, telangana, bamboo chicken, kodi, pula...</td>\n",
       "      <td>[andhra chicken, andhra style, india food, and...</td>\n",
       "      <td>[andhra, bamboo chicken, ulavacharu, andhra ch...</td>\n",
       "      <td>[andhra, kodi, pulav, bamboo, ulavacharu, auth...</td>\n",
       "      <td>[Had been here to taste authentic andhra/telan...</td>\n",
       "    </tr>\n",
       "    <tr>\n",
       "      <th>53</th>\n",
       "      <td>52</td>\n",
       "      <td>33</td>\n",
       "      <td>52_chai_irani_irani chai_karachi</td>\n",
       "      <td>[chai, irani, irani chai, karachi, biscuits, o...</td>\n",
       "      <td>[karachi cafe, karachi bakery, osmania biscuit...</td>\n",
       "      <td>[irani, irani chai, biscuits, osmania biscuits...</td>\n",
       "      <td>[chai, irani, irani chai, karachi, biscuits, c...</td>\n",
       "      <td>[The visit to this place was something on my m...</td>\n",
       "    </tr>\n",
       "    <tr>\n",
       "      <th>54</th>\n",
       "      <td>53</td>\n",
       "      <td>32</td>\n",
       "      <td>53_sizzlers_absolute sizzlers_sizzler_absolute</td>\n",
       "      <td>[sizzlers, absolute sizzlers, sizzler, absolut...</td>\n",
       "      <td>[absolute sizzlers, absolute sizzler, best siz...</td>\n",
       "      <td>[sizzlers, absolute sizzlers, sizzler, absolut...</td>\n",
       "      <td>[sizzlers, absolute sizzlers, sizzler, absolut...</td>\n",
       "      <td>[Absolute sizzlers absolutely great place to d...</td>\n",
       "    </tr>\n",
       "    <tr>\n",
       "      <th>55</th>\n",
       "      <td>54</td>\n",
       "      <td>31</td>\n",
       "      <td>54_wings_wild_chicken wings_sauces</td>\n",
       "      <td>[wings, wild, chicken wings, sauces, nuggets, ...</td>\n",
       "      <td>[wings chicken, chicken wings, bbq chicken, wi...</td>\n",
       "      <td>[chicken wings, sauces, wild wings, chicken nu...</td>\n",
       "      <td>[wings, wild, sauces, nuggets, wild wings, ama...</td>\n",
       "      <td>[American Wild Wings is another fast food join...</td>\n",
       "    </tr>\n",
       "  </tbody>\n",
       "</table>\n",
       "</div>"
      ],
      "text/plain": [
       "    Topic  Count                                               Name  \\\n",
       "0      -1   4186                 -1_ambience_great_amazing_starters   \n",
       "1       0    577  0_biryani_chicken biryani_mutton biryani_biriyani   \n",
       "2       1    429                         1_manager_rude_asked_table   \n",
       "3       2    332                       2_dj_dance_dance floor_floor   \n",
       "4       3    309              3_good good_good_combo good_nice good   \n",
       "5       4    231  4_hyderabad_place hyderabad_places hyderabad_h...   \n",
       "6       5    226           5_govind_excellent service_excellent_abs   \n",
       "7       6    213                    6_zomato_gold_zomato gold_order   \n",
       "8       7    192                 7_buffet_spread_hyatt_lunch buffet   \n",
       "9       8    166                     8_cake_brownies_cupcakes_cakes   \n",
       "10      9    145  9_ambience good_ambience_ambience food_ambienc...   \n",
       "11     10    131  10_gachibowli_place gachibowli_located gachibo...   \n",
       "12     11    129  11_chinese_chinese food_authentic chinese_chin...   \n",
       "13     12    121                          12_fish_prawns_kebab_soup   \n",
       "14     13    111              13_vegetarian_non_non veg_vegetarians   \n",
       "15     14    108           14_shawarma_chicken shawarma_rumali_shah   \n",
       "16     15    104              15_noodles_manchurian_gobi_fried rice   \n",
       "17     16    101  16_food tasty_tasty good_awesome food_tasty ex...   \n",
       "18     17     97                             17_super_ok_goid_ok ok   \n",
       "19     18     95  18_quantity_food quantity_good quantity_food food   \n",
       "20     19     93    19_quantity quantity_quantity_sucks_bad quality   \n",
       "21     20     89  20_good delivery_delivery_delivery good_delive...   \n",
       "22     21     84                 21_ice_cream_ice cream_cream stone   \n",
       "23     22     76                   22_burger_burgers_milky_charcoal   \n",
       "24     23     70                      23_ravioli_frio_pasta_italian   \n",
       "25     24     69                   24_punjabi_dal_lassi_dal makhani   \n",
       "26     25     66             25_paratha_parathas_parantha_paranthas   \n",
       "27     26     63  26_good service_service good_service thank_tha...   \n",
       "28     27     63  27_order delivered_received_wrong order_delivered   \n",
       "29     28     62   28_kfc_half cooked_quality chicken_chicken fresh   \n",
       "30     29     62                 29_bread_bagel_filter_cream cheese   \n",
       "31     30     61           30_indian food_north indian_north_indian   \n",
       "32     31     59               31_donuts_donut_dunkin_dunkin donuts   \n",
       "33     32     59  32_ordered paneer_paneer_butter masala_paneer ...   \n",
       "34     33     58                  33_test good_test_superb_good bad   \n",
       "35     34     57                34_momos_momo_steamed_chicken momos   \n",
       "36     35     56       35_taste taste_waste_taste waste_worst taste   \n",
       "37     36     55  36_time delivery_delivery time_delivery_delive...   \n",
       "38     37     54                      37_mandi_arabian_yum_yum tree   \n",
       "39     38     53          38_good good_boy good_nice good_good nice   \n",
       "40     39     51                      39_shake_shakes_tempteys_oreo   \n",
       "41     40     51                          40_bikes_cars_coffee_cafe   \n",
       "42     41     49     41_fast delivery_delivery fast_fast_super fast   \n",
       "43     42     46  42_place ambience_beautiful ambience_ambience ...   \n",
       "44     43     44  43_friends family_staff wonderful_family_think...   \n",
       "45     44     41                44_nice nice_nice_person nice_rider   \n",
       "46     45     41         45_spicy spicy_spicy_spicy food_spicy good   \n",
       "47     46     40  46_food delivered_cold food_plastic_late delivery   \n",
       "48     47     39                 47_maggi_maggie_double_egg chicken   \n",
       "49     48     38                     48_waffle_waffles_pancakes_tea   \n",
       "50     49     37                 49_haleem_pista house_pista_ramzan   \n",
       "51     50     37  50_excellent excellent_excellent_awsome_great ...   \n",
       "52     51     33            51_andhra_telangana_bamboo chicken_kodi   \n",
       "53     52     33                   52_chai_irani_irani chai_karachi   \n",
       "54     53     32     53_sizzlers_absolute sizzlers_sizzler_absolute   \n",
       "55     54     31                 54_wings_wild_chicken wings_sauces   \n",
       "\n",
       "                                       Representation  \\\n",
       "0   [ambience, great, amazing, starters, really, n...   \n",
       "1   [biryani, chicken biryani, mutton biryani, bir...   \n",
       "2   [manager, rude, asked, table, pathetic, waiter...   \n",
       "3   [dj, dance, dance floor, floor, hangout, music...   \n",
       "4   [good good, good, combo good, nice good, verry...   \n",
       "5   [hyderabad, place hyderabad, places hyderabad,...   \n",
       "6   [govind, excellent service, excellent, abs, sh...   \n",
       "7   [zomato, gold, zomato gold, order, dominos, de...   \n",
       "8   [buffet, spread, hyatt, lunch buffet, buffets,...   \n",
       "9   [cake, brownies, cupcakes, cakes, red velvet, ...   \n",
       "10  [ambience good, ambience, ambience food, ambie...   \n",
       "11  [gachibowli, place gachibowli, located gachibo...   \n",
       "12  [chinese, chinese food, authentic chinese, chi...   \n",
       "13  [fish, prawns, kebab, soup, virgin, mocktails,...   \n",
       "14  [vegetarian, non, non veg, vegetarians, veg, v...   \n",
       "15  [shawarma, chicken shawarma, rumali, shah, sha...   \n",
       "16  [noodles, manchurian, gobi, fried rice, manchu...   \n",
       "17  [food tasty, tasty good, awesome food, tasty e...   \n",
       "18  [super, ok, goid, ok ok, nom, excelent, yuck, ...   \n",
       "19  [quantity, food quantity, good quantity, food ...   \n",
       "20  [quantity quantity, quantity, sucks, bad quali...   \n",
       "21  [good delivery, delivery, delivery good, deliv...   \n",
       "22  [ice, cream, ice cream, cream stone, ice cream...   \n",
       "23  [burger, burgers, milky, charcoal, cosmic, bes...   \n",
       "24  [ravioli, frio, pasta, italian, pizza, spinach...   \n",
       "25  [punjabi, dal, lassi, dal makhani, makhani, da...   \n",
       "26  [paratha, parathas, parantha, paranthas, aloo,...   \n",
       "27  [good service, service good, service thank, th...   \n",
       "28  [order delivered, received, wrong order, deliv...   \n",
       "29  [kfc, half cooked, quality chicken, chicken fr...   \n",
       "30  [bread, bagel, filter, cream cheese, croissant...   \n",
       "31  [indian food, north indian, north, indian, sou...   \n",
       "32  [donuts, donut, dunkin, dunkin donuts, doughnu...   \n",
       "33  [ordered paneer, paneer, butter masala, paneer...   \n",
       "34  [test good, test, superb, good bad, good good,...   \n",
       "35  [momos, momo, steamed, chicken momos, mayo, st...   \n",
       "36  [taste taste, waste, taste waste, worst taste,...   \n",
       "37  [time delivery, delivery time, delivery, deliv...   \n",
       "38  [mandi, arabian, yum, yum tree, yum yum, tree,...   \n",
       "39  [good good, boy good, nice good, good nice, bo...   \n",
       "40  [shake, shakes, tempteys, oreo, brownie, cherr...   \n",
       "41  [bikes, cars, coffee, cafe, bike, rent, driven...   \n",
       "42  [fast delivery, delivery fast, fast, super fas...   \n",
       "43  [place ambience, beautiful ambience, ambience ...   \n",
       "44  [friends family, staff wonderful, family, thin...   \n",
       "45  [nice nice, nice, person nice, rider, person, ...   \n",
       "46  [spicy spicy, spicy, spicy food, spicy good, t...   \n",
       "47  [food delivered, cold food, plastic, late deli...   \n",
       "48  [maggi, maggie, double, egg chicken, fried mag...   \n",
       "49  [waffle, waffles, pancakes, tea, maple, maple ...   \n",
       "50  [haleem, pista house, pista, ramzan, cloves, g...   \n",
       "51  [excellent excellent, excellent, awsome, great...   \n",
       "52  [andhra, telangana, bamboo chicken, kodi, pula...   \n",
       "53  [chai, irani, irani chai, karachi, biscuits, o...   \n",
       "54  [sizzlers, absolute sizzlers, sizzler, absolut...   \n",
       "55  [wings, wild, chicken wings, sauces, nuggets, ...   \n",
       "\n",
       "                                              KeyBERT  \\\n",
       "0   [chicken tikka, restaurant, good food, dishes,...   \n",
       "1   [biryani tasty, biryani food, hyderabadi birya...   \n",
       "2   [serving, waiters, waiter, serve, service bad,...   \n",
       "3   [place party, places hangout, place amazing, f...   \n",
       "4   [good, good good, nice good, good nice, nice, ...   \n",
       "5   [hyderabadi cuisine, restaurants hyderabad, hy...   \n",
       "6   [excellent food, food excellent, good hospital...   \n",
       "7   [zomato restaurant, restaurant zomato, food zo...   \n",
       "8   [buffet food, buffet menu, dinner buffet, plac...   \n",
       "9   [chocolate cake, bakery items, bakery products...   \n",
       "10  [food ambience, ambience food, ambience good, ...   \n",
       "11  [gachibowli place, visit gachibowli, place gac...   \n",
       "12  [chinese cuisine, chinese food, food chinese, ...   \n",
       "13  [arabian chicken, chicken soup, chicken, spice...   \n",
       "14  [vegetarian dishes, veg dishes, vegetarian foo...   \n",
       "15  [chicken shawarma, shawarma good, shawarma bes...   \n",
       "16  [chinese dish, noodles ordered, noodles taste,...   \n",
       "17  [food tasty, tasty food, delicious food, good ...   \n",
       "18  [super, service super, awesome, item, fine, , ...   \n",
       "19  [food price, cost food, food quality, taste qu...   \n",
       "20  [quality quantity, quantity quality, quantity ...   \n",
       "21  [good delivery, great delivery, delivery good,...   \n",
       "22  [ice cream, ice creams, chocolate ice, ordered...   \n",
       "23  [best burgers, best burger, cosmic burger, bur...   \n",
       "24  [italian cuisine, italian food, ravioli pasta,...   \n",
       "25  [indian food, food hyderabad, paneer tikka, pu...   \n",
       "26  [paneer paratha, ordered paneer, paratha butte...   \n",
       "27  [good service, excellent service, service exce...   \n",
       "28  [order delivery, deliver order, order delivere...   \n",
       "29  [chicken uncooked, chicken tasted, worst chick...   \n",
       "30  [visited cafe, cafe, good breads, breakfast, b...   \n",
       "31  [indian cuisine, indian food, indian meal, ind...   \n",
       "32  [dunkin donuts, donuts good, donuts, good donu...   \n",
       "33  [ordered paneer, paneer dish, paneer masala, m...   \n",
       "34  [test good, test, good did, good best, good, q...   \n",
       "35  [chicken momos, chicken momo, momos, momos pla...   \n",
       "36  [taste bad, taste worst, taste waste, taste qu...   \n",
       "37  [time delivery, delivery time, late delivery, ...   \n",
       "38  [mandi chicken, chicken mandi, fish mandi, jui...   \n",
       "39  [boy good, good guy, good good, good, good gre...   \n",
       "40  [oreo shake, flavors, milk shakes, taste amazi...   \n",
       "41  [driven cafe, cafe, coffee place, cafes, coffe...   \n",
       "42  [fast delivery, delivery fast, quick delivery,...   \n",
       "43  [ambience place, recommended place, place ambi...   \n",
       "44  [tasty place, place visit, food location, plac...   \n",
       "45                  [nice, nice nice, , , , , , , , ]   \n",
       "46  [food spicy, spicy food, tasty spicy, eat spic...   \n",
       "47  [food delivered, delivered food, food delivery...   \n",
       "48  [maggi, chicken quality, chicken shawarma, ord...   \n",
       "49  [pancakes waffles, waffles, waffle, pancakes, ...   \n",
       "50  [haleem, mutton haleem, pista house, desserts ...   \n",
       "51  [excellent, excellent excellent, great, amazin...   \n",
       "52  [andhra chicken, andhra style, india food, and...   \n",
       "53  [karachi cafe, karachi bakery, osmania biscuit...   \n",
       "54  [absolute sizzlers, absolute sizzler, best siz...   \n",
       "55  [wings chicken, chicken wings, bbq chicken, wi...   \n",
       "\n",
       "                                                  MMR  \\\n",
       "0   [ambience, starters, pizza, ambiance, lunch, v...   \n",
       "1   [chicken biryani, mutton biryani, biryani good...   \n",
       "2   [rude, waiter, customer, worst service, waiter...   \n",
       "3   [dance, dance floor, hangout, place hangout, p...   \n",
       "4   [good good, good, combo good, nice good, verry...   \n",
       "5   [place hyderabad, places hyderabad, hyderabad ...   \n",
       "6   [suraj, food excellent, visit soon, service go...   \n",
       "7   [zomato, zomato gold, order, dominos, refund, ...   \n",
       "8   [buffet, lunch buffet, buffets, buffet spread,...   \n",
       "9   [brownies, cupcakes, cakes, cookies, chocolate...   \n",
       "10  [ambience good, ambience, ambience food, ambie...   \n",
       "11  [place gachibowli, located gachibowli, gachibo...   \n",
       "12  [chinese food, authentic chinese, chinese cuis...   \n",
       "13  [prawns, kebab, soup, mocktails, crispy, dish,...   \n",
       "14  [non veg, veg food, non vegetarian, vegetarian...   \n",
       "15  [shawarma, chicken shawarma, shawarmas, mayonn...   \n",
       "16  [noodles, fried rice, manchuria, veg fried, ve...   \n",
       "17  [food tasty, tasty good, delicious tasty, food...   \n",
       "18  [super, goid, yuck, service super, nom nom, ex...   \n",
       "19  [food quantity, food food, quantity food, food...   \n",
       "20  [quantity quantity, quantity, quantity price, ...   \n",
       "21  [good delivery, delivery good, delivery delive...   \n",
       "22  [ice cream, cream stone, ice creams, creams, c...   \n",
       "23  [burgers, best burgers, best burger, burger pl...   \n",
       "24  [ravioli, italian food, penne pasta, pastas, a...   \n",
       "25  [punjabi, dal makhani, dal makhni, punjab, kul...   \n",
       "26  [paratha, parathas, parantha, paneer paratha, ...   \n",
       "27  [good service, service good, service thank, se...   \n",
       "28  [order delivered, wrong order, received order,...   \n",
       "29  [kfc, quality chicken, chicken fresh, worst fo...   \n",
       "30  [bagel, breads, filter coffee, croissants, bag...   \n",
       "31  [indian food, north indian, south indian, indi...   \n",
       "32  [donuts, dunkin donuts, doughnut, doughnuts, b...   \n",
       "33  [ordered paneer, paneer butter, paneer tikka, ...   \n",
       "34  [test good, test, good double, expected good, ...   \n",
       "35  [momos, steamed, chicken momos, mayo, mayonnai...   \n",
       "36  [taste taste, taste waste, worst taste, taste ...   \n",
       "37  [time delivery, delivery time, delivery delive...   \n",
       "38  [arabian, yum tree, mandi chicken, juicy mandi...   \n",
       "39  [boy good, rider, good guy, kind good, good fa...   \n",
       "40  [tempteys, milk shake, choco brownie, cookie, ...   \n",
       "41  [bikes, cafe, rent, driven cafe, bikes cars, c...   \n",
       "42  [fast delivery, delivery fast, delivery super,...   \n",
       "43  [place ambience, beautiful ambience, ambience ...   \n",
       "44  [friends family, place food, place family, pla...   \n",
       "45  [nice nice, nice, person nice, rider, person, ...   \n",
       "46  [spicy spicy, spicy food, spicy good, taste sp...   \n",
       "47  [food delivered, cold food, late delivery, pac...   \n",
       "48  [maggi, maggie, egg chicken, fried maggie, ord...   \n",
       "49  [waffle, waffles, pancakes, scrambled, pancake...   \n",
       "50  [pista house, shah ghouse, mutton haleem, food...   \n",
       "51  [excellent excellent, excellent, awsome, great...   \n",
       "52  [andhra, bamboo chicken, ulavacharu, andhra ch...   \n",
       "53  [irani, irani chai, biscuits, osmania biscuits...   \n",
       "54  [sizzlers, absolute sizzlers, sizzler, absolut...   \n",
       "55  [chicken wings, sauces, wild wings, chicken nu...   \n",
       "\n",
       "                                                  POS  \\\n",
       "0   [ambience, great, amazing, starters, nice, fri...   \n",
       "1   [biryani, biriyani, biryanis, mutton, good bir...   \n",
       "2   [manager, rude, table, pathetic, waiter, worst...   \n",
       "3   [dj, dance, floor, hangout, music, rooftop, pa...   \n",
       "4                   [good, combo, nice, , , , , , , ]   \n",
       "5   [hyderabad, hyderabadi, beer, beers, places, b...   \n",
       "6   [excellent service, excellent, abs, suraj, exc...   \n",
       "7   [zomato, gold, order, dominos, support, contac...   \n",
       "8   [buffet, spread, buffets, carte, lunch, good b...   \n",
       "9   [cake, brownies, cupcakes, cakes, red velvet, ...   \n",
       "10  [ambience, great ambience, average, average fo...   \n",
       "11  [gachibowli, area, pax, outlets, places, branc...   \n",
       "12  [chinese, chinese food, chinese cuisine, noodl...   \n",
       "13  [fish, prawns, soup, mocktails, nawabi, crispy...   \n",
       "14  [vegetarian, non, non veg, vegetarians, veg, n...   \n",
       "15  [shawarma, rumali, shah, shawarmas, ghouse, ma...   \n",
       "16  [noodles, manchurian, gobi, manchuria, rice, b...   \n",
       "17  [awesome food, tasty, nice food, delicious foo...   \n",
       "18  [super, goid, yuck, excelent, excited, fine, c...   \n",
       "19  [quantity, good quantity, salt, bad food, good...   \n",
       "20  [quantity, sucks, bad quality, low, poor quali...   \n",
       "21  [good delivery, delivery, nice delivery, boy, ...   \n",
       "22  [ice, cream, creams, stone, nuts, dry ice, ice...   \n",
       "23  [burger, burgers, milky, charcoal, cosmic, bes...   \n",
       "24  [ravioli, pasta, italian, pizza, spinach, crus...   \n",
       "25  [punjabi, dal, lassi, makhani, makhni, punjab,...   \n",
       "26  [paratha, parathas, parantha, paranthas, aloo,...   \n",
       "27  [good service, nice service, good patience, go...   \n",
       "28  [wrong order, wrong, order, address, incomplet...   \n",
       "29  [smell, worst food, worst chicken, rotten, wor...   \n",
       "30  [bread, bagel, filter, croissant, sandwich, br...   \n",
       "31  [indian food, north, indian, south, good north...   \n",
       "32  [donuts, donut, dunkin, doughnut, chocolate, d...   \n",
       "33  [paneer, masala, butter, roti, makhani, pannee...   \n",
       "34  [test, superb, expectation, bad, plenty, absol...   \n",
       "35  [momos, momo, steamed, mayo, mayonnaise, red s...   \n",
       "36  [waste, worst taste, bad taste, average taste,...   \n",
       "37  [delivery, late delivery, late, time, correct ...   \n",
       "38  [mandi, arabian, yum, tree, juicy mandi, grill...   \n",
       "39  [boy, rider, good guy, nice, guy, good, fast, ...   \n",
       "40  [shake, shakes, oreo, brownie, cherry, caramel...   \n",
       "41  [bikes, cars, coffee, cafe, bike, rent, coffee...   \n",
       "42  [fast delivery, fast, delivery, speed, faster,...   \n",
       "43  [beautiful ambience, space, restraunt, great p...   \n",
       "44  [family, faces, nice place, good place, yummy ...   \n",
       "45                [nice, rider, person, , , , , , , ]   \n",
       "46  [spicy, spicy food, little spicy, uncooked, in...   \n",
       "47  [cold food, plastic, late delivery, cutlery, p...   \n",
       "48  [maggi, maggie, double, fried maggie, egg, hun...   \n",
       "49  [waffle, waffles, pancakes, tea, maple, nutell...   \n",
       "50  [haleem, ramzan, ghouse, house, shah, season, ...   \n",
       "51          [excellent, great, perfect, , , , , , , ]   \n",
       "52  [andhra, kodi, pulav, bamboo, ulavacharu, auth...   \n",
       "53  [chai, irani, irani chai, karachi, biscuits, c...   \n",
       "54  [sizzlers, absolute sizzlers, sizzler, absolut...   \n",
       "55  [wings, wild, sauces, nuggets, wild wings, ama...   \n",
       "\n",
       "                                  Representative_Docs  \n",
       "0   [\"Oh! Hyderabad\" brings amazing super exciting...  \n",
       "1   [Another place fo delicious Hyderabadi rum bir...  \n",
       "2   [I visited this place with my wife on 16 March...  \n",
       "3   [This place has amazing setup, separated in mu...  \n",
       "4                             [good, good, good good]  \n",
       "5   [So this place is located near ikea above the ...  \n",
       "6   [Excellent food and excellent service by bahad...  \n",
       "7   [delivery, poor customer support . Both me and...  \n",
       "8   [I have had the breakfast buffet here quite a ...  \n",
       "9   [A true match for Theo' s from Mumbai, one of ...  \n",
       "10  [Ambience- Good for a family dinner . Warm Mel...  \n",
       "11  [I was searching for a good Veg place around G...  \n",
       "12  [Ohh finally the wait is over, I have been see...  \n",
       "13  [Follow my Instagram page Pour House is a spac...  \n",
       "14  [Ambience 4 * Food 4 * Staff 4 * Service is a ...  \n",
       "15  [One of the besstt places to order shawarma . ...  \n",
       "16  [I was craving for some chinese food before ex...  \n",
       "17  [food is tasty, good food and tasty, food is t...  \n",
       "18                     [super, super delevery, Super]  \n",
       "19  [Food is good in terms of taste and the qualit...  \n",
       "20  [Quantity is very less, from the last two mont...  \n",
       "21  [good delivery, Very good delivery, good deliv...  \n",
       "22  [Awesome and wonderful place, I had ordered fr...  \n",
       "23  [A hidden treasure, you have to travel across ...  \n",
       "24  [This review has been long overdue, I visited ...  \n",
       "25  [They definitely promise you a decent meal . K...  \n",
       "26  [I have ordered food from this well known para...  \n",
       "27  [good service, good service, very good service...  \n",
       "28  [In short it was pathetic . They will mark the...  \n",
       "29  [Really really bad spring rolls . Smelled real...  \n",
       "30  [Whenever I crave to have a good cup of coffee...  \n",
       "31  [Situated a little away from the main road Aro...  \n",
       "32  [Landed up here on a Saturday night after shop...  \n",
       "33  [Ordered the paneer-dal combo for 2 people . I...  \n",
       "34       [good test, test is good, test is very good]  \n",
       "35  [I ordered the steamed chicken and fried chick...  \n",
       "36  [No taste waste of money, did not reach expect...  \n",
       "37  [very on time delivery, on time delivery, Bad ...  \n",
       "38  [We were 2 friends wanted to eat some mandi .....  \n",
       "39             [Good boy, good boy, a very good good]  \n",
       "40  [A Sunday afternoon and desserts, definitely m...  \n",
       "41  [Love this place from the word go . I always w...  \n",
       "42  [super fast delivery, super fast delivery, Sup...  \n",
       "43  [I was waiting since long to visit this place ...  \n",
       "44  [Place located just opposite of DLF gate no 3,...  \n",
       "45                                 [nice, Nice, nice]  \n",
       "46  [spicy food upset my stomach also some chicken...  \n",
       "47  [Very bad packing of the food . It all got mix...  \n",
       "48  [This restaurant is a saviour . This is the an...  \n",
       "49  [Kindly try putting more stuffing in the waffl...  \n",
       "50  [Ordered Mutton Haleem . It was awesome! Taste...  \n",
       "51                  [excellent, excellent, excellent]  \n",
       "52  [Had been here to taste authentic andhra/telan...  \n",
       "53  [The visit to this place was something on my m...  \n",
       "54  [Absolute sizzlers absolutely great place to d...  \n",
       "55  [American Wild Wings is another fast food join...  "
      ]
     },
     "execution_count": 204,
     "metadata": {},
     "output_type": "execute_result"
    }
   ],
   "source": [
    "custom_model.get_topic_info()"
   ]
  },
  {
   "cell_type": "code",
   "execution_count": 125,
   "metadata": {},
   "outputs": [
    {
     "ename": "TypeError",
     "evalue": "object of type 'numpy.float64' has no len()",
     "output_type": "error",
     "traceback": [
      "\u001b[1;31m---------------------------------------------------------------------------\u001b[0m",
      "\u001b[1;31mTypeError\u001b[0m                                 Traceback (most recent call last)",
      "Cell \u001b[1;32mIn[125], line 5\u001b[0m\n\u001b[0;32m      1\u001b[0m \u001b[38;5;66;03m# Create a DataFrame with reviews and their assigned topics with probabilities, excluding topic -1\u001b[39;00m\n\u001b[0;32m      2\u001b[0m topic_info \u001b[38;5;241m=\u001b[39m custom_model\u001b[38;5;241m.\u001b[39mget_topic_info()\n\u001b[0;32m      3\u001b[0m reviews_with_topics \u001b[38;5;241m=\u001b[39m pd\u001b[38;5;241m.\u001b[39mDataFrame({\n\u001b[0;32m      4\u001b[0m     \u001b[38;5;124m'\u001b[39m\u001b[38;5;124mReview\u001b[39m\u001b[38;5;124m'\u001b[39m: reviews_preproc,\n\u001b[1;32m----> 5\u001b[0m     \u001b[38;5;124m'\u001b[39m\u001b[38;5;124mAssigned_Topic\u001b[39m\u001b[38;5;124m'\u001b[39m: [topics[i] \u001b[38;5;28;01mif\u001b[39;00m topics[i] \u001b[38;5;241m!=\u001b[39m \u001b[38;5;241m-\u001b[39m\u001b[38;5;241m1\u001b[39m \u001b[38;5;28;01melse\u001b[39;00m (np\u001b[38;5;241m.\u001b[39margsort(probs[i])[\u001b[38;5;241m-\u001b[39m\u001b[38;5;241m2\u001b[39m] \u001b[38;5;28;01mif\u001b[39;00m \u001b[38;5;28mlen\u001b[39m(probs[i]) \u001b[38;5;241m>\u001b[39m \u001b[38;5;241m1\u001b[39m \u001b[38;5;28;01melse\u001b[39;00m np\u001b[38;5;241m.\u001b[39margsort(probs[i])[\u001b[38;5;241m-\u001b[39m\u001b[38;5;241m1\u001b[39m]) \u001b[38;5;28;01mfor\u001b[39;00m i \u001b[38;5;129;01min\u001b[39;00m \u001b[38;5;28mrange\u001b[39m(\u001b[38;5;28mlen\u001b[39m(reviews_preproc))],\n\u001b[0;32m      6\u001b[0m     \u001b[38;5;124m'\u001b[39m\u001b[38;5;124mAssigned_Topic_Name\u001b[39m\u001b[38;5;124m'\u001b[39m: [topic_info\u001b[38;5;241m.\u001b[39miloc[topics[i]][\u001b[38;5;124m'\u001b[39m\u001b[38;5;124mCustomName\u001b[39m\u001b[38;5;124m'\u001b[39m] \u001b[38;5;28;01mif\u001b[39;00m topics[i] \u001b[38;5;241m!=\u001b[39m \u001b[38;5;241m-\u001b[39m\u001b[38;5;241m1\u001b[39m \u001b[38;5;28;01melse\u001b[39;00m (topic_info\u001b[38;5;241m.\u001b[39miloc[np\u001b[38;5;241m.\u001b[39margsort(probs[i])[\u001b[38;5;241m-\u001b[39m\u001b[38;5;241m2\u001b[39m]][\u001b[38;5;124m'\u001b[39m\u001b[38;5;124mCustomName\u001b[39m\u001b[38;5;124m'\u001b[39m] \u001b[38;5;28;01mif\u001b[39;00m \u001b[38;5;28mlen\u001b[39m(probs[i]) \u001b[38;5;241m>\u001b[39m \u001b[38;5;241m1\u001b[39m \u001b[38;5;28;01melse\u001b[39;00m topic_info\u001b[38;5;241m.\u001b[39miloc[np\u001b[38;5;241m.\u001b[39margsort(probs[i])[\u001b[38;5;241m-\u001b[39m\u001b[38;5;241m1\u001b[39m]][\u001b[38;5;124m'\u001b[39m\u001b[38;5;124mCustomName\u001b[39m\u001b[38;5;124m'\u001b[39m]) \u001b[38;5;28;01mfor\u001b[39;00m i \u001b[38;5;129;01min\u001b[39;00m \u001b[38;5;28mrange\u001b[39m(\u001b[38;5;28mlen\u001b[39m(reviews_preproc))],\n\u001b[0;32m      7\u001b[0m     \u001b[38;5;124m'\u001b[39m\u001b[38;5;124mTopic_Probabilities\u001b[39m\u001b[38;5;124m'\u001b[39m: [np\u001b[38;5;241m.\u001b[39mround(probs[i] \u001b[38;5;241m*\u001b[39m \u001b[38;5;241m100\u001b[39m, \u001b[38;5;241m2\u001b[39m) \u001b[38;5;28;01mif\u001b[39;00m topics[i] \u001b[38;5;241m!=\u001b[39m \u001b[38;5;241m-\u001b[39m\u001b[38;5;241m1\u001b[39m \u001b[38;5;28;01melse\u001b[39;00m (np\u001b[38;5;241m.\u001b[39mround(probs[i][np\u001b[38;5;241m.\u001b[39margsort(probs[i])[\u001b[38;5;241m-\u001b[39m\u001b[38;5;241m2\u001b[39m]] \u001b[38;5;241m*\u001b[39m \u001b[38;5;241m100\u001b[39m, \u001b[38;5;241m2\u001b[39m) \u001b[38;5;28;01mif\u001b[39;00m \u001b[38;5;28mlen\u001b[39m(probs[i]) \u001b[38;5;241m>\u001b[39m \u001b[38;5;241m1\u001b[39m \u001b[38;5;28;01melse\u001b[39;00m np\u001b[38;5;241m.\u001b[39mround(probs[i][np\u001b[38;5;241m.\u001b[39margsort(probs[i])[\u001b[38;5;241m-\u001b[39m\u001b[38;5;241m1\u001b[39m]] \u001b[38;5;241m*\u001b[39m \u001b[38;5;241m100\u001b[39m, \u001b[38;5;241m2\u001b[39m)) \u001b[38;5;28;01mfor\u001b[39;00m i \u001b[38;5;129;01min\u001b[39;00m \u001b[38;5;28mrange\u001b[39m(\u001b[38;5;28mlen\u001b[39m(reviews_preproc))]\n\u001b[0;32m      8\u001b[0m })\u001b[38;5;241m.\u001b[39mdropna()\n\u001b[0;32m     10\u001b[0m \u001b[38;5;66;03m# Display the first few rows of the new DataFrame\u001b[39;00m\n\u001b[0;32m     11\u001b[0m reviews_with_topics\u001b[38;5;241m.\u001b[39mhead()\n",
      "Cell \u001b[1;32mIn[125], line 5\u001b[0m, in \u001b[0;36m<listcomp>\u001b[1;34m(.0)\u001b[0m\n\u001b[0;32m      1\u001b[0m \u001b[38;5;66;03m# Create a DataFrame with reviews and their assigned topics with probabilities, excluding topic -1\u001b[39;00m\n\u001b[0;32m      2\u001b[0m topic_info \u001b[38;5;241m=\u001b[39m custom_model\u001b[38;5;241m.\u001b[39mget_topic_info()\n\u001b[0;32m      3\u001b[0m reviews_with_topics \u001b[38;5;241m=\u001b[39m pd\u001b[38;5;241m.\u001b[39mDataFrame({\n\u001b[0;32m      4\u001b[0m     \u001b[38;5;124m'\u001b[39m\u001b[38;5;124mReview\u001b[39m\u001b[38;5;124m'\u001b[39m: reviews_preproc,\n\u001b[1;32m----> 5\u001b[0m     \u001b[38;5;124m'\u001b[39m\u001b[38;5;124mAssigned_Topic\u001b[39m\u001b[38;5;124m'\u001b[39m: [topics[i] \u001b[38;5;28;01mif\u001b[39;00m topics[i] \u001b[38;5;241m!=\u001b[39m \u001b[38;5;241m-\u001b[39m\u001b[38;5;241m1\u001b[39m \u001b[38;5;28;01melse\u001b[39;00m (np\u001b[38;5;241m.\u001b[39margsort(probs[i])[\u001b[38;5;241m-\u001b[39m\u001b[38;5;241m2\u001b[39m] \u001b[38;5;28;01mif\u001b[39;00m \u001b[38;5;28;43mlen\u001b[39;49m\u001b[43m(\u001b[49m\u001b[43mprobs\u001b[49m\u001b[43m[\u001b[49m\u001b[43mi\u001b[49m\u001b[43m]\u001b[49m\u001b[43m)\u001b[49m \u001b[38;5;241m>\u001b[39m \u001b[38;5;241m1\u001b[39m \u001b[38;5;28;01melse\u001b[39;00m np\u001b[38;5;241m.\u001b[39margsort(probs[i])[\u001b[38;5;241m-\u001b[39m\u001b[38;5;241m1\u001b[39m]) \u001b[38;5;28;01mfor\u001b[39;00m i \u001b[38;5;129;01min\u001b[39;00m \u001b[38;5;28mrange\u001b[39m(\u001b[38;5;28mlen\u001b[39m(reviews_preproc))],\n\u001b[0;32m      6\u001b[0m     \u001b[38;5;124m'\u001b[39m\u001b[38;5;124mAssigned_Topic_Name\u001b[39m\u001b[38;5;124m'\u001b[39m: [topic_info\u001b[38;5;241m.\u001b[39miloc[topics[i]][\u001b[38;5;124m'\u001b[39m\u001b[38;5;124mCustomName\u001b[39m\u001b[38;5;124m'\u001b[39m] \u001b[38;5;28;01mif\u001b[39;00m topics[i] \u001b[38;5;241m!=\u001b[39m \u001b[38;5;241m-\u001b[39m\u001b[38;5;241m1\u001b[39m \u001b[38;5;28;01melse\u001b[39;00m (topic_info\u001b[38;5;241m.\u001b[39miloc[np\u001b[38;5;241m.\u001b[39margsort(probs[i])[\u001b[38;5;241m-\u001b[39m\u001b[38;5;241m2\u001b[39m]][\u001b[38;5;124m'\u001b[39m\u001b[38;5;124mCustomName\u001b[39m\u001b[38;5;124m'\u001b[39m] \u001b[38;5;28;01mif\u001b[39;00m \u001b[38;5;28mlen\u001b[39m(probs[i]) \u001b[38;5;241m>\u001b[39m \u001b[38;5;241m1\u001b[39m \u001b[38;5;28;01melse\u001b[39;00m topic_info\u001b[38;5;241m.\u001b[39miloc[np\u001b[38;5;241m.\u001b[39margsort(probs[i])[\u001b[38;5;241m-\u001b[39m\u001b[38;5;241m1\u001b[39m]][\u001b[38;5;124m'\u001b[39m\u001b[38;5;124mCustomName\u001b[39m\u001b[38;5;124m'\u001b[39m]) \u001b[38;5;28;01mfor\u001b[39;00m i \u001b[38;5;129;01min\u001b[39;00m \u001b[38;5;28mrange\u001b[39m(\u001b[38;5;28mlen\u001b[39m(reviews_preproc))],\n\u001b[0;32m      7\u001b[0m     \u001b[38;5;124m'\u001b[39m\u001b[38;5;124mTopic_Probabilities\u001b[39m\u001b[38;5;124m'\u001b[39m: [np\u001b[38;5;241m.\u001b[39mround(probs[i] \u001b[38;5;241m*\u001b[39m \u001b[38;5;241m100\u001b[39m, \u001b[38;5;241m2\u001b[39m) \u001b[38;5;28;01mif\u001b[39;00m topics[i] \u001b[38;5;241m!=\u001b[39m \u001b[38;5;241m-\u001b[39m\u001b[38;5;241m1\u001b[39m \u001b[38;5;28;01melse\u001b[39;00m (np\u001b[38;5;241m.\u001b[39mround(probs[i][np\u001b[38;5;241m.\u001b[39margsort(probs[i])[\u001b[38;5;241m-\u001b[39m\u001b[38;5;241m2\u001b[39m]] \u001b[38;5;241m*\u001b[39m \u001b[38;5;241m100\u001b[39m, \u001b[38;5;241m2\u001b[39m) \u001b[38;5;28;01mif\u001b[39;00m \u001b[38;5;28mlen\u001b[39m(probs[i]) \u001b[38;5;241m>\u001b[39m \u001b[38;5;241m1\u001b[39m \u001b[38;5;28;01melse\u001b[39;00m np\u001b[38;5;241m.\u001b[39mround(probs[i][np\u001b[38;5;241m.\u001b[39margsort(probs[i])[\u001b[38;5;241m-\u001b[39m\u001b[38;5;241m1\u001b[39m]] \u001b[38;5;241m*\u001b[39m \u001b[38;5;241m100\u001b[39m, \u001b[38;5;241m2\u001b[39m)) \u001b[38;5;28;01mfor\u001b[39;00m i \u001b[38;5;129;01min\u001b[39;00m \u001b[38;5;28mrange\u001b[39m(\u001b[38;5;28mlen\u001b[39m(reviews_preproc))]\n\u001b[0;32m      8\u001b[0m })\u001b[38;5;241m.\u001b[39mdropna()\n\u001b[0;32m     10\u001b[0m \u001b[38;5;66;03m# Display the first few rows of the new DataFrame\u001b[39;00m\n\u001b[0;32m     11\u001b[0m reviews_with_topics\u001b[38;5;241m.\u001b[39mhead()\n",
      "\u001b[1;31mTypeError\u001b[0m: object of type 'numpy.float64' has no len()"
     ]
    }
   ],
   "source": [
    "# Create a DataFrame with reviews and their assigned topics with probabilities, excluding topic -1\n",
    "topic_info = custom_model.get_topic_info()\n",
    "reviews_with_topics = pd.DataFrame({\n",
    "    'Review': reviews_preproc,\n",
    "    'Assigned_Topic': [topics[i] if topics[i] != -1 else (np.argsort(probs[i])[-2] if len(probs[i]) > 1 else np.argsort(probs[i])[-1]) for i in range(len(reviews_preproc))],\n",
    "    'Assigned_Topic_Name': [topic_info.iloc[topics[i]]['CustomName'] if topics[i] != -1 else (topic_info.iloc[np.argsort(probs[i])[-2]]['CustomName'] if len(probs[i]) > 1 else topic_info.iloc[np.argsort(probs[i])[-1]]['CustomName']) for i in range(len(reviews_preproc))],\n",
    "    'Topic_Probabilities': [np.round(probs[i] * 100, 2) if topics[i] != -1 else (np.round(probs[i][np.argsort(probs[i])[-2]] * 100, 2) if len(probs[i]) > 1 else np.round(probs[i][np.argsort(probs[i])[-1]] * 100, 2)) for i in range(len(reviews_preproc))]\n",
    "}).dropna()\n",
    "\n",
    "# Display the first few rows of the new DataFrame\n",
    "reviews_with_topics.head()\n"
   ]
  },
  {
   "cell_type": "code",
   "execution_count": null,
   "metadata": {},
   "outputs": [
    {
     "data": {
      "text/html": [
       "<div>\n",
       "<style scoped>\n",
       "    .dataframe tbody tr th:only-of-type {\n",
       "        vertical-align: middle;\n",
       "    }\n",
       "\n",
       "    .dataframe tbody tr th {\n",
       "        vertical-align: top;\n",
       "    }\n",
       "\n",
       "    .dataframe thead th {\n",
       "        text-align: right;\n",
       "    }\n",
       "</style>\n",
       "<table border=\"1\" class=\"dataframe\">\n",
       "  <thead>\n",
       "    <tr style=\"text-align: right;\">\n",
       "      <th></th>\n",
       "      <th>Topic</th>\n",
       "      <th>Count</th>\n",
       "      <th>Name</th>\n",
       "      <th>CustomName</th>\n",
       "      <th>Representation</th>\n",
       "      <th>KeyBERT</th>\n",
       "      <th>MMR</th>\n",
       "      <th>POS</th>\n",
       "      <th>Representative_Docs</th>\n",
       "    </tr>\n",
       "  </thead>\n",
       "  <tbody>\n",
       "    <tr>\n",
       "      <th>0</th>\n",
       "      <td>-1</td>\n",
       "      <td>3387</td>\n",
       "      <td>-1_food_chicken_good_place</td>\n",
       "      <td>food | chicken | restaurant</td>\n",
       "      <td>[food, chicken, good, place, ordered, taste, s...</td>\n",
       "      <td>[restaurant, buffet, good food, food good, dis...</td>\n",
       "      <td>[food, chicken, restaurant, order, rice, panee...</td>\n",
       "      <td>[food, chicken, good, place, taste, service, g...</td>\n",
       "      <td>[When you love food and especially north India...</td>\n",
       "    </tr>\n",
       "    <tr>\n",
       "      <th>1</th>\n",
       "      <td>0</td>\n",
       "      <td>1753</td>\n",
       "      <td>0_place_good_ambience_service</td>\n",
       "      <td>place | ambience | service</td>\n",
       "      <td>[place, good, ambience, service, food, great, ...</td>\n",
       "      <td>[great place, visit place, best place, good pl...</td>\n",
       "      <td>[place, ambience, service, visit, drinks, frie...</td>\n",
       "      <td>[place, good, ambience, service, food, great, ...</td>\n",
       "      <td>[Great place to hangout . Good food + Good dri...</td>\n",
       "    </tr>\n",
       "    <tr>\n",
       "      <th>2</th>\n",
       "      <td>1</td>\n",
       "      <td>561</td>\n",
       "      <td>1_biryani_chicken_chicken biryani_taste</td>\n",
       "      <td>chicken biryani | biriyani | mutton biryani</td>\n",
       "      <td>[biryani, chicken, chicken biryani, taste, bir...</td>\n",
       "      <td>[chicken biryani, biryani chicken, biryani tas...</td>\n",
       "      <td>[chicken biryani, biriyani, mutton biryani, re...</td>\n",
       "      <td>[biryani, chicken, taste, biriyani, mutton, go...</td>\n",
       "      <td>[biryani is good, Just the name of Biryani and...</td>\n",
       "    </tr>\n",
       "    <tr>\n",
       "      <th>3</th>\n",
       "      <td>2</td>\n",
       "      <td>365</td>\n",
       "      <td>2_manager_service_asked_table</td>\n",
       "      <td>manager | table | rude</td>\n",
       "      <td>[manager, service, asked, table, worst, rude, ...</td>\n",
       "      <td>[restaurant, serving, waiters, waiter, lunch, ...</td>\n",
       "      <td>[manager, table, rude, staff, waiter, customer...</td>\n",
       "      <td>[manager, service, table, worst, rude, staff, ...</td>\n",
       "      <td>[The worst place in the city, I was here for a...</td>\n",
       "    </tr>\n",
       "    <tr>\n",
       "      <th>4</th>\n",
       "      <td>3</td>\n",
       "      <td>309</td>\n",
       "      <td>3_good good_good_nice good_good combo</td>\n",
       "      <td>good good | good | nice good</td>\n",
       "      <td>[good good, good, nice good, good combo, combo...</td>\n",
       "      <td>[good, good good, nice good, good nice, nice, ...</td>\n",
       "      <td>[good good, good, nice good, good combo, combo...</td>\n",
       "      <td>[good, combo, nice, , , , , , , ]</td>\n",
       "      <td>[good, good, good good]</td>\n",
       "    </tr>\n",
       "    <tr>\n",
       "      <th>5</th>\n",
       "      <td>4</td>\n",
       "      <td>233</td>\n",
       "      <td>4_hyderabad_best_place_food</td>\n",
       "      <td>hyderabad | place hyderabad | visit</td>\n",
       "      <td>[hyderabad, best, place, food, place hyderabad...</td>\n",
       "      <td>[hyderabad food, restaurant hyderabad, food hy...</td>\n",
       "      <td>[hyderabad, place hyderabad, visit, places, hy...</td>\n",
       "      <td>[hyderabad, best, place, food, service, great,...</td>\n",
       "      <td>[I am a huge fan of regional cuisines . The di...</td>\n",
       "    </tr>\n",
       "    <tr>\n",
       "      <th>6</th>\n",
       "      <td>5</td>\n",
       "      <td>175</td>\n",
       "      <td>5_buffet_spread_lunch_starters</td>\n",
       "      <td>buffet | lunch | main course</td>\n",
       "      <td>[buffet, spread, lunch, starters, main, main c...</td>\n",
       "      <td>[buffet food, buffet lunch, dinner buffet, lun...</td>\n",
       "      <td>[buffet, lunch, main course, lunch buffet, des...</td>\n",
       "      <td>[buffet, spread, lunch, starters, main, main c...</td>\n",
       "      <td>[Very good place to have buffet . Buffet sprea...</td>\n",
       "    </tr>\n",
       "    <tr>\n",
       "      <th>7</th>\n",
       "      <td>6</td>\n",
       "      <td>169</td>\n",
       "      <td>6_cake_cakes_brownies_cupcakes</td>\n",
       "      <td>cakes | brownies | cupcakes</td>\n",
       "      <td>[cake, cakes, brownies, cupcakes, chocolate, r...</td>\n",
       "      <td>[cup cakes, cup cake, cakes, cake chocolate, c...</td>\n",
       "      <td>[cakes, brownies, cupcakes, red velvet, bakery...</td>\n",
       "      <td>[cake, cakes, brownies, cupcakes, chocolate, r...</td>\n",
       "      <td>[My boyfriend had gotten a Cheese cake for my ...</td>\n",
       "    </tr>\n",
       "    <tr>\n",
       "      <th>8</th>\n",
       "      <td>7</td>\n",
       "      <td>131</td>\n",
       "      <td>7_gachibowli_place_place gachibowli_food</td>\n",
       "      <td>gachibowli | place gachibowli | food</td>\n",
       "      <td>[gachibowli, place, place gachibowli, food, go...</td>\n",
       "      <td>[gachibowli place, visit gachibowli, gachibowl...</td>\n",
       "      <td>[gachibowli, place gachibowli, food, visit, pl...</td>\n",
       "      <td>[gachibowli, place, food, good, ambience, best...</td>\n",
       "      <td>[I love this place in Gachibowli . I have been...</td>\n",
       "    </tr>\n",
       "    <tr>\n",
       "      <th>9</th>\n",
       "      <td>8</td>\n",
       "      <td>131</td>\n",
       "      <td>8_quantity_packing_food_food food</td>\n",
       "      <td>food food | food good | food cold</td>\n",
       "      <td>[quantity, packing, food, food food, cold, tas...</td>\n",
       "      <td>[food quality, quality food, taste quality, qu...</td>\n",
       "      <td>[food food, food good, food cold, quantity foo...</td>\n",
       "      <td>[quantity, packing, food, cold, taste, good qu...</td>\n",
       "      <td>[Food is not that good . Quantity is more but ...</td>\n",
       "    </tr>\n",
       "    <tr>\n",
       "      <th>10</th>\n",
       "      <td>9</td>\n",
       "      <td>129</td>\n",
       "      <td>9_chinese_chinese food_noodles_food</td>\n",
       "      <td>chinese food | noodles | fried rice</td>\n",
       "      <td>[chinese, chinese food, noodles, food, authent...</td>\n",
       "      <td>[chinese cuisine, chinese restaurant, chinese ...</td>\n",
       "      <td>[chinese food, noodles, fried rice, chinese cu...</td>\n",
       "      <td>[chinese, chinese food, noodles, food, authent...</td>\n",
       "      <td>[Ohh finally the wait is over, I have been see...</td>\n",
       "    </tr>\n",
       "    <tr>\n",
       "      <th>11</th>\n",
       "      <td>10</td>\n",
       "      <td>121</td>\n",
       "      <td>10_veg_non_vegetarian_non veg</td>\n",
       "      <td>vegetarian | non veg | vegetarians</td>\n",
       "      <td>[veg, non, vegetarian, non veg, veg non, veget...</td>\n",
       "      <td>[veg food, veg dishes, place veg, non veg, ord...</td>\n",
       "      <td>[vegetarian, non veg, vegetarians, main course...</td>\n",
       "      <td>[veg, non, vegetarian, non veg, vegetarians, g...</td>\n",
       "      <td>[Went with team for lunch over first proper pa...</td>\n",
       "    </tr>\n",
       "    <tr>\n",
       "      <th>12</th>\n",
       "      <td>11</td>\n",
       "      <td>109</td>\n",
       "      <td>11_chicken_fish_soup_prawns</td>\n",
       "      <td>chicken | soup | prawns</td>\n",
       "      <td>[chicken, fish, soup, prawns, paneer, dish, se...</td>\n",
       "      <td>[restaurant, chilli, soup, spices, chicken, bu...</td>\n",
       "      <td>[chicken, soup, prawns, paneer, dish, main cou...</td>\n",
       "      <td>[chicken, fish, soup, prawns, paneer, dish, ma...</td>\n",
       "      <td>[Follow my Instagram page Pour House is a spac...</td>\n",
       "    </tr>\n",
       "    <tr>\n",
       "      <th>13</th>\n",
       "      <td>12</td>\n",
       "      <td>108</td>\n",
       "      <td>12_shawarma_rumali_chicken shawarma_shah</td>\n",
       "      <td>chicken shawarma | shah ghouse | shawarmas</td>\n",
       "      <td>[shawarma, rumali, chicken shawarma, shah, chi...</td>\n",
       "      <td>[shawarma good, chicken shawarma, shawarma chi...</td>\n",
       "      <td>[chicken shawarma, shah ghouse, shawarmas, may...</td>\n",
       "      <td>[shawarma, rumali, shah, chicken, ghouse, shaw...</td>\n",
       "      <td>[horrible shawarma, This place promises to be ...</td>\n",
       "    </tr>\n",
       "    <tr>\n",
       "      <th>14</th>\n",
       "      <td>13</td>\n",
       "      <td>101</td>\n",
       "      <td>13_noodles_manchurian_rice_fried rice</td>\n",
       "      <td>noodles | fried rice | chilli</td>\n",
       "      <td>[noodles, manchurian, rice, fried rice, fried,...</td>\n",
       "      <td>[ordered noodles, fried noodles, egg noodles, ...</td>\n",
       "      <td>[noodles, fried rice, chilli, veg fried, chick...</td>\n",
       "      <td>[noodles, manchurian, rice, fried, veg, gobi, ...</td>\n",
       "      <td>[Ordered noodles and fried rice box . Almost n...</td>\n",
       "    </tr>\n",
       "    <tr>\n",
       "      <th>15</th>\n",
       "      <td>14</td>\n",
       "      <td>97</td>\n",
       "      <td>14_super_ok_super super_ok ok</td>\n",
       "      <td>super super | super just | super excited</td>\n",
       "      <td>[super, ok, super super, ok ok, super just, go...</td>\n",
       "      <td>[super, super super, super just, service super...</td>\n",
       "      <td>[super super, super just, super excited, nil, ...</td>\n",
       "      <td>[super, goid, exlent, yuck, excelent, fine, ex...</td>\n",
       "      <td>[super delevery, super, I loved it it is just ...</td>\n",
       "    </tr>\n",
       "    <tr>\n",
       "      <th>16</th>\n",
       "      <td>15</td>\n",
       "      <td>94</td>\n",
       "      <td>15_quantity_quality_quantity quantity_low</td>\n",
       "      <td>quantity quantity | service quantity | quality...</td>\n",
       "      <td>[quantity, quality, quantity quantity, low, se...</td>\n",
       "      <td>[little quantity, quantity, small quantity, im...</td>\n",
       "      <td>[quantity quantity, service quantity, quality ...</td>\n",
       "      <td>[quantity, quality, low, sucks, bad quality, p...</td>\n",
       "      <td>[less quantity, quantity less, very less quant...</td>\n",
       "    </tr>\n",
       "    <tr>\n",
       "      <th>17</th>\n",
       "      <td>16</td>\n",
       "      <td>91</td>\n",
       "      <td>16_delivery_good delivery_delivery good_delive...</td>\n",
       "      <td>delivery good | delivery boy | delivery delivery</td>\n",
       "      <td>[delivery, good delivery, delivery good, deliv...</td>\n",
       "      <td>[good delivery, great delivery, delivery good,...</td>\n",
       "      <td>[delivery good, delivery boy, delivery deliver...</td>\n",
       "      <td>[delivery, good delivery, boy, awesome deliver...</td>\n",
       "      <td>[good delivery, good delivery, Very good deliv...</td>\n",
       "    </tr>\n",
       "    <tr>\n",
       "      <th>18</th>\n",
       "      <td>17</td>\n",
       "      <td>82</td>\n",
       "      <td>17_ice_cream_ice cream_ice creams</td>\n",
       "      <td>ice creams | cream stone | nuts</td>\n",
       "      <td>[ice, cream, ice cream, ice creams, creams, cr...</td>\n",
       "      <td>[ice cream, ice creams, nuts ice, chocolate ic...</td>\n",
       "      <td>[ice creams, cream stone, nuts, chocolate, ice...</td>\n",
       "      <td>[ice, cream, creams, stone, nuts, chocolate, f...</td>\n",
       "      <td>[Delivered only 4 ice Cream, excellent ice cre...</td>\n",
       "    </tr>\n",
       "    <tr>\n",
       "      <th>19</th>\n",
       "      <td>18</td>\n",
       "      <td>78</td>\n",
       "      <td>18_delivery_delivered_delivered time_time deli...</td>\n",
       "      <td>delivered time | time delivery | delivery time</td>\n",
       "      <td>[delivery, delivered, delivered time, time del...</td>\n",
       "      <td>[delivered time, time delivered, deliver time,...</td>\n",
       "      <td>[delivered time, time delivery, delivery time,...</td>\n",
       "      <td>[delivery, time, late, late delivery, deliver,...</td>\n",
       "      <td>[he delivered on time, Delivered before the ti...</td>\n",
       "    </tr>\n",
       "    <tr>\n",
       "      <th>20</th>\n",
       "      <td>19</td>\n",
       "      <td>76</td>\n",
       "      <td>19_burger_burgers_galaxy_milky</td>\n",
       "      <td>burger | burgers | milky</td>\n",
       "      <td>[burger, burgers, galaxy, milky, chicken, gril...</td>\n",
       "      <td>[best burgers, best burger, burger good, chick...</td>\n",
       "      <td>[burger, burgers, milky, chicken burger, bbq, ...</td>\n",
       "      <td>[burger, burgers, galaxy, milky, chicken, chee...</td>\n",
       "      <td>[Now that s what we call some authentic chicke...</td>\n",
       "    </tr>\n",
       "    <tr>\n",
       "      <th>21</th>\n",
       "      <td>20</td>\n",
       "      <td>73</td>\n",
       "      <td>20_pizza_pasta_ravioli_cheese</td>\n",
       "      <td>pizza | pasta | ravioli</td>\n",
       "      <td>[pizza, pasta, ravioli, cheese, frio, italian,...</td>\n",
       "      <td>[cheese ravioli, italian food, frio bistro, ra...</td>\n",
       "      <td>[pizza, pasta, ravioli, cheese, crust, frio bi...</td>\n",
       "      <td>[pizza, pasta, ravioli, cheese, italian, crust...</td>\n",
       "      <td>[Frio Bistro is located in Gacchibowli, below ...</td>\n",
       "    </tr>\n",
       "    <tr>\n",
       "      <th>22</th>\n",
       "      <td>21</td>\n",
       "      <td>69</td>\n",
       "      <td>21_paneer_ordered paneer_masala_butter</td>\n",
       "      <td>paneer | ordered paneer | butter masala</td>\n",
       "      <td>[paneer, ordered paneer, masala, butter, butte...</td>\n",
       "      <td>[paneer masala, masala paneer, order paneer, o...</td>\n",
       "      <td>[paneer, ordered paneer, butter masala, paneer...</td>\n",
       "      <td>[paneer, masala, butter, dal, tikka, roti, mak...</td>\n",
       "      <td>[I ordered paneer butter masala and paneer lab...</td>\n",
       "    </tr>\n",
       "    <tr>\n",
       "      <th>23</th>\n",
       "      <td>22</td>\n",
       "      <td>65</td>\n",
       "      <td>22_paratha_parathas_parantha_aloo</td>\n",
       "      <td>paratha | parathas | chutney</td>\n",
       "      <td>[paratha, parathas, parantha, aloo, chutney, p...</td>\n",
       "      <td>[paratha delicious, paratha taste, paratha pan...</td>\n",
       "      <td>[paratha, parathas, chutney, stuffing, paneer ...</td>\n",
       "      <td>[paratha, parathas, parantha, aloo, chutney, p...</td>\n",
       "      <td>[This has become a favourite place to have par...</td>\n",
       "    </tr>\n",
       "    <tr>\n",
       "      <th>24</th>\n",
       "      <td>23</td>\n",
       "      <td>64</td>\n",
       "      <td>23_chicken_cooked_worst_kfc</td>\n",
       "      <td>kfc | half cooked | quality chicken</td>\n",
       "      <td>[chicken, cooked, worst, kfc, bad, half cooked...</td>\n",
       "      <td>[bad chicken, worst chicken, chicken tasted, c...</td>\n",
       "      <td>[kfc, half cooked, quality chicken, worst food...</td>\n",
       "      <td>[chicken, worst, bad, smell, worst food, oil, ...</td>\n",
       "      <td>[Had a bad experience today in Absolute sizzle...</td>\n",
       "    </tr>\n",
       "    <tr>\n",
       "      <th>25</th>\n",
       "      <td>24</td>\n",
       "      <td>62</td>\n",
       "      <td>24_order_received_delivered_order delivered</td>\n",
       "      <td>order delivered | wrong order | delivery</td>\n",
       "      <td>[order, received, delivered, order delivered, ...</td>\n",
       "      <td>[order delivered, ordered delivered, delivered...</td>\n",
       "      <td>[order delivered, wrong order, delivery, deliv...</td>\n",
       "      <td>[order, wrong, wrong order, delivery, address,...</td>\n",
       "      <td>[Wrong Order Received, Order not delivered, th...</td>\n",
       "    </tr>\n",
       "    <tr>\n",
       "      <th>26</th>\n",
       "      <td>25</td>\n",
       "      <td>62</td>\n",
       "      <td>25_good service_service good_service_good</td>\n",
       "      <td>good service | service good | service thank</td>\n",
       "      <td>[good service, service good, service, good, th...</td>\n",
       "      <td>[good service, excellent service, great servic...</td>\n",
       "      <td>[good service, service good, service thank, se...</td>\n",
       "      <td>[good service, service, good, nice service, ex...</td>\n",
       "      <td>[good service, very good service, good service]</td>\n",
       "    </tr>\n",
       "    <tr>\n",
       "      <th>27</th>\n",
       "      <td>26</td>\n",
       "      <td>61</td>\n",
       "      <td>26_indian_north_north indian_indian food</td>\n",
       "      <td>north indian | indian food | indian cuisine</td>\n",
       "      <td>[indian, north, north indian, indian food, sou...</td>\n",
       "      <td>[indian cuisine, indian food, indian meal, ind...</td>\n",
       "      <td>[north indian, indian food, indian cuisine, in...</td>\n",
       "      <td>[indian, north, indian food, south, food, good...</td>\n",
       "      <td>[Bit pricy as compared to the location . Tasty...</td>\n",
       "    </tr>\n",
       "    <tr>\n",
       "      <th>28</th>\n",
       "      <td>27</td>\n",
       "      <td>60</td>\n",
       "      <td>27_donuts_donut_dunkin_chocolate</td>\n",
       "      <td>donuts | dunkin donuts | burgers</td>\n",
       "      <td>[donuts, donut, dunkin, chocolate, coffee, dun...</td>\n",
       "      <td>[chocolate donuts, donuts good, love donuts, d...</td>\n",
       "      <td>[donuts, dunkin donuts, burgers, doughnuts, ic...</td>\n",
       "      <td>[donuts, donut, dunkin, chocolate, coffee, bur...</td>\n",
       "      <td>[Had naughty Lucy veg burger meal, alive by ch...</td>\n",
       "    </tr>\n",
       "    <tr>\n",
       "      <th>29</th>\n",
       "      <td>28</td>\n",
       "      <td>58</td>\n",
       "      <td>28_superb_test_test good_good test</td>\n",
       "      <td>test good | good test | good superb</td>\n",
       "      <td>[superb, test, test good, good test, good good...</td>\n",
       "      <td>[test good, good test, test, good superb, good...</td>\n",
       "      <td>[test good, good test, good superb, swipe, goo...</td>\n",
       "      <td>[superb, test, good test, good, bad, swipe, fa...</td>\n",
       "      <td>[not so good test, test is very good, test is ...</td>\n",
       "    </tr>\n",
       "    <tr>\n",
       "      <th>30</th>\n",
       "      <td>29</td>\n",
       "      <td>57</td>\n",
       "      <td>29_momos_kurkure_momo_steamed</td>\n",
       "      <td>momos | chicken momos | fried momos</td>\n",
       "      <td>[momos, kurkure, momo, steamed, chicken momos,...</td>\n",
       "      <td>[fried momos, chicken momos, momos chicken, mo...</td>\n",
       "      <td>[momos, chicken momos, fried momos, momos good...</td>\n",
       "      <td>[momos, kurkure, momo, steamed, sauce, fried, ...</td>\n",
       "      <td>[Its one of my favourite places to have momos ...</td>\n",
       "    </tr>\n",
       "    <tr>\n",
       "      <th>31</th>\n",
       "      <td>30</td>\n",
       "      <td>56</td>\n",
       "      <td>30_punjabi_punjabi food_dal_lassi</td>\n",
       "      <td>punjabi | punjabi food | dal makhani</td>\n",
       "      <td>[punjabi, punjabi food, dal, lassi, food, makh...</td>\n",
       "      <td>[punjabi food, punjabi restaurants, punjabi re...</td>\n",
       "      <td>[punjabi, punjabi food, dal makhani, authentic...</td>\n",
       "      <td>[punjabi, dal, lassi, food, makhani, authentic...</td>\n",
       "      <td>[A decent punjabi food place . Awesome food an...</td>\n",
       "    </tr>\n",
       "    <tr>\n",
       "      <th>32</th>\n",
       "      <td>31</td>\n",
       "      <td>54</td>\n",
       "      <td>31_mandi_arabian_yum_chicken</td>\n",
       "      <td>yum tree | mandi chicken | chicken bbq</td>\n",
       "      <td>[mandi, arabian, yum, chicken, mutton, yum yum...</td>\n",
       "      <td>[bbq mandi, mandi chicken, chicken mandi, mand...</td>\n",
       "      <td>[yum tree, mandi chicken, chicken bbq, arabian...</td>\n",
       "      <td>[mandi, arabian, yum, chicken, mutton, tree, j...</td>\n",
       "      <td>[Arabic feel- Ambiance- Yum yum tree is one of...</td>\n",
       "    </tr>\n",
       "    <tr>\n",
       "      <th>33</th>\n",
       "      <td>32</td>\n",
       "      <td>54</td>\n",
       "      <td>32_taste_waste_waste taste_taste taste</td>\n",
       "      <td>waste taste | taste taste | taste waste</td>\n",
       "      <td>[taste, waste, waste taste, taste taste, taste...</td>\n",
       "      <td>[taste bad, taste taste, waste taste, taste wa...</td>\n",
       "      <td>[waste taste, taste taste, taste waste, taste ...</td>\n",
       "      <td>[taste, waste, bad waste, bad taste, bad, aver...</td>\n",
       "      <td>[no taste, Very very bad waste taste less do n...</td>\n",
       "    </tr>\n",
       "    <tr>\n",
       "      <th>34</th>\n",
       "      <td>33</td>\n",
       "      <td>53</td>\n",
       "      <td>33_good good_nice good_good nice_boy good</td>\n",
       "      <td>boy good | nice rider | good guy</td>\n",
       "      <td>[good good, nice good, good nice, boy good, go...</td>\n",
       "      <td>[great good, good good, kind good, good great,...</td>\n",
       "      <td>[boy good, nice rider, good guy, fast nice, ri...</td>\n",
       "      <td>[good, boy, nice, nice rider, rider, good guy,...</td>\n",
       "      <td>[very good, very good one, a very good good]</td>\n",
       "    </tr>\n",
       "    <tr>\n",
       "      <th>35</th>\n",
       "      <td>34</td>\n",
       "      <td>52</td>\n",
       "      <td>34_bread_coffee_sandwich_cheese</td>\n",
       "      <td>cream cheese | filter coffee | breads</td>\n",
       "      <td>[bread, coffee, sandwich, cheese, bagel, filte...</td>\n",
       "      <td>[madras baking, good bread, bakery items, bake...</td>\n",
       "      <td>[cream cheese, filter coffee, breads, bakery, ...</td>\n",
       "      <td>[bread, coffee, sandwich, cheese, bagel, filte...</td>\n",
       "      <td>[Whenever I crave to have a good cup of coffee...</td>\n",
       "    </tr>\n",
       "    <tr>\n",
       "      <th>36</th>\n",
       "      <td>35</td>\n",
       "      <td>51</td>\n",
       "      <td>35_shake_shakes_tempteys_brownie</td>\n",
       "      <td>tempteys | caramel brownie | fries</td>\n",
       "      <td>[shake, shakes, tempteys, brownie, caramel, ch...</td>\n",
       "      <td>[brownie shake, taste shake, milk shakes, flav...</td>\n",
       "      <td>[tempteys, caramel brownie, fries, brownie sha...</td>\n",
       "      <td>[shake, shakes, brownie, caramel, cherry, oreo...</td>\n",
       "      <td>[We have ordered from this place and it has so...</td>\n",
       "    </tr>\n",
       "    <tr>\n",
       "      <th>37</th>\n",
       "      <td>36</td>\n",
       "      <td>50</td>\n",
       "      <td>36_coffee_cafe_bikes_cars</td>\n",
       "      <td>coffee | cafe | bike</td>\n",
       "      <td>[coffee, cafe, bikes, cars, bike, rent, cars b...</td>\n",
       "      <td>[driven cafe, cafe, cafe good, cafes, coffee p...</td>\n",
       "      <td>[coffee, cafe, bike, driven cafe, place, bikes...</td>\n",
       "      <td>[coffee, cafe, bikes, cars, bike, rent, place,...</td>\n",
       "      <td>[Driven cafe comes with a perfect ambience tha...</td>\n",
       "    </tr>\n",
       "    <tr>\n",
       "      <th>38</th>\n",
       "      <td>37</td>\n",
       "      <td>49</td>\n",
       "      <td>37_fast delivery_fast_delivery_delivery fast</td>\n",
       "      <td>fast delivery | delivery fast | delivery super</td>\n",
       "      <td>[fast delivery, fast, delivery, delivery fast,...</td>\n",
       "      <td>[fast delivery, delivery fast, fastest deliver...</td>\n",
       "      <td>[fast delivery, delivery fast, delivery super,...</td>\n",
       "      <td>[fast delivery, fast, delivery, super, speed, ...</td>\n",
       "      <td>[fast delivery, Fast Delivery, very fast deliv...</td>\n",
       "    </tr>\n",
       "    <tr>\n",
       "      <th>39</th>\n",
       "      <td>38</td>\n",
       "      <td>48</td>\n",
       "      <td>38_maggi_maggie_double_fried maggi</td>\n",
       "      <td>fried maggi | double chicken | egg double</td>\n",
       "      <td>[maggi, maggie, double, fried maggi, double eg...</td>\n",
       "      <td>[chicken maggi, fried maggi, maggi good, chees...</td>\n",
       "      <td>[fried maggi, double chicken, egg double, chic...</td>\n",
       "      <td>[maggi, maggie, double, double egg, double chi...</td>\n",
       "      <td>[Who can say no to some delicious Maggi! Hunge...</td>\n",
       "    </tr>\n",
       "    <tr>\n",
       "      <th>40</th>\n",
       "      <td>39</td>\n",
       "      <td>47</td>\n",
       "      <td>39_awesome food_food_nice food_food awesome</td>\n",
       "      <td>awesome food | food awesome | good food</td>\n",
       "      <td>[awesome food, food, nice food, food awesome, ...</td>\n",
       "      <td>[awesome food, food awesome, amazing food, gre...</td>\n",
       "      <td>[awesome food, food awesome, good food, food n...</td>\n",
       "      <td>[awesome food, food, nice food, good food, awe...</td>\n",
       "      <td>[awesome food, awesome food, awesome food]</td>\n",
       "    </tr>\n",
       "    <tr>\n",
       "      <th>41</th>\n",
       "      <td>40</td>\n",
       "      <td>43</td>\n",
       "      <td>40_gold_zomato gold_zomato_gold membership</td>\n",
       "      <td>zomato gold | zomato | gold membership</td>\n",
       "      <td>[gold, zomato gold, zomato, gold membership, m...</td>\n",
       "      <td>[zomato gold, gold customers, zomato, using zo...</td>\n",
       "      <td>[zomato gold, zomato, gold membership, members...</td>\n",
       "      <td>[gold, zomato, membership, restaurant, service...</td>\n",
       "      <td>[Worst restaurant . They mentioned on Zomato g...</td>\n",
       "    </tr>\n",
       "    <tr>\n",
       "      <th>42</th>\n",
       "      <td>41</td>\n",
       "      <td>43</td>\n",
       "      <td>41_zomato_order_support_restaurant</td>\n",
       "      <td>zomato | faasos | delivered</td>\n",
       "      <td>[zomato, order, support, restaurant, deliver, ...</td>\n",
       "      <td>[zomato restaurant, zomato customer, service z...</td>\n",
       "      <td>[zomato, faasos, delivered, orders, payment, s...</td>\n",
       "      <td>[zomato, order, support, restaurant, customer,...</td>\n",
       "      <td>[Ordered a pizza, garlic bread and other stuff...</td>\n",
       "    </tr>\n",
       "    <tr>\n",
       "      <th>43</th>\n",
       "      <td>42</td>\n",
       "      <td>42</td>\n",
       "      <td>42_tasty_delicious tasty_tasty delicious_food ...</td>\n",
       "      <td>tasty delicious | food tasty | tasty food</td>\n",
       "      <td>[tasty, delicious tasty, tasty delicious, food...</td>\n",
       "      <td>[tasty, good tasty, delicious tasty, tasty goo...</td>\n",
       "      <td>[tasty delicious, food tasty, tasty food, deli...</td>\n",
       "      <td>[tasty, delicious, tasty food, delicious food,...</td>\n",
       "      <td>[too tasty it is, very tasty, tasty]</td>\n",
       "    </tr>\n",
       "    <tr>\n",
       "      <th>44</th>\n",
       "      <td>43</td>\n",
       "      <td>41</td>\n",
       "      <td>43_spicy_spicy spicy_spicy food_spicy good</td>\n",
       "      <td>spicy spicy | spicy food | spicy good</td>\n",
       "      <td>[spicy, spicy spicy, spicy food, spicy good, t...</td>\n",
       "      <td>[extremely spicy, spicy, super spicy, deliciou...</td>\n",
       "      <td>[spicy spicy, spicy food, spicy good, taste sp...</td>\n",
       "      <td>[spicy, spicy food, little spicy, uncooked, su...</td>\n",
       "      <td>[very spicy, too spicy, Too much spicy and]</td>\n",
       "    </tr>\n",
       "    <tr>\n",
       "      <th>45</th>\n",
       "      <td>44</td>\n",
       "      <td>41</td>\n",
       "      <td>44_nice nice_nice_nice rider_person nice</td>\n",
       "      <td>nice nice | nice | nice rider</td>\n",
       "      <td>[nice nice, nice, nice rider, person nice, rid...</td>\n",
       "      <td>[nice, nice nice, nice person, nice rider, , ,...</td>\n",
       "      <td>[nice nice, nice, nice rider, person nice, rid...</td>\n",
       "      <td>[nice, rider, nice person, person, , , , , , ]</td>\n",
       "      <td>[nice, nice, Nice]</td>\n",
       "    </tr>\n",
       "    <tr>\n",
       "      <th>46</th>\n",
       "      <td>45</td>\n",
       "      <td>37</td>\n",
       "      <td>45_excellent excellent_excellent_awsome_great ...</td>\n",
       "      <td>excellent excellent | excellent | awsome</td>\n",
       "      <td>[excellent excellent, excellent, awsome, great...</td>\n",
       "      <td>[excellent, excellent excellent, excellent gre...</td>\n",
       "      <td>[excellent excellent, excellent, awsome, great...</td>\n",
       "      <td>[excellent, great, perfect, , , , , , , ]</td>\n",
       "      <td>[excellent, excellent, Excellent!!!]</td>\n",
       "    </tr>\n",
       "    <tr>\n",
       "      <th>47</th>\n",
       "      <td>46</td>\n",
       "      <td>37</td>\n",
       "      <td>46_haleem_pista house_pista_haleem good</td>\n",
       "      <td>haleem | pista house | haleem good</td>\n",
       "      <td>[haleem, pista house, pista, haleem good, hous...</td>\n",
       "      <td>[taste haleem, best haleem, haleem good, try h...</td>\n",
       "      <td>[haleem, pista house, haleem good, try haleem,...</td>\n",
       "      <td>[haleem, house, ramzan, ghouse, shah, taste, g...</td>\n",
       "      <td>[Pista house, known for Haleem in the month of...</td>\n",
       "    </tr>\n",
       "    <tr>\n",
       "      <th>48</th>\n",
       "      <td>47</td>\n",
       "      <td>36</td>\n",
       "      <td>47_waffle_waffles_tea_pancakes</td>\n",
       "      <td>waffles | maple syrup | pancakes waffles</td>\n",
       "      <td>[waffle, waffles, tea, pancakes, maple, nutell...</td>\n",
       "      <td>[waffles pancakes, pancakes waffles, nutella w...</td>\n",
       "      <td>[waffles, maple syrup, pancakes waffles, ginge...</td>\n",
       "      <td>[waffle, waffles, tea, pancakes, maple, nutell...</td>\n",
       "      <td>[A sincere request, do not try waffles from he...</td>\n",
       "    </tr>\n",
       "    <tr>\n",
       "      <th>49</th>\n",
       "      <td>48</td>\n",
       "      <td>34</td>\n",
       "      <td>48_andhra_authentic andhra_kodi_authentic</td>\n",
       "      <td>authentic andhra | bamboo chicken | ulavacharu</td>\n",
       "      <td>[andhra, authentic andhra, kodi, authentic, pu...</td>\n",
       "      <td>[andhra cuisine, andhra dishes, telangana cuis...</td>\n",
       "      <td>[authentic andhra, bamboo chicken, ulavacharu,...</td>\n",
       "      <td>[andhra, authentic andhra, kodi, authentic, pu...</td>\n",
       "      <td>[Food - 4 Ambience - 3 Service - 3 Bamboo Chic...</td>\n",
       "    </tr>\n",
       "    <tr>\n",
       "      <th>50</th>\n",
       "      <td>49</td>\n",
       "      <td>34</td>\n",
       "      <td>49_wings_chicken wings_wild_sauces</td>\n",
       "      <td>chicken wings | sauces | wild wings</td>\n",
       "      <td>[wings, chicken wings, wild, sauces, chicken, ...</td>\n",
       "      <td>[wings delicious, chicken wings, wings chicken...</td>\n",
       "      <td>[chicken wings, sauces, wild wings, original h...</td>\n",
       "      <td>[wings, wild, sauces, chicken, nuggets, wild w...</td>\n",
       "      <td>[American Wild Wings = Amazing Wings I happene...</td>\n",
       "    </tr>\n",
       "    <tr>\n",
       "      <th>51</th>\n",
       "      <td>50</td>\n",
       "      <td>33</td>\n",
       "      <td>50_chai_irani_irani chai_karachi</td>\n",
       "      <td>irani chai | karachi | osmania biscuits</td>\n",
       "      <td>[chai, irani, irani chai, karachi, cafe, old, ...</td>\n",
       "      <td>[irani chai, karachi cafe, osmania biscuits, p...</td>\n",
       "      <td>[irani chai, karachi, osmania biscuits, karach...</td>\n",
       "      <td>[chai, irani, irani chai, karachi, cafe, old, ...</td>\n",
       "      <td>[Visited this place to have Irani chai during ...</td>\n",
       "    </tr>\n",
       "    <tr>\n",
       "      <th>52</th>\n",
       "      <td>51</td>\n",
       "      <td>32</td>\n",
       "      <td>51_sizzlers_sizzler_absolute_absolute sizzlers</td>\n",
       "      <td>sizzlers | absolute sizzlers | absolute sizzler</td>\n",
       "      <td>[sizzlers, sizzler, absolute, absolute sizzler...</td>\n",
       "      <td>[sizzlers restaurant, sizzlers great, sizzlers...</td>\n",
       "      <td>[sizzlers, absolute sizzlers, absolute sizzler...</td>\n",
       "      <td>[sizzlers, sizzler, absolute, absolute sizzler...</td>\n",
       "      <td>[Absolute sizzlers it is great place to dine G...</td>\n",
       "    </tr>\n",
       "    <tr>\n",
       "      <th>53</th>\n",
       "      <td>52</td>\n",
       "      <td>30</td>\n",
       "      <td>52_wrap_wraps_jumbo_chicken wrap</td>\n",
       "      <td>chicken wrap | jumbo chicken | pizza wrap</td>\n",
       "      <td>[wrap, wraps, jumbo, chicken wrap, cheese, jum...</td>\n",
       "      <td>[chicken wrap, wraps, pizza wrap, veg wraps, p...</td>\n",
       "      <td>[chicken wrap, jumbo chicken, pizza wrap, wrap...</td>\n",
       "      <td>[wrap, wraps, jumbo, cheese, jumbo chicken, ch...</td>\n",
       "      <td>[First things Faasos have always been the firs...</td>\n",
       "    </tr>\n",
       "    <tr>\n",
       "      <th>54</th>\n",
       "      <td>53</td>\n",
       "      <td>27</td>\n",
       "      <td>53_awesome awesome_awesome_cool awesome_thank ...</td>\n",
       "      <td>awesome awesome | awesome | cool awesome</td>\n",
       "      <td>[awesome awesome, awesome, cool awesome, thank...</td>\n",
       "      <td>[awesome, awesome awesome, cool awesome, aweso...</td>\n",
       "      <td>[awesome awesome, awesome, cool awesome, thank...</td>\n",
       "      <td>[awesome, cool, , , , , , , , ]</td>\n",
       "      <td>[Awesome, Awesome, awesome awesome awesome]</td>\n",
       "    </tr>\n",
       "  </tbody>\n",
       "</table>\n",
       "</div>"
      ],
      "text/plain": [
       "    Topic  Count                                               Name  \\\n",
       "0      -1   3387                         -1_food_chicken_good_place   \n",
       "1       0   1753                      0_place_good_ambience_service   \n",
       "2       1    561            1_biryani_chicken_chicken biryani_taste   \n",
       "3       2    365                      2_manager_service_asked_table   \n",
       "4       3    309              3_good good_good_nice good_good combo   \n",
       "5       4    233                        4_hyderabad_best_place_food   \n",
       "6       5    175                     5_buffet_spread_lunch_starters   \n",
       "7       6    169                     6_cake_cakes_brownies_cupcakes   \n",
       "8       7    131           7_gachibowli_place_place gachibowli_food   \n",
       "9       8    131                  8_quantity_packing_food_food food   \n",
       "10      9    129                9_chinese_chinese food_noodles_food   \n",
       "11     10    121                      10_veg_non_vegetarian_non veg   \n",
       "12     11    109                        11_chicken_fish_soup_prawns   \n",
       "13     12    108           12_shawarma_rumali_chicken shawarma_shah   \n",
       "14     13    101              13_noodles_manchurian_rice_fried rice   \n",
       "15     14     97                      14_super_ok_super super_ok ok   \n",
       "16     15     94          15_quantity_quality_quantity quantity_low   \n",
       "17     16     91  16_delivery_good delivery_delivery good_delive...   \n",
       "18     17     82                  17_ice_cream_ice cream_ice creams   \n",
       "19     18     78  18_delivery_delivered_delivered time_time deli...   \n",
       "20     19     76                     19_burger_burgers_galaxy_milky   \n",
       "21     20     73                      20_pizza_pasta_ravioli_cheese   \n",
       "22     21     69             21_paneer_ordered paneer_masala_butter   \n",
       "23     22     65                  22_paratha_parathas_parantha_aloo   \n",
       "24     23     64                        23_chicken_cooked_worst_kfc   \n",
       "25     24     62        24_order_received_delivered_order delivered   \n",
       "26     25     62          25_good service_service good_service_good   \n",
       "27     26     61           26_indian_north_north indian_indian food   \n",
       "28     27     60                   27_donuts_donut_dunkin_chocolate   \n",
       "29     28     58                 28_superb_test_test good_good test   \n",
       "30     29     57                      29_momos_kurkure_momo_steamed   \n",
       "31     30     56                  30_punjabi_punjabi food_dal_lassi   \n",
       "32     31     54                       31_mandi_arabian_yum_chicken   \n",
       "33     32     54             32_taste_waste_waste taste_taste taste   \n",
       "34     33     53          33_good good_nice good_good nice_boy good   \n",
       "35     34     52                    34_bread_coffee_sandwich_cheese   \n",
       "36     35     51                   35_shake_shakes_tempteys_brownie   \n",
       "37     36     50                          36_coffee_cafe_bikes_cars   \n",
       "38     37     49       37_fast delivery_fast_delivery_delivery fast   \n",
       "39     38     48                 38_maggi_maggie_double_fried maggi   \n",
       "40     39     47        39_awesome food_food_nice food_food awesome   \n",
       "41     40     43         40_gold_zomato gold_zomato_gold membership   \n",
       "42     41     43                 41_zomato_order_support_restaurant   \n",
       "43     42     42  42_tasty_delicious tasty_tasty delicious_food ...   \n",
       "44     43     41         43_spicy_spicy spicy_spicy food_spicy good   \n",
       "45     44     41           44_nice nice_nice_nice rider_person nice   \n",
       "46     45     37  45_excellent excellent_excellent_awsome_great ...   \n",
       "47     46     37            46_haleem_pista house_pista_haleem good   \n",
       "48     47     36                     47_waffle_waffles_tea_pancakes   \n",
       "49     48     34          48_andhra_authentic andhra_kodi_authentic   \n",
       "50     49     34                 49_wings_chicken wings_wild_sauces   \n",
       "51     50     33                   50_chai_irani_irani chai_karachi   \n",
       "52     51     32     51_sizzlers_sizzler_absolute_absolute sizzlers   \n",
       "53     52     30                   52_wrap_wraps_jumbo_chicken wrap   \n",
       "54     53     27  53_awesome awesome_awesome_cool awesome_thank ...   \n",
       "\n",
       "                                           CustomName  \\\n",
       "0                         food | chicken | restaurant   \n",
       "1                          place | ambience | service   \n",
       "2         chicken biryani | biriyani | mutton biryani   \n",
       "3                              manager | table | rude   \n",
       "4                        good good | good | nice good   \n",
       "5                 hyderabad | place hyderabad | visit   \n",
       "6                        buffet | lunch | main course   \n",
       "7                         cakes | brownies | cupcakes   \n",
       "8                gachibowli | place gachibowli | food   \n",
       "9                   food food | food good | food cold   \n",
       "10                chinese food | noodles | fried rice   \n",
       "11                 vegetarian | non veg | vegetarians   \n",
       "12                            chicken | soup | prawns   \n",
       "13         chicken shawarma | shah ghouse | shawarmas   \n",
       "14                      noodles | fried rice | chilli   \n",
       "15           super super | super just | super excited   \n",
       "16  quantity quantity | service quantity | quality...   \n",
       "17   delivery good | delivery boy | delivery delivery   \n",
       "18                    ice creams | cream stone | nuts   \n",
       "19     delivered time | time delivery | delivery time   \n",
       "20                           burger | burgers | milky   \n",
       "21                            pizza | pasta | ravioli   \n",
       "22            paneer | ordered paneer | butter masala   \n",
       "23                       paratha | parathas | chutney   \n",
       "24                kfc | half cooked | quality chicken   \n",
       "25           order delivered | wrong order | delivery   \n",
       "26        good service | service good | service thank   \n",
       "27        north indian | indian food | indian cuisine   \n",
       "28                   donuts | dunkin donuts | burgers   \n",
       "29                test good | good test | good superb   \n",
       "30                momos | chicken momos | fried momos   \n",
       "31               punjabi | punjabi food | dal makhani   \n",
       "32             yum tree | mandi chicken | chicken bbq   \n",
       "33            waste taste | taste taste | taste waste   \n",
       "34                   boy good | nice rider | good guy   \n",
       "35              cream cheese | filter coffee | breads   \n",
       "36                 tempteys | caramel brownie | fries   \n",
       "37                               coffee | cafe | bike   \n",
       "38     fast delivery | delivery fast | delivery super   \n",
       "39          fried maggi | double chicken | egg double   \n",
       "40            awesome food | food awesome | good food   \n",
       "41             zomato gold | zomato | gold membership   \n",
       "42                        zomato | faasos | delivered   \n",
       "43          tasty delicious | food tasty | tasty food   \n",
       "44              spicy spicy | spicy food | spicy good   \n",
       "45                      nice nice | nice | nice rider   \n",
       "46           excellent excellent | excellent | awsome   \n",
       "47                 haleem | pista house | haleem good   \n",
       "48           waffles | maple syrup | pancakes waffles   \n",
       "49     authentic andhra | bamboo chicken | ulavacharu   \n",
       "50                chicken wings | sauces | wild wings   \n",
       "51            irani chai | karachi | osmania biscuits   \n",
       "52    sizzlers | absolute sizzlers | absolute sizzler   \n",
       "53          chicken wrap | jumbo chicken | pizza wrap   \n",
       "54           awesome awesome | awesome | cool awesome   \n",
       "\n",
       "                                       Representation  \\\n",
       "0   [food, chicken, good, place, ordered, taste, s...   \n",
       "1   [place, good, ambience, service, food, great, ...   \n",
       "2   [biryani, chicken, chicken biryani, taste, bir...   \n",
       "3   [manager, service, asked, table, worst, rude, ...   \n",
       "4   [good good, good, nice good, good combo, combo...   \n",
       "5   [hyderabad, best, place, food, place hyderabad...   \n",
       "6   [buffet, spread, lunch, starters, main, main c...   \n",
       "7   [cake, cakes, brownies, cupcakes, chocolate, r...   \n",
       "8   [gachibowli, place, place gachibowli, food, go...   \n",
       "9   [quantity, packing, food, food food, cold, tas...   \n",
       "10  [chinese, chinese food, noodles, food, authent...   \n",
       "11  [veg, non, vegetarian, non veg, veg non, veget...   \n",
       "12  [chicken, fish, soup, prawns, paneer, dish, se...   \n",
       "13  [shawarma, rumali, chicken shawarma, shah, chi...   \n",
       "14  [noodles, manchurian, rice, fried rice, fried,...   \n",
       "15  [super, ok, super super, ok ok, super just, go...   \n",
       "16  [quantity, quality, quantity quantity, low, se...   \n",
       "17  [delivery, good delivery, delivery good, deliv...   \n",
       "18  [ice, cream, ice cream, ice creams, creams, cr...   \n",
       "19  [delivery, delivered, delivered time, time del...   \n",
       "20  [burger, burgers, galaxy, milky, chicken, gril...   \n",
       "21  [pizza, pasta, ravioli, cheese, frio, italian,...   \n",
       "22  [paneer, ordered paneer, masala, butter, butte...   \n",
       "23  [paratha, parathas, parantha, aloo, chutney, p...   \n",
       "24  [chicken, cooked, worst, kfc, bad, half cooked...   \n",
       "25  [order, received, delivered, order delivered, ...   \n",
       "26  [good service, service good, service, good, th...   \n",
       "27  [indian, north, north indian, indian food, sou...   \n",
       "28  [donuts, donut, dunkin, chocolate, coffee, dun...   \n",
       "29  [superb, test, test good, good test, good good...   \n",
       "30  [momos, kurkure, momo, steamed, chicken momos,...   \n",
       "31  [punjabi, punjabi food, dal, lassi, food, makh...   \n",
       "32  [mandi, arabian, yum, chicken, mutton, yum yum...   \n",
       "33  [taste, waste, waste taste, taste taste, taste...   \n",
       "34  [good good, nice good, good nice, boy good, go...   \n",
       "35  [bread, coffee, sandwich, cheese, bagel, filte...   \n",
       "36  [shake, shakes, tempteys, brownie, caramel, ch...   \n",
       "37  [coffee, cafe, bikes, cars, bike, rent, cars b...   \n",
       "38  [fast delivery, fast, delivery, delivery fast,...   \n",
       "39  [maggi, maggie, double, fried maggi, double eg...   \n",
       "40  [awesome food, food, nice food, food awesome, ...   \n",
       "41  [gold, zomato gold, zomato, gold membership, m...   \n",
       "42  [zomato, order, support, restaurant, deliver, ...   \n",
       "43  [tasty, delicious tasty, tasty delicious, food...   \n",
       "44  [spicy, spicy spicy, spicy food, spicy good, t...   \n",
       "45  [nice nice, nice, nice rider, person nice, rid...   \n",
       "46  [excellent excellent, excellent, awsome, great...   \n",
       "47  [haleem, pista house, pista, haleem good, hous...   \n",
       "48  [waffle, waffles, tea, pancakes, maple, nutell...   \n",
       "49  [andhra, authentic andhra, kodi, authentic, pu...   \n",
       "50  [wings, chicken wings, wild, sauces, chicken, ...   \n",
       "51  [chai, irani, irani chai, karachi, cafe, old, ...   \n",
       "52  [sizzlers, sizzler, absolute, absolute sizzler...   \n",
       "53  [wrap, wraps, jumbo, chicken wrap, cheese, jum...   \n",
       "54  [awesome awesome, awesome, cool awesome, thank...   \n",
       "\n",
       "                                              KeyBERT  \\\n",
       "0   [restaurant, buffet, good food, food good, dis...   \n",
       "1   [great place, visit place, best place, good pl...   \n",
       "2   [chicken biryani, biryani chicken, biryani tas...   \n",
       "3   [restaurant, serving, waiters, waiter, lunch, ...   \n",
       "4   [good, good good, nice good, good nice, nice, ...   \n",
       "5   [hyderabad food, restaurant hyderabad, food hy...   \n",
       "6   [buffet food, buffet lunch, dinner buffet, lun...   \n",
       "7   [cup cakes, cup cake, cakes, cake chocolate, c...   \n",
       "8   [gachibowli place, visit gachibowli, gachibowl...   \n",
       "9   [food quality, quality food, taste quality, qu...   \n",
       "10  [chinese cuisine, chinese restaurant, chinese ...   \n",
       "11  [veg food, veg dishes, place veg, non veg, ord...   \n",
       "12  [restaurant, chilli, soup, spices, chicken, bu...   \n",
       "13  [shawarma good, chicken shawarma, shawarma chi...   \n",
       "14  [ordered noodles, fried noodles, egg noodles, ...   \n",
       "15  [super, super super, super just, service super...   \n",
       "16  [little quantity, quantity, small quantity, im...   \n",
       "17  [good delivery, great delivery, delivery good,...   \n",
       "18  [ice cream, ice creams, nuts ice, chocolate ic...   \n",
       "19  [delivered time, time delivered, deliver time,...   \n",
       "20  [best burgers, best burger, burger good, chick...   \n",
       "21  [cheese ravioli, italian food, frio bistro, ra...   \n",
       "22  [paneer masala, masala paneer, order paneer, o...   \n",
       "23  [paratha delicious, paratha taste, paratha pan...   \n",
       "24  [bad chicken, worst chicken, chicken tasted, c...   \n",
       "25  [order delivered, ordered delivered, delivered...   \n",
       "26  [good service, excellent service, great servic...   \n",
       "27  [indian cuisine, indian food, indian meal, ind...   \n",
       "28  [chocolate donuts, donuts good, love donuts, d...   \n",
       "29  [test good, good test, test, good superb, good...   \n",
       "30  [fried momos, chicken momos, momos chicken, mo...   \n",
       "31  [punjabi food, punjabi restaurants, punjabi re...   \n",
       "32  [bbq mandi, mandi chicken, chicken mandi, mand...   \n",
       "33  [taste bad, taste taste, waste taste, taste wa...   \n",
       "34  [great good, good good, kind good, good great,...   \n",
       "35  [madras baking, good bread, bakery items, bake...   \n",
       "36  [brownie shake, taste shake, milk shakes, flav...   \n",
       "37  [driven cafe, cafe, cafe good, cafes, coffee p...   \n",
       "38  [fast delivery, delivery fast, fastest deliver...   \n",
       "39  [chicken maggi, fried maggi, maggi good, chees...   \n",
       "40  [awesome food, food awesome, amazing food, gre...   \n",
       "41  [zomato gold, gold customers, zomato, using zo...   \n",
       "42  [zomato restaurant, zomato customer, service z...   \n",
       "43  [tasty, good tasty, delicious tasty, tasty goo...   \n",
       "44  [extremely spicy, spicy, super spicy, deliciou...   \n",
       "45  [nice, nice nice, nice person, nice rider, , ,...   \n",
       "46  [excellent, excellent excellent, excellent gre...   \n",
       "47  [taste haleem, best haleem, haleem good, try h...   \n",
       "48  [waffles pancakes, pancakes waffles, nutella w...   \n",
       "49  [andhra cuisine, andhra dishes, telangana cuis...   \n",
       "50  [wings delicious, chicken wings, wings chicken...   \n",
       "51  [irani chai, karachi cafe, osmania biscuits, p...   \n",
       "52  [sizzlers restaurant, sizzlers great, sizzlers...   \n",
       "53  [chicken wrap, wraps, pizza wrap, veg wraps, p...   \n",
       "54  [awesome, awesome awesome, cool awesome, aweso...   \n",
       "\n",
       "                                                  MMR  \\\n",
       "0   [food, chicken, restaurant, order, rice, panee...   \n",
       "1   [place, ambience, service, visit, drinks, frie...   \n",
       "2   [chicken biryani, biriyani, mutton biryani, re...   \n",
       "3   [manager, table, rude, staff, waiter, customer...   \n",
       "4   [good good, good, nice good, good combo, combo...   \n",
       "5   [hyderabad, place hyderabad, visit, places, hy...   \n",
       "6   [buffet, lunch, main course, lunch buffet, des...   \n",
       "7   [cakes, brownies, cupcakes, red velvet, bakery...   \n",
       "8   [gachibowli, place gachibowli, food, visit, pl...   \n",
       "9   [food food, food good, food cold, quantity foo...   \n",
       "10  [chinese food, noodles, fried rice, chinese cu...   \n",
       "11  [vegetarian, non veg, vegetarians, main course...   \n",
       "12  [chicken, soup, prawns, paneer, dish, main cou...   \n",
       "13  [chicken shawarma, shah ghouse, shawarmas, may...   \n",
       "14  [noodles, fried rice, chilli, veg fried, chick...   \n",
       "15  [super super, super just, super excited, nil, ...   \n",
       "16  [quantity quantity, service quantity, quality ...   \n",
       "17  [delivery good, delivery boy, delivery deliver...   \n",
       "18  [ice creams, cream stone, nuts, chocolate, ice...   \n",
       "19  [delivered time, time delivery, delivery time,...   \n",
       "20  [burger, burgers, milky, chicken burger, bbq, ...   \n",
       "21  [pizza, pasta, ravioli, cheese, crust, frio bi...   \n",
       "22  [paneer, ordered paneer, butter masala, paneer...   \n",
       "23  [paratha, parathas, chutney, stuffing, paneer ...   \n",
       "24  [kfc, half cooked, quality chicken, worst food...   \n",
       "25  [order delivered, wrong order, delivery, deliv...   \n",
       "26  [good service, service good, service thank, se...   \n",
       "27  [north indian, indian food, indian cuisine, in...   \n",
       "28  [donuts, dunkin donuts, burgers, doughnuts, ic...   \n",
       "29  [test good, good test, good superb, swipe, goo...   \n",
       "30  [momos, chicken momos, fried momos, momos good...   \n",
       "31  [punjabi, punjabi food, dal makhani, authentic...   \n",
       "32  [yum tree, mandi chicken, chicken bbq, arabian...   \n",
       "33  [waste taste, taste taste, taste waste, taste ...   \n",
       "34  [boy good, nice rider, good guy, fast nice, ri...   \n",
       "35  [cream cheese, filter coffee, breads, bakery, ...   \n",
       "36  [tempteys, caramel brownie, fries, brownie sha...   \n",
       "37  [coffee, cafe, bike, driven cafe, place, bikes...   \n",
       "38  [fast delivery, delivery fast, delivery super,...   \n",
       "39  [fried maggi, double chicken, egg double, chic...   \n",
       "40  [awesome food, food awesome, good food, food n...   \n",
       "41  [zomato gold, zomato, gold membership, members...   \n",
       "42  [zomato, faasos, delivered, orders, payment, s...   \n",
       "43  [tasty delicious, food tasty, tasty food, deli...   \n",
       "44  [spicy spicy, spicy food, spicy good, taste sp...   \n",
       "45  [nice nice, nice, nice rider, person nice, rid...   \n",
       "46  [excellent excellent, excellent, awsome, great...   \n",
       "47  [haleem, pista house, haleem good, try haleem,...   \n",
       "48  [waffles, maple syrup, pancakes waffles, ginge...   \n",
       "49  [authentic andhra, bamboo chicken, ulavacharu,...   \n",
       "50  [chicken wings, sauces, wild wings, original h...   \n",
       "51  [irani chai, karachi, osmania biscuits, karach...   \n",
       "52  [sizzlers, absolute sizzlers, absolute sizzler...   \n",
       "53  [chicken wrap, jumbo chicken, pizza wrap, wrap...   \n",
       "54  [awesome awesome, awesome, cool awesome, thank...   \n",
       "\n",
       "                                                  POS  \\\n",
       "0   [food, chicken, good, place, taste, service, g...   \n",
       "1   [place, good, ambience, service, food, great, ...   \n",
       "2   [biryani, chicken, taste, biriyani, mutton, go...   \n",
       "3   [manager, service, table, worst, rude, staff, ...   \n",
       "4                   [good, combo, nice, , , , , , , ]   \n",
       "5   [hyderabad, best, place, food, service, great,...   \n",
       "6   [buffet, spread, lunch, starters, main, main c...   \n",
       "7   [cake, cakes, brownies, cupcakes, chocolate, r...   \n",
       "8   [gachibowli, place, food, good, ambience, best...   \n",
       "9   [quantity, packing, food, cold, taste, good qu...   \n",
       "10  [chinese, chinese food, noodles, food, authent...   \n",
       "11  [veg, non, vegetarian, non veg, vegetarians, g...   \n",
       "12  [chicken, fish, soup, prawns, paneer, dish, ma...   \n",
       "13  [shawarma, rumali, shah, chicken, ghouse, shaw...   \n",
       "14  [noodles, manchurian, rice, fried, veg, gobi, ...   \n",
       "15  [super, goid, exlent, yuck, excelent, fine, ex...   \n",
       "16  [quantity, quality, low, sucks, bad quality, p...   \n",
       "17  [delivery, good delivery, boy, awesome deliver...   \n",
       "18  [ice, cream, creams, stone, nuts, chocolate, f...   \n",
       "19  [delivery, time, late, late delivery, deliver,...   \n",
       "20  [burger, burgers, galaxy, milky, chicken, chee...   \n",
       "21  [pizza, pasta, ravioli, cheese, italian, crust...   \n",
       "22  [paneer, masala, butter, dal, tikka, roti, mak...   \n",
       "23  [paratha, parathas, parantha, aloo, chutney, p...   \n",
       "24  [chicken, worst, bad, smell, worst food, oil, ...   \n",
       "25  [order, wrong, wrong order, delivery, address,...   \n",
       "26  [good service, service, good, nice service, ex...   \n",
       "27  [indian, north, indian food, south, food, good...   \n",
       "28  [donuts, donut, dunkin, chocolate, coffee, bur...   \n",
       "29  [superb, test, good test, good, bad, swipe, fa...   \n",
       "30  [momos, kurkure, momo, steamed, sauce, fried, ...   \n",
       "31  [punjabi, dal, lassi, food, makhani, authentic...   \n",
       "32  [mandi, arabian, yum, chicken, mutton, tree, j...   \n",
       "33  [taste, waste, bad waste, bad taste, bad, aver...   \n",
       "34  [good, boy, nice, nice rider, rider, good guy,...   \n",
       "35  [bread, coffee, sandwich, cheese, bagel, filte...   \n",
       "36  [shake, shakes, brownie, caramel, cherry, oreo...   \n",
       "37  [coffee, cafe, bikes, cars, bike, rent, place,...   \n",
       "38  [fast delivery, fast, delivery, super, speed, ...   \n",
       "39  [maggi, maggie, double, double egg, double chi...   \n",
       "40  [awesome food, food, nice food, good food, awe...   \n",
       "41  [gold, zomato, membership, restaurant, service...   \n",
       "42  [zomato, order, support, restaurant, customer,...   \n",
       "43  [tasty, delicious, tasty food, delicious food,...   \n",
       "44  [spicy, spicy food, little spicy, uncooked, su...   \n",
       "45     [nice, rider, nice person, person, , , , , , ]   \n",
       "46          [excellent, great, perfect, , , , , , , ]   \n",
       "47  [haleem, house, ramzan, ghouse, shah, taste, g...   \n",
       "48  [waffle, waffles, tea, pancakes, maple, nutell...   \n",
       "49  [andhra, authentic andhra, kodi, authentic, pu...   \n",
       "50  [wings, wild, sauces, chicken, nuggets, wild w...   \n",
       "51  [chai, irani, irani chai, karachi, cafe, old, ...   \n",
       "52  [sizzlers, sizzler, absolute, absolute sizzler...   \n",
       "53  [wrap, wraps, jumbo, cheese, jumbo chicken, ch...   \n",
       "54                    [awesome, cool, , , , , , , , ]   \n",
       "\n",
       "                                  Representative_Docs  \n",
       "0   [When you love food and especially north India...  \n",
       "1   [Great place to hangout . Good food + Good dri...  \n",
       "2   [biryani is good, Just the name of Biryani and...  \n",
       "3   [The worst place in the city, I was here for a...  \n",
       "4                             [good, good, good good]  \n",
       "5   [I am a huge fan of regional cuisines . The di...  \n",
       "6   [Very good place to have buffet . Buffet sprea...  \n",
       "7   [My boyfriend had gotten a Cheese cake for my ...  \n",
       "8   [I love this place in Gachibowli . I have been...  \n",
       "9   [Food is not that good . Quantity is more but ...  \n",
       "10  [Ohh finally the wait is over, I have been see...  \n",
       "11  [Went with team for lunch over first proper pa...  \n",
       "12  [Follow my Instagram page Pour House is a spac...  \n",
       "13  [horrible shawarma, This place promises to be ...  \n",
       "14  [Ordered noodles and fried rice box . Almost n...  \n",
       "15  [super delevery, super, I loved it it is just ...  \n",
       "16  [less quantity, quantity less, very less quant...  \n",
       "17  [good delivery, good delivery, Very good deliv...  \n",
       "18  [Delivered only 4 ice Cream, excellent ice cre...  \n",
       "19  [he delivered on time, Delivered before the ti...  \n",
       "20  [Now that s what we call some authentic chicke...  \n",
       "21  [Frio Bistro is located in Gacchibowli, below ...  \n",
       "22  [I ordered paneer butter masala and paneer lab...  \n",
       "23  [This has become a favourite place to have par...  \n",
       "24  [Had a bad experience today in Absolute sizzle...  \n",
       "25  [Wrong Order Received, Order not delivered, th...  \n",
       "26    [good service, very good service, good service]  \n",
       "27  [Bit pricy as compared to the location . Tasty...  \n",
       "28  [Had naughty Lucy veg burger meal, alive by ch...  \n",
       "29  [not so good test, test is very good, test is ...  \n",
       "30  [Its one of my favourite places to have momos ...  \n",
       "31  [A decent punjabi food place . Awesome food an...  \n",
       "32  [Arabic feel- Ambiance- Yum yum tree is one of...  \n",
       "33  [no taste, Very very bad waste taste less do n...  \n",
       "34       [very good, very good one, a very good good]  \n",
       "35  [Whenever I crave to have a good cup of coffee...  \n",
       "36  [We have ordered from this place and it has so...  \n",
       "37  [Driven cafe comes with a perfect ambience tha...  \n",
       "38  [fast delivery, Fast Delivery, very fast deliv...  \n",
       "39  [Who can say no to some delicious Maggi! Hunge...  \n",
       "40         [awesome food, awesome food, awesome food]  \n",
       "41  [Worst restaurant . They mentioned on Zomato g...  \n",
       "42  [Ordered a pizza, garlic bread and other stuff...  \n",
       "43               [too tasty it is, very tasty, tasty]  \n",
       "44        [very spicy, too spicy, Too much spicy and]  \n",
       "45                                 [nice, nice, Nice]  \n",
       "46               [excellent, excellent, Excellent!!!]  \n",
       "47  [Pista house, known for Haleem in the month of...  \n",
       "48  [A sincere request, do not try waffles from he...  \n",
       "49  [Food - 4 Ambience - 3 Service - 3 Bamboo Chic...  \n",
       "50  [American Wild Wings = Amazing Wings I happene...  \n",
       "51  [Visited this place to have Irani chai during ...  \n",
       "52  [Absolute sizzlers it is great place to dine G...  \n",
       "53  [First things Faasos have always been the firs...  \n",
       "54        [Awesome, Awesome, awesome awesome awesome]  "
      ]
     },
     "execution_count": 91,
     "metadata": {},
     "output_type": "execute_result"
    }
   ],
   "source": []
  },
  {
   "cell_type": "code",
   "execution_count": 83,
   "metadata": {},
   "outputs": [
    {
     "data": {
      "application/vnd.plotly.v1+json": {
       "config": {
        "plotlyServerURL": "https://plot.ly"
       },
       "data": [
        {
         "customdata": [
          [
           0,
           "place | good | ambience | service | food",
           1753
          ],
          [
           1,
           "biryani | chicken | chicken biryani | taste | biriyani",
           561
          ],
          [
           2,
           "manager | service | asked | table | worst",
           365
          ],
          [
           3,
           "good good | good | nice good | good combo | combo good",
           309
          ],
          [
           4,
           "hyderabad | best | place | food | place hyderabad",
           233
          ],
          [
           5,
           "buffet | spread | lunch | starters | main",
           175
          ],
          [
           6,
           "cake | cakes | brownies | cupcakes | chocolate",
           169
          ],
          [
           7,
           "gachibowli | place | place gachibowli | food | good",
           131
          ],
          [
           8,
           "quantity | packing | food | food food | cold",
           131
          ],
          [
           9,
           "chinese | chinese food | noodles | food | authentic",
           129
          ],
          [
           10,
           "veg | non | vegetarian | non veg | veg non",
           121
          ],
          [
           11,
           "chicken | fish | soup | prawns | paneer",
           109
          ],
          [
           12,
           "shawarma | rumali | chicken shawarma | shah | chicken",
           108
          ],
          [
           13,
           "noodles | manchurian | rice | fried rice | fried",
           101
          ],
          [
           14,
           "super | ok | super super | ok ok | super just",
           97
          ],
          [
           15,
           "quantity | quality | quantity quantity | low | service quantity",
           94
          ],
          [
           16,
           "delivery | good delivery | delivery good | delivery boy | boy",
           91
          ],
          [
           17,
           "ice | cream | ice cream | ice creams | creams",
           82
          ],
          [
           18,
           "delivery | delivered | delivered time | time delivery | time",
           78
          ],
          [
           19,
           "burger | burgers | galaxy | milky | chicken",
           76
          ],
          [
           20,
           "pizza | pasta | ravioli | cheese | frio",
           73
          ],
          [
           21,
           "paneer | ordered paneer | masala | butter | butter masala",
           69
          ],
          [
           22,
           "paratha | parathas | parantha | aloo | chutney",
           65
          ],
          [
           23,
           "chicken | cooked | worst | kfc | bad",
           64
          ],
          [
           24,
           "order | received | delivered | order delivered | wrong",
           62
          ],
          [
           25,
           "good service | service good | service | good | thank",
           62
          ],
          [
           26,
           "indian | north | north indian | indian food | south",
           61
          ],
          [
           27,
           "donuts | donut | dunkin | chocolate | coffee",
           60
          ],
          [
           28,
           "superb | test | test good | good test | good good",
           58
          ],
          [
           29,
           "momos | kurkure | momo | steamed | chicken momos",
           57
          ],
          [
           30,
           "punjabi | punjabi food | dal | lassi | food",
           56
          ],
          [
           31,
           "mandi | arabian | yum | chicken | mutton",
           54
          ],
          [
           32,
           "taste | waste | waste taste | taste taste | taste good",
           54
          ],
          [
           33,
           "good good | nice good | good nice | boy good | good",
           53
          ],
          [
           34,
           "bread | coffee | sandwich | cheese | bagel",
           52
          ],
          [
           35,
           "shake | shakes | tempteys | brownie | caramel",
           51
          ],
          [
           36,
           "coffee | cafe | bikes | cars | bike",
           50
          ],
          [
           37,
           "fast delivery | fast | delivery | delivery fast | super fast",
           49
          ],
          [
           38,
           "maggi | maggie | double | fried maggi | double egg",
           48
          ],
          [
           39,
           "awesome food | food | nice food | food awesome | good food",
           47
          ],
          [
           40,
           "gold | zomato gold | zomato | gold membership | membership",
           43
          ],
          [
           41,
           "zomato | order | support | restaurant | deliver",
           43
          ],
          [
           42,
           "tasty | delicious tasty | tasty delicious | food tasty | delicious",
           42
          ],
          [
           43,
           "spicy | spicy spicy | spicy food | spicy good | taste spicy",
           41
          ],
          [
           44,
           "nice nice | nice | nice rider | person nice | rider",
           41
          ],
          [
           45,
           "excellent excellent | excellent | awsome | great great | excellent great",
           37
          ],
          [
           46,
           "haleem | pista house | pista | haleem good | house",
           37
          ],
          [
           47,
           "waffle | waffles | tea | pancakes | maple",
           36
          ],
          [
           48,
           "andhra | authentic andhra | kodi | authentic | pulav",
           34
          ],
          [
           49,
           "wings | chicken wings | wild | sauces | chicken",
           34
          ],
          [
           50,
           "chai | irani | irani chai | karachi | cafe",
           33
          ],
          [
           51,
           "sizzlers | sizzler | absolute | absolute sizzlers | absolute sizzler",
           32
          ],
          [
           52,
           "wrap | wraps | jumbo | chicken wrap | cheese",
           30
          ],
          [
           53,
           "awesome awesome | awesome | cool awesome | thank awesome | awesome cool",
           27
          ]
         ],
         "hovertemplate": "<b>Topic %{customdata[0]}</b><br>%{customdata[1]}<br>Size: %{customdata[2]}",
         "legendgroup": "",
         "marker": {
          "color": "#B0BEC5",
          "line": {
           "color": "DarkSlateGrey",
           "width": 2
          },
          "size": [
           1753,
           561,
           365,
           309,
           233,
           175,
           169,
           131,
           131,
           129,
           121,
           109,
           108,
           101,
           97,
           94,
           91,
           82,
           78,
           76,
           73,
           69,
           65,
           64,
           62,
           62,
           61,
           60,
           58,
           57,
           56,
           54,
           54,
           53,
           52,
           51,
           50,
           49,
           48,
           47,
           43,
           43,
           42,
           41,
           41,
           37,
           37,
           36,
           34,
           34,
           33,
           32,
           30,
           27
          ],
          "sizemode": "area",
          "sizeref": 1.095625,
          "symbol": "circle"
         },
         "mode": "markers",
         "name": "",
         "orientation": "v",
         "showlegend": false,
         "type": "scatter",
         "x": [
          17.973920822143555,
          3.7789723873138428,
          18.355182647705078,
          9.26778793334961,
          2.712153673171997,
          18.37346076965332,
          0.9398888945579529,
          17.833984375,
          -8.946059226989746,
          -8.477493286132812,
          3.3843228816986084,
          3.9341514110565186,
          15.336625099182129,
          -8.477479934692383,
          8.987703323364258,
          -8.979042053222656,
          16.45954132080078,
          -4.51836633682251,
          16.202342987060547,
          18.68467140197754,
          0.7850211262702942,
          4.528043270111084,
          4.8193135261535645,
          -8.904500007629395,
          12.310274124145508,
          16.565853118896484,
          3.087590456008911,
          0.7042473554611206,
          9.467231750488281,
          3.1775286197662354,
          3.1973392963409424,
          4.142861843109131,
          0.43442776799201965,
          9.353991508483887,
          0.6597890853881836,
          -4.518521785736084,
          17.725467681884766,
          16.2349910736084,
          15.366869926452637,
          0.6484352350234985,
          12.062058448791504,
          12.165172576904297,
          0.6298471093177795,
          0.8559365272521973,
          8.5529203414917,
          9.229719161987305,
          4.09229850769043,
          0.7758668661117554,
          3.070178747177124,
          3.822528123855591,
          2.9450414180755615,
          17.720748901367188,
          4.9057722091674805,
          8.683480262756348
         ],
         "xaxis": "x",
         "y": [
          9.704618453979492,
          12.119580268859863,
          9.71180248260498,
          -0.48833760619163513,
          13.158562660217285,
          9.790143966674805,
          -2.9714345932006836,
          9.732913970947266,
          -1.7555071115493774,
          5.311026096343994,
          11.905410766601562,
          11.825278282165527,
          16.126211166381836,
          5.311018943786621,
          -0.4025329053401947,
          -1.7223501205444336,
          6.311259746551514,
          -6.160177230834961,
          6.570366382598877,
          10.019930839538574,
          -2.8172760009765625,
          11.147908210754395,
          10.836660385131836,
          -1.7969645261764526,
          17.717634201049805,
          6.2065300941467285,
          13.213330268859863,
          -2.736553907394409,
          -0.8210368156433105,
          11.81606674194336,
          13.52481746673584,
          12.105722427368164,
          2.569007158279419,
          -0.8277077078819275,
          -2.692563772201538,
          -6.160422325134277,
          9.51402759552002,
          6.536122798919678,
          16.09674644470215,
          2.78281831741333,
          17.965810775756836,
          17.862760543823242,
          2.7643449306488037,
          2.9897232055664062,
          -0.3567200005054474,
          -0.4438241422176361,
          11.823027610778809,
          -2.80798602104187,
          12.997968673706055,
          11.828500747680664,
          12.904531478881836,
          9.773706436157227,
          10.747544288635254,
          -0.4536481201648712
         ],
         "yaxis": "y"
        }
       ],
       "layout": {
        "annotations": [
         {
          "showarrow": false,
          "text": "D1",
          "x": -10.325898361206054,
          "y": 6.788098359107971,
          "yshift": 10
         },
         {
          "showarrow": false,
          "text": "D2",
          "x": 5.580736875534058,
          "xshift": 10,
          "y": 20.66068239212036
         }
        ],
        "height": 650,
        "hoverlabel": {
         "bgcolor": "white",
         "font": {
          "family": "Rockwell",
          "size": 16
         }
        },
        "legend": {
         "itemsizing": "constant",
         "tracegroupgap": 0
        },
        "margin": {
         "t": 60
        },
        "shapes": [
         {
          "line": {
           "color": "#CFD8DC",
           "width": 2
          },
          "type": "line",
          "x0": 5.580736875534058,
          "x1": 5.580736875534058,
          "y0": -7.084485673904419,
          "y1": 20.66068239212036
         },
         {
          "line": {
           "color": "#9E9E9E",
           "width": 2
          },
          "type": "line",
          "x0": -10.325898361206054,
          "x1": 21.48737211227417,
          "y0": 6.788098359107971,
          "y1": 6.788098359107971
         }
        ],
        "sliders": [
         {
          "active": 0,
          "pad": {
           "t": 50
          },
          "steps": [
           {
            "args": [
             {
              "marker.color": [
               [
                "red",
                "#B0BEC5",
                "#B0BEC5",
                "#B0BEC5",
                "#B0BEC5",
                "#B0BEC5",
                "#B0BEC5",
                "#B0BEC5",
                "#B0BEC5",
                "#B0BEC5",
                "#B0BEC5",
                "#B0BEC5",
                "#B0BEC5",
                "#B0BEC5",
                "#B0BEC5",
                "#B0BEC5",
                "#B0BEC5",
                "#B0BEC5",
                "#B0BEC5",
                "#B0BEC5",
                "#B0BEC5",
                "#B0BEC5",
                "#B0BEC5",
                "#B0BEC5",
                "#B0BEC5",
                "#B0BEC5",
                "#B0BEC5",
                "#B0BEC5",
                "#B0BEC5",
                "#B0BEC5",
                "#B0BEC5",
                "#B0BEC5",
                "#B0BEC5",
                "#B0BEC5",
                "#B0BEC5",
                "#B0BEC5",
                "#B0BEC5",
                "#B0BEC5",
                "#B0BEC5",
                "#B0BEC5",
                "#B0BEC5",
                "#B0BEC5",
                "#B0BEC5",
                "#B0BEC5",
                "#B0BEC5",
                "#B0BEC5",
                "#B0BEC5",
                "#B0BEC5",
                "#B0BEC5",
                "#B0BEC5",
                "#B0BEC5",
                "#B0BEC5",
                "#B0BEC5",
                "#B0BEC5"
               ]
              ]
             }
            ],
            "label": "Topic 0",
            "method": "update"
           },
           {
            "args": [
             {
              "marker.color": [
               [
                "#B0BEC5",
                "red",
                "#B0BEC5",
                "#B0BEC5",
                "#B0BEC5",
                "#B0BEC5",
                "#B0BEC5",
                "#B0BEC5",
                "#B0BEC5",
                "#B0BEC5",
                "#B0BEC5",
                "#B0BEC5",
                "#B0BEC5",
                "#B0BEC5",
                "#B0BEC5",
                "#B0BEC5",
                "#B0BEC5",
                "#B0BEC5",
                "#B0BEC5",
                "#B0BEC5",
                "#B0BEC5",
                "#B0BEC5",
                "#B0BEC5",
                "#B0BEC5",
                "#B0BEC5",
                "#B0BEC5",
                "#B0BEC5",
                "#B0BEC5",
                "#B0BEC5",
                "#B0BEC5",
                "#B0BEC5",
                "#B0BEC5",
                "#B0BEC5",
                "#B0BEC5",
                "#B0BEC5",
                "#B0BEC5",
                "#B0BEC5",
                "#B0BEC5",
                "#B0BEC5",
                "#B0BEC5",
                "#B0BEC5",
                "#B0BEC5",
                "#B0BEC5",
                "#B0BEC5",
                "#B0BEC5",
                "#B0BEC5",
                "#B0BEC5",
                "#B0BEC5",
                "#B0BEC5",
                "#B0BEC5",
                "#B0BEC5",
                "#B0BEC5",
                "#B0BEC5",
                "#B0BEC5"
               ]
              ]
             }
            ],
            "label": "Topic 1",
            "method": "update"
           },
           {
            "args": [
             {
              "marker.color": [
               [
                "#B0BEC5",
                "#B0BEC5",
                "red",
                "#B0BEC5",
                "#B0BEC5",
                "#B0BEC5",
                "#B0BEC5",
                "#B0BEC5",
                "#B0BEC5",
                "#B0BEC5",
                "#B0BEC5",
                "#B0BEC5",
                "#B0BEC5",
                "#B0BEC5",
                "#B0BEC5",
                "#B0BEC5",
                "#B0BEC5",
                "#B0BEC5",
                "#B0BEC5",
                "#B0BEC5",
                "#B0BEC5",
                "#B0BEC5",
                "#B0BEC5",
                "#B0BEC5",
                "#B0BEC5",
                "#B0BEC5",
                "#B0BEC5",
                "#B0BEC5",
                "#B0BEC5",
                "#B0BEC5",
                "#B0BEC5",
                "#B0BEC5",
                "#B0BEC5",
                "#B0BEC5",
                "#B0BEC5",
                "#B0BEC5",
                "#B0BEC5",
                "#B0BEC5",
                "#B0BEC5",
                "#B0BEC5",
                "#B0BEC5",
                "#B0BEC5",
                "#B0BEC5",
                "#B0BEC5",
                "#B0BEC5",
                "#B0BEC5",
                "#B0BEC5",
                "#B0BEC5",
                "#B0BEC5",
                "#B0BEC5",
                "#B0BEC5",
                "#B0BEC5",
                "#B0BEC5",
                "#B0BEC5"
               ]
              ]
             }
            ],
            "label": "Topic 2",
            "method": "update"
           },
           {
            "args": [
             {
              "marker.color": [
               [
                "#B0BEC5",
                "#B0BEC5",
                "#B0BEC5",
                "red",
                "#B0BEC5",
                "#B0BEC5",
                "#B0BEC5",
                "#B0BEC5",
                "#B0BEC5",
                "#B0BEC5",
                "#B0BEC5",
                "#B0BEC5",
                "#B0BEC5",
                "#B0BEC5",
                "#B0BEC5",
                "#B0BEC5",
                "#B0BEC5",
                "#B0BEC5",
                "#B0BEC5",
                "#B0BEC5",
                "#B0BEC5",
                "#B0BEC5",
                "#B0BEC5",
                "#B0BEC5",
                "#B0BEC5",
                "#B0BEC5",
                "#B0BEC5",
                "#B0BEC5",
                "#B0BEC5",
                "#B0BEC5",
                "#B0BEC5",
                "#B0BEC5",
                "#B0BEC5",
                "#B0BEC5",
                "#B0BEC5",
                "#B0BEC5",
                "#B0BEC5",
                "#B0BEC5",
                "#B0BEC5",
                "#B0BEC5",
                "#B0BEC5",
                "#B0BEC5",
                "#B0BEC5",
                "#B0BEC5",
                "#B0BEC5",
                "#B0BEC5",
                "#B0BEC5",
                "#B0BEC5",
                "#B0BEC5",
                "#B0BEC5",
                "#B0BEC5",
                "#B0BEC5",
                "#B0BEC5",
                "#B0BEC5"
               ]
              ]
             }
            ],
            "label": "Topic 3",
            "method": "update"
           },
           {
            "args": [
             {
              "marker.color": [
               [
                "#B0BEC5",
                "#B0BEC5",
                "#B0BEC5",
                "#B0BEC5",
                "red",
                "#B0BEC5",
                "#B0BEC5",
                "#B0BEC5",
                "#B0BEC5",
                "#B0BEC5",
                "#B0BEC5",
                "#B0BEC5",
                "#B0BEC5",
                "#B0BEC5",
                "#B0BEC5",
                "#B0BEC5",
                "#B0BEC5",
                "#B0BEC5",
                "#B0BEC5",
                "#B0BEC5",
                "#B0BEC5",
                "#B0BEC5",
                "#B0BEC5",
                "#B0BEC5",
                "#B0BEC5",
                "#B0BEC5",
                "#B0BEC5",
                "#B0BEC5",
                "#B0BEC5",
                "#B0BEC5",
                "#B0BEC5",
                "#B0BEC5",
                "#B0BEC5",
                "#B0BEC5",
                "#B0BEC5",
                "#B0BEC5",
                "#B0BEC5",
                "#B0BEC5",
                "#B0BEC5",
                "#B0BEC5",
                "#B0BEC5",
                "#B0BEC5",
                "#B0BEC5",
                "#B0BEC5",
                "#B0BEC5",
                "#B0BEC5",
                "#B0BEC5",
                "#B0BEC5",
                "#B0BEC5",
                "#B0BEC5",
                "#B0BEC5",
                "#B0BEC5",
                "#B0BEC5",
                "#B0BEC5"
               ]
              ]
             }
            ],
            "label": "Topic 4",
            "method": "update"
           },
           {
            "args": [
             {
              "marker.color": [
               [
                "#B0BEC5",
                "#B0BEC5",
                "#B0BEC5",
                "#B0BEC5",
                "#B0BEC5",
                "red",
                "#B0BEC5",
                "#B0BEC5",
                "#B0BEC5",
                "#B0BEC5",
                "#B0BEC5",
                "#B0BEC5",
                "#B0BEC5",
                "#B0BEC5",
                "#B0BEC5",
                "#B0BEC5",
                "#B0BEC5",
                "#B0BEC5",
                "#B0BEC5",
                "#B0BEC5",
                "#B0BEC5",
                "#B0BEC5",
                "#B0BEC5",
                "#B0BEC5",
                "#B0BEC5",
                "#B0BEC5",
                "#B0BEC5",
                "#B0BEC5",
                "#B0BEC5",
                "#B0BEC5",
                "#B0BEC5",
                "#B0BEC5",
                "#B0BEC5",
                "#B0BEC5",
                "#B0BEC5",
                "#B0BEC5",
                "#B0BEC5",
                "#B0BEC5",
                "#B0BEC5",
                "#B0BEC5",
                "#B0BEC5",
                "#B0BEC5",
                "#B0BEC5",
                "#B0BEC5",
                "#B0BEC5",
                "#B0BEC5",
                "#B0BEC5",
                "#B0BEC5",
                "#B0BEC5",
                "#B0BEC5",
                "#B0BEC5",
                "#B0BEC5",
                "#B0BEC5",
                "#B0BEC5"
               ]
              ]
             }
            ],
            "label": "Topic 5",
            "method": "update"
           },
           {
            "args": [
             {
              "marker.color": [
               [
                "#B0BEC5",
                "#B0BEC5",
                "#B0BEC5",
                "#B0BEC5",
                "#B0BEC5",
                "#B0BEC5",
                "red",
                "#B0BEC5",
                "#B0BEC5",
                "#B0BEC5",
                "#B0BEC5",
                "#B0BEC5",
                "#B0BEC5",
                "#B0BEC5",
                "#B0BEC5",
                "#B0BEC5",
                "#B0BEC5",
                "#B0BEC5",
                "#B0BEC5",
                "#B0BEC5",
                "#B0BEC5",
                "#B0BEC5",
                "#B0BEC5",
                "#B0BEC5",
                "#B0BEC5",
                "#B0BEC5",
                "#B0BEC5",
                "#B0BEC5",
                "#B0BEC5",
                "#B0BEC5",
                "#B0BEC5",
                "#B0BEC5",
                "#B0BEC5",
                "#B0BEC5",
                "#B0BEC5",
                "#B0BEC5",
                "#B0BEC5",
                "#B0BEC5",
                "#B0BEC5",
                "#B0BEC5",
                "#B0BEC5",
                "#B0BEC5",
                "#B0BEC5",
                "#B0BEC5",
                "#B0BEC5",
                "#B0BEC5",
                "#B0BEC5",
                "#B0BEC5",
                "#B0BEC5",
                "#B0BEC5",
                "#B0BEC5",
                "#B0BEC5",
                "#B0BEC5",
                "#B0BEC5"
               ]
              ]
             }
            ],
            "label": "Topic 6",
            "method": "update"
           },
           {
            "args": [
             {
              "marker.color": [
               [
                "#B0BEC5",
                "#B0BEC5",
                "#B0BEC5",
                "#B0BEC5",
                "#B0BEC5",
                "#B0BEC5",
                "#B0BEC5",
                "red",
                "#B0BEC5",
                "#B0BEC5",
                "#B0BEC5",
                "#B0BEC5",
                "#B0BEC5",
                "#B0BEC5",
                "#B0BEC5",
                "#B0BEC5",
                "#B0BEC5",
                "#B0BEC5",
                "#B0BEC5",
                "#B0BEC5",
                "#B0BEC5",
                "#B0BEC5",
                "#B0BEC5",
                "#B0BEC5",
                "#B0BEC5",
                "#B0BEC5",
                "#B0BEC5",
                "#B0BEC5",
                "#B0BEC5",
                "#B0BEC5",
                "#B0BEC5",
                "#B0BEC5",
                "#B0BEC5",
                "#B0BEC5",
                "#B0BEC5",
                "#B0BEC5",
                "#B0BEC5",
                "#B0BEC5",
                "#B0BEC5",
                "#B0BEC5",
                "#B0BEC5",
                "#B0BEC5",
                "#B0BEC5",
                "#B0BEC5",
                "#B0BEC5",
                "#B0BEC5",
                "#B0BEC5",
                "#B0BEC5",
                "#B0BEC5",
                "#B0BEC5",
                "#B0BEC5",
                "#B0BEC5",
                "#B0BEC5",
                "#B0BEC5"
               ]
              ]
             }
            ],
            "label": "Topic 7",
            "method": "update"
           },
           {
            "args": [
             {
              "marker.color": [
               [
                "#B0BEC5",
                "#B0BEC5",
                "#B0BEC5",
                "#B0BEC5",
                "#B0BEC5",
                "#B0BEC5",
                "#B0BEC5",
                "#B0BEC5",
                "red",
                "#B0BEC5",
                "#B0BEC5",
                "#B0BEC5",
                "#B0BEC5",
                "#B0BEC5",
                "#B0BEC5",
                "#B0BEC5",
                "#B0BEC5",
                "#B0BEC5",
                "#B0BEC5",
                "#B0BEC5",
                "#B0BEC5",
                "#B0BEC5",
                "#B0BEC5",
                "#B0BEC5",
                "#B0BEC5",
                "#B0BEC5",
                "#B0BEC5",
                "#B0BEC5",
                "#B0BEC5",
                "#B0BEC5",
                "#B0BEC5",
                "#B0BEC5",
                "#B0BEC5",
                "#B0BEC5",
                "#B0BEC5",
                "#B0BEC5",
                "#B0BEC5",
                "#B0BEC5",
                "#B0BEC5",
                "#B0BEC5",
                "#B0BEC5",
                "#B0BEC5",
                "#B0BEC5",
                "#B0BEC5",
                "#B0BEC5",
                "#B0BEC5",
                "#B0BEC5",
                "#B0BEC5",
                "#B0BEC5",
                "#B0BEC5",
                "#B0BEC5",
                "#B0BEC5",
                "#B0BEC5",
                "#B0BEC5"
               ]
              ]
             }
            ],
            "label": "Topic 8",
            "method": "update"
           },
           {
            "args": [
             {
              "marker.color": [
               [
                "#B0BEC5",
                "#B0BEC5",
                "#B0BEC5",
                "#B0BEC5",
                "#B0BEC5",
                "#B0BEC5",
                "#B0BEC5",
                "#B0BEC5",
                "#B0BEC5",
                "red",
                "#B0BEC5",
                "#B0BEC5",
                "#B0BEC5",
                "#B0BEC5",
                "#B0BEC5",
                "#B0BEC5",
                "#B0BEC5",
                "#B0BEC5",
                "#B0BEC5",
                "#B0BEC5",
                "#B0BEC5",
                "#B0BEC5",
                "#B0BEC5",
                "#B0BEC5",
                "#B0BEC5",
                "#B0BEC5",
                "#B0BEC5",
                "#B0BEC5",
                "#B0BEC5",
                "#B0BEC5",
                "#B0BEC5",
                "#B0BEC5",
                "#B0BEC5",
                "#B0BEC5",
                "#B0BEC5",
                "#B0BEC5",
                "#B0BEC5",
                "#B0BEC5",
                "#B0BEC5",
                "#B0BEC5",
                "#B0BEC5",
                "#B0BEC5",
                "#B0BEC5",
                "#B0BEC5",
                "#B0BEC5",
                "#B0BEC5",
                "#B0BEC5",
                "#B0BEC5",
                "#B0BEC5",
                "#B0BEC5",
                "#B0BEC5",
                "#B0BEC5",
                "#B0BEC5",
                "#B0BEC5"
               ]
              ]
             }
            ],
            "label": "Topic 9",
            "method": "update"
           },
           {
            "args": [
             {
              "marker.color": [
               [
                "#B0BEC5",
                "#B0BEC5",
                "#B0BEC5",
                "#B0BEC5",
                "#B0BEC5",
                "#B0BEC5",
                "#B0BEC5",
                "#B0BEC5",
                "#B0BEC5",
                "#B0BEC5",
                "red",
                "#B0BEC5",
                "#B0BEC5",
                "#B0BEC5",
                "#B0BEC5",
                "#B0BEC5",
                "#B0BEC5",
                "#B0BEC5",
                "#B0BEC5",
                "#B0BEC5",
                "#B0BEC5",
                "#B0BEC5",
                "#B0BEC5",
                "#B0BEC5",
                "#B0BEC5",
                "#B0BEC5",
                "#B0BEC5",
                "#B0BEC5",
                "#B0BEC5",
                "#B0BEC5",
                "#B0BEC5",
                "#B0BEC5",
                "#B0BEC5",
                "#B0BEC5",
                "#B0BEC5",
                "#B0BEC5",
                "#B0BEC5",
                "#B0BEC5",
                "#B0BEC5",
                "#B0BEC5",
                "#B0BEC5",
                "#B0BEC5",
                "#B0BEC5",
                "#B0BEC5",
                "#B0BEC5",
                "#B0BEC5",
                "#B0BEC5",
                "#B0BEC5",
                "#B0BEC5",
                "#B0BEC5",
                "#B0BEC5",
                "#B0BEC5",
                "#B0BEC5",
                "#B0BEC5"
               ]
              ]
             }
            ],
            "label": "Topic 10",
            "method": "update"
           },
           {
            "args": [
             {
              "marker.color": [
               [
                "#B0BEC5",
                "#B0BEC5",
                "#B0BEC5",
                "#B0BEC5",
                "#B0BEC5",
                "#B0BEC5",
                "#B0BEC5",
                "#B0BEC5",
                "#B0BEC5",
                "#B0BEC5",
                "#B0BEC5",
                "red",
                "#B0BEC5",
                "#B0BEC5",
                "#B0BEC5",
                "#B0BEC5",
                "#B0BEC5",
                "#B0BEC5",
                "#B0BEC5",
                "#B0BEC5",
                "#B0BEC5",
                "#B0BEC5",
                "#B0BEC5",
                "#B0BEC5",
                "#B0BEC5",
                "#B0BEC5",
                "#B0BEC5",
                "#B0BEC5",
                "#B0BEC5",
                "#B0BEC5",
                "#B0BEC5",
                "#B0BEC5",
                "#B0BEC5",
                "#B0BEC5",
                "#B0BEC5",
                "#B0BEC5",
                "#B0BEC5",
                "#B0BEC5",
                "#B0BEC5",
                "#B0BEC5",
                "#B0BEC5",
                "#B0BEC5",
                "#B0BEC5",
                "#B0BEC5",
                "#B0BEC5",
                "#B0BEC5",
                "#B0BEC5",
                "#B0BEC5",
                "#B0BEC5",
                "#B0BEC5",
                "#B0BEC5",
                "#B0BEC5",
                "#B0BEC5",
                "#B0BEC5"
               ]
              ]
             }
            ],
            "label": "Topic 11",
            "method": "update"
           },
           {
            "args": [
             {
              "marker.color": [
               [
                "#B0BEC5",
                "#B0BEC5",
                "#B0BEC5",
                "#B0BEC5",
                "#B0BEC5",
                "#B0BEC5",
                "#B0BEC5",
                "#B0BEC5",
                "#B0BEC5",
                "#B0BEC5",
                "#B0BEC5",
                "#B0BEC5",
                "red",
                "#B0BEC5",
                "#B0BEC5",
                "#B0BEC5",
                "#B0BEC5",
                "#B0BEC5",
                "#B0BEC5",
                "#B0BEC5",
                "#B0BEC5",
                "#B0BEC5",
                "#B0BEC5",
                "#B0BEC5",
                "#B0BEC5",
                "#B0BEC5",
                "#B0BEC5",
                "#B0BEC5",
                "#B0BEC5",
                "#B0BEC5",
                "#B0BEC5",
                "#B0BEC5",
                "#B0BEC5",
                "#B0BEC5",
                "#B0BEC5",
                "#B0BEC5",
                "#B0BEC5",
                "#B0BEC5",
                "#B0BEC5",
                "#B0BEC5",
                "#B0BEC5",
                "#B0BEC5",
                "#B0BEC5",
                "#B0BEC5",
                "#B0BEC5",
                "#B0BEC5",
                "#B0BEC5",
                "#B0BEC5",
                "#B0BEC5",
                "#B0BEC5",
                "#B0BEC5",
                "#B0BEC5",
                "#B0BEC5",
                "#B0BEC5"
               ]
              ]
             }
            ],
            "label": "Topic 12",
            "method": "update"
           },
           {
            "args": [
             {
              "marker.color": [
               [
                "#B0BEC5",
                "#B0BEC5",
                "#B0BEC5",
                "#B0BEC5",
                "#B0BEC5",
                "#B0BEC5",
                "#B0BEC5",
                "#B0BEC5",
                "#B0BEC5",
                "#B0BEC5",
                "#B0BEC5",
                "#B0BEC5",
                "#B0BEC5",
                "red",
                "#B0BEC5",
                "#B0BEC5",
                "#B0BEC5",
                "#B0BEC5",
                "#B0BEC5",
                "#B0BEC5",
                "#B0BEC5",
                "#B0BEC5",
                "#B0BEC5",
                "#B0BEC5",
                "#B0BEC5",
                "#B0BEC5",
                "#B0BEC5",
                "#B0BEC5",
                "#B0BEC5",
                "#B0BEC5",
                "#B0BEC5",
                "#B0BEC5",
                "#B0BEC5",
                "#B0BEC5",
                "#B0BEC5",
                "#B0BEC5",
                "#B0BEC5",
                "#B0BEC5",
                "#B0BEC5",
                "#B0BEC5",
                "#B0BEC5",
                "#B0BEC5",
                "#B0BEC5",
                "#B0BEC5",
                "#B0BEC5",
                "#B0BEC5",
                "#B0BEC5",
                "#B0BEC5",
                "#B0BEC5",
                "#B0BEC5",
                "#B0BEC5",
                "#B0BEC5",
                "#B0BEC5",
                "#B0BEC5"
               ]
              ]
             }
            ],
            "label": "Topic 13",
            "method": "update"
           },
           {
            "args": [
             {
              "marker.color": [
               [
                "#B0BEC5",
                "#B0BEC5",
                "#B0BEC5",
                "#B0BEC5",
                "#B0BEC5",
                "#B0BEC5",
                "#B0BEC5",
                "#B0BEC5",
                "#B0BEC5",
                "#B0BEC5",
                "#B0BEC5",
                "#B0BEC5",
                "#B0BEC5",
                "#B0BEC5",
                "red",
                "#B0BEC5",
                "#B0BEC5",
                "#B0BEC5",
                "#B0BEC5",
                "#B0BEC5",
                "#B0BEC5",
                "#B0BEC5",
                "#B0BEC5",
                "#B0BEC5",
                "#B0BEC5",
                "#B0BEC5",
                "#B0BEC5",
                "#B0BEC5",
                "#B0BEC5",
                "#B0BEC5",
                "#B0BEC5",
                "#B0BEC5",
                "#B0BEC5",
                "#B0BEC5",
                "#B0BEC5",
                "#B0BEC5",
                "#B0BEC5",
                "#B0BEC5",
                "#B0BEC5",
                "#B0BEC5",
                "#B0BEC5",
                "#B0BEC5",
                "#B0BEC5",
                "#B0BEC5",
                "#B0BEC5",
                "#B0BEC5",
                "#B0BEC5",
                "#B0BEC5",
                "#B0BEC5",
                "#B0BEC5",
                "#B0BEC5",
                "#B0BEC5",
                "#B0BEC5",
                "#B0BEC5"
               ]
              ]
             }
            ],
            "label": "Topic 14",
            "method": "update"
           },
           {
            "args": [
             {
              "marker.color": [
               [
                "#B0BEC5",
                "#B0BEC5",
                "#B0BEC5",
                "#B0BEC5",
                "#B0BEC5",
                "#B0BEC5",
                "#B0BEC5",
                "#B0BEC5",
                "#B0BEC5",
                "#B0BEC5",
                "#B0BEC5",
                "#B0BEC5",
                "#B0BEC5",
                "#B0BEC5",
                "#B0BEC5",
                "red",
                "#B0BEC5",
                "#B0BEC5",
                "#B0BEC5",
                "#B0BEC5",
                "#B0BEC5",
                "#B0BEC5",
                "#B0BEC5",
                "#B0BEC5",
                "#B0BEC5",
                "#B0BEC5",
                "#B0BEC5",
                "#B0BEC5",
                "#B0BEC5",
                "#B0BEC5",
                "#B0BEC5",
                "#B0BEC5",
                "#B0BEC5",
                "#B0BEC5",
                "#B0BEC5",
                "#B0BEC5",
                "#B0BEC5",
                "#B0BEC5",
                "#B0BEC5",
                "#B0BEC5",
                "#B0BEC5",
                "#B0BEC5",
                "#B0BEC5",
                "#B0BEC5",
                "#B0BEC5",
                "#B0BEC5",
                "#B0BEC5",
                "#B0BEC5",
                "#B0BEC5",
                "#B0BEC5",
                "#B0BEC5",
                "#B0BEC5",
                "#B0BEC5",
                "#B0BEC5"
               ]
              ]
             }
            ],
            "label": "Topic 15",
            "method": "update"
           },
           {
            "args": [
             {
              "marker.color": [
               [
                "#B0BEC5",
                "#B0BEC5",
                "#B0BEC5",
                "#B0BEC5",
                "#B0BEC5",
                "#B0BEC5",
                "#B0BEC5",
                "#B0BEC5",
                "#B0BEC5",
                "#B0BEC5",
                "#B0BEC5",
                "#B0BEC5",
                "#B0BEC5",
                "#B0BEC5",
                "#B0BEC5",
                "#B0BEC5",
                "red",
                "#B0BEC5",
                "#B0BEC5",
                "#B0BEC5",
                "#B0BEC5",
                "#B0BEC5",
                "#B0BEC5",
                "#B0BEC5",
                "#B0BEC5",
                "#B0BEC5",
                "#B0BEC5",
                "#B0BEC5",
                "#B0BEC5",
                "#B0BEC5",
                "#B0BEC5",
                "#B0BEC5",
                "#B0BEC5",
                "#B0BEC5",
                "#B0BEC5",
                "#B0BEC5",
                "#B0BEC5",
                "#B0BEC5",
                "#B0BEC5",
                "#B0BEC5",
                "#B0BEC5",
                "#B0BEC5",
                "#B0BEC5",
                "#B0BEC5",
                "#B0BEC5",
                "#B0BEC5",
                "#B0BEC5",
                "#B0BEC5",
                "#B0BEC5",
                "#B0BEC5",
                "#B0BEC5",
                "#B0BEC5",
                "#B0BEC5",
                "#B0BEC5"
               ]
              ]
             }
            ],
            "label": "Topic 16",
            "method": "update"
           },
           {
            "args": [
             {
              "marker.color": [
               [
                "#B0BEC5",
                "#B0BEC5",
                "#B0BEC5",
                "#B0BEC5",
                "#B0BEC5",
                "#B0BEC5",
                "#B0BEC5",
                "#B0BEC5",
                "#B0BEC5",
                "#B0BEC5",
                "#B0BEC5",
                "#B0BEC5",
                "#B0BEC5",
                "#B0BEC5",
                "#B0BEC5",
                "#B0BEC5",
                "#B0BEC5",
                "red",
                "#B0BEC5",
                "#B0BEC5",
                "#B0BEC5",
                "#B0BEC5",
                "#B0BEC5",
                "#B0BEC5",
                "#B0BEC5",
                "#B0BEC5",
                "#B0BEC5",
                "#B0BEC5",
                "#B0BEC5",
                "#B0BEC5",
                "#B0BEC5",
                "#B0BEC5",
                "#B0BEC5",
                "#B0BEC5",
                "#B0BEC5",
                "#B0BEC5",
                "#B0BEC5",
                "#B0BEC5",
                "#B0BEC5",
                "#B0BEC5",
                "#B0BEC5",
                "#B0BEC5",
                "#B0BEC5",
                "#B0BEC5",
                "#B0BEC5",
                "#B0BEC5",
                "#B0BEC5",
                "#B0BEC5",
                "#B0BEC5",
                "#B0BEC5",
                "#B0BEC5",
                "#B0BEC5",
                "#B0BEC5",
                "#B0BEC5"
               ]
              ]
             }
            ],
            "label": "Topic 17",
            "method": "update"
           },
           {
            "args": [
             {
              "marker.color": [
               [
                "#B0BEC5",
                "#B0BEC5",
                "#B0BEC5",
                "#B0BEC5",
                "#B0BEC5",
                "#B0BEC5",
                "#B0BEC5",
                "#B0BEC5",
                "#B0BEC5",
                "#B0BEC5",
                "#B0BEC5",
                "#B0BEC5",
                "#B0BEC5",
                "#B0BEC5",
                "#B0BEC5",
                "#B0BEC5",
                "#B0BEC5",
                "#B0BEC5",
                "red",
                "#B0BEC5",
                "#B0BEC5",
                "#B0BEC5",
                "#B0BEC5",
                "#B0BEC5",
                "#B0BEC5",
                "#B0BEC5",
                "#B0BEC5",
                "#B0BEC5",
                "#B0BEC5",
                "#B0BEC5",
                "#B0BEC5",
                "#B0BEC5",
                "#B0BEC5",
                "#B0BEC5",
                "#B0BEC5",
                "#B0BEC5",
                "#B0BEC5",
                "#B0BEC5",
                "#B0BEC5",
                "#B0BEC5",
                "#B0BEC5",
                "#B0BEC5",
                "#B0BEC5",
                "#B0BEC5",
                "#B0BEC5",
                "#B0BEC5",
                "#B0BEC5",
                "#B0BEC5",
                "#B0BEC5",
                "#B0BEC5",
                "#B0BEC5",
                "#B0BEC5",
                "#B0BEC5",
                "#B0BEC5"
               ]
              ]
             }
            ],
            "label": "Topic 18",
            "method": "update"
           },
           {
            "args": [
             {
              "marker.color": [
               [
                "#B0BEC5",
                "#B0BEC5",
                "#B0BEC5",
                "#B0BEC5",
                "#B0BEC5",
                "#B0BEC5",
                "#B0BEC5",
                "#B0BEC5",
                "#B0BEC5",
                "#B0BEC5",
                "#B0BEC5",
                "#B0BEC5",
                "#B0BEC5",
                "#B0BEC5",
                "#B0BEC5",
                "#B0BEC5",
                "#B0BEC5",
                "#B0BEC5",
                "#B0BEC5",
                "red",
                "#B0BEC5",
                "#B0BEC5",
                "#B0BEC5",
                "#B0BEC5",
                "#B0BEC5",
                "#B0BEC5",
                "#B0BEC5",
                "#B0BEC5",
                "#B0BEC5",
                "#B0BEC5",
                "#B0BEC5",
                "#B0BEC5",
                "#B0BEC5",
                "#B0BEC5",
                "#B0BEC5",
                "#B0BEC5",
                "#B0BEC5",
                "#B0BEC5",
                "#B0BEC5",
                "#B0BEC5",
                "#B0BEC5",
                "#B0BEC5",
                "#B0BEC5",
                "#B0BEC5",
                "#B0BEC5",
                "#B0BEC5",
                "#B0BEC5",
                "#B0BEC5",
                "#B0BEC5",
                "#B0BEC5",
                "#B0BEC5",
                "#B0BEC5",
                "#B0BEC5",
                "#B0BEC5"
               ]
              ]
             }
            ],
            "label": "Topic 19",
            "method": "update"
           },
           {
            "args": [
             {
              "marker.color": [
               [
                "#B0BEC5",
                "#B0BEC5",
                "#B0BEC5",
                "#B0BEC5",
                "#B0BEC5",
                "#B0BEC5",
                "#B0BEC5",
                "#B0BEC5",
                "#B0BEC5",
                "#B0BEC5",
                "#B0BEC5",
                "#B0BEC5",
                "#B0BEC5",
                "#B0BEC5",
                "#B0BEC5",
                "#B0BEC5",
                "#B0BEC5",
                "#B0BEC5",
                "#B0BEC5",
                "#B0BEC5",
                "red",
                "#B0BEC5",
                "#B0BEC5",
                "#B0BEC5",
                "#B0BEC5",
                "#B0BEC5",
                "#B0BEC5",
                "#B0BEC5",
                "#B0BEC5",
                "#B0BEC5",
                "#B0BEC5",
                "#B0BEC5",
                "#B0BEC5",
                "#B0BEC5",
                "#B0BEC5",
                "#B0BEC5",
                "#B0BEC5",
                "#B0BEC5",
                "#B0BEC5",
                "#B0BEC5",
                "#B0BEC5",
                "#B0BEC5",
                "#B0BEC5",
                "#B0BEC5",
                "#B0BEC5",
                "#B0BEC5",
                "#B0BEC5",
                "#B0BEC5",
                "#B0BEC5",
                "#B0BEC5",
                "#B0BEC5",
                "#B0BEC5",
                "#B0BEC5",
                "#B0BEC5"
               ]
              ]
             }
            ],
            "label": "Topic 20",
            "method": "update"
           },
           {
            "args": [
             {
              "marker.color": [
               [
                "#B0BEC5",
                "#B0BEC5",
                "#B0BEC5",
                "#B0BEC5",
                "#B0BEC5",
                "#B0BEC5",
                "#B0BEC5",
                "#B0BEC5",
                "#B0BEC5",
                "#B0BEC5",
                "#B0BEC5",
                "#B0BEC5",
                "#B0BEC5",
                "#B0BEC5",
                "#B0BEC5",
                "#B0BEC5",
                "#B0BEC5",
                "#B0BEC5",
                "#B0BEC5",
                "#B0BEC5",
                "#B0BEC5",
                "red",
                "#B0BEC5",
                "#B0BEC5",
                "#B0BEC5",
                "#B0BEC5",
                "#B0BEC5",
                "#B0BEC5",
                "#B0BEC5",
                "#B0BEC5",
                "#B0BEC5",
                "#B0BEC5",
                "#B0BEC5",
                "#B0BEC5",
                "#B0BEC5",
                "#B0BEC5",
                "#B0BEC5",
                "#B0BEC5",
                "#B0BEC5",
                "#B0BEC5",
                "#B0BEC5",
                "#B0BEC5",
                "#B0BEC5",
                "#B0BEC5",
                "#B0BEC5",
                "#B0BEC5",
                "#B0BEC5",
                "#B0BEC5",
                "#B0BEC5",
                "#B0BEC5",
                "#B0BEC5",
                "#B0BEC5",
                "#B0BEC5",
                "#B0BEC5"
               ]
              ]
             }
            ],
            "label": "Topic 21",
            "method": "update"
           },
           {
            "args": [
             {
              "marker.color": [
               [
                "#B0BEC5",
                "#B0BEC5",
                "#B0BEC5",
                "#B0BEC5",
                "#B0BEC5",
                "#B0BEC5",
                "#B0BEC5",
                "#B0BEC5",
                "#B0BEC5",
                "#B0BEC5",
                "#B0BEC5",
                "#B0BEC5",
                "#B0BEC5",
                "#B0BEC5",
                "#B0BEC5",
                "#B0BEC5",
                "#B0BEC5",
                "#B0BEC5",
                "#B0BEC5",
                "#B0BEC5",
                "#B0BEC5",
                "#B0BEC5",
                "red",
                "#B0BEC5",
                "#B0BEC5",
                "#B0BEC5",
                "#B0BEC5",
                "#B0BEC5",
                "#B0BEC5",
                "#B0BEC5",
                "#B0BEC5",
                "#B0BEC5",
                "#B0BEC5",
                "#B0BEC5",
                "#B0BEC5",
                "#B0BEC5",
                "#B0BEC5",
                "#B0BEC5",
                "#B0BEC5",
                "#B0BEC5",
                "#B0BEC5",
                "#B0BEC5",
                "#B0BEC5",
                "#B0BEC5",
                "#B0BEC5",
                "#B0BEC5",
                "#B0BEC5",
                "#B0BEC5",
                "#B0BEC5",
                "#B0BEC5",
                "#B0BEC5",
                "#B0BEC5",
                "#B0BEC5",
                "#B0BEC5"
               ]
              ]
             }
            ],
            "label": "Topic 22",
            "method": "update"
           },
           {
            "args": [
             {
              "marker.color": [
               [
                "#B0BEC5",
                "#B0BEC5",
                "#B0BEC5",
                "#B0BEC5",
                "#B0BEC5",
                "#B0BEC5",
                "#B0BEC5",
                "#B0BEC5",
                "#B0BEC5",
                "#B0BEC5",
                "#B0BEC5",
                "#B0BEC5",
                "#B0BEC5",
                "#B0BEC5",
                "#B0BEC5",
                "#B0BEC5",
                "#B0BEC5",
                "#B0BEC5",
                "#B0BEC5",
                "#B0BEC5",
                "#B0BEC5",
                "#B0BEC5",
                "#B0BEC5",
                "red",
                "#B0BEC5",
                "#B0BEC5",
                "#B0BEC5",
                "#B0BEC5",
                "#B0BEC5",
                "#B0BEC5",
                "#B0BEC5",
                "#B0BEC5",
                "#B0BEC5",
                "#B0BEC5",
                "#B0BEC5",
                "#B0BEC5",
                "#B0BEC5",
                "#B0BEC5",
                "#B0BEC5",
                "#B0BEC5",
                "#B0BEC5",
                "#B0BEC5",
                "#B0BEC5",
                "#B0BEC5",
                "#B0BEC5",
                "#B0BEC5",
                "#B0BEC5",
                "#B0BEC5",
                "#B0BEC5",
                "#B0BEC5",
                "#B0BEC5",
                "#B0BEC5",
                "#B0BEC5",
                "#B0BEC5"
               ]
              ]
             }
            ],
            "label": "Topic 23",
            "method": "update"
           },
           {
            "args": [
             {
              "marker.color": [
               [
                "#B0BEC5",
                "#B0BEC5",
                "#B0BEC5",
                "#B0BEC5",
                "#B0BEC5",
                "#B0BEC5",
                "#B0BEC5",
                "#B0BEC5",
                "#B0BEC5",
                "#B0BEC5",
                "#B0BEC5",
                "#B0BEC5",
                "#B0BEC5",
                "#B0BEC5",
                "#B0BEC5",
                "#B0BEC5",
                "#B0BEC5",
                "#B0BEC5",
                "#B0BEC5",
                "#B0BEC5",
                "#B0BEC5",
                "#B0BEC5",
                "#B0BEC5",
                "#B0BEC5",
                "red",
                "#B0BEC5",
                "#B0BEC5",
                "#B0BEC5",
                "#B0BEC5",
                "#B0BEC5",
                "#B0BEC5",
                "#B0BEC5",
                "#B0BEC5",
                "#B0BEC5",
                "#B0BEC5",
                "#B0BEC5",
                "#B0BEC5",
                "#B0BEC5",
                "#B0BEC5",
                "#B0BEC5",
                "#B0BEC5",
                "#B0BEC5",
                "#B0BEC5",
                "#B0BEC5",
                "#B0BEC5",
                "#B0BEC5",
                "#B0BEC5",
                "#B0BEC5",
                "#B0BEC5",
                "#B0BEC5",
                "#B0BEC5",
                "#B0BEC5",
                "#B0BEC5",
                "#B0BEC5"
               ]
              ]
             }
            ],
            "label": "Topic 24",
            "method": "update"
           },
           {
            "args": [
             {
              "marker.color": [
               [
                "#B0BEC5",
                "#B0BEC5",
                "#B0BEC5",
                "#B0BEC5",
                "#B0BEC5",
                "#B0BEC5",
                "#B0BEC5",
                "#B0BEC5",
                "#B0BEC5",
                "#B0BEC5",
                "#B0BEC5",
                "#B0BEC5",
                "#B0BEC5",
                "#B0BEC5",
                "#B0BEC5",
                "#B0BEC5",
                "#B0BEC5",
                "#B0BEC5",
                "#B0BEC5",
                "#B0BEC5",
                "#B0BEC5",
                "#B0BEC5",
                "#B0BEC5",
                "#B0BEC5",
                "#B0BEC5",
                "red",
                "#B0BEC5",
                "#B0BEC5",
                "#B0BEC5",
                "#B0BEC5",
                "#B0BEC5",
                "#B0BEC5",
                "#B0BEC5",
                "#B0BEC5",
                "#B0BEC5",
                "#B0BEC5",
                "#B0BEC5",
                "#B0BEC5",
                "#B0BEC5",
                "#B0BEC5",
                "#B0BEC5",
                "#B0BEC5",
                "#B0BEC5",
                "#B0BEC5",
                "#B0BEC5",
                "#B0BEC5",
                "#B0BEC5",
                "#B0BEC5",
                "#B0BEC5",
                "#B0BEC5",
                "#B0BEC5",
                "#B0BEC5",
                "#B0BEC5",
                "#B0BEC5"
               ]
              ]
             }
            ],
            "label": "Topic 25",
            "method": "update"
           },
           {
            "args": [
             {
              "marker.color": [
               [
                "#B0BEC5",
                "#B0BEC5",
                "#B0BEC5",
                "#B0BEC5",
                "#B0BEC5",
                "#B0BEC5",
                "#B0BEC5",
                "#B0BEC5",
                "#B0BEC5",
                "#B0BEC5",
                "#B0BEC5",
                "#B0BEC5",
                "#B0BEC5",
                "#B0BEC5",
                "#B0BEC5",
                "#B0BEC5",
                "#B0BEC5",
                "#B0BEC5",
                "#B0BEC5",
                "#B0BEC5",
                "#B0BEC5",
                "#B0BEC5",
                "#B0BEC5",
                "#B0BEC5",
                "#B0BEC5",
                "#B0BEC5",
                "red",
                "#B0BEC5",
                "#B0BEC5",
                "#B0BEC5",
                "#B0BEC5",
                "#B0BEC5",
                "#B0BEC5",
                "#B0BEC5",
                "#B0BEC5",
                "#B0BEC5",
                "#B0BEC5",
                "#B0BEC5",
                "#B0BEC5",
                "#B0BEC5",
                "#B0BEC5",
                "#B0BEC5",
                "#B0BEC5",
                "#B0BEC5",
                "#B0BEC5",
                "#B0BEC5",
                "#B0BEC5",
                "#B0BEC5",
                "#B0BEC5",
                "#B0BEC5",
                "#B0BEC5",
                "#B0BEC5",
                "#B0BEC5",
                "#B0BEC5"
               ]
              ]
             }
            ],
            "label": "Topic 26",
            "method": "update"
           },
           {
            "args": [
             {
              "marker.color": [
               [
                "#B0BEC5",
                "#B0BEC5",
                "#B0BEC5",
                "#B0BEC5",
                "#B0BEC5",
                "#B0BEC5",
                "#B0BEC5",
                "#B0BEC5",
                "#B0BEC5",
                "#B0BEC5",
                "#B0BEC5",
                "#B0BEC5",
                "#B0BEC5",
                "#B0BEC5",
                "#B0BEC5",
                "#B0BEC5",
                "#B0BEC5",
                "#B0BEC5",
                "#B0BEC5",
                "#B0BEC5",
                "#B0BEC5",
                "#B0BEC5",
                "#B0BEC5",
                "#B0BEC5",
                "#B0BEC5",
                "#B0BEC5",
                "#B0BEC5",
                "red",
                "#B0BEC5",
                "#B0BEC5",
                "#B0BEC5",
                "#B0BEC5",
                "#B0BEC5",
                "#B0BEC5",
                "#B0BEC5",
                "#B0BEC5",
                "#B0BEC5",
                "#B0BEC5",
                "#B0BEC5",
                "#B0BEC5",
                "#B0BEC5",
                "#B0BEC5",
                "#B0BEC5",
                "#B0BEC5",
                "#B0BEC5",
                "#B0BEC5",
                "#B0BEC5",
                "#B0BEC5",
                "#B0BEC5",
                "#B0BEC5",
                "#B0BEC5",
                "#B0BEC5",
                "#B0BEC5",
                "#B0BEC5"
               ]
              ]
             }
            ],
            "label": "Topic 27",
            "method": "update"
           },
           {
            "args": [
             {
              "marker.color": [
               [
                "#B0BEC5",
                "#B0BEC5",
                "#B0BEC5",
                "#B0BEC5",
                "#B0BEC5",
                "#B0BEC5",
                "#B0BEC5",
                "#B0BEC5",
                "#B0BEC5",
                "#B0BEC5",
                "#B0BEC5",
                "#B0BEC5",
                "#B0BEC5",
                "#B0BEC5",
                "#B0BEC5",
                "#B0BEC5",
                "#B0BEC5",
                "#B0BEC5",
                "#B0BEC5",
                "#B0BEC5",
                "#B0BEC5",
                "#B0BEC5",
                "#B0BEC5",
                "#B0BEC5",
                "#B0BEC5",
                "#B0BEC5",
                "#B0BEC5",
                "#B0BEC5",
                "red",
                "#B0BEC5",
                "#B0BEC5",
                "#B0BEC5",
                "#B0BEC5",
                "#B0BEC5",
                "#B0BEC5",
                "#B0BEC5",
                "#B0BEC5",
                "#B0BEC5",
                "#B0BEC5",
                "#B0BEC5",
                "#B0BEC5",
                "#B0BEC5",
                "#B0BEC5",
                "#B0BEC5",
                "#B0BEC5",
                "#B0BEC5",
                "#B0BEC5",
                "#B0BEC5",
                "#B0BEC5",
                "#B0BEC5",
                "#B0BEC5",
                "#B0BEC5",
                "#B0BEC5",
                "#B0BEC5"
               ]
              ]
             }
            ],
            "label": "Topic 28",
            "method": "update"
           },
           {
            "args": [
             {
              "marker.color": [
               [
                "#B0BEC5",
                "#B0BEC5",
                "#B0BEC5",
                "#B0BEC5",
                "#B0BEC5",
                "#B0BEC5",
                "#B0BEC5",
                "#B0BEC5",
                "#B0BEC5",
                "#B0BEC5",
                "#B0BEC5",
                "#B0BEC5",
                "#B0BEC5",
                "#B0BEC5",
                "#B0BEC5",
                "#B0BEC5",
                "#B0BEC5",
                "#B0BEC5",
                "#B0BEC5",
                "#B0BEC5",
                "#B0BEC5",
                "#B0BEC5",
                "#B0BEC5",
                "#B0BEC5",
                "#B0BEC5",
                "#B0BEC5",
                "#B0BEC5",
                "#B0BEC5",
                "#B0BEC5",
                "red",
                "#B0BEC5",
                "#B0BEC5",
                "#B0BEC5",
                "#B0BEC5",
                "#B0BEC5",
                "#B0BEC5",
                "#B0BEC5",
                "#B0BEC5",
                "#B0BEC5",
                "#B0BEC5",
                "#B0BEC5",
                "#B0BEC5",
                "#B0BEC5",
                "#B0BEC5",
                "#B0BEC5",
                "#B0BEC5",
                "#B0BEC5",
                "#B0BEC5",
                "#B0BEC5",
                "#B0BEC5",
                "#B0BEC5",
                "#B0BEC5",
                "#B0BEC5",
                "#B0BEC5"
               ]
              ]
             }
            ],
            "label": "Topic 29",
            "method": "update"
           },
           {
            "args": [
             {
              "marker.color": [
               [
                "#B0BEC5",
                "#B0BEC5",
                "#B0BEC5",
                "#B0BEC5",
                "#B0BEC5",
                "#B0BEC5",
                "#B0BEC5",
                "#B0BEC5",
                "#B0BEC5",
                "#B0BEC5",
                "#B0BEC5",
                "#B0BEC5",
                "#B0BEC5",
                "#B0BEC5",
                "#B0BEC5",
                "#B0BEC5",
                "#B0BEC5",
                "#B0BEC5",
                "#B0BEC5",
                "#B0BEC5",
                "#B0BEC5",
                "#B0BEC5",
                "#B0BEC5",
                "#B0BEC5",
                "#B0BEC5",
                "#B0BEC5",
                "#B0BEC5",
                "#B0BEC5",
                "#B0BEC5",
                "#B0BEC5",
                "red",
                "#B0BEC5",
                "#B0BEC5",
                "#B0BEC5",
                "#B0BEC5",
                "#B0BEC5",
                "#B0BEC5",
                "#B0BEC5",
                "#B0BEC5",
                "#B0BEC5",
                "#B0BEC5",
                "#B0BEC5",
                "#B0BEC5",
                "#B0BEC5",
                "#B0BEC5",
                "#B0BEC5",
                "#B0BEC5",
                "#B0BEC5",
                "#B0BEC5",
                "#B0BEC5",
                "#B0BEC5",
                "#B0BEC5",
                "#B0BEC5",
                "#B0BEC5"
               ]
              ]
             }
            ],
            "label": "Topic 30",
            "method": "update"
           },
           {
            "args": [
             {
              "marker.color": [
               [
                "#B0BEC5",
                "#B0BEC5",
                "#B0BEC5",
                "#B0BEC5",
                "#B0BEC5",
                "#B0BEC5",
                "#B0BEC5",
                "#B0BEC5",
                "#B0BEC5",
                "#B0BEC5",
                "#B0BEC5",
                "#B0BEC5",
                "#B0BEC5",
                "#B0BEC5",
                "#B0BEC5",
                "#B0BEC5",
                "#B0BEC5",
                "#B0BEC5",
                "#B0BEC5",
                "#B0BEC5",
                "#B0BEC5",
                "#B0BEC5",
                "#B0BEC5",
                "#B0BEC5",
                "#B0BEC5",
                "#B0BEC5",
                "#B0BEC5",
                "#B0BEC5",
                "#B0BEC5",
                "#B0BEC5",
                "#B0BEC5",
                "red",
                "#B0BEC5",
                "#B0BEC5",
                "#B0BEC5",
                "#B0BEC5",
                "#B0BEC5",
                "#B0BEC5",
                "#B0BEC5",
                "#B0BEC5",
                "#B0BEC5",
                "#B0BEC5",
                "#B0BEC5",
                "#B0BEC5",
                "#B0BEC5",
                "#B0BEC5",
                "#B0BEC5",
                "#B0BEC5",
                "#B0BEC5",
                "#B0BEC5",
                "#B0BEC5",
                "#B0BEC5",
                "#B0BEC5",
                "#B0BEC5"
               ]
              ]
             }
            ],
            "label": "Topic 31",
            "method": "update"
           },
           {
            "args": [
             {
              "marker.color": [
               [
                "#B0BEC5",
                "#B0BEC5",
                "#B0BEC5",
                "#B0BEC5",
                "#B0BEC5",
                "#B0BEC5",
                "#B0BEC5",
                "#B0BEC5",
                "#B0BEC5",
                "#B0BEC5",
                "#B0BEC5",
                "#B0BEC5",
                "#B0BEC5",
                "#B0BEC5",
                "#B0BEC5",
                "#B0BEC5",
                "#B0BEC5",
                "#B0BEC5",
                "#B0BEC5",
                "#B0BEC5",
                "#B0BEC5",
                "#B0BEC5",
                "#B0BEC5",
                "#B0BEC5",
                "#B0BEC5",
                "#B0BEC5",
                "#B0BEC5",
                "#B0BEC5",
                "#B0BEC5",
                "#B0BEC5",
                "#B0BEC5",
                "#B0BEC5",
                "red",
                "#B0BEC5",
                "#B0BEC5",
                "#B0BEC5",
                "#B0BEC5",
                "#B0BEC5",
                "#B0BEC5",
                "#B0BEC5",
                "#B0BEC5",
                "#B0BEC5",
                "#B0BEC5",
                "#B0BEC5",
                "#B0BEC5",
                "#B0BEC5",
                "#B0BEC5",
                "#B0BEC5",
                "#B0BEC5",
                "#B0BEC5",
                "#B0BEC5",
                "#B0BEC5",
                "#B0BEC5",
                "#B0BEC5"
               ]
              ]
             }
            ],
            "label": "Topic 32",
            "method": "update"
           },
           {
            "args": [
             {
              "marker.color": [
               [
                "#B0BEC5",
                "#B0BEC5",
                "#B0BEC5",
                "#B0BEC5",
                "#B0BEC5",
                "#B0BEC5",
                "#B0BEC5",
                "#B0BEC5",
                "#B0BEC5",
                "#B0BEC5",
                "#B0BEC5",
                "#B0BEC5",
                "#B0BEC5",
                "#B0BEC5",
                "#B0BEC5",
                "#B0BEC5",
                "#B0BEC5",
                "#B0BEC5",
                "#B0BEC5",
                "#B0BEC5",
                "#B0BEC5",
                "#B0BEC5",
                "#B0BEC5",
                "#B0BEC5",
                "#B0BEC5",
                "#B0BEC5",
                "#B0BEC5",
                "#B0BEC5",
                "#B0BEC5",
                "#B0BEC5",
                "#B0BEC5",
                "#B0BEC5",
                "#B0BEC5",
                "red",
                "#B0BEC5",
                "#B0BEC5",
                "#B0BEC5",
                "#B0BEC5",
                "#B0BEC5",
                "#B0BEC5",
                "#B0BEC5",
                "#B0BEC5",
                "#B0BEC5",
                "#B0BEC5",
                "#B0BEC5",
                "#B0BEC5",
                "#B0BEC5",
                "#B0BEC5",
                "#B0BEC5",
                "#B0BEC5",
                "#B0BEC5",
                "#B0BEC5",
                "#B0BEC5",
                "#B0BEC5"
               ]
              ]
             }
            ],
            "label": "Topic 33",
            "method": "update"
           },
           {
            "args": [
             {
              "marker.color": [
               [
                "#B0BEC5",
                "#B0BEC5",
                "#B0BEC5",
                "#B0BEC5",
                "#B0BEC5",
                "#B0BEC5",
                "#B0BEC5",
                "#B0BEC5",
                "#B0BEC5",
                "#B0BEC5",
                "#B0BEC5",
                "#B0BEC5",
                "#B0BEC5",
                "#B0BEC5",
                "#B0BEC5",
                "#B0BEC5",
                "#B0BEC5",
                "#B0BEC5",
                "#B0BEC5",
                "#B0BEC5",
                "#B0BEC5",
                "#B0BEC5",
                "#B0BEC5",
                "#B0BEC5",
                "#B0BEC5",
                "#B0BEC5",
                "#B0BEC5",
                "#B0BEC5",
                "#B0BEC5",
                "#B0BEC5",
                "#B0BEC5",
                "#B0BEC5",
                "#B0BEC5",
                "#B0BEC5",
                "red",
                "#B0BEC5",
                "#B0BEC5",
                "#B0BEC5",
                "#B0BEC5",
                "#B0BEC5",
                "#B0BEC5",
                "#B0BEC5",
                "#B0BEC5",
                "#B0BEC5",
                "#B0BEC5",
                "#B0BEC5",
                "#B0BEC5",
                "#B0BEC5",
                "#B0BEC5",
                "#B0BEC5",
                "#B0BEC5",
                "#B0BEC5",
                "#B0BEC5",
                "#B0BEC5"
               ]
              ]
             }
            ],
            "label": "Topic 34",
            "method": "update"
           },
           {
            "args": [
             {
              "marker.color": [
               [
                "#B0BEC5",
                "#B0BEC5",
                "#B0BEC5",
                "#B0BEC5",
                "#B0BEC5",
                "#B0BEC5",
                "#B0BEC5",
                "#B0BEC5",
                "#B0BEC5",
                "#B0BEC5",
                "#B0BEC5",
                "#B0BEC5",
                "#B0BEC5",
                "#B0BEC5",
                "#B0BEC5",
                "#B0BEC5",
                "#B0BEC5",
                "#B0BEC5",
                "#B0BEC5",
                "#B0BEC5",
                "#B0BEC5",
                "#B0BEC5",
                "#B0BEC5",
                "#B0BEC5",
                "#B0BEC5",
                "#B0BEC5",
                "#B0BEC5",
                "#B0BEC5",
                "#B0BEC5",
                "#B0BEC5",
                "#B0BEC5",
                "#B0BEC5",
                "#B0BEC5",
                "#B0BEC5",
                "#B0BEC5",
                "red",
                "#B0BEC5",
                "#B0BEC5",
                "#B0BEC5",
                "#B0BEC5",
                "#B0BEC5",
                "#B0BEC5",
                "#B0BEC5",
                "#B0BEC5",
                "#B0BEC5",
                "#B0BEC5",
                "#B0BEC5",
                "#B0BEC5",
                "#B0BEC5",
                "#B0BEC5",
                "#B0BEC5",
                "#B0BEC5",
                "#B0BEC5",
                "#B0BEC5"
               ]
              ]
             }
            ],
            "label": "Topic 35",
            "method": "update"
           },
           {
            "args": [
             {
              "marker.color": [
               [
                "#B0BEC5",
                "#B0BEC5",
                "#B0BEC5",
                "#B0BEC5",
                "#B0BEC5",
                "#B0BEC5",
                "#B0BEC5",
                "#B0BEC5",
                "#B0BEC5",
                "#B0BEC5",
                "#B0BEC5",
                "#B0BEC5",
                "#B0BEC5",
                "#B0BEC5",
                "#B0BEC5",
                "#B0BEC5",
                "#B0BEC5",
                "#B0BEC5",
                "#B0BEC5",
                "#B0BEC5",
                "#B0BEC5",
                "#B0BEC5",
                "#B0BEC5",
                "#B0BEC5",
                "#B0BEC5",
                "#B0BEC5",
                "#B0BEC5",
                "#B0BEC5",
                "#B0BEC5",
                "#B0BEC5",
                "#B0BEC5",
                "#B0BEC5",
                "#B0BEC5",
                "#B0BEC5",
                "#B0BEC5",
                "#B0BEC5",
                "red",
                "#B0BEC5",
                "#B0BEC5",
                "#B0BEC5",
                "#B0BEC5",
                "#B0BEC5",
                "#B0BEC5",
                "#B0BEC5",
                "#B0BEC5",
                "#B0BEC5",
                "#B0BEC5",
                "#B0BEC5",
                "#B0BEC5",
                "#B0BEC5",
                "#B0BEC5",
                "#B0BEC5",
                "#B0BEC5",
                "#B0BEC5"
               ]
              ]
             }
            ],
            "label": "Topic 36",
            "method": "update"
           },
           {
            "args": [
             {
              "marker.color": [
               [
                "#B0BEC5",
                "#B0BEC5",
                "#B0BEC5",
                "#B0BEC5",
                "#B0BEC5",
                "#B0BEC5",
                "#B0BEC5",
                "#B0BEC5",
                "#B0BEC5",
                "#B0BEC5",
                "#B0BEC5",
                "#B0BEC5",
                "#B0BEC5",
                "#B0BEC5",
                "#B0BEC5",
                "#B0BEC5",
                "#B0BEC5",
                "#B0BEC5",
                "#B0BEC5",
                "#B0BEC5",
                "#B0BEC5",
                "#B0BEC5",
                "#B0BEC5",
                "#B0BEC5",
                "#B0BEC5",
                "#B0BEC5",
                "#B0BEC5",
                "#B0BEC5",
                "#B0BEC5",
                "#B0BEC5",
                "#B0BEC5",
                "#B0BEC5",
                "#B0BEC5",
                "#B0BEC5",
                "#B0BEC5",
                "#B0BEC5",
                "#B0BEC5",
                "red",
                "#B0BEC5",
                "#B0BEC5",
                "#B0BEC5",
                "#B0BEC5",
                "#B0BEC5",
                "#B0BEC5",
                "#B0BEC5",
                "#B0BEC5",
                "#B0BEC5",
                "#B0BEC5",
                "#B0BEC5",
                "#B0BEC5",
                "#B0BEC5",
                "#B0BEC5",
                "#B0BEC5",
                "#B0BEC5"
               ]
              ]
             }
            ],
            "label": "Topic 37",
            "method": "update"
           },
           {
            "args": [
             {
              "marker.color": [
               [
                "#B0BEC5",
                "#B0BEC5",
                "#B0BEC5",
                "#B0BEC5",
                "#B0BEC5",
                "#B0BEC5",
                "#B0BEC5",
                "#B0BEC5",
                "#B0BEC5",
                "#B0BEC5",
                "#B0BEC5",
                "#B0BEC5",
                "#B0BEC5",
                "#B0BEC5",
                "#B0BEC5",
                "#B0BEC5",
                "#B0BEC5",
                "#B0BEC5",
                "#B0BEC5",
                "#B0BEC5",
                "#B0BEC5",
                "#B0BEC5",
                "#B0BEC5",
                "#B0BEC5",
                "#B0BEC5",
                "#B0BEC5",
                "#B0BEC5",
                "#B0BEC5",
                "#B0BEC5",
                "#B0BEC5",
                "#B0BEC5",
                "#B0BEC5",
                "#B0BEC5",
                "#B0BEC5",
                "#B0BEC5",
                "#B0BEC5",
                "#B0BEC5",
                "#B0BEC5",
                "red",
                "#B0BEC5",
                "#B0BEC5",
                "#B0BEC5",
                "#B0BEC5",
                "#B0BEC5",
                "#B0BEC5",
                "#B0BEC5",
                "#B0BEC5",
                "#B0BEC5",
                "#B0BEC5",
                "#B0BEC5",
                "#B0BEC5",
                "#B0BEC5",
                "#B0BEC5",
                "#B0BEC5"
               ]
              ]
             }
            ],
            "label": "Topic 38",
            "method": "update"
           },
           {
            "args": [
             {
              "marker.color": [
               [
                "#B0BEC5",
                "#B0BEC5",
                "#B0BEC5",
                "#B0BEC5",
                "#B0BEC5",
                "#B0BEC5",
                "#B0BEC5",
                "#B0BEC5",
                "#B0BEC5",
                "#B0BEC5",
                "#B0BEC5",
                "#B0BEC5",
                "#B0BEC5",
                "#B0BEC5",
                "#B0BEC5",
                "#B0BEC5",
                "#B0BEC5",
                "#B0BEC5",
                "#B0BEC5",
                "#B0BEC5",
                "#B0BEC5",
                "#B0BEC5",
                "#B0BEC5",
                "#B0BEC5",
                "#B0BEC5",
                "#B0BEC5",
                "#B0BEC5",
                "#B0BEC5",
                "#B0BEC5",
                "#B0BEC5",
                "#B0BEC5",
                "#B0BEC5",
                "#B0BEC5",
                "#B0BEC5",
                "#B0BEC5",
                "#B0BEC5",
                "#B0BEC5",
                "#B0BEC5",
                "#B0BEC5",
                "red",
                "#B0BEC5",
                "#B0BEC5",
                "#B0BEC5",
                "#B0BEC5",
                "#B0BEC5",
                "#B0BEC5",
                "#B0BEC5",
                "#B0BEC5",
                "#B0BEC5",
                "#B0BEC5",
                "#B0BEC5",
                "#B0BEC5",
                "#B0BEC5",
                "#B0BEC5"
               ]
              ]
             }
            ],
            "label": "Topic 39",
            "method": "update"
           },
           {
            "args": [
             {
              "marker.color": [
               [
                "#B0BEC5",
                "#B0BEC5",
                "#B0BEC5",
                "#B0BEC5",
                "#B0BEC5",
                "#B0BEC5",
                "#B0BEC5",
                "#B0BEC5",
                "#B0BEC5",
                "#B0BEC5",
                "#B0BEC5",
                "#B0BEC5",
                "#B0BEC5",
                "#B0BEC5",
                "#B0BEC5",
                "#B0BEC5",
                "#B0BEC5",
                "#B0BEC5",
                "#B0BEC5",
                "#B0BEC5",
                "#B0BEC5",
                "#B0BEC5",
                "#B0BEC5",
                "#B0BEC5",
                "#B0BEC5",
                "#B0BEC5",
                "#B0BEC5",
                "#B0BEC5",
                "#B0BEC5",
                "#B0BEC5",
                "#B0BEC5",
                "#B0BEC5",
                "#B0BEC5",
                "#B0BEC5",
                "#B0BEC5",
                "#B0BEC5",
                "#B0BEC5",
                "#B0BEC5",
                "#B0BEC5",
                "#B0BEC5",
                "red",
                "#B0BEC5",
                "#B0BEC5",
                "#B0BEC5",
                "#B0BEC5",
                "#B0BEC5",
                "#B0BEC5",
                "#B0BEC5",
                "#B0BEC5",
                "#B0BEC5",
                "#B0BEC5",
                "#B0BEC5",
                "#B0BEC5",
                "#B0BEC5"
               ]
              ]
             }
            ],
            "label": "Topic 40",
            "method": "update"
           },
           {
            "args": [
             {
              "marker.color": [
               [
                "#B0BEC5",
                "#B0BEC5",
                "#B0BEC5",
                "#B0BEC5",
                "#B0BEC5",
                "#B0BEC5",
                "#B0BEC5",
                "#B0BEC5",
                "#B0BEC5",
                "#B0BEC5",
                "#B0BEC5",
                "#B0BEC5",
                "#B0BEC5",
                "#B0BEC5",
                "#B0BEC5",
                "#B0BEC5",
                "#B0BEC5",
                "#B0BEC5",
                "#B0BEC5",
                "#B0BEC5",
                "#B0BEC5",
                "#B0BEC5",
                "#B0BEC5",
                "#B0BEC5",
                "#B0BEC5",
                "#B0BEC5",
                "#B0BEC5",
                "#B0BEC5",
                "#B0BEC5",
                "#B0BEC5",
                "#B0BEC5",
                "#B0BEC5",
                "#B0BEC5",
                "#B0BEC5",
                "#B0BEC5",
                "#B0BEC5",
                "#B0BEC5",
                "#B0BEC5",
                "#B0BEC5",
                "#B0BEC5",
                "#B0BEC5",
                "red",
                "#B0BEC5",
                "#B0BEC5",
                "#B0BEC5",
                "#B0BEC5",
                "#B0BEC5",
                "#B0BEC5",
                "#B0BEC5",
                "#B0BEC5",
                "#B0BEC5",
                "#B0BEC5",
                "#B0BEC5",
                "#B0BEC5"
               ]
              ]
             }
            ],
            "label": "Topic 41",
            "method": "update"
           },
           {
            "args": [
             {
              "marker.color": [
               [
                "#B0BEC5",
                "#B0BEC5",
                "#B0BEC5",
                "#B0BEC5",
                "#B0BEC5",
                "#B0BEC5",
                "#B0BEC5",
                "#B0BEC5",
                "#B0BEC5",
                "#B0BEC5",
                "#B0BEC5",
                "#B0BEC5",
                "#B0BEC5",
                "#B0BEC5",
                "#B0BEC5",
                "#B0BEC5",
                "#B0BEC5",
                "#B0BEC5",
                "#B0BEC5",
                "#B0BEC5",
                "#B0BEC5",
                "#B0BEC5",
                "#B0BEC5",
                "#B0BEC5",
                "#B0BEC5",
                "#B0BEC5",
                "#B0BEC5",
                "#B0BEC5",
                "#B0BEC5",
                "#B0BEC5",
                "#B0BEC5",
                "#B0BEC5",
                "#B0BEC5",
                "#B0BEC5",
                "#B0BEC5",
                "#B0BEC5",
                "#B0BEC5",
                "#B0BEC5",
                "#B0BEC5",
                "#B0BEC5",
                "#B0BEC5",
                "#B0BEC5",
                "red",
                "#B0BEC5",
                "#B0BEC5",
                "#B0BEC5",
                "#B0BEC5",
                "#B0BEC5",
                "#B0BEC5",
                "#B0BEC5",
                "#B0BEC5",
                "#B0BEC5",
                "#B0BEC5",
                "#B0BEC5"
               ]
              ]
             }
            ],
            "label": "Topic 42",
            "method": "update"
           },
           {
            "args": [
             {
              "marker.color": [
               [
                "#B0BEC5",
                "#B0BEC5",
                "#B0BEC5",
                "#B0BEC5",
                "#B0BEC5",
                "#B0BEC5",
                "#B0BEC5",
                "#B0BEC5",
                "#B0BEC5",
                "#B0BEC5",
                "#B0BEC5",
                "#B0BEC5",
                "#B0BEC5",
                "#B0BEC5",
                "#B0BEC5",
                "#B0BEC5",
                "#B0BEC5",
                "#B0BEC5",
                "#B0BEC5",
                "#B0BEC5",
                "#B0BEC5",
                "#B0BEC5",
                "#B0BEC5",
                "#B0BEC5",
                "#B0BEC5",
                "#B0BEC5",
                "#B0BEC5",
                "#B0BEC5",
                "#B0BEC5",
                "#B0BEC5",
                "#B0BEC5",
                "#B0BEC5",
                "#B0BEC5",
                "#B0BEC5",
                "#B0BEC5",
                "#B0BEC5",
                "#B0BEC5",
                "#B0BEC5",
                "#B0BEC5",
                "#B0BEC5",
                "#B0BEC5",
                "#B0BEC5",
                "#B0BEC5",
                "red",
                "#B0BEC5",
                "#B0BEC5",
                "#B0BEC5",
                "#B0BEC5",
                "#B0BEC5",
                "#B0BEC5",
                "#B0BEC5",
                "#B0BEC5",
                "#B0BEC5",
                "#B0BEC5"
               ]
              ]
             }
            ],
            "label": "Topic 43",
            "method": "update"
           },
           {
            "args": [
             {
              "marker.color": [
               [
                "#B0BEC5",
                "#B0BEC5",
                "#B0BEC5",
                "#B0BEC5",
                "#B0BEC5",
                "#B0BEC5",
                "#B0BEC5",
                "#B0BEC5",
                "#B0BEC5",
                "#B0BEC5",
                "#B0BEC5",
                "#B0BEC5",
                "#B0BEC5",
                "#B0BEC5",
                "#B0BEC5",
                "#B0BEC5",
                "#B0BEC5",
                "#B0BEC5",
                "#B0BEC5",
                "#B0BEC5",
                "#B0BEC5",
                "#B0BEC5",
                "#B0BEC5",
                "#B0BEC5",
                "#B0BEC5",
                "#B0BEC5",
                "#B0BEC5",
                "#B0BEC5",
                "#B0BEC5",
                "#B0BEC5",
                "#B0BEC5",
                "#B0BEC5",
                "#B0BEC5",
                "#B0BEC5",
                "#B0BEC5",
                "#B0BEC5",
                "#B0BEC5",
                "#B0BEC5",
                "#B0BEC5",
                "#B0BEC5",
                "#B0BEC5",
                "#B0BEC5",
                "#B0BEC5",
                "#B0BEC5",
                "red",
                "#B0BEC5",
                "#B0BEC5",
                "#B0BEC5",
                "#B0BEC5",
                "#B0BEC5",
                "#B0BEC5",
                "#B0BEC5",
                "#B0BEC5",
                "#B0BEC5"
               ]
              ]
             }
            ],
            "label": "Topic 44",
            "method": "update"
           },
           {
            "args": [
             {
              "marker.color": [
               [
                "#B0BEC5",
                "#B0BEC5",
                "#B0BEC5",
                "#B0BEC5",
                "#B0BEC5",
                "#B0BEC5",
                "#B0BEC5",
                "#B0BEC5",
                "#B0BEC5",
                "#B0BEC5",
                "#B0BEC5",
                "#B0BEC5",
                "#B0BEC5",
                "#B0BEC5",
                "#B0BEC5",
                "#B0BEC5",
                "#B0BEC5",
                "#B0BEC5",
                "#B0BEC5",
                "#B0BEC5",
                "#B0BEC5",
                "#B0BEC5",
                "#B0BEC5",
                "#B0BEC5",
                "#B0BEC5",
                "#B0BEC5",
                "#B0BEC5",
                "#B0BEC5",
                "#B0BEC5",
                "#B0BEC5",
                "#B0BEC5",
                "#B0BEC5",
                "#B0BEC5",
                "#B0BEC5",
                "#B0BEC5",
                "#B0BEC5",
                "#B0BEC5",
                "#B0BEC5",
                "#B0BEC5",
                "#B0BEC5",
                "#B0BEC5",
                "#B0BEC5",
                "#B0BEC5",
                "#B0BEC5",
                "#B0BEC5",
                "red",
                "#B0BEC5",
                "#B0BEC5",
                "#B0BEC5",
                "#B0BEC5",
                "#B0BEC5",
                "#B0BEC5",
                "#B0BEC5",
                "#B0BEC5"
               ]
              ]
             }
            ],
            "label": "Topic 45",
            "method": "update"
           },
           {
            "args": [
             {
              "marker.color": [
               [
                "#B0BEC5",
                "#B0BEC5",
                "#B0BEC5",
                "#B0BEC5",
                "#B0BEC5",
                "#B0BEC5",
                "#B0BEC5",
                "#B0BEC5",
                "#B0BEC5",
                "#B0BEC5",
                "#B0BEC5",
                "#B0BEC5",
                "#B0BEC5",
                "#B0BEC5",
                "#B0BEC5",
                "#B0BEC5",
                "#B0BEC5",
                "#B0BEC5",
                "#B0BEC5",
                "#B0BEC5",
                "#B0BEC5",
                "#B0BEC5",
                "#B0BEC5",
                "#B0BEC5",
                "#B0BEC5",
                "#B0BEC5",
                "#B0BEC5",
                "#B0BEC5",
                "#B0BEC5",
                "#B0BEC5",
                "#B0BEC5",
                "#B0BEC5",
                "#B0BEC5",
                "#B0BEC5",
                "#B0BEC5",
                "#B0BEC5",
                "#B0BEC5",
                "#B0BEC5",
                "#B0BEC5",
                "#B0BEC5",
                "#B0BEC5",
                "#B0BEC5",
                "#B0BEC5",
                "#B0BEC5",
                "#B0BEC5",
                "#B0BEC5",
                "red",
                "#B0BEC5",
                "#B0BEC5",
                "#B0BEC5",
                "#B0BEC5",
                "#B0BEC5",
                "#B0BEC5",
                "#B0BEC5"
               ]
              ]
             }
            ],
            "label": "Topic 46",
            "method": "update"
           },
           {
            "args": [
             {
              "marker.color": [
               [
                "#B0BEC5",
                "#B0BEC5",
                "#B0BEC5",
                "#B0BEC5",
                "#B0BEC5",
                "#B0BEC5",
                "#B0BEC5",
                "#B0BEC5",
                "#B0BEC5",
                "#B0BEC5",
                "#B0BEC5",
                "#B0BEC5",
                "#B0BEC5",
                "#B0BEC5",
                "#B0BEC5",
                "#B0BEC5",
                "#B0BEC5",
                "#B0BEC5",
                "#B0BEC5",
                "#B0BEC5",
                "#B0BEC5",
                "#B0BEC5",
                "#B0BEC5",
                "#B0BEC5",
                "#B0BEC5",
                "#B0BEC5",
                "#B0BEC5",
                "#B0BEC5",
                "#B0BEC5",
                "#B0BEC5",
                "#B0BEC5",
                "#B0BEC5",
                "#B0BEC5",
                "#B0BEC5",
                "#B0BEC5",
                "#B0BEC5",
                "#B0BEC5",
                "#B0BEC5",
                "#B0BEC5",
                "#B0BEC5",
                "#B0BEC5",
                "#B0BEC5",
                "#B0BEC5",
                "#B0BEC5",
                "#B0BEC5",
                "#B0BEC5",
                "#B0BEC5",
                "red",
                "#B0BEC5",
                "#B0BEC5",
                "#B0BEC5",
                "#B0BEC5",
                "#B0BEC5",
                "#B0BEC5"
               ]
              ]
             }
            ],
            "label": "Topic 47",
            "method": "update"
           },
           {
            "args": [
             {
              "marker.color": [
               [
                "#B0BEC5",
                "#B0BEC5",
                "#B0BEC5",
                "#B0BEC5",
                "#B0BEC5",
                "#B0BEC5",
                "#B0BEC5",
                "#B0BEC5",
                "#B0BEC5",
                "#B0BEC5",
                "#B0BEC5",
                "#B0BEC5",
                "#B0BEC5",
                "#B0BEC5",
                "#B0BEC5",
                "#B0BEC5",
                "#B0BEC5",
                "#B0BEC5",
                "#B0BEC5",
                "#B0BEC5",
                "#B0BEC5",
                "#B0BEC5",
                "#B0BEC5",
                "#B0BEC5",
                "#B0BEC5",
                "#B0BEC5",
                "#B0BEC5",
                "#B0BEC5",
                "#B0BEC5",
                "#B0BEC5",
                "#B0BEC5",
                "#B0BEC5",
                "#B0BEC5",
                "#B0BEC5",
                "#B0BEC5",
                "#B0BEC5",
                "#B0BEC5",
                "#B0BEC5",
                "#B0BEC5",
                "#B0BEC5",
                "#B0BEC5",
                "#B0BEC5",
                "#B0BEC5",
                "#B0BEC5",
                "#B0BEC5",
                "#B0BEC5",
                "#B0BEC5",
                "#B0BEC5",
                "red",
                "#B0BEC5",
                "#B0BEC5",
                "#B0BEC5",
                "#B0BEC5",
                "#B0BEC5"
               ]
              ]
             }
            ],
            "label": "Topic 48",
            "method": "update"
           },
           {
            "args": [
             {
              "marker.color": [
               [
                "#B0BEC5",
                "#B0BEC5",
                "#B0BEC5",
                "#B0BEC5",
                "#B0BEC5",
                "#B0BEC5",
                "#B0BEC5",
                "#B0BEC5",
                "#B0BEC5",
                "#B0BEC5",
                "#B0BEC5",
                "#B0BEC5",
                "#B0BEC5",
                "#B0BEC5",
                "#B0BEC5",
                "#B0BEC5",
                "#B0BEC5",
                "#B0BEC5",
                "#B0BEC5",
                "#B0BEC5",
                "#B0BEC5",
                "#B0BEC5",
                "#B0BEC5",
                "#B0BEC5",
                "#B0BEC5",
                "#B0BEC5",
                "#B0BEC5",
                "#B0BEC5",
                "#B0BEC5",
                "#B0BEC5",
                "#B0BEC5",
                "#B0BEC5",
                "#B0BEC5",
                "#B0BEC5",
                "#B0BEC5",
                "#B0BEC5",
                "#B0BEC5",
                "#B0BEC5",
                "#B0BEC5",
                "#B0BEC5",
                "#B0BEC5",
                "#B0BEC5",
                "#B0BEC5",
                "#B0BEC5",
                "#B0BEC5",
                "#B0BEC5",
                "#B0BEC5",
                "#B0BEC5",
                "#B0BEC5",
                "red",
                "#B0BEC5",
                "#B0BEC5",
                "#B0BEC5",
                "#B0BEC5"
               ]
              ]
             }
            ],
            "label": "Topic 49",
            "method": "update"
           },
           {
            "args": [
             {
              "marker.color": [
               [
                "#B0BEC5",
                "#B0BEC5",
                "#B0BEC5",
                "#B0BEC5",
                "#B0BEC5",
                "#B0BEC5",
                "#B0BEC5",
                "#B0BEC5",
                "#B0BEC5",
                "#B0BEC5",
                "#B0BEC5",
                "#B0BEC5",
                "#B0BEC5",
                "#B0BEC5",
                "#B0BEC5",
                "#B0BEC5",
                "#B0BEC5",
                "#B0BEC5",
                "#B0BEC5",
                "#B0BEC5",
                "#B0BEC5",
                "#B0BEC5",
                "#B0BEC5",
                "#B0BEC5",
                "#B0BEC5",
                "#B0BEC5",
                "#B0BEC5",
                "#B0BEC5",
                "#B0BEC5",
                "#B0BEC5",
                "#B0BEC5",
                "#B0BEC5",
                "#B0BEC5",
                "#B0BEC5",
                "#B0BEC5",
                "#B0BEC5",
                "#B0BEC5",
                "#B0BEC5",
                "#B0BEC5",
                "#B0BEC5",
                "#B0BEC5",
                "#B0BEC5",
                "#B0BEC5",
                "#B0BEC5",
                "#B0BEC5",
                "#B0BEC5",
                "#B0BEC5",
                "#B0BEC5",
                "#B0BEC5",
                "#B0BEC5",
                "red",
                "#B0BEC5",
                "#B0BEC5",
                "#B0BEC5"
               ]
              ]
             }
            ],
            "label": "Topic 50",
            "method": "update"
           },
           {
            "args": [
             {
              "marker.color": [
               [
                "#B0BEC5",
                "#B0BEC5",
                "#B0BEC5",
                "#B0BEC5",
                "#B0BEC5",
                "#B0BEC5",
                "#B0BEC5",
                "#B0BEC5",
                "#B0BEC5",
                "#B0BEC5",
                "#B0BEC5",
                "#B0BEC5",
                "#B0BEC5",
                "#B0BEC5",
                "#B0BEC5",
                "#B0BEC5",
                "#B0BEC5",
                "#B0BEC5",
                "#B0BEC5",
                "#B0BEC5",
                "#B0BEC5",
                "#B0BEC5",
                "#B0BEC5",
                "#B0BEC5",
                "#B0BEC5",
                "#B0BEC5",
                "#B0BEC5",
                "#B0BEC5",
                "#B0BEC5",
                "#B0BEC5",
                "#B0BEC5",
                "#B0BEC5",
                "#B0BEC5",
                "#B0BEC5",
                "#B0BEC5",
                "#B0BEC5",
                "#B0BEC5",
                "#B0BEC5",
                "#B0BEC5",
                "#B0BEC5",
                "#B0BEC5",
                "#B0BEC5",
                "#B0BEC5",
                "#B0BEC5",
                "#B0BEC5",
                "#B0BEC5",
                "#B0BEC5",
                "#B0BEC5",
                "#B0BEC5",
                "#B0BEC5",
                "#B0BEC5",
                "red",
                "#B0BEC5",
                "#B0BEC5"
               ]
              ]
             }
            ],
            "label": "Topic 51",
            "method": "update"
           },
           {
            "args": [
             {
              "marker.color": [
               [
                "#B0BEC5",
                "#B0BEC5",
                "#B0BEC5",
                "#B0BEC5",
                "#B0BEC5",
                "#B0BEC5",
                "#B0BEC5",
                "#B0BEC5",
                "#B0BEC5",
                "#B0BEC5",
                "#B0BEC5",
                "#B0BEC5",
                "#B0BEC5",
                "#B0BEC5",
                "#B0BEC5",
                "#B0BEC5",
                "#B0BEC5",
                "#B0BEC5",
                "#B0BEC5",
                "#B0BEC5",
                "#B0BEC5",
                "#B0BEC5",
                "#B0BEC5",
                "#B0BEC5",
                "#B0BEC5",
                "#B0BEC5",
                "#B0BEC5",
                "#B0BEC5",
                "#B0BEC5",
                "#B0BEC5",
                "#B0BEC5",
                "#B0BEC5",
                "#B0BEC5",
                "#B0BEC5",
                "#B0BEC5",
                "#B0BEC5",
                "#B0BEC5",
                "#B0BEC5",
                "#B0BEC5",
                "#B0BEC5",
                "#B0BEC5",
                "#B0BEC5",
                "#B0BEC5",
                "#B0BEC5",
                "#B0BEC5",
                "#B0BEC5",
                "#B0BEC5",
                "#B0BEC5",
                "#B0BEC5",
                "#B0BEC5",
                "#B0BEC5",
                "#B0BEC5",
                "red",
                "#B0BEC5"
               ]
              ]
             }
            ],
            "label": "Topic 52",
            "method": "update"
           },
           {
            "args": [
             {
              "marker.color": [
               [
                "#B0BEC5",
                "#B0BEC5",
                "#B0BEC5",
                "#B0BEC5",
                "#B0BEC5",
                "#B0BEC5",
                "#B0BEC5",
                "#B0BEC5",
                "#B0BEC5",
                "#B0BEC5",
                "#B0BEC5",
                "#B0BEC5",
                "#B0BEC5",
                "#B0BEC5",
                "#B0BEC5",
                "#B0BEC5",
                "#B0BEC5",
                "#B0BEC5",
                "#B0BEC5",
                "#B0BEC5",
                "#B0BEC5",
                "#B0BEC5",
                "#B0BEC5",
                "#B0BEC5",
                "#B0BEC5",
                "#B0BEC5",
                "#B0BEC5",
                "#B0BEC5",
                "#B0BEC5",
                "#B0BEC5",
                "#B0BEC5",
                "#B0BEC5",
                "#B0BEC5",
                "#B0BEC5",
                "#B0BEC5",
                "#B0BEC5",
                "#B0BEC5",
                "#B0BEC5",
                "#B0BEC5",
                "#B0BEC5",
                "#B0BEC5",
                "#B0BEC5",
                "#B0BEC5",
                "#B0BEC5",
                "#B0BEC5",
                "#B0BEC5",
                "#B0BEC5",
                "#B0BEC5",
                "#B0BEC5",
                "#B0BEC5",
                "#B0BEC5",
                "#B0BEC5",
                "#B0BEC5",
                "red"
               ]
              ]
             }
            ],
            "label": "Topic 53",
            "method": "update"
           }
          ]
         }
        ],
        "template": {
         "data": {
          "bar": [
           {
            "error_x": {
             "color": "rgb(36,36,36)"
            },
            "error_y": {
             "color": "rgb(36,36,36)"
            },
            "marker": {
             "line": {
              "color": "white",
              "width": 0.5
             },
             "pattern": {
              "fillmode": "overlay",
              "size": 10,
              "solidity": 0.2
             }
            },
            "type": "bar"
           }
          ],
          "barpolar": [
           {
            "marker": {
             "line": {
              "color": "white",
              "width": 0.5
             },
             "pattern": {
              "fillmode": "overlay",
              "size": 10,
              "solidity": 0.2
             }
            },
            "type": "barpolar"
           }
          ],
          "carpet": [
           {
            "aaxis": {
             "endlinecolor": "rgb(36,36,36)",
             "gridcolor": "white",
             "linecolor": "white",
             "minorgridcolor": "white",
             "startlinecolor": "rgb(36,36,36)"
            },
            "baxis": {
             "endlinecolor": "rgb(36,36,36)",
             "gridcolor": "white",
             "linecolor": "white",
             "minorgridcolor": "white",
             "startlinecolor": "rgb(36,36,36)"
            },
            "type": "carpet"
           }
          ],
          "choropleth": [
           {
            "colorbar": {
             "outlinewidth": 1,
             "tickcolor": "rgb(36,36,36)",
             "ticks": "outside"
            },
            "type": "choropleth"
           }
          ],
          "contour": [
           {
            "colorbar": {
             "outlinewidth": 1,
             "tickcolor": "rgb(36,36,36)",
             "ticks": "outside"
            },
            "colorscale": [
             [
              0,
              "#440154"
             ],
             [
              0.1111111111111111,
              "#482878"
             ],
             [
              0.2222222222222222,
              "#3e4989"
             ],
             [
              0.3333333333333333,
              "#31688e"
             ],
             [
              0.4444444444444444,
              "#26828e"
             ],
             [
              0.5555555555555556,
              "#1f9e89"
             ],
             [
              0.6666666666666666,
              "#35b779"
             ],
             [
              0.7777777777777778,
              "#6ece58"
             ],
             [
              0.8888888888888888,
              "#b5de2b"
             ],
             [
              1,
              "#fde725"
             ]
            ],
            "type": "contour"
           }
          ],
          "contourcarpet": [
           {
            "colorbar": {
             "outlinewidth": 1,
             "tickcolor": "rgb(36,36,36)",
             "ticks": "outside"
            },
            "type": "contourcarpet"
           }
          ],
          "heatmap": [
           {
            "colorbar": {
             "outlinewidth": 1,
             "tickcolor": "rgb(36,36,36)",
             "ticks": "outside"
            },
            "colorscale": [
             [
              0,
              "#440154"
             ],
             [
              0.1111111111111111,
              "#482878"
             ],
             [
              0.2222222222222222,
              "#3e4989"
             ],
             [
              0.3333333333333333,
              "#31688e"
             ],
             [
              0.4444444444444444,
              "#26828e"
             ],
             [
              0.5555555555555556,
              "#1f9e89"
             ],
             [
              0.6666666666666666,
              "#35b779"
             ],
             [
              0.7777777777777778,
              "#6ece58"
             ],
             [
              0.8888888888888888,
              "#b5de2b"
             ],
             [
              1,
              "#fde725"
             ]
            ],
            "type": "heatmap"
           }
          ],
          "heatmapgl": [
           {
            "colorbar": {
             "outlinewidth": 1,
             "tickcolor": "rgb(36,36,36)",
             "ticks": "outside"
            },
            "colorscale": [
             [
              0,
              "#440154"
             ],
             [
              0.1111111111111111,
              "#482878"
             ],
             [
              0.2222222222222222,
              "#3e4989"
             ],
             [
              0.3333333333333333,
              "#31688e"
             ],
             [
              0.4444444444444444,
              "#26828e"
             ],
             [
              0.5555555555555556,
              "#1f9e89"
             ],
             [
              0.6666666666666666,
              "#35b779"
             ],
             [
              0.7777777777777778,
              "#6ece58"
             ],
             [
              0.8888888888888888,
              "#b5de2b"
             ],
             [
              1,
              "#fde725"
             ]
            ],
            "type": "heatmapgl"
           }
          ],
          "histogram": [
           {
            "marker": {
             "line": {
              "color": "white",
              "width": 0.6
             }
            },
            "type": "histogram"
           }
          ],
          "histogram2d": [
           {
            "colorbar": {
             "outlinewidth": 1,
             "tickcolor": "rgb(36,36,36)",
             "ticks": "outside"
            },
            "colorscale": [
             [
              0,
              "#440154"
             ],
             [
              0.1111111111111111,
              "#482878"
             ],
             [
              0.2222222222222222,
              "#3e4989"
             ],
             [
              0.3333333333333333,
              "#31688e"
             ],
             [
              0.4444444444444444,
              "#26828e"
             ],
             [
              0.5555555555555556,
              "#1f9e89"
             ],
             [
              0.6666666666666666,
              "#35b779"
             ],
             [
              0.7777777777777778,
              "#6ece58"
             ],
             [
              0.8888888888888888,
              "#b5de2b"
             ],
             [
              1,
              "#fde725"
             ]
            ],
            "type": "histogram2d"
           }
          ],
          "histogram2dcontour": [
           {
            "colorbar": {
             "outlinewidth": 1,
             "tickcolor": "rgb(36,36,36)",
             "ticks": "outside"
            },
            "colorscale": [
             [
              0,
              "#440154"
             ],
             [
              0.1111111111111111,
              "#482878"
             ],
             [
              0.2222222222222222,
              "#3e4989"
             ],
             [
              0.3333333333333333,
              "#31688e"
             ],
             [
              0.4444444444444444,
              "#26828e"
             ],
             [
              0.5555555555555556,
              "#1f9e89"
             ],
             [
              0.6666666666666666,
              "#35b779"
             ],
             [
              0.7777777777777778,
              "#6ece58"
             ],
             [
              0.8888888888888888,
              "#b5de2b"
             ],
             [
              1,
              "#fde725"
             ]
            ],
            "type": "histogram2dcontour"
           }
          ],
          "mesh3d": [
           {
            "colorbar": {
             "outlinewidth": 1,
             "tickcolor": "rgb(36,36,36)",
             "ticks": "outside"
            },
            "type": "mesh3d"
           }
          ],
          "parcoords": [
           {
            "line": {
             "colorbar": {
              "outlinewidth": 1,
              "tickcolor": "rgb(36,36,36)",
              "ticks": "outside"
             }
            },
            "type": "parcoords"
           }
          ],
          "pie": [
           {
            "automargin": true,
            "type": "pie"
           }
          ],
          "scatter": [
           {
            "fillpattern": {
             "fillmode": "overlay",
             "size": 10,
             "solidity": 0.2
            },
            "type": "scatter"
           }
          ],
          "scatter3d": [
           {
            "line": {
             "colorbar": {
              "outlinewidth": 1,
              "tickcolor": "rgb(36,36,36)",
              "ticks": "outside"
             }
            },
            "marker": {
             "colorbar": {
              "outlinewidth": 1,
              "tickcolor": "rgb(36,36,36)",
              "ticks": "outside"
             }
            },
            "type": "scatter3d"
           }
          ],
          "scattercarpet": [
           {
            "marker": {
             "colorbar": {
              "outlinewidth": 1,
              "tickcolor": "rgb(36,36,36)",
              "ticks": "outside"
             }
            },
            "type": "scattercarpet"
           }
          ],
          "scattergeo": [
           {
            "marker": {
             "colorbar": {
              "outlinewidth": 1,
              "tickcolor": "rgb(36,36,36)",
              "ticks": "outside"
             }
            },
            "type": "scattergeo"
           }
          ],
          "scattergl": [
           {
            "marker": {
             "colorbar": {
              "outlinewidth": 1,
              "tickcolor": "rgb(36,36,36)",
              "ticks": "outside"
             }
            },
            "type": "scattergl"
           }
          ],
          "scattermapbox": [
           {
            "marker": {
             "colorbar": {
              "outlinewidth": 1,
              "tickcolor": "rgb(36,36,36)",
              "ticks": "outside"
             }
            },
            "type": "scattermapbox"
           }
          ],
          "scatterpolar": [
           {
            "marker": {
             "colorbar": {
              "outlinewidth": 1,
              "tickcolor": "rgb(36,36,36)",
              "ticks": "outside"
             }
            },
            "type": "scatterpolar"
           }
          ],
          "scatterpolargl": [
           {
            "marker": {
             "colorbar": {
              "outlinewidth": 1,
              "tickcolor": "rgb(36,36,36)",
              "ticks": "outside"
             }
            },
            "type": "scatterpolargl"
           }
          ],
          "scatterternary": [
           {
            "marker": {
             "colorbar": {
              "outlinewidth": 1,
              "tickcolor": "rgb(36,36,36)",
              "ticks": "outside"
             }
            },
            "type": "scatterternary"
           }
          ],
          "surface": [
           {
            "colorbar": {
             "outlinewidth": 1,
             "tickcolor": "rgb(36,36,36)",
             "ticks": "outside"
            },
            "colorscale": [
             [
              0,
              "#440154"
             ],
             [
              0.1111111111111111,
              "#482878"
             ],
             [
              0.2222222222222222,
              "#3e4989"
             ],
             [
              0.3333333333333333,
              "#31688e"
             ],
             [
              0.4444444444444444,
              "#26828e"
             ],
             [
              0.5555555555555556,
              "#1f9e89"
             ],
             [
              0.6666666666666666,
              "#35b779"
             ],
             [
              0.7777777777777778,
              "#6ece58"
             ],
             [
              0.8888888888888888,
              "#b5de2b"
             ],
             [
              1,
              "#fde725"
             ]
            ],
            "type": "surface"
           }
          ],
          "table": [
           {
            "cells": {
             "fill": {
              "color": "rgb(237,237,237)"
             },
             "line": {
              "color": "white"
             }
            },
            "header": {
             "fill": {
              "color": "rgb(217,217,217)"
             },
             "line": {
              "color": "white"
             }
            },
            "type": "table"
           }
          ]
         },
         "layout": {
          "annotationdefaults": {
           "arrowhead": 0,
           "arrowwidth": 1
          },
          "autotypenumbers": "strict",
          "coloraxis": {
           "colorbar": {
            "outlinewidth": 1,
            "tickcolor": "rgb(36,36,36)",
            "ticks": "outside"
           }
          },
          "colorscale": {
           "diverging": [
            [
             0,
             "rgb(103,0,31)"
            ],
            [
             0.1,
             "rgb(178,24,43)"
            ],
            [
             0.2,
             "rgb(214,96,77)"
            ],
            [
             0.3,
             "rgb(244,165,130)"
            ],
            [
             0.4,
             "rgb(253,219,199)"
            ],
            [
             0.5,
             "rgb(247,247,247)"
            ],
            [
             0.6,
             "rgb(209,229,240)"
            ],
            [
             0.7,
             "rgb(146,197,222)"
            ],
            [
             0.8,
             "rgb(67,147,195)"
            ],
            [
             0.9,
             "rgb(33,102,172)"
            ],
            [
             1,
             "rgb(5,48,97)"
            ]
           ],
           "sequential": [
            [
             0,
             "#440154"
            ],
            [
             0.1111111111111111,
             "#482878"
            ],
            [
             0.2222222222222222,
             "#3e4989"
            ],
            [
             0.3333333333333333,
             "#31688e"
            ],
            [
             0.4444444444444444,
             "#26828e"
            ],
            [
             0.5555555555555556,
             "#1f9e89"
            ],
            [
             0.6666666666666666,
             "#35b779"
            ],
            [
             0.7777777777777778,
             "#6ece58"
            ],
            [
             0.8888888888888888,
             "#b5de2b"
            ],
            [
             1,
             "#fde725"
            ]
           ],
           "sequentialminus": [
            [
             0,
             "#440154"
            ],
            [
             0.1111111111111111,
             "#482878"
            ],
            [
             0.2222222222222222,
             "#3e4989"
            ],
            [
             0.3333333333333333,
             "#31688e"
            ],
            [
             0.4444444444444444,
             "#26828e"
            ],
            [
             0.5555555555555556,
             "#1f9e89"
            ],
            [
             0.6666666666666666,
             "#35b779"
            ],
            [
             0.7777777777777778,
             "#6ece58"
            ],
            [
             0.8888888888888888,
             "#b5de2b"
            ],
            [
             1,
             "#fde725"
            ]
           ]
          },
          "colorway": [
           "#1F77B4",
           "#FF7F0E",
           "#2CA02C",
           "#D62728",
           "#9467BD",
           "#8C564B",
           "#E377C2",
           "#7F7F7F",
           "#BCBD22",
           "#17BECF"
          ],
          "font": {
           "color": "rgb(36,36,36)"
          },
          "geo": {
           "bgcolor": "white",
           "lakecolor": "white",
           "landcolor": "white",
           "showlakes": true,
           "showland": true,
           "subunitcolor": "white"
          },
          "hoverlabel": {
           "align": "left"
          },
          "hovermode": "closest",
          "mapbox": {
           "style": "light"
          },
          "paper_bgcolor": "white",
          "plot_bgcolor": "white",
          "polar": {
           "angularaxis": {
            "gridcolor": "rgb(232,232,232)",
            "linecolor": "rgb(36,36,36)",
            "showgrid": false,
            "showline": true,
            "ticks": "outside"
           },
           "bgcolor": "white",
           "radialaxis": {
            "gridcolor": "rgb(232,232,232)",
            "linecolor": "rgb(36,36,36)",
            "showgrid": false,
            "showline": true,
            "ticks": "outside"
           }
          },
          "scene": {
           "xaxis": {
            "backgroundcolor": "white",
            "gridcolor": "rgb(232,232,232)",
            "gridwidth": 2,
            "linecolor": "rgb(36,36,36)",
            "showbackground": true,
            "showgrid": false,
            "showline": true,
            "ticks": "outside",
            "zeroline": false,
            "zerolinecolor": "rgb(36,36,36)"
           },
           "yaxis": {
            "backgroundcolor": "white",
            "gridcolor": "rgb(232,232,232)",
            "gridwidth": 2,
            "linecolor": "rgb(36,36,36)",
            "showbackground": true,
            "showgrid": false,
            "showline": true,
            "ticks": "outside",
            "zeroline": false,
            "zerolinecolor": "rgb(36,36,36)"
           },
           "zaxis": {
            "backgroundcolor": "white",
            "gridcolor": "rgb(232,232,232)",
            "gridwidth": 2,
            "linecolor": "rgb(36,36,36)",
            "showbackground": true,
            "showgrid": false,
            "showline": true,
            "ticks": "outside",
            "zeroline": false,
            "zerolinecolor": "rgb(36,36,36)"
           }
          },
          "shapedefaults": {
           "fillcolor": "black",
           "line": {
            "width": 0
           },
           "opacity": 0.3
          },
          "ternary": {
           "aaxis": {
            "gridcolor": "rgb(232,232,232)",
            "linecolor": "rgb(36,36,36)",
            "showgrid": false,
            "showline": true,
            "ticks": "outside"
           },
           "baxis": {
            "gridcolor": "rgb(232,232,232)",
            "linecolor": "rgb(36,36,36)",
            "showgrid": false,
            "showline": true,
            "ticks": "outside"
           },
           "bgcolor": "white",
           "caxis": {
            "gridcolor": "rgb(232,232,232)",
            "linecolor": "rgb(36,36,36)",
            "showgrid": false,
            "showline": true,
            "ticks": "outside"
           }
          },
          "title": {
           "x": 0.05
          },
          "xaxis": {
           "automargin": true,
           "gridcolor": "rgb(232,232,232)",
           "linecolor": "rgb(36,36,36)",
           "showgrid": false,
           "showline": true,
           "ticks": "outside",
           "title": {
            "standoff": 15
           },
           "zeroline": false,
           "zerolinecolor": "rgb(36,36,36)"
          },
          "yaxis": {
           "automargin": true,
           "gridcolor": "rgb(232,232,232)",
           "linecolor": "rgb(36,36,36)",
           "showgrid": false,
           "showline": true,
           "ticks": "outside",
           "title": {
            "standoff": 15
           },
           "zeroline": false,
           "zerolinecolor": "rgb(36,36,36)"
          }
         }
        },
        "title": {
         "font": {
          "color": "Black",
          "size": 22
         },
         "text": "<b>Intertopic Distance Map</b>",
         "x": 0.5,
         "xanchor": "center",
         "y": 0.95,
         "yanchor": "top"
        },
        "width": 650,
        "xaxis": {
         "anchor": "y",
         "domain": [
          0,
          1
         ],
         "range": [
          -10.325898361206054,
          21.48737211227417
         ],
         "title": {
          "text": ""
         },
         "visible": false
        },
        "yaxis": {
         "anchor": "x",
         "domain": [
          0,
          1
         ],
         "range": [
          -7.084485673904419,
          20.66068239212036
         ],
         "title": {
          "text": ""
         },
         "visible": false
        }
       }
      }
     },
     "metadata": {},
     "output_type": "display_data"
    }
   ],
   "source": [
    "custom_model.visualize_topics()"
   ]
  },
  {
   "cell_type": "code",
   "execution_count": 84,
   "metadata": {},
   "outputs": [],
   "source": [
    "custom_model_MRR = custom_model"
   ]
  },
  {
   "cell_type": "code",
   "execution_count": 85,
   "metadata": {},
   "outputs": [],
   "source": [
    "# assign labels\n",
    "keybert_topic_labels = {topic: \" | \".join(list(zip(*values))[0][:3]) for topic, values in custom_model.topic_aspects_[\"KeyBERT\"].items()}\n",
    "custom_model.set_topic_labels(keybert_topic_labels)"
   ]
  },
  {
   "cell_type": "code",
   "execution_count": null,
   "metadata": {},
   "outputs": [],
   "source": []
  },
  {
   "cell_type": "code",
   "execution_count": 95,
   "metadata": {},
   "outputs": [
    {
     "name": "stderr",
     "output_type": "stream",
     "text": [
      "Device set to use cpu\n"
     ]
    },
    {
     "name": "stdout",
     "output_type": "stream",
     "text": [
      "{-1: 'food', 0: 'place', 1: 'bi', 2: 'manager', 3: 'good', 4: '', 5: 'buffet', 6: 'cake', 7: '', 8: 'quantity', 9: 'authentic', 10: '', 11: 'chicken', 12: '', 13: 'noodles', 14: 'super', 15: 'quantity', 16: 'delivery', 17: '', 18: 'delivery', 19: '', 20: 'pizza', 21: 'pan', 22: 'para', 23: 'chicken', 24: 'order', 25: 'good', 26: 'in', 27: 'mango', 28: 'superb', 29: 'mom', 30: 'pun', 31: 'man', 32: 'taste', 33: 'good', 34: 'bread', 35: 'shake', 36: 'coffee', 37: 'fast', 38: 'ma', 39: 'awesome', 40: 'service', 41: '', 42: 'tasty', 43: 'spicy', 44: 'nice', 45: 'excellent', 46: 'pi', 47: 'wa', 48: 'and', 49: 'wings', 50: '', 51: 'si', 52: 'wrap', 53: 'awesome'}\n"
     ]
    }
   ],
   "source": [
    "from transformers import pipeline\n",
    "\n",
    "# Summarization pipeline\n",
    "summarizer = pipeline(\"summarization\", model=\"t5-small\")\n",
    "\n",
    "topic_labels = {}\n",
    "topic_info = custom_model.get_topic_info()\n",
    "\n",
    "for index, row in topic_info.iterrows():\n",
    "    topic = row['Topic']\n",
    "    representative_docs = row['Representation']\n",
    "    text = \" \".join(representative_docs)\n",
    "    summary = summarizer(text, max_length=2, min_length=1, do_sample=False)\n",
    "    topic_labels[topic] = summary[0][\"summary_text\"]\n",
    "\n",
    "print(topic_labels)\n"
   ]
  },
  {
   "cell_type": "code",
   "execution_count": 87,
   "metadata": {},
   "outputs": [
    {
     "data": {
      "text/html": [
       "<div>\n",
       "<style scoped>\n",
       "    .dataframe tbody tr th:only-of-type {\n",
       "        vertical-align: middle;\n",
       "    }\n",
       "\n",
       "    .dataframe tbody tr th {\n",
       "        vertical-align: top;\n",
       "    }\n",
       "\n",
       "    .dataframe thead th {\n",
       "        text-align: right;\n",
       "    }\n",
       "</style>\n",
       "<table border=\"1\" class=\"dataframe\">\n",
       "  <thead>\n",
       "    <tr style=\"text-align: right;\">\n",
       "      <th></th>\n",
       "      <th>Topic</th>\n",
       "      <th>Count</th>\n",
       "      <th>Name</th>\n",
       "      <th>CustomName</th>\n",
       "      <th>Representation</th>\n",
       "      <th>KeyBERT</th>\n",
       "      <th>MMR</th>\n",
       "      <th>POS</th>\n",
       "      <th>Representative_Docs</th>\n",
       "    </tr>\n",
       "  </thead>\n",
       "  <tbody>\n",
       "    <tr>\n",
       "      <th>0</th>\n",
       "      <td>-1</td>\n",
       "      <td>3387</td>\n",
       "      <td>-1_food_chicken_good_place</td>\n",
       "      <td>food | chicken | restaurant</td>\n",
       "      <td>[food, chicken, good, place, ordered, taste, s...</td>\n",
       "      <td>[restaurant, buffet, good food, food good, dis...</td>\n",
       "      <td>[food, chicken, restaurant, order, rice, panee...</td>\n",
       "      <td>[food, chicken, good, place, taste, service, g...</td>\n",
       "      <td>[When you love food and especially north India...</td>\n",
       "    </tr>\n",
       "    <tr>\n",
       "      <th>1</th>\n",
       "      <td>0</td>\n",
       "      <td>1753</td>\n",
       "      <td>0_place_good_ambience_service</td>\n",
       "      <td>place | ambience | service</td>\n",
       "      <td>[place, good, ambience, service, food, great, ...</td>\n",
       "      <td>[great place, visit place, best place, good pl...</td>\n",
       "      <td>[place, ambience, service, visit, drinks, frie...</td>\n",
       "      <td>[place, good, ambience, service, food, great, ...</td>\n",
       "      <td>[Great place to hangout . Good food + Good dri...</td>\n",
       "    </tr>\n",
       "    <tr>\n",
       "      <th>2</th>\n",
       "      <td>1</td>\n",
       "      <td>561</td>\n",
       "      <td>1_biryani_chicken_chicken biryani_taste</td>\n",
       "      <td>chicken biryani | biriyani | mutton biryani</td>\n",
       "      <td>[biryani, chicken, chicken biryani, taste, bir...</td>\n",
       "      <td>[chicken biryani, biryani chicken, biryani tas...</td>\n",
       "      <td>[chicken biryani, biriyani, mutton biryani, re...</td>\n",
       "      <td>[biryani, chicken, taste, biriyani, mutton, go...</td>\n",
       "      <td>[biryani is good, Just the name of Biryani and...</td>\n",
       "    </tr>\n",
       "    <tr>\n",
       "      <th>3</th>\n",
       "      <td>2</td>\n",
       "      <td>365</td>\n",
       "      <td>2_manager_service_asked_table</td>\n",
       "      <td>manager | table | rude</td>\n",
       "      <td>[manager, service, asked, table, worst, rude, ...</td>\n",
       "      <td>[restaurant, serving, waiters, waiter, lunch, ...</td>\n",
       "      <td>[manager, table, rude, staff, waiter, customer...</td>\n",
       "      <td>[manager, service, table, worst, rude, staff, ...</td>\n",
       "      <td>[The worst place in the city, I was here for a...</td>\n",
       "    </tr>\n",
       "    <tr>\n",
       "      <th>4</th>\n",
       "      <td>3</td>\n",
       "      <td>309</td>\n",
       "      <td>3_good good_good_nice good_good combo</td>\n",
       "      <td>good good | good | nice good</td>\n",
       "      <td>[good good, good, nice good, good combo, combo...</td>\n",
       "      <td>[good, good good, nice good, good nice, nice, ...</td>\n",
       "      <td>[good good, good, nice good, good combo, combo...</td>\n",
       "      <td>[good, combo, nice, , , , , , , ]</td>\n",
       "      <td>[good, good, good good]</td>\n",
       "    </tr>\n",
       "  </tbody>\n",
       "</table>\n",
       "</div>"
      ],
      "text/plain": [
       "   Topic  Count                                     Name  \\\n",
       "0     -1   3387               -1_food_chicken_good_place   \n",
       "1      0   1753            0_place_good_ambience_service   \n",
       "2      1    561  1_biryani_chicken_chicken biryani_taste   \n",
       "3      2    365            2_manager_service_asked_table   \n",
       "4      3    309    3_good good_good_nice good_good combo   \n",
       "\n",
       "                                    CustomName  \\\n",
       "0                  food | chicken | restaurant   \n",
       "1                   place | ambience | service   \n",
       "2  chicken biryani | biriyani | mutton biryani   \n",
       "3                       manager | table | rude   \n",
       "4                 good good | good | nice good   \n",
       "\n",
       "                                      Representation  \\\n",
       "0  [food, chicken, good, place, ordered, taste, s...   \n",
       "1  [place, good, ambience, service, food, great, ...   \n",
       "2  [biryani, chicken, chicken biryani, taste, bir...   \n",
       "3  [manager, service, asked, table, worst, rude, ...   \n",
       "4  [good good, good, nice good, good combo, combo...   \n",
       "\n",
       "                                             KeyBERT  \\\n",
       "0  [restaurant, buffet, good food, food good, dis...   \n",
       "1  [great place, visit place, best place, good pl...   \n",
       "2  [chicken biryani, biryani chicken, biryani tas...   \n",
       "3  [restaurant, serving, waiters, waiter, lunch, ...   \n",
       "4  [good, good good, nice good, good nice, nice, ...   \n",
       "\n",
       "                                                 MMR  \\\n",
       "0  [food, chicken, restaurant, order, rice, panee...   \n",
       "1  [place, ambience, service, visit, drinks, frie...   \n",
       "2  [chicken biryani, biriyani, mutton biryani, re...   \n",
       "3  [manager, table, rude, staff, waiter, customer...   \n",
       "4  [good good, good, nice good, good combo, combo...   \n",
       "\n",
       "                                                 POS  \\\n",
       "0  [food, chicken, good, place, taste, service, g...   \n",
       "1  [place, good, ambience, service, food, great, ...   \n",
       "2  [biryani, chicken, taste, biriyani, mutton, go...   \n",
       "3  [manager, service, table, worst, rude, staff, ...   \n",
       "4                  [good, combo, nice, , , , , , , ]   \n",
       "\n",
       "                                 Representative_Docs  \n",
       "0  [When you love food and especially north India...  \n",
       "1  [Great place to hangout . Good food + Good dri...  \n",
       "2  [biryani is good, Just the name of Biryani and...  \n",
       "3  [The worst place in the city, I was here for a...  \n",
       "4                            [good, good, good good]  "
      ]
     },
     "execution_count": 87,
     "metadata": {},
     "output_type": "execute_result"
    }
   ],
   "source": [
    "custom_model_MRR.get_topic_info().head()"
   ]
  },
  {
   "cell_type": "code",
   "execution_count": 88,
   "metadata": {},
   "outputs": [
    {
     "data": {
      "text/html": [
       "<div>\n",
       "<style scoped>\n",
       "    .dataframe tbody tr th:only-of-type {\n",
       "        vertical-align: middle;\n",
       "    }\n",
       "\n",
       "    .dataframe tbody tr th {\n",
       "        vertical-align: top;\n",
       "    }\n",
       "\n",
       "    .dataframe thead th {\n",
       "        text-align: right;\n",
       "    }\n",
       "</style>\n",
       "<table border=\"1\" class=\"dataframe\">\n",
       "  <thead>\n",
       "    <tr style=\"text-align: right;\">\n",
       "      <th></th>\n",
       "      <th>Topic</th>\n",
       "      <th>Count</th>\n",
       "      <th>Name</th>\n",
       "      <th>CustomName</th>\n",
       "      <th>Representation</th>\n",
       "      <th>KeyBERT</th>\n",
       "      <th>MMR</th>\n",
       "      <th>POS</th>\n",
       "      <th>Representative_Docs</th>\n",
       "    </tr>\n",
       "  </thead>\n",
       "  <tbody>\n",
       "    <tr>\n",
       "      <th>0</th>\n",
       "      <td>-1</td>\n",
       "      <td>3387</td>\n",
       "      <td>-1_food_chicken_good_place</td>\n",
       "      <td>food | chicken | restaurant</td>\n",
       "      <td>[food, chicken, good, place, ordered, taste, s...</td>\n",
       "      <td>[restaurant, buffet, good food, food good, dis...</td>\n",
       "      <td>[food, chicken, restaurant, order, rice, panee...</td>\n",
       "      <td>[food, chicken, good, place, taste, service, g...</td>\n",
       "      <td>[When you love food and especially north India...</td>\n",
       "    </tr>\n",
       "    <tr>\n",
       "      <th>1</th>\n",
       "      <td>0</td>\n",
       "      <td>1753</td>\n",
       "      <td>0_place_good_ambience_service</td>\n",
       "      <td>place | ambience | service</td>\n",
       "      <td>[place, good, ambience, service, food, great, ...</td>\n",
       "      <td>[great place, visit place, best place, good pl...</td>\n",
       "      <td>[place, ambience, service, visit, drinks, frie...</td>\n",
       "      <td>[place, good, ambience, service, food, great, ...</td>\n",
       "      <td>[Great place to hangout . Good food + Good dri...</td>\n",
       "    </tr>\n",
       "    <tr>\n",
       "      <th>2</th>\n",
       "      <td>1</td>\n",
       "      <td>561</td>\n",
       "      <td>1_biryani_chicken_chicken biryani_taste</td>\n",
       "      <td>chicken biryani | biriyani | mutton biryani</td>\n",
       "      <td>[biryani, chicken, chicken biryani, taste, bir...</td>\n",
       "      <td>[chicken biryani, biryani chicken, biryani tas...</td>\n",
       "      <td>[chicken biryani, biriyani, mutton biryani, re...</td>\n",
       "      <td>[biryani, chicken, taste, biriyani, mutton, go...</td>\n",
       "      <td>[biryani is good, Just the name of Biryani and...</td>\n",
       "    </tr>\n",
       "    <tr>\n",
       "      <th>3</th>\n",
       "      <td>2</td>\n",
       "      <td>365</td>\n",
       "      <td>2_manager_service_asked_table</td>\n",
       "      <td>manager | table | rude</td>\n",
       "      <td>[manager, service, asked, table, worst, rude, ...</td>\n",
       "      <td>[restaurant, serving, waiters, waiter, lunch, ...</td>\n",
       "      <td>[manager, table, rude, staff, waiter, customer...</td>\n",
       "      <td>[manager, service, table, worst, rude, staff, ...</td>\n",
       "      <td>[The worst place in the city, I was here for a...</td>\n",
       "    </tr>\n",
       "    <tr>\n",
       "      <th>4</th>\n",
       "      <td>3</td>\n",
       "      <td>309</td>\n",
       "      <td>3_good good_good_nice good_good combo</td>\n",
       "      <td>good good | good | nice good</td>\n",
       "      <td>[good good, good, nice good, good combo, combo...</td>\n",
       "      <td>[good, good good, nice good, good nice, nice, ...</td>\n",
       "      <td>[good good, good, nice good, good combo, combo...</td>\n",
       "      <td>[good, combo, nice, , , , , , , ]</td>\n",
       "      <td>[good, good, good good]</td>\n",
       "    </tr>\n",
       "  </tbody>\n",
       "</table>\n",
       "</div>"
      ],
      "text/plain": [
       "   Topic  Count                                     Name  \\\n",
       "0     -1   3387               -1_food_chicken_good_place   \n",
       "1      0   1753            0_place_good_ambience_service   \n",
       "2      1    561  1_biryani_chicken_chicken biryani_taste   \n",
       "3      2    365            2_manager_service_asked_table   \n",
       "4      3    309    3_good good_good_nice good_good combo   \n",
       "\n",
       "                                    CustomName  \\\n",
       "0                  food | chicken | restaurant   \n",
       "1                   place | ambience | service   \n",
       "2  chicken biryani | biriyani | mutton biryani   \n",
       "3                       manager | table | rude   \n",
       "4                 good good | good | nice good   \n",
       "\n",
       "                                      Representation  \\\n",
       "0  [food, chicken, good, place, ordered, taste, s...   \n",
       "1  [place, good, ambience, service, food, great, ...   \n",
       "2  [biryani, chicken, chicken biryani, taste, bir...   \n",
       "3  [manager, service, asked, table, worst, rude, ...   \n",
       "4  [good good, good, nice good, good combo, combo...   \n",
       "\n",
       "                                             KeyBERT  \\\n",
       "0  [restaurant, buffet, good food, food good, dis...   \n",
       "1  [great place, visit place, best place, good pl...   \n",
       "2  [chicken biryani, biryani chicken, biryani tas...   \n",
       "3  [restaurant, serving, waiters, waiter, lunch, ...   \n",
       "4  [good, good good, nice good, good nice, nice, ...   \n",
       "\n",
       "                                                 MMR  \\\n",
       "0  [food, chicken, restaurant, order, rice, panee...   \n",
       "1  [place, ambience, service, visit, drinks, frie...   \n",
       "2  [chicken biryani, biriyani, mutton biryani, re...   \n",
       "3  [manager, table, rude, staff, waiter, customer...   \n",
       "4  [good good, good, nice good, good combo, combo...   \n",
       "\n",
       "                                                 POS  \\\n",
       "0  [food, chicken, good, place, taste, service, g...   \n",
       "1  [place, good, ambience, service, food, great, ...   \n",
       "2  [biryani, chicken, taste, biriyani, mutton, go...   \n",
       "3  [manager, service, table, worst, rude, staff, ...   \n",
       "4                  [good, combo, nice, , , , , , , ]   \n",
       "\n",
       "                                 Representative_Docs  \n",
       "0  [When you love food and especially north India...  \n",
       "1  [Great place to hangout . Good food + Good dri...  \n",
       "2  [biryani is good, Just the name of Biryani and...  \n",
       "3  [The worst place in the city, I was here for a...  \n",
       "4                            [good, good, good good]  "
      ]
     },
     "execution_count": 88,
     "metadata": {},
     "output_type": "execute_result"
    }
   ],
   "source": [
    "custom_model.get_topic_info().head()"
   ]
  },
  {
   "cell_type": "code",
   "execution_count": 48,
   "metadata": {},
   "outputs": [],
   "source": [
    "custom_model_df = pd.DataFrame(custom_model.get_topic_info())\n",
    "custom_model_mrr_df = pd.DataFrame(custom_model_MRR.get_topic_info())"
   ]
  },
  {
   "cell_type": "code",
   "execution_count": 61,
   "metadata": {},
   "outputs": [],
   "source": [
    "merged_df = custom_model_df.join(custom_model_mrr_df, lsuffix='_keybert', rsuffix='_mrr')"
   ]
  },
  {
   "cell_type": "code",
   "execution_count": 62,
   "metadata": {},
   "outputs": [
    {
     "data": {
      "text/html": [
       "<div>\n",
       "<style scoped>\n",
       "    .dataframe tbody tr th:only-of-type {\n",
       "        vertical-align: middle;\n",
       "    }\n",
       "\n",
       "    .dataframe tbody tr th {\n",
       "        vertical-align: top;\n",
       "    }\n",
       "\n",
       "    .dataframe thead th {\n",
       "        text-align: right;\n",
       "    }\n",
       "</style>\n",
       "<table border=\"1\" class=\"dataframe\">\n",
       "  <thead>\n",
       "    <tr style=\"text-align: right;\">\n",
       "      <th></th>\n",
       "      <th>Topic_keybert</th>\n",
       "      <th>Count_keybert</th>\n",
       "      <th>Name_keybert</th>\n",
       "      <th>CustomName_keybert</th>\n",
       "      <th>Representation_keybert</th>\n",
       "      <th>KeyBERT_keybert</th>\n",
       "      <th>MMR_keybert</th>\n",
       "      <th>POS_keybert</th>\n",
       "      <th>Representative_Docs_keybert</th>\n",
       "      <th>Topic_mrr</th>\n",
       "      <th>Count_mrr</th>\n",
       "      <th>Name_mrr</th>\n",
       "      <th>CustomName_mrr</th>\n",
       "      <th>Representation_mrr</th>\n",
       "      <th>KeyBERT_mrr</th>\n",
       "      <th>MMR_mrr</th>\n",
       "      <th>POS_mrr</th>\n",
       "      <th>Representative_Docs_mrr</th>\n",
       "    </tr>\n",
       "  </thead>\n",
       "  <tbody>\n",
       "    <tr>\n",
       "      <th>0</th>\n",
       "      <td>-1</td>\n",
       "      <td>3387</td>\n",
       "      <td>-1_food_good_chicken_place</td>\n",
       "      <td>food | chicken | ambience</td>\n",
       "      <td>[food, good, chicken, place, ordered, taste, s...</td>\n",
       "      <td>[restaurant, buffet, good food, food good, dis...</td>\n",
       "      <td>[food, chicken, ambience, restaurant, order, r...</td>\n",
       "      <td>[food, good, chicken, place, taste, service, g...</td>\n",
       "      <td>[When you love food and especially north India...</td>\n",
       "      <td>-1</td>\n",
       "      <td>3387</td>\n",
       "      <td>-1_food_good_chicken_place</td>\n",
       "      <td>food | chicken | ambience</td>\n",
       "      <td>[food, good, chicken, place, ordered, taste, s...</td>\n",
       "      <td>[restaurant, buffet, good food, food good, dis...</td>\n",
       "      <td>[food, chicken, ambience, restaurant, order, r...</td>\n",
       "      <td>[food, good, chicken, place, taste, service, g...</td>\n",
       "      <td>[When you love food and especially north India...</td>\n",
       "    </tr>\n",
       "    <tr>\n",
       "      <th>1</th>\n",
       "      <td>0</td>\n",
       "      <td>1753</td>\n",
       "      <td>0_place_good_ambience_service</td>\n",
       "      <td>place | ambience | service</td>\n",
       "      <td>[place, good, ambience, service, food, great, ...</td>\n",
       "      <td>[great place, best place, visit place, good pl...</td>\n",
       "      <td>[place, ambience, service, visit, drinks, frie...</td>\n",
       "      <td>[place, good, ambience, service, food, great, ...</td>\n",
       "      <td>[Komatose is such wonderful place to chilled o...</td>\n",
       "      <td>0</td>\n",
       "      <td>1753</td>\n",
       "      <td>0_place_good_ambience_service</td>\n",
       "      <td>place | ambience | service</td>\n",
       "      <td>[place, good, ambience, service, food, great, ...</td>\n",
       "      <td>[great place, best place, visit place, good pl...</td>\n",
       "      <td>[place, ambience, service, visit, drinks, frie...</td>\n",
       "      <td>[place, good, ambience, service, food, great, ...</td>\n",
       "      <td>[Komatose is such wonderful place to chilled o...</td>\n",
       "    </tr>\n",
       "    <tr>\n",
       "      <th>2</th>\n",
       "      <td>1</td>\n",
       "      <td>561</td>\n",
       "      <td>1_biryani_chicken_chicken biryani_taste</td>\n",
       "      <td>chicken biryani | biriyani | mutton biryani</td>\n",
       "      <td>[biryani, chicken, chicken biryani, taste, ord...</td>\n",
       "      <td>[ordered chicken biryani, chicken biryani, bir...</td>\n",
       "      <td>[chicken biryani, biriyani, mutton biryani, re...</td>\n",
       "      <td>[biryani, chicken, taste, biriyani, mutton, go...</td>\n",
       "      <td>[One of the new tastes of biryanis in hyd we o...</td>\n",
       "      <td>1</td>\n",
       "      <td>561</td>\n",
       "      <td>1_biryani_chicken_chicken biryani_taste</td>\n",
       "      <td>chicken biryani | biriyani | mutton biryani</td>\n",
       "      <td>[biryani, chicken, chicken biryani, taste, ord...</td>\n",
       "      <td>[ordered chicken biryani, chicken biryani, bir...</td>\n",
       "      <td>[chicken biryani, biriyani, mutton biryani, re...</td>\n",
       "      <td>[biryani, chicken, taste, biriyani, mutton, go...</td>\n",
       "      <td>[One of the new tastes of biryanis in hyd we o...</td>\n",
       "    </tr>\n",
       "    <tr>\n",
       "      <th>3</th>\n",
       "      <td>2</td>\n",
       "      <td>365</td>\n",
       "      <td>2_manager_service_asked_table</td>\n",
       "      <td>manager | table | worst</td>\n",
       "      <td>[manager, service, asked, table, worst, rude, ...</td>\n",
       "      <td>[restaurant, serving, waiters, waiter, serve, ...</td>\n",
       "      <td>[manager, table, worst, rude, staff, waiter, c...</td>\n",
       "      <td>[manager, service, table, worst, rude, staff, ...</td>\n",
       "      <td>[Visited this place for my team lunch, and the...</td>\n",
       "      <td>2</td>\n",
       "      <td>365</td>\n",
       "      <td>2_manager_service_asked_table</td>\n",
       "      <td>manager | table | worst</td>\n",
       "      <td>[manager, service, asked, table, worst, rude, ...</td>\n",
       "      <td>[restaurant, serving, waiters, waiter, serve, ...</td>\n",
       "      <td>[manager, table, worst, rude, staff, waiter, c...</td>\n",
       "      <td>[manager, service, table, worst, rude, staff, ...</td>\n",
       "      <td>[Visited this place for my team lunch, and the...</td>\n",
       "    </tr>\n",
       "    <tr>\n",
       "      <th>4</th>\n",
       "      <td>3</td>\n",
       "      <td>309</td>\n",
       "      <td>3_good good good_good good_good_nice good good</td>\n",
       "      <td>good good good | good good | nice good good</td>\n",
       "      <td>[good good good, good good, good, nice good go...</td>\n",
       "      <td>[good, good good, nice good, good good good, g...</td>\n",
       "      <td>[good good good, good good, nice good good, ni...</td>\n",
       "      <td>[good, combo, nice, , , , , , , ]</td>\n",
       "      <td>[good, good, good good]</td>\n",
       "      <td>3</td>\n",
       "      <td>309</td>\n",
       "      <td>3_good good good_good good_good_nice good good</td>\n",
       "      <td>good good good | good good | nice good good</td>\n",
       "      <td>[good good good, good good, good, nice good go...</td>\n",
       "      <td>[good, good good, nice good, good good good, g...</td>\n",
       "      <td>[good good good, good good, nice good good, ni...</td>\n",
       "      <td>[good, combo, nice, , , , , , , ]</td>\n",
       "      <td>[good, good, good good]</td>\n",
       "    </tr>\n",
       "  </tbody>\n",
       "</table>\n",
       "</div>"
      ],
      "text/plain": [
       "   Topic_keybert  Count_keybert  \\\n",
       "0             -1           3387   \n",
       "1              0           1753   \n",
       "2              1            561   \n",
       "3              2            365   \n",
       "4              3            309   \n",
       "\n",
       "                                     Name_keybert  \\\n",
       "0                      -1_food_good_chicken_place   \n",
       "1                   0_place_good_ambience_service   \n",
       "2         1_biryani_chicken_chicken biryani_taste   \n",
       "3                   2_manager_service_asked_table   \n",
       "4  3_good good good_good good_good_nice good good   \n",
       "\n",
       "                            CustomName_keybert  \\\n",
       "0                    food | chicken | ambience   \n",
       "1                   place | ambience | service   \n",
       "2  chicken biryani | biriyani | mutton biryani   \n",
       "3                      manager | table | worst   \n",
       "4  good good good | good good | nice good good   \n",
       "\n",
       "                              Representation_keybert  \\\n",
       "0  [food, good, chicken, place, ordered, taste, s...   \n",
       "1  [place, good, ambience, service, food, great, ...   \n",
       "2  [biryani, chicken, chicken biryani, taste, ord...   \n",
       "3  [manager, service, asked, table, worst, rude, ...   \n",
       "4  [good good good, good good, good, nice good go...   \n",
       "\n",
       "                                     KeyBERT_keybert  \\\n",
       "0  [restaurant, buffet, good food, food good, dis...   \n",
       "1  [great place, best place, visit place, good pl...   \n",
       "2  [ordered chicken biryani, chicken biryani, bir...   \n",
       "3  [restaurant, serving, waiters, waiter, serve, ...   \n",
       "4  [good, good good, nice good, good good good, g...   \n",
       "\n",
       "                                         MMR_keybert  \\\n",
       "0  [food, chicken, ambience, restaurant, order, r...   \n",
       "1  [place, ambience, service, visit, drinks, frie...   \n",
       "2  [chicken biryani, biriyani, mutton biryani, re...   \n",
       "3  [manager, table, worst, rude, staff, waiter, c...   \n",
       "4  [good good good, good good, nice good good, ni...   \n",
       "\n",
       "                                         POS_keybert  \\\n",
       "0  [food, good, chicken, place, taste, service, g...   \n",
       "1  [place, good, ambience, service, food, great, ...   \n",
       "2  [biryani, chicken, taste, biriyani, mutton, go...   \n",
       "3  [manager, service, table, worst, rude, staff, ...   \n",
       "4                  [good, combo, nice, , , , , , , ]   \n",
       "\n",
       "                         Representative_Docs_keybert  Topic_mrr  Count_mrr  \\\n",
       "0  [When you love food and especially north India...         -1       3387   \n",
       "1  [Komatose is such wonderful place to chilled o...          0       1753   \n",
       "2  [One of the new tastes of biryanis in hyd we o...          1        561   \n",
       "3  [Visited this place for my team lunch, and the...          2        365   \n",
       "4                            [good, good, good good]          3        309   \n",
       "\n",
       "                                         Name_mrr  \\\n",
       "0                      -1_food_good_chicken_place   \n",
       "1                   0_place_good_ambience_service   \n",
       "2         1_biryani_chicken_chicken biryani_taste   \n",
       "3                   2_manager_service_asked_table   \n",
       "4  3_good good good_good good_good_nice good good   \n",
       "\n",
       "                                CustomName_mrr  \\\n",
       "0                    food | chicken | ambience   \n",
       "1                   place | ambience | service   \n",
       "2  chicken biryani | biriyani | mutton biryani   \n",
       "3                      manager | table | worst   \n",
       "4  good good good | good good | nice good good   \n",
       "\n",
       "                                  Representation_mrr  \\\n",
       "0  [food, good, chicken, place, ordered, taste, s...   \n",
       "1  [place, good, ambience, service, food, great, ...   \n",
       "2  [biryani, chicken, chicken biryani, taste, ord...   \n",
       "3  [manager, service, asked, table, worst, rude, ...   \n",
       "4  [good good good, good good, good, nice good go...   \n",
       "\n",
       "                                         KeyBERT_mrr  \\\n",
       "0  [restaurant, buffet, good food, food good, dis...   \n",
       "1  [great place, best place, visit place, good pl...   \n",
       "2  [ordered chicken biryani, chicken biryani, bir...   \n",
       "3  [restaurant, serving, waiters, waiter, serve, ...   \n",
       "4  [good, good good, nice good, good good good, g...   \n",
       "\n",
       "                                             MMR_mrr  \\\n",
       "0  [food, chicken, ambience, restaurant, order, r...   \n",
       "1  [place, ambience, service, visit, drinks, frie...   \n",
       "2  [chicken biryani, biriyani, mutton biryani, re...   \n",
       "3  [manager, table, worst, rude, staff, waiter, c...   \n",
       "4  [good good good, good good, nice good good, ni...   \n",
       "\n",
       "                                             POS_mrr  \\\n",
       "0  [food, good, chicken, place, taste, service, g...   \n",
       "1  [place, good, ambience, service, food, great, ...   \n",
       "2  [biryani, chicken, taste, biriyani, mutton, go...   \n",
       "3  [manager, service, table, worst, rude, staff, ...   \n",
       "4                  [good, combo, nice, , , , , , , ]   \n",
       "\n",
       "                             Representative_Docs_mrr  \n",
       "0  [When you love food and especially north India...  \n",
       "1  [Komatose is such wonderful place to chilled o...  \n",
       "2  [One of the new tastes of biryanis in hyd we o...  \n",
       "3  [Visited this place for my team lunch, and the...  \n",
       "4                            [good, good, good good]  "
      ]
     },
     "execution_count": 62,
     "metadata": {},
     "output_type": "execute_result"
    }
   ],
   "source": [
    "merged_df.head()"
   ]
  },
  {
   "cell_type": "code",
   "execution_count": 65,
   "metadata": {},
   "outputs": [],
   "source": [
    "merged_df = merged_df[['Topic_keybert', 'Count_keybert', 'Name_keybert', 'CustomName_keybert', 'CustomName_mrr','Representation_keybert', 'KeyBERT_keybert','MMR_keybert', 'POS_keybert', 'Representative_Docs_keybert']]"
   ]
  },
  {
   "cell_type": "code",
   "execution_count": null,
   "metadata": {},
   "outputs": [],
   "source": []
  }
 ],
 "metadata": {
  "kernelspec": {
   "display_name": "text-mining1",
   "language": "python",
   "name": "python3"
  },
  "language_info": {
   "codemirror_mode": {
    "name": "ipython",
    "version": 3
   },
   "file_extension": ".py",
   "mimetype": "text/x-python",
   "name": "python",
   "nbconvert_exporter": "python",
   "pygments_lexer": "ipython3",
   "version": "3.10.9"
  }
 },
 "nbformat": 4,
 "nbformat_minor": 2
}
